{
 "cells": [
  {
   "cell_type": "markdown",
   "metadata": {},
   "source": [
    "# Vectorización de texto y modelo de clasificación Naïve Bayes con el dataset 20 newsgroups"
   ]
  },
  {
   "cell_type": "markdown",
   "metadata": {},
   "source": [
    "### Consigna del desafío 1"
   ]
  },
  {
   "cell_type": "markdown",
   "metadata": {},
   "source": [
    "**1**. Vectorizar documentos. Tomar 5 documentos al azar y medir similaridad con el resto de los documentos.\n",
    "Estudiar los 5 documentos más similares de cada uno analizar si tiene sentido\n",
    "la similaridad según el contenido del texto y la etiqueta de clasificación.\n",
    "\n",
    "**2**. Entrenar modelos de clasificación Naïve Bayes para maximizar el desempeño de clasificación\n",
    "(f1-score macro) en el conjunto de datos de test. Considerar cambiar parámteros\n",
    "de instanciación del vectorizador y los modelos y probar modelos de Naïve Bayes Multinomial\n",
    "y ComplementNB.\n",
    "\n",
    "**3**. Transponer la matriz documento-término. De esa manera se obtiene una matriz\n",
    "término-documento que puede ser interpretada como una colección de vectorización de palabras.\n",
    "Estudiar ahora similaridad entre palabras tomando 5 palabras y estudiando sus 5 más similares."
   ]
  },
  {
   "cell_type": "code",
   "execution_count": 1,
   "metadata": {
    "id": "l7cXR6CI30ry"
   },
   "outputs": [],
   "source": [
    "from sklearn.feature_extraction.text import CountVectorizer, TfidfVectorizer\n",
    "from sklearn.metrics.pairwise import cosine_similarity\n",
    "from sklearn.naive_bayes import MultinomialNB, ComplementNB\n",
    "from sklearn.metrics import f1_score\n",
    "\n",
    "from sklearn.datasets import fetch_20newsgroups\n",
    "import numpy as np"
   ]
  },
  {
   "cell_type": "markdown",
   "metadata": {
    "id": "yD-pVDWV_rQc"
   },
   "source": [
    "## Carga de datos"
   ]
  },
  {
   "cell_type": "code",
   "execution_count": 2,
   "metadata": {
    "id": "Ech9qJaUo9vK"
   },
   "outputs": [],
   "source": [
    "newsgroups_train = fetch_20newsgroups(subset='train', remove=('headers', 'footers', 'quotes'))\n",
    "newsgroups_test = fetch_20newsgroups(subset='test', remove=('headers', 'footers', 'quotes'))"
   ]
  },
  {
   "cell_type": "markdown",
   "metadata": {
    "id": "UxjSI7su_uWI"
   },
   "source": [
    "## Vectorización con TfidfVectorizer"
   ]
  },
  {
   "cell_type": "code",
   "execution_count": 5,
   "metadata": {
    "id": "-94VP0QYCzDn"
   },
   "outputs": [],
   "source": [
    "tfidfvect = TfidfVectorizer()\n"
   ]
  },
  {
   "cell_type": "code",
   "execution_count": 6,
   "metadata": {
    "colab": {
     "base_uri": "https://localhost:8080/",
     "height": 104
    },
    "id": "ftPlyanuak8n",
    "outputId": "45a94d0e-49e7-4f7c-c806-7d5b66779dd0"
   },
   "outputs": [
    {
     "data": {
      "text/plain": [
       "'I was wondering if anyone out there could enlighten me on this car I saw\\nthe other day. It was a 2-door sports car, looked to be from the late 60s/\\nearly 70s. It was called a Bricklin. The doors were really small. In addition,\\nthe front bumper was separate from the rest of the body. This is \\nall I know. If anyone can tellme a model name, engine specs, years\\nof production, where this car is made, history, or whatever info you\\nhave on this funky looking car, please e-mail.'"
      ]
     },
     "execution_count": 6,
     "metadata": {},
     "output_type": "execute_result"
    }
   ],
   "source": [
    "newsgroups_train.data[0]"
   ]
  },
  {
   "cell_type": "code",
   "execution_count": 7,
   "metadata": {
    "id": "1zxcXV6aC_oL"
   },
   "outputs": [],
   "source": [
    "X_train = tfidfvect.fit_transform(newsgroups_train.data)\n",
    "# `X_train` la podemos denominar como la matriz documento-término"
   ]
  },
  {
   "cell_type": "code",
   "execution_count": 8,
   "metadata": {
    "colab": {
     "base_uri": "https://localhost:8080/"
    },
    "id": "4Sv7TXbda41-",
    "outputId": "dcca5de6-dac1-4d68-d284-ce7be2ed9e2f"
   },
   "outputs": [
    {
     "name": "stdout",
     "output_type": "stream",
     "text": [
      "<class 'scipy.sparse._csr.csr_matrix'>\n",
      "shape: (11314, 101631)\n",
      "cantidad de documentos: 11314\n",
      "tamaño del vocabulario (dimensionalidad de los vectores): 101631\n"
     ]
    }
   ],
   "source": [
    "print(type(X_train))\n",
    "print(f'shape: {X_train.shape}')\n",
    "print(f'cantidad de documentos: {X_train.shape[0]}')\n",
    "print(f'tamaño del vocabulario (dimensionalidad de los vectores): {X_train.shape[1]}')"
   ]
  },
  {
   "cell_type": "code",
   "execution_count": 9,
   "metadata": {
    "colab": {
     "base_uri": "https://localhost:8080/"
    },
    "id": "dgydNTZ2pAgR",
    "outputId": "95111464-e40c-4b57-d154-ede153739a82"
   },
   "outputs": [
    {
     "data": {
      "text/plain": [
       "25775"
      ]
     },
     "execution_count": 9,
     "metadata": {},
     "output_type": "execute_result"
    }
   ],
   "source": [
    "tfidfvect.vocabulary_['car']"
   ]
  },
  {
   "cell_type": "code",
   "execution_count": 19,
   "metadata": {
    "id": "xnTSZuvyrTcP"
   },
   "outputs": [],
   "source": [
    "idx2word = {v: k for k,v in tfidfvect.vocabulary_.items()}"
   ]
  },
  {
   "cell_type": "code",
   "execution_count": 20,
   "metadata": {
    "colab": {
     "base_uri": "https://localhost:8080/"
    },
    "id": "swa-AgWrMSHM",
    "outputId": "93d09f31-4c42-4215-e750-a13c83ecf96a"
   },
   "outputs": [
    {
     "data": {
      "text/plain": [
       "array([ 7,  4,  4,  1, 14, 16, 13,  3,  2,  4])"
      ]
     },
     "execution_count": 20,
     "metadata": {},
     "output_type": "execute_result"
    }
   ],
   "source": [
    "y_train = newsgroups_train.target\n",
    "y_train[:10]"
   ]
  },
  {
   "cell_type": "code",
   "execution_count": 21,
   "metadata": {
    "colab": {
     "base_uri": "https://localhost:8080/"
    },
    "id": "je5kxvQMDLvf",
    "outputId": "59799046-9799-406f-c4be-81c5765de58d"
   },
   "outputs": [
    {
     "name": "stdout",
     "output_type": "stream",
     "text": [
      "clases [ 0  1  2  3  4  5  6  7  8  9 10 11 12 13 14 15 16 17 18 19]\n"
     ]
    },
    {
     "data": {
      "text/plain": [
       "['alt.atheism',\n",
       " 'comp.graphics',\n",
       " 'comp.os.ms-windows.misc',\n",
       " 'comp.sys.ibm.pc.hardware',\n",
       " 'comp.sys.mac.hardware',\n",
       " 'comp.windows.x',\n",
       " 'misc.forsale',\n",
       " 'rec.autos',\n",
       " 'rec.motorcycles',\n",
       " 'rec.sport.baseball',\n",
       " 'rec.sport.hockey',\n",
       " 'sci.crypt',\n",
       " 'sci.electronics',\n",
       " 'sci.med',\n",
       " 'sci.space',\n",
       " 'soc.religion.christian',\n",
       " 'talk.politics.guns',\n",
       " 'talk.politics.mideast',\n",
       " 'talk.politics.misc',\n",
       " 'talk.religion.misc']"
      ]
     },
     "execution_count": 21,
     "metadata": {},
     "output_type": "execute_result"
    }
   ],
   "source": [
    "print(f'clases {np.unique(newsgroups_test.target)}')\n",
    "newsgroups_test.target_names"
   ]
  },
  {
   "cell_type": "markdown",
   "metadata": {
    "id": "SXCICFSd_y90"
   },
   "source": [
    "## Similaridad de documentos"
   ]
  },
  {
   "cell_type": "code",
   "execution_count": 44,
   "metadata": {},
   "outputs": [
    {
     "name": "stdout",
     "output_type": "stream",
     "text": [
      "Document 1 (Index: 8110, Class: comp.sys.ibm.pc.hardware)\n",
      "Content:\n",
      "\n",
      "Top 5 most similar documents:\n",
      "Similar Document 1 (Index: 2997, Class: comp.sys.ibm.pc.hardware)\n",
      "Similar Document 2 (Index: 196, Class: sci.electronics)\n",
      "Similar Document 3 (Index: 7773, Class: sci.electronics)\n",
      "Similar Document 4 (Index: 3412, Class: sci.electronics)\n",
      "Similar Document 5 (Index: 6626, Class: comp.sys.ibm.pc.hardware)\n",
      "\n",
      "Document 2 (Index: 8155, Class: sci.med)\n",
      "Content:\n",
      "\n",
      "Top 5 most similar documents:\n",
      "Similar Document 1 (Index: 385, Class: sci.med)\n",
      "Similar Document 2 (Index: 8550, Class: sci.med)\n",
      "Similar Document 3 (Index: 8660, Class: sci.med)\n",
      "Similar Document 4 (Index: 8899, Class: sci.med)\n",
      "Similar Document 5 (Index: 2189, Class: sci.med)\n",
      "\n",
      "Document 3 (Index: 6606, Class: misc.forsale)\n",
      "Content:\n",
      "\n",
      "Top 5 most similar documents:\n",
      "Similar Document 1 (Index: 6069, Class: comp.sys.mac.hardware)\n",
      "Similar Document 2 (Index: 10584, Class: sci.space)\n",
      "Similar Document 3 (Index: 3362, Class: misc.forsale)\n",
      "Similar Document 4 (Index: 9668, Class: misc.forsale)\n",
      "Similar Document 5 (Index: 8483, Class: sci.space)\n",
      "\n",
      "Document 4 (Index: 9818, Class: sci.space)\n",
      "Content:\n",
      "\n",
      "Top 5 most similar documents:\n",
      "Similar Document 1 (Index: 3717, Class: sci.space)\n",
      "Similar Document 2 (Index: 5568, Class: alt.atheism)\n",
      "Similar Document 3 (Index: 9010, Class: sci.electronics)\n",
      "Similar Document 4 (Index: 11118, Class: sci.crypt)\n",
      "Similar Document 5 (Index: 2797, Class: comp.windows.x)\n",
      "\n",
      "Document 5 (Index: 8359, Class: comp.os.ms-windows.misc)\n",
      "Content:\n",
      "\n",
      "Top 5 most similar documents:\n",
      "Similar Document 1 (Index: 10139, Class: comp.os.ms-windows.misc)\n",
      "Similar Document 2 (Index: 2557, Class: comp.os.ms-windows.misc)\n",
      "Similar Document 3 (Index: 1239, Class: sci.space)\n",
      "Similar Document 4 (Index: 10122, Class: comp.os.ms-windows.misc)\n",
      "Similar Document 5 (Index: 7342, Class: rec.motorcycles)\n",
      "\n"
     ]
    }
   ],
   "source": [
    "indices_documentos_aleatorios = np.random.choice(range(X_train.shape[0]), size=5, replace=False)\n",
    "documentos_aleatorios = [X_train[i] for i in indices_documentos_aleatorios]\n",
    "\n",
    "similarity_matrix = cosine_similarity(X_train[indices_documentos_aleatorios], X_train)\n",
    "\n",
    "similar_documents_dict = {}\n",
    "\n",
    "# Encontrar los 5 documentos más similares para cada uno de los documentos aleatorios\n",
    "for i, doc_index in enumerate(indices_documentos_aleatorios):\n",
    "    # Excluir el propio documento de la lista de documentos similares\n",
    "    similar_indices = np.argsort(similarity_matrix[i])[::-1][1:6]\n",
    "    similar_documents_dict[doc_index] = similar_indices\n",
    "    original_class_label = newsgroups_train.target_names[y_train[doc_index]]\n",
    "\n",
    "    print(f\"Document {i+1} (Index: {doc_index}, Class: {original_class_label})\")\n",
    "    print(\"Content:\") \n",
    "    #print(newsgroups_train.data[doc_index])\n",
    "    print()\n",
    "    \n",
    "    print(\"Top 5 most similar documents:\")\n",
    "    for j, similar_index in enumerate(similar_indices):\n",
    "        similar_class_label = newsgroups_train.target_names[y_train[similar_index]]\n",
    "        print(f\"Similar Document {j+1} (Index: {similar_index}, Class: {similar_class_label})\")\n",
    "\n",
    "    print()\n"
   ]
  },
  {
   "cell_type": "code",
   "execution_count": 45,
   "metadata": {},
   "outputs": [
    {
     "data": {
      "text/plain": [
       "{8110: array([2997,  196, 7773, 3412, 6626]),\n",
       " 8155: array([ 385, 8550, 8660, 8899, 2189]),\n",
       " 6606: array([ 6069, 10584,  3362,  9668,  8483]),\n",
       " 9818: array([ 3717,  5568,  9010, 11118,  2797]),\n",
       " 8359: array([10139,  2557,  1239, 10122,  7342])}"
      ]
     },
     "execution_count": 45,
     "metadata": {},
     "output_type": "execute_result"
    }
   ],
   "source": [
    "similar_documents_dict"
   ]
  },
  {
   "cell_type": "code",
   "execution_count": 48,
   "metadata": {},
   "outputs": [
    {
     "name": "stdout",
     "output_type": "stream",
     "text": [
      "DOCUMENT INDEX: 8110\n",
      "\n",
      "I am looking for a CDROM audio cable to connect my Toshiba 3401B (L/R audio) to\n",
      "the Pro Audio Spectrum 16 sound card.  Thanks in advance for any pointers...\n",
      "\n",
      "SIMILAR DOCUMENTS: \n",
      "\n",
      "INDEX: 2997\n",
      "\n",
      "Hi, I need some advice from the netland in selecting a sound card.\n",
      "\n",
      "I am about to buy a sound card for my kid. I don't know which one to buy.\n",
      "Which one to select from the following list:\n",
      "\n",
      "- Sound Blaster 16\n",
      "- Miscrosoft- sound card\n",
      "- Audio Spectrum\n",
      "- Sound Blaster pro\n",
      "- Sound Blaster\n",
      "\n",
      "\n",
      "My allocated budget is around $250.\n",
      "\n",
      "\n",
      "Could some of you know about sound cards help me to select the most appropriate\n",
      "one for my kid ?\n",
      "\n",
      "\n",
      "I have 486-33 Mz OPTI MB.\n",
      "I also have NEC CDROM that I would like to connect to the sound card.\n",
      "\n",
      "\n",
      "Thank you.\n",
      "\n",
      "\n",
      "\n",
      "INDEX: 196\n",
      "\n",
      "\n",
      "As a general rule, no relay will cleanly switch audio if you try to tranfer\n",
      "the circuit with the contacts.  The noise you hear is due to the momentary\n",
      "opening and closing of the path.\n",
      "\n",
      "The noiseless way of transfering audio is to ground the circuit.  In high\n",
      "impedance audio circuits a resistive \"T\" is constructed close to characteristic\n",
      "impedance of the circuit.  Grounding the imputs (connected to the T) transfers\n",
      "the audio.\n",
      "\n",
      "In low impedance circuits transformers are usually used, and the inputs are\n",
      "shorted out or grounded.  Secondaries are paralleled at the characteristic\n",
      "impedance.\n",
      "\n",
      "Sometimes if it is necessary to actually switch audio, a second contact is used\n",
      "to momentarily short the circuit output for the duration of the switching time.\n",
      "\n",
      "Telephone relays are handy, because contacts can be adjusted to \"Make before\n",
      "break and Vica Versa\" but I haven't seen any of these for years.\n",
      "\n",
      "Nowadys switching is done electronically with OP amps, etc.\n",
      "\n",
      "A novel circuit I used to build was a primitive \"optical isolator\".. It consists\n",
      "of a resistive photocell and a lamp, all packaged in a tube.  When the lamp is\n",
      "off the cell is high resistance.  Turn the lamp on and the resistance lowers\n",
      "passing the audio.  Once again this device in a \"T\" switches the audio.  Varying\n",
      "the lamp resistance give a remote volume control.  Use 2 variable resisters and\n",
      "you have a mixer!\n",
      "\n",
      "Lots of luck!\n",
      "-- \n",
      "73, Tom\n",
      "================================================================================\n",
      "Tom Wagner, Audio Visual Technician.  Malaspina College Nanaimo British Columbia\n",
      "(604)753-3245, Loc 2230  Fax:755-8742  Callsign:VE7GDA Weapon:.45 Kentucky Rifle\n",
      "Snail mail to:  Site Q4, C2.   RR#4, Nanaimo, British Columbia, Canada, V9R 5X9  \n",
      "\n",
      "INDEX: 7773\n",
      "\n",
      "I built a little project using the radio shack 5vdc relays to switch\n",
      "audio.  I got pretty bad 'clicks' when the thing switched.  I was doing\n",
      "most of the common things one is supposed to do when using relays and\n",
      "nothing seemed to get rid of the clicks.\n",
      "\n",
      "\n",
      "My question is:\n",
      "\n",
      "\tIs there a good relay/relay circuit that I can use for switching\n",
      "audio, so that there will be *NO* noise of any kind on the audio lines.\n",
      "\n",
      "\n",
      "I will appreciate any advice or references to advice.  Also, exact part\n",
      "numbers/company names etc. for the relays will help!\n",
      "\n",
      "Thanks!\n",
      "\n",
      "\n",
      "\n",
      "INDEX: 3412\n",
      "\n",
      "\n",
      "\n",
      "Well, I'm not sure I'd use this to process a guitar but there was a audio\n",
      "filter DSP construction article in the Sept 92 issue of QST magazine (Ham Radio\n",
      "oriented).  The DSP is available in kit form for about $120.\n",
      "\n",
      "This particular DSP filter was targetted toward processing audio to remove\n",
      "noise (static).  I built it and it really works well.  The source code is\n",
      "available too.  It makes a noisy audio signal much easier to hear.  Note that\n",
      "this is for communication applications and is not \"high fidelity\".\n",
      "\n",
      "\n",
      "\n",
      "\n",
      "INDEX: 6626\n",
      "\n",
      "I'm thinking about getting a Toshiba 3401 CD-ROM and hooking it up\n",
      "through the SCSI port on a Media Vision Pro Audio Spectrum sound board.\n",
      "Does anybody have this configuration out there?  If so, does it work?\n",
      "\n",
      "For anybody in general who has the Toshiba 3401 CD-ROM drive, have you\n",
      "had any hadware problems?  Door not opening, scratched disks, door not\n",
      "closing (getting stuck or not closing all the way), CD holder jamming\n",
      "and any other CD related problems.\n",
      "\n",
      "Thanks in Advance\n",
      "\n",
      "DOCUMENT INDEX: 8155\n",
      "\n",
      "\n",
      "Years ago when I was an intern, an obese young woman was brought into\n",
      "the ER comatose after having been reported to have grand mal seizures\n",
      "why attending a \"corn festival\".  We pumped her stomach and obtained\n",
      "what seemed like a couple of liters of corn, much of it intact kernals.  \n",
      "After a few hours she woke up and was fine.  I was tempted to sign her out as\n",
      "\"acute corn intoxication.\"\n",
      "\n",
      "\n",
      "-- \n",
      "----------------------------------------------------------------------------\n",
      "Gordon Banks  N3JXP      | \"Skepticism is the chastity of the intellect, and\n",
      "geb@cadre.dsl.pitt.edu   |  it is shameful to surrender it too soon.\" \n",
      "\n",
      "SIMILAR DOCUMENTS: \n",
      "\n",
      "INDEX: 385\n",
      "\n",
      "\n",
      "   Newsgroups: sci.med\n",
      "   Path: news.larc.nasa.gov!saimiri.primate.wisc.edu!sdd.hp.com!elroy.jpl.nasa.gov!swrinde!zaphod.mps.ohio-state.edu!howland.reston.ans.net!europa.eng.gtefsd.com!emory!athena!aisun3.ai.uga.edu!mcovingt\n",
      "   From: mcovingt@aisun3.ai.uga.edu (Michael Covington)\n",
      "   Sender: usenet@athena.cs.uga.edu\n",
      "   Nntp-Posting-Host: aisun3.ai.uga.edu\n",
      "   Organization: AI Programs, University of Georgia, Athens\n",
      "   References: <PAULSON.93Apr19081647@cmb00.larc.nasa.gov> <116305@bu.edu> <C5uq9B.LrJ@toads.pgh.pa.us>\n",
      "   Date: Fri, 23 Apr 1993 03:41:24 GMT\n",
      "   Lines: 27\n",
      "\n",
      "   >>\n",
      "   >>Many of these cereals are corn-based. After your post I looked in the\n",
      "   >>literature and located two articles that implicated corn (contains\n",
      "   >>tryptophan) and seizures. The idea is that corn in the diet might\n",
      "   >>potentiate an already existing or latent seizure disorder, not cause it.\n",
      "   >>Check to see if the two Kellog cereals are corn based. I'd be interested.\n",
      "   >\n",
      "   >Years ago when I was an intern, an obese young woman was brought into\n",
      "   >the ER comatose after having been reported to have grand mal seizures\n",
      "   >why attending a \"corn festival\".  We pumped her stomach and obtained\n",
      "   >what seemed like a couple of liters of corn, much of it intact kernals.  \n",
      "   >After a few hours she woke up and was fine.  I was tempted to sign her out as\n",
      "   >\"acute corn intoxication.\"\n",
      "   >----------------------------------------------------------------------------\n",
      "   >Gordon Banks  N3JXP      | \"Skepticism is the chastity of the intellect, and\n",
      "\n",
      "   How about contaminants on the corn, e.g. aflatoxin???\n",
      "\n",
      "\n",
      "\n",
      "   -- \n",
      "   :-  Michael A. Covington, Associate Research Scientist        :    *****\n",
      "   :-  Artificial Intelligence Programs      mcovingt@ai.uga.edu :  *********\n",
      "   :-  The University of Georgia              phone 706 542-0358 :   *  *  *\n",
      "   :-  Athens, Georgia 30602-7415 U.S.A.     amateur radio N4TMI :  ** *** **  <><\n",
      "\n",
      "What is aflatoxin?\n",
      "\n",
      "Sharon\n",
      "\n",
      "INDEX: 8550\n",
      "\n",
      "\n",
      "\n",
      "So just what was it you wanted to say?\n",
      "\n",
      "\n",
      "\n",
      "-- \n",
      "----------------------------------------------------------------------------\n",
      "Gordon Banks  N3JXP      | \"Skepticism is the chastity of the intellect, and\n",
      "geb@cadre.dsl.pitt.edu   |  it is shameful to surrender it too soon.\" \n",
      "\n",
      "INDEX: 8660\n",
      "\n",
      "\n",
      "\n",
      "By law, they would not be allowed to do that anyhow.\n",
      "\n",
      "\n",
      "\n",
      "\n",
      "-- \n",
      "----------------------------------------------------------------------------\n",
      "Gordon Banks  N3JXP      | \"Skepticism is the chastity of the intellect, and\n",
      "geb@cadre.dsl.pitt.edu   |  it is shameful to surrender it too soon.\" \n",
      "\n",
      "INDEX: 8899\n",
      "\n",
      "\n",
      "\n",
      "Gosh, Jesse is that famous now?  He was my intern.  Landau not liking\n",
      "it makes me like it out of spite.  (Just kidding, Bill).  \n",
      "\n",
      "-- \n",
      "----------------------------------------------------------------------------\n",
      "Gordon Banks  N3JXP      | \"Skepticism is the chastity of the intellect, and\n",
      "geb@cadre.dsl.pitt.edu   |  it is shameful to surrender it too soon.\" \n",
      "\n",
      "INDEX: 2189\n",
      "\n",
      "\n",
      "Senile keratoses.  Have nothing to do with the liver.\n",
      "\n",
      "\n",
      "-- \n",
      "----------------------------------------------------------------------------\n",
      "Gordon Banks  N3JXP      | \"Skepticism is the chastity of the intellect, and\n",
      "geb@cadre.dsl.pitt.edu   |  it is shameful to surrender it too soon.\" \n",
      "\n",
      "DOCUMENT INDEX: 6606\n",
      "\n",
      "Nikon FM-2n with 50 mm Nikkor and accessories for sale.I bought this camera in\n",
      "Hong Kong two years ago and everything has been looked after very well. I'm now\n",
      "selling some more gear to finance my next big film project.\n",
      "\n",
      "SIMILAR DOCUMENTS: \n",
      "\n",
      "INDEX: 6069\n",
      "\n",
      "ku> From: kinau@mondrian.CSUFresno.EDU (Kin Hung Au) Date: 13 Apr 93\n",
      "  ku> 07:22:05 GMT Organization: California State University, Fresno\n",
      "  ku> Message-ID: <C5Ev4t.G0A@zimmer.CSUFresno.EDU> Newsgroups:\n",
      "  ku> comp.sys.mac.hardware\n",
      "  ku> \n",
      "  ku> In Hong Kong , you can buy a cheap PC 386 or 486 based computer.\n",
      "  ku> However, it is very experience to buy a Macintosh. Last winter, I was\n",
      "  ku> back to Hong Kong. I saw the price of Mac Classic in Hong kong is same\n",
      "  ku> price to buy a LC in the U.S.\n",
      "  ku> \n",
      "  ku> I am not recommended to buy MAc in Hong Kong since Mac is not popular\n",
      "  ku> in HK.\n",
      "  ku> \n",
      "  ku> Kin Hung Au\n",
      "  \n",
      "Hello Mr. Au,\n",
      "\n",
      "I have to disagree regarding your assessment of Macintosh in Hong Kong. The Mac has a sizeable share of the typesetting market, as in the U.S. A local magazine, Next Magazine (similar to Newsweek here), uses the Mac extensively. I have seen Sir Speedy and other franchises in Hong Kong equipped with Mac-based systems. True, the discount is not as steep as here because customers in Hong Kong cannot buy from gray market, nor are Mac being sold thru mass merchandisers like Apple does here with the Performa lin\n",
      "\n",
      "\n",
      "e. At this point the sale of Mac is handled by one exclusive distributor. On the other hand, you can always get a PC clone or in the earlier days, illegal clones of the Apple IIe.\n",
      "\n",
      "Your perception of the Mac not being too popular in Hong Kong is simply because most hobbyists and users find it much cheaper to go to one of those basement stores that sell PC clones with probably illegal copies of BIOS than to pay for a Mac.\n",
      "\n",
      "Similarly you cannot say Lotus 1-2-3 surely is not well accepted in Hong Kong because the sale is so low. May be it is because of all those places in Kowloon where illegal copies of Lotus 1-2-3 can be bought for $20 and $10 for a professional looking but illegal copies of the manuals.\n",
      "\n",
      "INDEX: 10584\n",
      "\n",
      "Sounds liek what the FED has to do is sign a 50 or more year lease to use\n",
      "certain parts of a space station that is built and designed and such by a\n",
      "commerical company or consortium of companies (such as like Alyeska) for a\n",
      "small amount of rent in return for certain incentives and such.. Such as tax\n",
      "and other right off and also a monopoly on certain products.. The commerical\n",
      "builders would have certain perks given to them to make there end easier (taxes\n",
      ", contracts, regulatory concesions and such..)\n",
      "\n",
      "Is it workable, just might work..\n",
      "\n",
      "After all, if China can lease out Hong Kong and the people of Hong Kong can\n",
      "make money, this could work..\n",
      "\n",
      "INDEX: 3362\n",
      "\n",
      "Nikkor AF 70-210 f/4-5.6 zoom lens. Excellent condition. I'm looking to get the\n",
      "2.8 version so I'm selling this.\n",
      "\n",
      "INDEX: 9668\n",
      "\n",
      "FM-2 has been sold.\n",
      "\n",
      "Following remains:\n",
      "\n",
      "INDEX: 8483\n",
      "\n",
      "\n",
      "The National Air & Space Museum has both the prototype and the film.\n",
      "When I was there, some years ago, they had the prototype on display and\n",
      "the film continuously repeating.\n",
      "\n",
      "DOCUMENT INDEX: 9818\n",
      "\n",
      "of\n",
      "\n",
      "\n",
      "A transporter operator!?!?  That better be one important transport.  Usually  \n",
      "it is a nameless ensign who does the job.  For such a guest appearance I would  \n",
      "have expected a more visible/meaningful role.\n",
      "\n",
      "---\n",
      "---------------------------------------------------------------------\n",
      "\n",
      "SIMILAR DOCUMENTS: \n",
      "\n",
      "INDEX: 3717\n",
      "\n",
      "I saw in the newspaper last night that Dr. Mae Jemison, the first\n",
      "black woman in space (she's a physician and chemical engineer who flew\n",
      "on Endeavour last year) will appear as a transporter operator on the\n",
      "\"Star Trek: The Next Generation\" episode that airs the week of May 31.\n",
      "It's hardly space science, I know, but it's interesting.\n",
      "\n",
      "INDEX: 5568\n",
      "\n",
      " \n",
      "(Deletion)\n",
      " \n",
      "No it in the way it is usually used. In my view, you are saying here that\n",
      "driving a car requires faith that the car drives.\n",
      " \n",
      "For me it is a conclusion, and I have no more faith in it than I have in the\n",
      "premises and the argument used.\n",
      " \n",
      " \n",
      " \n",
      "No, that's a word game. The term god is used in a different way usually.\n",
      "When you use a different definition it is your thing, but until it is\n",
      "commonly accepted you would have to say the way I define god is ... and\n",
      "that does not exist, it is existence itself, so I say it does not exist.\n",
      " \n",
      "Interestingly, there are those who say that \"existence exists\" is one of\n",
      "the indubitable statements possible.\n",
      " \n",
      "Further, saying god is existence is either a waste of time, existence is\n",
      "already used and there is no need to replace it by god, or you are implying\n",
      "more with it, in which case your definition and your argument so far\n",
      "are incomplete, making it a fallacy.\n",
      " \n",
      " \n",
      "(Deletion)\n",
      "(Deletion)\n",
      " \n",
      "Where does that follow? Aren't observations based on the assumption\n",
      "that something exists?\n",
      " \n",
      "And wouldn't you say there is a level of definition that the assumption\n",
      "\"god is\" is meaningful. If not, I would reject that concept anyway.\n",
      "\n",
      "INDEX: 9010\n",
      "\n",
      "\n",
      "   >Anyway, over the weekend, I was resting on the sofa (in between chores),\n",
      "   >and noticed that I briefly picked up what sounded like ham radio traffic\n",
      "   >over my stereo and television, even though both were off.  Also, all the\n",
      "   >touch sensitive lights in my house start going wacko, cycling through \n",
      "   >their four brightness states.\n",
      "\n",
      "   >I presume that some ham operator with an illegal amplifier drove past\n",
      "   >my house (I live on a busy thoroughfare); would this be a correct presumption?\n",
      "   >What kind of power must he be putting out to cause the effects?  \n",
      "   >The affected equipment is about 100 feet from the road...\n",
      "\n",
      "Hams are unlikely to have an illegal amp,  and are also unlikely to\n",
      "have a \"dirty\" amp.\n",
      "\n",
      "   Hams can legally run up to 1500 watts.  It is very unlikely, however,\n",
      "   that a ham would be running that kind of power from a car.  Ham rigs\n",
      "\n",
      "Not possible either.  You'd need about a 300 amp alternator for\n",
      "just the amplifier.  I can just see it.  You need to slow\n",
      "down on a downgrade,  so you hit the push to talk button.\n",
      "\n",
      "   for cars put out around 100 watts.  It is possible that a 100 watt\n",
      "   radio would cause interference to consumer electronic 100 feet \n",
      "   away.  Most TVs, stereos, and VCRs have very poor RF shielding.\n",
      "   If you experience the problem frequently, it may be \n",
      "   caused by a ham, CBer, or other radio operator in a base station\n",
      "   nearby.    The interference may have been caused by a radio \n",
      "   transmitter used for other purposes, such as police, fire,\n",
      "   etc.  If you heard voices over your stereo, I think you are\n",
      "   correct in assuming that the source is an RF transmitter.\n",
      "\n",
      "   If you have frequent trouble, you may want to try the RF ferrite\n",
      "   chokes available at Radio Shack.  The interference is probably\n",
      "   being picked up by your speaker wires, and those chokes can\n",
      "   be installed on the wires very easily (without cutting them).\n",
      "   Good instructions are included with the chokes.\n",
      "   If that does not solve the problem, you may want to search your\n",
      "   neighborhood for a radio operator.  Look for antennas on the roof\n",
      "   or car.  Talk to him/her about your problem.  There are things\n",
      "   a radio operator can do to reduce interference.\n",
      "\n",
      "And please remember to be friendly when approaching your\n",
      "local radio operator.  This person may or may not be the \n",
      "cause of your troubles,  and you'll get better cooperation\n",
      "and help if you assume that he is going to be helpful (most\n",
      "are).  It was amazing the accusations that we sometimes\n",
      "dealt with as I grew up.  We were blamed for skip (ghost\n",
      "pictures on the TV that occur at sunspot peaks),  c.b.\n",
      "interferance,  dead grass :),  you name it.  \n",
      "\n",
      "BTW, the local operator should try and help you whether or\n",
      "not he or she is directly responsible.  It is part of\n",
      "being a good neighbor and that is how the FCC views it.\n",
      "Too bad they don't require the consumer equipment makers\n",
      "to take any precautions.\n",
      "\n",
      "Last, you can usually tell ham radio vs. CB.  Ham operators are\n",
      "required to declare their call (sign) every so many minutes (no more\n",
      "than 10).  So if you hear \"This is WA1QT\" or some other call starting\n",
      "with A, W or K and no more than 6 total characters, you heard a ham.\n",
      "CB'ers probably won't sign (I don't know that they're even required\n",
      "to) and fire/police have other private ids.\n",
      "\n",
      "\n",
      "\n",
      "\n",
      "\n",
      "\n",
      "\n",
      "INDEX: 11118\n",
      "\n",
      "\n",
      "Even if they somehow address this issue it is unlikely to be the only\n",
      "back door in -- they might even have a few intentionally visible to\n",
      "distract from the ones that aren't visible.\n",
      "\n",
      "--\n",
      "Perry Metzger\t\tpmetzger@shearson.com\n",
      "\n",
      "INDEX: 2797\n",
      "\n",
      "Window placement on screen\n",
      "--------------------------\n",
      "\n",
      "I would like to configure my system (a HP UNIX) to avoid that any corner\n",
      "of a given window is displayed outside of the visible screen. The whole\n",
      "window should be visible and it should be impossible to move any window\n",
      "outside the visible aerea.\n",
      "\n",
      "1. Can this be done by configuring the window manager's resources\n",
      "\n",
      "2. Can this be done on applikation level \n",
      "\n",
      "3. A hardcoded solution is possible, but is it possible to have a\n",
      "  upper limit of a given window size\n",
      "\n",
      "\n",
      "DOCUMENT INDEX: 8359\n",
      "\n",
      "\n",
      "    1. Get the friend to uninstall it.\n",
      "    2. Read the manual (though from your post I infer that you are using\n",
      "    pirated software.)\n",
      "    3. Go into SYS.INI and change the SHELL= line to read SHELL=PROGMAN.EXE\n",
      "\n",
      "SIMILAR DOCUMENTS: \n",
      "\n",
      "INDEX: 10139\n",
      "\n",
      "I have an IBM and run Windows 3.1.  A friend installed Norton Desktop For\n",
      "Windows on top of this.  It loads automatically when I type \"win\", and\n",
      "surely adds to the (already dismally slow) process of starting up.\n",
      "\n",
      "I would like to know how to STOP or uninstall this program!!\n",
      "\n",
      "I have taken it out of win.ini, but it still pops up running with windows.\n",
      "I did a big search and found reference to it in ndw.ini, system.ini and\n",
      "progman.ini.  Removing it here causes a failure when starting up windows\n",
      "(progrman.ini has a \"group 7 = ...ndw.exe...\" which can't be deleted.)\n",
      "\n",
      "Is there anyone familiar with NDW who can tell me how to turn it off??\n",
      "\n",
      "\t\tthanks!\t\tChet\n",
      "\n",
      "INDEX: 2557\n",
      "\n",
      "\n",
      "Unless I am completely misunderstanding you, try using either Notepad or\n",
      "sysedit.exe (found in your system subdirectory) to edit you .ini files.\n",
      "\n",
      "The sysedit.exe program is cool because it automatically opens you win.ini,\n",
      "system.ini, autoexec.bat and config.sys files to be edited.\n",
      "\n",
      "INDEX: 1239\n",
      "\n",
      "Everbody has been defining envelope.\n",
      "Why was the world \"envelope\" chosen, rather than say \"shell\", \n",
      "or \"boundary\".  In analogy with the envelopes of airships perhaps?\n",
      "\n",
      "Actually, \"shell\" might be good.  Push the shell too hard and\n",
      "it (the aircraft?) breaks. \n",
      "\n",
      "INDEX: 10122\n",
      "\n",
      "\n",
      "\n",
      "You could use DOS 6 to do this partly.  You can set up different config.sys\n",
      "and autoexec.bat commands for each user, and they just have to select their\n",
      "menu option on bootup.  Then you can have the autoexec.bat copy the win.ini\n",
      "and system.ini files and change directories for them.  When they exit windows,\n",
      "it can copy back generic .ini files if you want.\n",
      "\n",
      "This is the only way I can think of.  There may be some programs somewhere\n",
      "that allow you to do this better, though using DOS 6 allows each person to\n",
      "have a custom config.sys and autoexec.bat.\n",
      "\n",
      "INDEX: 7342\n",
      "\n",
      "\n",
      "True enough. I put it on the ground if it's free of spooge, or directly\n",
      "on my head otherwise.\n",
      "\n",
      "\n",
      "Not exactly. The helmet has a lot less energy if your head isn't in it, and\n",
      "there's no lump inside to compress the liner against the shell. Is a drop\n",
      "off the seat enough to crack the shell? I doubt it, but you can always\n",
      "send it to be inspected.\n",
      "\n"
     ]
    }
   ],
   "source": [
    "for key, values in similar_documents_dict.items():\n",
    "    print (f\"DOCUMENT INDEX: {key}\")\n",
    "    print()\n",
    "    print(newsgroups_train.data[key])\n",
    "    print()\n",
    "    print (f\"SIMILAR DOCUMENTS: \")\n",
    "    print()\n",
    "    for value in values:\n",
    "        print(f\"INDEX: {value}\")\n",
    "        print()\n",
    "        print(newsgroups_train.data[value])\n",
    "        print()\n",
    "        \n",
    "    \n",
    "    "
   ]
  },
  {
   "cell_type": "markdown",
   "metadata": {},
   "source": [
    "Se puede observar que para cada uno de los 5 documentos, los documentos elegidos son similares, en algunos la categoria lo indica, sin embargo, en otros al analizar el texto se observa que los documentos hablan de cosas similares."
   ]
  },
  {
   "cell_type": "markdown",
   "metadata": {
    "id": "zRoNnKwhBqzq"
   },
   "source": [
    "### Modelo de clasificación Naïve Bayes"
   ]
  },
  {
   "cell_type": "code",
   "execution_count": 62,
   "metadata": {
    "colab": {
     "base_uri": "https://localhost:8080/",
     "height": 74
    },
    "id": "TPM0thDaLk0R",
    "outputId": "bc7fdc3e-d912-4e0c-9d9e-33efc97b46fc"
   },
   "outputs": [],
   "source": [
    "mnb_clf = MultinomialNB()\n",
    "cnb_clf= ComplementNB()\n"
   ]
  },
  {
   "cell_type": "code",
   "execution_count": 63,
   "metadata": {},
   "outputs": [
    {
     "data": {
      "text/html": [
       "<style>#sk-container-id-6 {color: black;}#sk-container-id-6 pre{padding: 0;}#sk-container-id-6 div.sk-toggleable {background-color: white;}#sk-container-id-6 label.sk-toggleable__label {cursor: pointer;display: block;width: 100%;margin-bottom: 0;padding: 0.3em;box-sizing: border-box;text-align: center;}#sk-container-id-6 label.sk-toggleable__label-arrow:before {content: \"▸\";float: left;margin-right: 0.25em;color: #696969;}#sk-container-id-6 label.sk-toggleable__label-arrow:hover:before {color: black;}#sk-container-id-6 div.sk-estimator:hover label.sk-toggleable__label-arrow:before {color: black;}#sk-container-id-6 div.sk-toggleable__content {max-height: 0;max-width: 0;overflow: hidden;text-align: left;background-color: #f0f8ff;}#sk-container-id-6 div.sk-toggleable__content pre {margin: 0.2em;color: black;border-radius: 0.25em;background-color: #f0f8ff;}#sk-container-id-6 input.sk-toggleable__control:checked~div.sk-toggleable__content {max-height: 200px;max-width: 100%;overflow: auto;}#sk-container-id-6 input.sk-toggleable__control:checked~label.sk-toggleable__label-arrow:before {content: \"▾\";}#sk-container-id-6 div.sk-estimator input.sk-toggleable__control:checked~label.sk-toggleable__label {background-color: #d4ebff;}#sk-container-id-6 div.sk-label input.sk-toggleable__control:checked~label.sk-toggleable__label {background-color: #d4ebff;}#sk-container-id-6 input.sk-hidden--visually {border: 0;clip: rect(1px 1px 1px 1px);clip: rect(1px, 1px, 1px, 1px);height: 1px;margin: -1px;overflow: hidden;padding: 0;position: absolute;width: 1px;}#sk-container-id-6 div.sk-estimator {font-family: monospace;background-color: #f0f8ff;border: 1px dotted black;border-radius: 0.25em;box-sizing: border-box;margin-bottom: 0.5em;}#sk-container-id-6 div.sk-estimator:hover {background-color: #d4ebff;}#sk-container-id-6 div.sk-parallel-item::after {content: \"\";width: 100%;border-bottom: 1px solid gray;flex-grow: 1;}#sk-container-id-6 div.sk-label:hover label.sk-toggleable__label {background-color: #d4ebff;}#sk-container-id-6 div.sk-serial::before {content: \"\";position: absolute;border-left: 1px solid gray;box-sizing: border-box;top: 0;bottom: 0;left: 50%;z-index: 0;}#sk-container-id-6 div.sk-serial {display: flex;flex-direction: column;align-items: center;background-color: white;padding-right: 0.2em;padding-left: 0.2em;position: relative;}#sk-container-id-6 div.sk-item {position: relative;z-index: 1;}#sk-container-id-6 div.sk-parallel {display: flex;align-items: stretch;justify-content: center;background-color: white;position: relative;}#sk-container-id-6 div.sk-item::before, #sk-container-id-6 div.sk-parallel-item::before {content: \"\";position: absolute;border-left: 1px solid gray;box-sizing: border-box;top: 0;bottom: 0;left: 50%;z-index: -1;}#sk-container-id-6 div.sk-parallel-item {display: flex;flex-direction: column;z-index: 1;position: relative;background-color: white;}#sk-container-id-6 div.sk-parallel-item:first-child::after {align-self: flex-end;width: 50%;}#sk-container-id-6 div.sk-parallel-item:last-child::after {align-self: flex-start;width: 50%;}#sk-container-id-6 div.sk-parallel-item:only-child::after {width: 0;}#sk-container-id-6 div.sk-dashed-wrapped {border: 1px dashed gray;margin: 0 0.4em 0.5em 0.4em;box-sizing: border-box;padding-bottom: 0.4em;background-color: white;}#sk-container-id-6 div.sk-label label {font-family: monospace;font-weight: bold;display: inline-block;line-height: 1.2em;}#sk-container-id-6 div.sk-label-container {text-align: center;}#sk-container-id-6 div.sk-container {/* jupyter's `normalize.less` sets `[hidden] { display: none; }` but bootstrap.min.css set `[hidden] { display: none !important; }` so we also need the `!important` here to be able to override the default hidden behavior on the sphinx rendered scikit-learn.org. See: https://github.com/scikit-learn/scikit-learn/issues/21755 */display: inline-block !important;position: relative;}#sk-container-id-6 div.sk-text-repr-fallback {display: none;}</style><div id=\"sk-container-id-6\" class=\"sk-top-container\"><div class=\"sk-text-repr-fallback\"><pre>ComplementNB()</pre><b>In a Jupyter environment, please rerun this cell to show the HTML representation or trust the notebook. <br />On GitHub, the HTML representation is unable to render, please try loading this page with nbviewer.org.</b></div><div class=\"sk-container\" hidden><div class=\"sk-item\"><div class=\"sk-estimator sk-toggleable\"><input class=\"sk-toggleable__control sk-hidden--visually\" id=\"sk-estimator-id-6\" type=\"checkbox\" checked><label for=\"sk-estimator-id-6\" class=\"sk-toggleable__label sk-toggleable__label-arrow\">ComplementNB</label><div class=\"sk-toggleable__content\"><pre>ComplementNB()</pre></div></div></div></div></div>"
      ],
      "text/plain": [
       "ComplementNB()"
      ]
     },
     "execution_count": 63,
     "metadata": {},
     "output_type": "execute_result"
    }
   ],
   "source": [
    "mnb_clf.fit(X_train, y_train)\n",
    "cnb_clf.fit(X_train, y_train)"
   ]
  },
  {
   "cell_type": "code",
   "execution_count": 64,
   "metadata": {
    "id": "NrQjzM48Mu4T"
   },
   "outputs": [],
   "source": [
    "# con nuestro vectorizador ya fiteado en train, vectorizamos los textos\n",
    "# del conjunto de test\n",
    "X_test = tfidfvect.transform(newsgroups_test.data)\n",
    "y_test = newsgroups_test.target\n",
    "y_pred_mnb =  mnb_clf.predict(X_test)\n",
    "y_pred_cnb = cnb_clf.predict(X_test)"
   ]
  },
  {
   "cell_type": "code",
   "execution_count": 65,
   "metadata": {
    "colab": {
     "base_uri": "https://localhost:8080/"
    },
    "id": "UkGJhetEPdA4",
    "outputId": "232ee2ce-e904-466e-be57-babc1f319029"
   },
   "outputs": [],
   "source": [
    "f1_mnb = f1_score(y_test, y_pred_mnb, average='macro')\n",
    "f1_cnb = f1_score(y_test, y_pred_cnb, average='macro')"
   ]
  },
  {
   "cell_type": "code",
   "execution_count": 66,
   "metadata": {},
   "outputs": [
    {
     "name": "stdout",
     "output_type": "stream",
     "text": [
      "F1-score macro - Multinomial Naïve Bayes: 0.5854345727938506\n",
      "F1-score macro - Complement Naïve Bayes: 0.692953349950875\n"
     ]
    }
   ],
   "source": [
    "print(\"F1-score macro - Multinomial Naïve Bayes:\", f1_mnb)\n",
    "print(\"F1-score macro - Complement Naïve Bayes:\", f1_cnb)"
   ]
  },
  {
   "cell_type": "markdown",
   "metadata": {},
   "source": [
    "### Pruebas con variantes de tfidvect"
   ]
  },
  {
   "cell_type": "code",
   "execution_count": 67,
   "metadata": {},
   "outputs": [],
   "source": [
    "# Variantes de tfidvect\n",
    "tfidfvect_variant1 = TfidfVectorizer(ngram_range=(1, 1), min_df=1, max_df=1.0)\n",
    "tfidfvect_variant2 = TfidfVectorizer(ngram_range=(1, 2), min_df=2, max_df=0.8)"
   ]
  },
  {
   "cell_type": "code",
   "execution_count": 68,
   "metadata": {},
   "outputs": [],
   "source": [
    "X_train_variant1 = tfidfvect_variant1.fit_transform(newsgroups_train.data)\n",
    "X_train_variant2 = tfidfvect_variant2.fit_transform(newsgroups_train.data)"
   ]
  },
  {
   "cell_type": "code",
   "execution_count": 69,
   "metadata": {},
   "outputs": [],
   "source": [
    "X_test_variant1 = tfidfvect_variant1.transform(newsgroups_test.data)\n",
    "X_test_variant2 = tfidfvect_variant2.transform(newsgroups_test.data)"
   ]
  },
  {
   "cell_type": "code",
   "execution_count": 70,
   "metadata": {},
   "outputs": [],
   "source": [
    "mnb_classifier_variant1 = MultinomialNB()\n",
    "cnb_classifier_variant1 = ComplementNB()"
   ]
  },
  {
   "cell_type": "code",
   "execution_count": 72,
   "metadata": {},
   "outputs": [
    {
     "data": {
      "text/html": [
       "<style>#sk-container-id-7 {color: black;}#sk-container-id-7 pre{padding: 0;}#sk-container-id-7 div.sk-toggleable {background-color: white;}#sk-container-id-7 label.sk-toggleable__label {cursor: pointer;display: block;width: 100%;margin-bottom: 0;padding: 0.3em;box-sizing: border-box;text-align: center;}#sk-container-id-7 label.sk-toggleable__label-arrow:before {content: \"▸\";float: left;margin-right: 0.25em;color: #696969;}#sk-container-id-7 label.sk-toggleable__label-arrow:hover:before {color: black;}#sk-container-id-7 div.sk-estimator:hover label.sk-toggleable__label-arrow:before {color: black;}#sk-container-id-7 div.sk-toggleable__content {max-height: 0;max-width: 0;overflow: hidden;text-align: left;background-color: #f0f8ff;}#sk-container-id-7 div.sk-toggleable__content pre {margin: 0.2em;color: black;border-radius: 0.25em;background-color: #f0f8ff;}#sk-container-id-7 input.sk-toggleable__control:checked~div.sk-toggleable__content {max-height: 200px;max-width: 100%;overflow: auto;}#sk-container-id-7 input.sk-toggleable__control:checked~label.sk-toggleable__label-arrow:before {content: \"▾\";}#sk-container-id-7 div.sk-estimator input.sk-toggleable__control:checked~label.sk-toggleable__label {background-color: #d4ebff;}#sk-container-id-7 div.sk-label input.sk-toggleable__control:checked~label.sk-toggleable__label {background-color: #d4ebff;}#sk-container-id-7 input.sk-hidden--visually {border: 0;clip: rect(1px 1px 1px 1px);clip: rect(1px, 1px, 1px, 1px);height: 1px;margin: -1px;overflow: hidden;padding: 0;position: absolute;width: 1px;}#sk-container-id-7 div.sk-estimator {font-family: monospace;background-color: #f0f8ff;border: 1px dotted black;border-radius: 0.25em;box-sizing: border-box;margin-bottom: 0.5em;}#sk-container-id-7 div.sk-estimator:hover {background-color: #d4ebff;}#sk-container-id-7 div.sk-parallel-item::after {content: \"\";width: 100%;border-bottom: 1px solid gray;flex-grow: 1;}#sk-container-id-7 div.sk-label:hover label.sk-toggleable__label {background-color: #d4ebff;}#sk-container-id-7 div.sk-serial::before {content: \"\";position: absolute;border-left: 1px solid gray;box-sizing: border-box;top: 0;bottom: 0;left: 50%;z-index: 0;}#sk-container-id-7 div.sk-serial {display: flex;flex-direction: column;align-items: center;background-color: white;padding-right: 0.2em;padding-left: 0.2em;position: relative;}#sk-container-id-7 div.sk-item {position: relative;z-index: 1;}#sk-container-id-7 div.sk-parallel {display: flex;align-items: stretch;justify-content: center;background-color: white;position: relative;}#sk-container-id-7 div.sk-item::before, #sk-container-id-7 div.sk-parallel-item::before {content: \"\";position: absolute;border-left: 1px solid gray;box-sizing: border-box;top: 0;bottom: 0;left: 50%;z-index: -1;}#sk-container-id-7 div.sk-parallel-item {display: flex;flex-direction: column;z-index: 1;position: relative;background-color: white;}#sk-container-id-7 div.sk-parallel-item:first-child::after {align-self: flex-end;width: 50%;}#sk-container-id-7 div.sk-parallel-item:last-child::after {align-self: flex-start;width: 50%;}#sk-container-id-7 div.sk-parallel-item:only-child::after {width: 0;}#sk-container-id-7 div.sk-dashed-wrapped {border: 1px dashed gray;margin: 0 0.4em 0.5em 0.4em;box-sizing: border-box;padding-bottom: 0.4em;background-color: white;}#sk-container-id-7 div.sk-label label {font-family: monospace;font-weight: bold;display: inline-block;line-height: 1.2em;}#sk-container-id-7 div.sk-label-container {text-align: center;}#sk-container-id-7 div.sk-container {/* jupyter's `normalize.less` sets `[hidden] { display: none; }` but bootstrap.min.css set `[hidden] { display: none !important; }` so we also need the `!important` here to be able to override the default hidden behavior on the sphinx rendered scikit-learn.org. See: https://github.com/scikit-learn/scikit-learn/issues/21755 */display: inline-block !important;position: relative;}#sk-container-id-7 div.sk-text-repr-fallback {display: none;}</style><div id=\"sk-container-id-7\" class=\"sk-top-container\"><div class=\"sk-text-repr-fallback\"><pre>ComplementNB()</pre><b>In a Jupyter environment, please rerun this cell to show the HTML representation or trust the notebook. <br />On GitHub, the HTML representation is unable to render, please try loading this page with nbviewer.org.</b></div><div class=\"sk-container\" hidden><div class=\"sk-item\"><div class=\"sk-estimator sk-toggleable\"><input class=\"sk-toggleable__control sk-hidden--visually\" id=\"sk-estimator-id-7\" type=\"checkbox\" checked><label for=\"sk-estimator-id-7\" class=\"sk-toggleable__label sk-toggleable__label-arrow\">ComplementNB</label><div class=\"sk-toggleable__content\"><pre>ComplementNB()</pre></div></div></div></div></div>"
      ],
      "text/plain": [
       "ComplementNB()"
      ]
     },
     "execution_count": 72,
     "metadata": {},
     "output_type": "execute_result"
    }
   ],
   "source": [
    "mnb_classifier_variant1.fit(X_train_variant1, y_train)\n",
    "cnb_classifier_variant1.fit(X_train_variant1, y_train)"
   ]
  },
  {
   "cell_type": "code",
   "execution_count": 73,
   "metadata": {},
   "outputs": [],
   "source": [
    "y_pred_mnb_variant1 = mnb_classifier_variant1.predict(X_test_variant1)\n",
    "y_pred_cnb_variant1 = cnb_classifier_variant1.predict(X_test_variant1)"
   ]
  },
  {
   "cell_type": "code",
   "execution_count": 74,
   "metadata": {},
   "outputs": [],
   "source": [
    "f1_mnb_variant1 = f1_score(y_test, y_pred_mnb_variant1, average='macro')\n",
    "f1_cnb_variant1 = f1_score(y_test, y_pred_cnb_variant1, average='macro')"
   ]
  },
  {
   "cell_type": "code",
   "execution_count": 75,
   "metadata": {},
   "outputs": [
    {
     "name": "stdout",
     "output_type": "stream",
     "text": [
      "Variant 1 - F1-score macro - Multinomial Naïve Bayes: 0.5854345727938506\n",
      "Variant 1 - F1-score macro - Complement Naïve Bayes: 0.692953349950875\n"
     ]
    }
   ],
   "source": [
    "print(\"Variant 1 - F1-score macro - Multinomial Naïve Bayes:\", f1_mnb_variant1)\n",
    "print(\"Variant 1 - F1-score macro - Complement Naïve Bayes:\", f1_cnb_variant1)"
   ]
  },
  {
   "cell_type": "code",
   "execution_count": 78,
   "metadata": {},
   "outputs": [],
   "source": [
    "mnb_classifier_variant2 = MultinomialNB()\n",
    "cnb_classifier_variant2 = ComplementNB()"
   ]
  },
  {
   "cell_type": "code",
   "execution_count": 79,
   "metadata": {},
   "outputs": [
    {
     "data": {
      "text/html": [
       "<style>#sk-container-id-8 {color: black;}#sk-container-id-8 pre{padding: 0;}#sk-container-id-8 div.sk-toggleable {background-color: white;}#sk-container-id-8 label.sk-toggleable__label {cursor: pointer;display: block;width: 100%;margin-bottom: 0;padding: 0.3em;box-sizing: border-box;text-align: center;}#sk-container-id-8 label.sk-toggleable__label-arrow:before {content: \"▸\";float: left;margin-right: 0.25em;color: #696969;}#sk-container-id-8 label.sk-toggleable__label-arrow:hover:before {color: black;}#sk-container-id-8 div.sk-estimator:hover label.sk-toggleable__label-arrow:before {color: black;}#sk-container-id-8 div.sk-toggleable__content {max-height: 0;max-width: 0;overflow: hidden;text-align: left;background-color: #f0f8ff;}#sk-container-id-8 div.sk-toggleable__content pre {margin: 0.2em;color: black;border-radius: 0.25em;background-color: #f0f8ff;}#sk-container-id-8 input.sk-toggleable__control:checked~div.sk-toggleable__content {max-height: 200px;max-width: 100%;overflow: auto;}#sk-container-id-8 input.sk-toggleable__control:checked~label.sk-toggleable__label-arrow:before {content: \"▾\";}#sk-container-id-8 div.sk-estimator input.sk-toggleable__control:checked~label.sk-toggleable__label {background-color: #d4ebff;}#sk-container-id-8 div.sk-label input.sk-toggleable__control:checked~label.sk-toggleable__label {background-color: #d4ebff;}#sk-container-id-8 input.sk-hidden--visually {border: 0;clip: rect(1px 1px 1px 1px);clip: rect(1px, 1px, 1px, 1px);height: 1px;margin: -1px;overflow: hidden;padding: 0;position: absolute;width: 1px;}#sk-container-id-8 div.sk-estimator {font-family: monospace;background-color: #f0f8ff;border: 1px dotted black;border-radius: 0.25em;box-sizing: border-box;margin-bottom: 0.5em;}#sk-container-id-8 div.sk-estimator:hover {background-color: #d4ebff;}#sk-container-id-8 div.sk-parallel-item::after {content: \"\";width: 100%;border-bottom: 1px solid gray;flex-grow: 1;}#sk-container-id-8 div.sk-label:hover label.sk-toggleable__label {background-color: #d4ebff;}#sk-container-id-8 div.sk-serial::before {content: \"\";position: absolute;border-left: 1px solid gray;box-sizing: border-box;top: 0;bottom: 0;left: 50%;z-index: 0;}#sk-container-id-8 div.sk-serial {display: flex;flex-direction: column;align-items: center;background-color: white;padding-right: 0.2em;padding-left: 0.2em;position: relative;}#sk-container-id-8 div.sk-item {position: relative;z-index: 1;}#sk-container-id-8 div.sk-parallel {display: flex;align-items: stretch;justify-content: center;background-color: white;position: relative;}#sk-container-id-8 div.sk-item::before, #sk-container-id-8 div.sk-parallel-item::before {content: \"\";position: absolute;border-left: 1px solid gray;box-sizing: border-box;top: 0;bottom: 0;left: 50%;z-index: -1;}#sk-container-id-8 div.sk-parallel-item {display: flex;flex-direction: column;z-index: 1;position: relative;background-color: white;}#sk-container-id-8 div.sk-parallel-item:first-child::after {align-self: flex-end;width: 50%;}#sk-container-id-8 div.sk-parallel-item:last-child::after {align-self: flex-start;width: 50%;}#sk-container-id-8 div.sk-parallel-item:only-child::after {width: 0;}#sk-container-id-8 div.sk-dashed-wrapped {border: 1px dashed gray;margin: 0 0.4em 0.5em 0.4em;box-sizing: border-box;padding-bottom: 0.4em;background-color: white;}#sk-container-id-8 div.sk-label label {font-family: monospace;font-weight: bold;display: inline-block;line-height: 1.2em;}#sk-container-id-8 div.sk-label-container {text-align: center;}#sk-container-id-8 div.sk-container {/* jupyter's `normalize.less` sets `[hidden] { display: none; }` but bootstrap.min.css set `[hidden] { display: none !important; }` so we also need the `!important` here to be able to override the default hidden behavior on the sphinx rendered scikit-learn.org. See: https://github.com/scikit-learn/scikit-learn/issues/21755 */display: inline-block !important;position: relative;}#sk-container-id-8 div.sk-text-repr-fallback {display: none;}</style><div id=\"sk-container-id-8\" class=\"sk-top-container\"><div class=\"sk-text-repr-fallback\"><pre>ComplementNB()</pre><b>In a Jupyter environment, please rerun this cell to show the HTML representation or trust the notebook. <br />On GitHub, the HTML representation is unable to render, please try loading this page with nbviewer.org.</b></div><div class=\"sk-container\" hidden><div class=\"sk-item\"><div class=\"sk-estimator sk-toggleable\"><input class=\"sk-toggleable__control sk-hidden--visually\" id=\"sk-estimator-id-8\" type=\"checkbox\" checked><label for=\"sk-estimator-id-8\" class=\"sk-toggleable__label sk-toggleable__label-arrow\">ComplementNB</label><div class=\"sk-toggleable__content\"><pre>ComplementNB()</pre></div></div></div></div></div>"
      ],
      "text/plain": [
       "ComplementNB()"
      ]
     },
     "execution_count": 79,
     "metadata": {},
     "output_type": "execute_result"
    }
   ],
   "source": [
    "mnb_classifier_variant2.fit(X_train_variant2, y_train)\n",
    "cnb_classifier_variant2.fit(X_train_variant2, y_train)"
   ]
  },
  {
   "cell_type": "code",
   "execution_count": 80,
   "metadata": {},
   "outputs": [],
   "source": [
    "y_pred_mnb_variant2 = mnb_classifier_variant2.predict(X_test_variant2)\n",
    "y_pred_cnb_variant2 = cnb_classifier_variant2.predict(X_test_variant2)"
   ]
  },
  {
   "cell_type": "code",
   "execution_count": 81,
   "metadata": {},
   "outputs": [],
   "source": [
    "f1_mnb_variant2 = f1_score(y_test, y_pred_mnb_variant2, average='macro')\n",
    "f1_cnb_variant2 = f1_score(y_test, y_pred_cnb_variant2, average='macro')"
   ]
  },
  {
   "cell_type": "code",
   "execution_count": 82,
   "metadata": {},
   "outputs": [
    {
     "name": "stdout",
     "output_type": "stream",
     "text": [
      "Variant 2 - F1-score macro - Multinomial Naïve Bayes: 0.5703496397235439\n",
      "Variant 2 - F1-score macro - Complement Naïve Bayes: 0.6878218782600645\n"
     ]
    }
   ],
   "source": [
    "print(\"Variant 2 - F1-score macro - Multinomial Naïve Bayes:\", f1_mnb_variant2)\n",
    "print(\"Variant 2 - F1-score macro - Complement Naïve Bayes:\", f1_cnb_variant2)"
   ]
  },
  {
   "cell_type": "markdown",
   "metadata": {},
   "source": [
    "Hay un cambio en F1 score cuando se modifican los paramteros de instanciacion del vectorizador. En este caso, se modifico el parametro ngram_range en la primera se consideran solo unigramas y en la segunda unigramas y bigramas. Los parametros min_df y max_df establecen umbrales en los que palabras no seran tomadas en cuenta durante la vectorizacion. min_df = 1, ignora palabras que aparecen en menos de 1 documento y min_df = 2 ignora palabras que aparecen en menos de dos documentos. max_df = 0.8 ignora terminos que aparecen en mas del 80%. Como se ve en este caso. La segunda variante produce f1 score menor para los dos clasificadores."
   ]
  },
  {
   "cell_type": "markdown",
   "metadata": {},
   "source": [
    "### Pruebas con valores diferentes de alpha"
   ]
  },
  {
   "cell_type": "code",
   "execution_count": 85,
   "metadata": {},
   "outputs": [],
   "source": [
    "alpha_values = [0.1, 1.0, 10.0]"
   ]
  },
  {
   "cell_type": "code",
   "execution_count": 87,
   "metadata": {},
   "outputs": [],
   "source": [
    "from sklearn.pipeline import Pipeline\n",
    "\n",
    "pipelines = []\n",
    "for alpha in alpha_values:\n",
    "    # MultinomialNB pipelines\n",
    "    mnb_pipeline = Pipeline([\n",
    "        ('clf', MultinomialNB(alpha=alpha))\n",
    "    ])\n",
    "    pipelines.append(('MultinomialNB_alpha_' + str(alpha), mnb_pipeline))\n",
    "    \n",
    "    # ComplementNB pipelines\n",
    "    cnb_pipeline = Pipeline([\n",
    "        ('clf', ComplementNB(alpha=alpha))\n",
    "    ])\n",
    "    pipelines.append(('ComplementNB_alpha_' + str(alpha), cnb_pipeline))"
   ]
  },
  {
   "cell_type": "code",
   "execution_count": 92,
   "metadata": {},
   "outputs": [],
   "source": [
    "from sklearn.metrics import f1_score \n",
    "\n",
    "results = []\n",
    "for name, pipeline in pipelines:\n",
    "    pipeline.fit(X_train, y_train)\n",
    "    y_pred = pipeline.predict(X_test)\n",
    "    f1 = f1_score(y_test, y_pred, average='macro')\n",
    "    results.append((name, f1))"
   ]
  },
  {
   "cell_type": "code",
   "execution_count": 93,
   "metadata": {},
   "outputs": [
    {
     "name": "stdout",
     "output_type": "stream",
     "text": [
      "Nombre: MultinomialNB_alpha_0.1, f1_score: 0.6564514103512165\n",
      "Nombre: ComplementNB_alpha_0.1, f1_score: 0.6953652590540836\n",
      "Nombre: MultinomialNB_alpha_1.0, f1_score: 0.5854345727938506\n",
      "Nombre: ComplementNB_alpha_1.0, f1_score: 0.692953349950875\n",
      "Nombre: MultinomialNB_alpha_10.0, f1_score: 0.39858607610754687\n",
      "Nombre: ComplementNB_alpha_10.0, f1_score: 0.6450088043260654\n"
     ]
    }
   ],
   "source": [
    "for result in results:\n",
    "    print(f\"Nombre: {result[0]}, f1_score: {result[1]}\")"
   ]
  },
  {
   "cell_type": "markdown",
   "metadata": {},
   "source": [
    "Se observa que al modificar alpha, se puede obtener un mejor f1_score. Esto se nota sobre todo en el caso de Multinomial Naive Bayes ya que parece más sensible. Se obtienen los mejores accuracy score con un alpha de 0.1, es decir, el alpha más pequeño."
   ]
  },
  {
   "cell_type": "markdown",
   "metadata": {},
   "source": [
    "### Transponer la matriz documento-término"
   ]
  },
  {
   "cell_type": "code",
   "execution_count": 99,
   "metadata": {},
   "outputs": [],
   "source": [
    "newsgroups_data = fetch_20newsgroups(subset='train', remove=('headers', 'footers', 'quotes'))"
   ]
  },
  {
   "cell_type": "code",
   "execution_count": 100,
   "metadata": {},
   "outputs": [],
   "source": [
    "tfidf_vectorizer = TfidfVectorizer(stop_words='english')"
   ]
  },
  {
   "cell_type": "code",
   "execution_count": 101,
   "metadata": {},
   "outputs": [],
   "source": [
    "tfidf_matrix = tfidf_vectorizer.fit_transform(newsgroups_data.data)"
   ]
  },
  {
   "cell_type": "code",
   "execution_count": 102,
   "metadata": {},
   "outputs": [],
   "source": [
    "term_document_matrix = tfidf_matrix.transpose()"
   ]
  },
  {
   "cell_type": "code",
   "execution_count": 103,
   "metadata": {},
   "outputs": [
    {
     "data": {
      "text/plain": [
       "array(['00', '000', '0000', ..., 'zzzzzzt', '³ation', 'ýé'], dtype=object)"
      ]
     },
     "execution_count": 103,
     "metadata": {},
     "output_type": "execute_result"
    }
   ],
   "source": [
    "feature_names = tfidf_vectorizer.get_feature_names_out()\n",
    "feature_names"
   ]
  },
  {
   "cell_type": "code",
   "execution_count": 104,
   "metadata": {},
   "outputs": [],
   "source": [
    "words_to_study = ['computer', 'baseball', 'space', 'government', 'medicine']"
   ]
  },
  {
   "cell_type": "code",
   "execution_count": 106,
   "metadata": {},
   "outputs": [
    {
     "name": "stdout",
     "output_type": "stream",
     "text": [
      "Words most similar to 'computer': ['decwriter', 'deluged', 'harkens', 'shopper', 'delicate']\n",
      "Words most similar to 'baseball': ['tommorrow', 'football', 'spl2', 'lubchansky', 'penna']\n",
      "Words most similar to 'space': ['nasa', 'shuttle', 'seds', 'enfant', 'exploration']\n",
      "Words most similar to 'government': ['libertarian', 'encryption', 'agencies', 'regulation', 'people']\n",
      "Words most similar to 'medicine': ['strengthens', 'dislikes', 'homepathy', 'neurodermitis', 'alleiating']\n"
     ]
    }
   ],
   "source": [
    "for word in words_to_study:\n",
    "    word_index = np.where(feature_names == word)[0][0]\n",
    "    similarity_scores = cosine_similarity(term_document_matrix[word_index], term_document_matrix)\n",
    "    top_similar_indices = similarity_scores.argsort()[0][-6:-1][::-1]\n",
    "    top_similar_words = [feature_names[idx] for idx in top_similar_indices]\n",
    "    print(f\"Words most similar to '{word}': {top_similar_words}\")"
   ]
  },
  {
   "cell_type": "markdown",
   "metadata": {},
   "source": [
    "Cuando se analizan las palabras similares hay un poco de incongruencia, ya sea por palabras que no existen o palabras que no pueden considerarse similares."
   ]
  }
 ],
 "metadata": {
  "colab": {
   "provenance": []
  },
  "kernelspec": {
   "display_name": "Python 3 (ipykernel)",
   "language": "python",
   "name": "python3"
  },
  "language_info": {
   "codemirror_mode": {
    "name": "ipython",
    "version": 3
   },
   "file_extension": ".py",
   "mimetype": "text/x-python",
   "name": "python",
   "nbconvert_exporter": "python",
   "pygments_lexer": "ipython3",
   "version": "3.10.12"
  }
 },
 "nbformat": 4,
 "nbformat_minor": 4
}
