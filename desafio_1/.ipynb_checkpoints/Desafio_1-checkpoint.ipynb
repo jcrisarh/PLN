{
 "cells": [
  {
   "cell_type": "markdown",
   "metadata": {},
   "source": [
    "### Consigna del desafío 1"
   ]
  },
  {
   "cell_type": "markdown",
   "metadata": {},
   "source": [
    "**1**. Vectorizar documentos. Tomar 5 documentos al azar y medir similaridad con el resto de los documentos.\n",
    "Estudiar los 5 documentos más similares de cada uno analizar si tiene sentido\n",
    "la similaridad según el contenido del texto y la etiqueta de clasificación.\n",
    "\n",
    "**2**. Entrenar modelos de clasificación Naïve Bayes para maximizar el desempeño de clasificación\n",
    "(f1-score macro) en el conjunto de datos de test. Considerar cambiar parámteros\n",
    "de instanciación del vectorizador y los modelos y probar modelos de Naïve Bayes Multinomial\n",
    "y ComplementNB.\n",
    "\n",
    "**3**. Transponer la matriz documento-término. De esa manera se obtiene una matriz\n",
    "término-documento que puede ser interpretada como una colección de vectorización de palabras.\n",
    "Estudiar ahora similaridad entre palabras tomando 5 palabras y estudiando sus 5 más similares."
   ]
  },
  {
   "cell_type": "markdown",
   "metadata": {
    "id": "zq6j8LsYq1Dr"
   },
   "source": [
    "### Vectorización de texto y modelo de clasificación Naïve Bayes con el dataset 20 newsgroups"
   ]
  },
  {
   "cell_type": "code",
   "execution_count": 1,
   "metadata": {
    "id": "l7cXR6CI30ry"
   },
   "outputs": [],
   "source": [
    "from sklearn.feature_extraction.text import CountVectorizer, TfidfVectorizer\n",
    "from sklearn.metrics.pairwise import cosine_similarity\n",
    "from sklearn.naive_bayes import MultinomialNB, ComplementNB\n",
    "from sklearn.metrics import f1_score\n",
    "\n",
    "from sklearn.datasets import fetch_20newsgroups\n",
    "import numpy as np"
   ]
  },
  {
   "cell_type": "markdown",
   "metadata": {
    "id": "yD-pVDWV_rQc"
   },
   "source": [
    "## Carga de datos"
   ]
  },
  {
   "cell_type": "code",
   "execution_count": 2,
   "metadata": {
    "id": "Ech9qJaUo9vK"
   },
   "outputs": [],
   "source": [
    "newsgroups_train = fetch_20newsgroups(subset='train', remove=('headers', 'footers', 'quotes'))\n",
    "newsgroups_test = fetch_20newsgroups(subset='test', remove=('headers', 'footers', 'quotes'))"
   ]
  },
  {
   "cell_type": "markdown",
   "metadata": {
    "id": "UxjSI7su_uWI"
   },
   "source": [
    "## Vectorización con TfidfVectorizer"
   ]
  },
  {
   "cell_type": "code",
   "execution_count": 5,
   "metadata": {
    "id": "-94VP0QYCzDn"
   },
   "outputs": [],
   "source": [
    "tfidfvect = TfidfVectorizer()\n"
   ]
  },
  {
   "cell_type": "code",
   "execution_count": 6,
   "metadata": {
    "colab": {
     "base_uri": "https://localhost:8080/",
     "height": 104
    },
    "id": "ftPlyanuak8n",
    "outputId": "45a94d0e-49e7-4f7c-c806-7d5b66779dd0"
   },
   "outputs": [
    {
     "data": {
      "text/plain": [
       "'I was wondering if anyone out there could enlighten me on this car I saw\\nthe other day. It was a 2-door sports car, looked to be from the late 60s/\\nearly 70s. It was called a Bricklin. The doors were really small. In addition,\\nthe front bumper was separate from the rest of the body. This is \\nall I know. If anyone can tellme a model name, engine specs, years\\nof production, where this car is made, history, or whatever info you\\nhave on this funky looking car, please e-mail.'"
      ]
     },
     "execution_count": 6,
     "metadata": {},
     "output_type": "execute_result"
    }
   ],
   "source": [
    "newsgroups_train.data[0]"
   ]
  },
  {
   "cell_type": "code",
   "execution_count": 7,
   "metadata": {
    "id": "1zxcXV6aC_oL"
   },
   "outputs": [],
   "source": [
    "X_train = tfidfvect.fit_transform(newsgroups_train.data)\n",
    "# `X_train` la podemos denominar como la matriz documento-término"
   ]
  },
  {
   "cell_type": "code",
   "execution_count": 8,
   "metadata": {
    "colab": {
     "base_uri": "https://localhost:8080/"
    },
    "id": "4Sv7TXbda41-",
    "outputId": "dcca5de6-dac1-4d68-d284-ce7be2ed9e2f"
   },
   "outputs": [
    {
     "name": "stdout",
     "output_type": "stream",
     "text": [
      "<class 'scipy.sparse._csr.csr_matrix'>\n",
      "shape: (11314, 101631)\n",
      "cantidad de documentos: 11314\n",
      "tamaño del vocabulario (dimensionalidad de los vectores): 101631\n"
     ]
    }
   ],
   "source": [
    "print(type(X_train))\n",
    "print(f'shape: {X_train.shape}')\n",
    "print(f'cantidad de documentos: {X_train.shape[0]}')\n",
    "print(f'tamaño del vocabulario (dimensionalidad de los vectores): {X_train.shape[1]}')"
   ]
  },
  {
   "cell_type": "code",
   "execution_count": 9,
   "metadata": {
    "colab": {
     "base_uri": "https://localhost:8080/"
    },
    "id": "dgydNTZ2pAgR",
    "outputId": "95111464-e40c-4b57-d154-ede153739a82"
   },
   "outputs": [
    {
     "data": {
      "text/plain": [
       "25775"
      ]
     },
     "execution_count": 9,
     "metadata": {},
     "output_type": "execute_result"
    }
   ],
   "source": [
    "tfidfvect.vocabulary_['car']"
   ]
  },
  {
   "cell_type": "code",
   "execution_count": 19,
   "metadata": {
    "id": "xnTSZuvyrTcP"
   },
   "outputs": [],
   "source": [
    "idx2word = {v: k for k,v in tfidfvect.vocabulary_.items()}"
   ]
  },
  {
   "cell_type": "code",
   "execution_count": 20,
   "metadata": {
    "colab": {
     "base_uri": "https://localhost:8080/"
    },
    "id": "swa-AgWrMSHM",
    "outputId": "93d09f31-4c42-4215-e750-a13c83ecf96a"
   },
   "outputs": [
    {
     "data": {
      "text/plain": [
       "array([ 7,  4,  4,  1, 14, 16, 13,  3,  2,  4])"
      ]
     },
     "execution_count": 20,
     "metadata": {},
     "output_type": "execute_result"
    }
   ],
   "source": [
    "y_train = newsgroups_train.target\n",
    "y_train[:10]"
   ]
  },
  {
   "cell_type": "code",
   "execution_count": 21,
   "metadata": {
    "colab": {
     "base_uri": "https://localhost:8080/"
    },
    "id": "je5kxvQMDLvf",
    "outputId": "59799046-9799-406f-c4be-81c5765de58d"
   },
   "outputs": [
    {
     "name": "stdout",
     "output_type": "stream",
     "text": [
      "clases [ 0  1  2  3  4  5  6  7  8  9 10 11 12 13 14 15 16 17 18 19]\n"
     ]
    },
    {
     "data": {
      "text/plain": [
       "['alt.atheism',\n",
       " 'comp.graphics',\n",
       " 'comp.os.ms-windows.misc',\n",
       " 'comp.sys.ibm.pc.hardware',\n",
       " 'comp.sys.mac.hardware',\n",
       " 'comp.windows.x',\n",
       " 'misc.forsale',\n",
       " 'rec.autos',\n",
       " 'rec.motorcycles',\n",
       " 'rec.sport.baseball',\n",
       " 'rec.sport.hockey',\n",
       " 'sci.crypt',\n",
       " 'sci.electronics',\n",
       " 'sci.med',\n",
       " 'sci.space',\n",
       " 'soc.religion.christian',\n",
       " 'talk.politics.guns',\n",
       " 'talk.politics.mideast',\n",
       " 'talk.politics.misc',\n",
       " 'talk.religion.misc']"
      ]
     },
     "execution_count": 21,
     "metadata": {},
     "output_type": "execute_result"
    }
   ],
   "source": [
    "print(f'clases {np.unique(newsgroups_test.target)}')\n",
    "newsgroups_test.target_names"
   ]
  },
  {
   "cell_type": "markdown",
   "metadata": {
    "id": "SXCICFSd_y90"
   },
   "source": [
    "## Similaridad de documentos"
   ]
  },
  {
   "cell_type": "code",
   "execution_count": 32,
   "metadata": {},
   "outputs": [
    {
     "name": "stdout",
     "output_type": "stream",
     "text": [
      "Document 1 (Index: 4655, Class: alt.atheism)\n",
      "Top 5 most similar documents:\n",
      "Similar Document 1 (Index: 5200, Class: alt.atheism)\n",
      "Similar Document 2 (Index: 10924, Class: alt.atheism)\n",
      "Similar Document 3 (Index: 10836, Class: alt.atheism)\n",
      "Similar Document 4 (Index: 7539, Class: alt.atheism)\n",
      "Similar Document 5 (Index: 2095, Class: alt.atheism)\n",
      "\n",
      "Document 2 (Index: 5727, Class: misc.forsale)\n",
      "Top 5 most similar documents:\n",
      "Similar Document 1 (Index: 8972, Class: sci.med)\n",
      "Similar Document 2 (Index: 5010, Class: sci.electronics)\n",
      "Similar Document 3 (Index: 6874, Class: comp.sys.ibm.pc.hardware)\n",
      "Similar Document 4 (Index: 4271, Class: talk.politics.misc)\n",
      "Similar Document 5 (Index: 6731, Class: sci.crypt)\n",
      "\n",
      "Document 3 (Index: 2443, Class: rec.motorcycles)\n",
      "Top 5 most similar documents:\n",
      "Similar Document 1 (Index: 6115, Class: rec.motorcycles)\n",
      "Similar Document 2 (Index: 4263, Class: rec.motorcycles)\n",
      "Similar Document 3 (Index: 2063, Class: rec.motorcycles)\n",
      "Similar Document 4 (Index: 2130, Class: comp.os.ms-windows.misc)\n",
      "Similar Document 5 (Index: 6955, Class: talk.religion.misc)\n",
      "\n",
      "Document 4 (Index: 4399, Class: talk.politics.mideast)\n",
      "Top 5 most similar documents:\n",
      "Similar Document 1 (Index: 1908, Class: talk.politics.mideast)\n",
      "Similar Document 2 (Index: 3361, Class: talk.politics.mideast)\n",
      "Similar Document 3 (Index: 2318, Class: talk.politics.mideast)\n",
      "Similar Document 4 (Index: 919, Class: talk.politics.mideast)\n",
      "Similar Document 5 (Index: 7708, Class: talk.politics.mideast)\n",
      "\n",
      "Document 5 (Index: 5785, Class: rec.sport.hockey)\n",
      "Top 5 most similar documents:\n",
      "Similar Document 1 (Index: 6321, Class: rec.sport.hockey)\n",
      "Similar Document 2 (Index: 1222, Class: rec.sport.hockey)\n",
      "Similar Document 3 (Index: 3697, Class: rec.sport.hockey)\n",
      "Similar Document 4 (Index: 7015, Class: rec.sport.hockey)\n",
      "Similar Document 5 (Index: 2859, Class: rec.sport.hockey)\n",
      "\n"
     ]
    }
   ],
   "source": [
    "# Tomar 5 documentos al azar\n",
    "indices_documentos_aleatorios = np.random.choice(range(X_train.shape[0]), size=5, replace=False)\n",
    "print(indices_documentos_aleatorios\n",
    "documentos_aleatorios = [X_train[i] for i in indices_documentos_aleatorios]\n",
    "\n",
    "# Calcular la similitud entre los documentos aleatorios y todos los documentos\n",
    "similarity_matrix = cosine_similarity(X_train[indices_documentos_aleatorios], X_train)\n",
    "\n",
    "# Encontrar los 5 documentos más similares para cada uno de los documentos aleatorios\n",
    "for i, doc_index in enumerate(indices_documentos_aleatorios):\n",
    "    # Excluir el propio documento de la lista de documentos similares\n",
    "    similar_indices = np.argsort(similarity_matrix[i])[::-1][1:6]\n",
    "    original_class_label = newsgroups_train.target_names[y_train[doc_index]]\n",
    "\n",
    "    print(f\"Document {i+1} (Index: {doc_index}, Class: {original_class_label})\")\n",
    "    print(\"Top 5 most similar documents:\")\n",
    "    for j, similar_index in enumerate(similar_indices):\n",
    "        similar_class_label = newsgroups_train.target_names[y_train[similar_index]]\n",
    "        print(f\"Similar Document {j+1} (Index: {similar_index}, Class: {similar_class_label})\")\n",
    "\n",
    "    print()\n"
   ]
  },
  {
   "cell_type": "markdown",
   "metadata": {
    "id": "zRoNnKwhBqzq"
   },
   "source": [
    "### Modelo de clasificación Naïve Bayes"
   ]
  },
  {
   "cell_type": "code",
   "execution_count": 14,
   "metadata": {
    "colab": {
     "base_uri": "https://localhost:8080/",
     "height": 74
    },
    "id": "TPM0thDaLk0R",
    "outputId": "bc7fdc3e-d912-4e0c-9d9e-33efc97b46fc"
   },
   "outputs": [
    {
     "data": {
      "text/html": [
       "<style>#sk-container-id-1 {color: black;background-color: white;}#sk-container-id-1 pre{padding: 0;}#sk-container-id-1 div.sk-toggleable {background-color: white;}#sk-container-id-1 label.sk-toggleable__label {cursor: pointer;display: block;width: 100%;margin-bottom: 0;padding: 0.3em;box-sizing: border-box;text-align: center;}#sk-container-id-1 label.sk-toggleable__label-arrow:before {content: \"▸\";float: left;margin-right: 0.25em;color: #696969;}#sk-container-id-1 label.sk-toggleable__label-arrow:hover:before {color: black;}#sk-container-id-1 div.sk-estimator:hover label.sk-toggleable__label-arrow:before {color: black;}#sk-container-id-1 div.sk-toggleable__content {max-height: 0;max-width: 0;overflow: hidden;text-align: left;background-color: #f0f8ff;}#sk-container-id-1 div.sk-toggleable__content pre {margin: 0.2em;color: black;border-radius: 0.25em;background-color: #f0f8ff;}#sk-container-id-1 input.sk-toggleable__control:checked~div.sk-toggleable__content {max-height: 200px;max-width: 100%;overflow: auto;}#sk-container-id-1 input.sk-toggleable__control:checked~label.sk-toggleable__label-arrow:before {content: \"▾\";}#sk-container-id-1 div.sk-estimator input.sk-toggleable__control:checked~label.sk-toggleable__label {background-color: #d4ebff;}#sk-container-id-1 div.sk-label input.sk-toggleable__control:checked~label.sk-toggleable__label {background-color: #d4ebff;}#sk-container-id-1 input.sk-hidden--visually {border: 0;clip: rect(1px 1px 1px 1px);clip: rect(1px, 1px, 1px, 1px);height: 1px;margin: -1px;overflow: hidden;padding: 0;position: absolute;width: 1px;}#sk-container-id-1 div.sk-estimator {font-family: monospace;background-color: #f0f8ff;border: 1px dotted black;border-radius: 0.25em;box-sizing: border-box;margin-bottom: 0.5em;}#sk-container-id-1 div.sk-estimator:hover {background-color: #d4ebff;}#sk-container-id-1 div.sk-parallel-item::after {content: \"\";width: 100%;border-bottom: 1px solid gray;flex-grow: 1;}#sk-container-id-1 div.sk-label:hover label.sk-toggleable__label {background-color: #d4ebff;}#sk-container-id-1 div.sk-serial::before {content: \"\";position: absolute;border-left: 1px solid gray;box-sizing: border-box;top: 0;bottom: 0;left: 50%;z-index: 0;}#sk-container-id-1 div.sk-serial {display: flex;flex-direction: column;align-items: center;background-color: white;padding-right: 0.2em;padding-left: 0.2em;position: relative;}#sk-container-id-1 div.sk-item {position: relative;z-index: 1;}#sk-container-id-1 div.sk-parallel {display: flex;align-items: stretch;justify-content: center;background-color: white;position: relative;}#sk-container-id-1 div.sk-item::before, #sk-container-id-1 div.sk-parallel-item::before {content: \"\";position: absolute;border-left: 1px solid gray;box-sizing: border-box;top: 0;bottom: 0;left: 50%;z-index: -1;}#sk-container-id-1 div.sk-parallel-item {display: flex;flex-direction: column;z-index: 1;position: relative;background-color: white;}#sk-container-id-1 div.sk-parallel-item:first-child::after {align-self: flex-end;width: 50%;}#sk-container-id-1 div.sk-parallel-item:last-child::after {align-self: flex-start;width: 50%;}#sk-container-id-1 div.sk-parallel-item:only-child::after {width: 0;}#sk-container-id-1 div.sk-dashed-wrapped {border: 1px dashed gray;margin: 0 0.4em 0.5em 0.4em;box-sizing: border-box;padding-bottom: 0.4em;background-color: white;}#sk-container-id-1 div.sk-label label {font-family: monospace;font-weight: bold;display: inline-block;line-height: 1.2em;}#sk-container-id-1 div.sk-label-container {text-align: center;}#sk-container-id-1 div.sk-container {/* jupyter's `normalize.less` sets `[hidden] { display: none; }` but bootstrap.min.css set `[hidden] { display: none !important; }` so we also need the `!important` here to be able to override the default hidden behavior on the sphinx rendered scikit-learn.org. See: https://github.com/scikit-learn/scikit-learn/issues/21755 */display: inline-block !important;position: relative;}#sk-container-id-1 div.sk-text-repr-fallback {display: none;}</style><div id=\"sk-container-id-1\" class=\"sk-top-container\"><div class=\"sk-text-repr-fallback\"><pre>MultinomialNB()</pre><b>In a Jupyter environment, please rerun this cell to show the HTML representation or trust the notebook. <br />On GitHub, the HTML representation is unable to render, please try loading this page with nbviewer.org.</b></div><div class=\"sk-container\" hidden><div class=\"sk-item\"><div class=\"sk-estimator sk-toggleable\"><input class=\"sk-toggleable__control sk-hidden--visually\" id=\"sk-estimator-id-1\" type=\"checkbox\" checked><label for=\"sk-estimator-id-1\" class=\"sk-toggleable__label sk-toggleable__label-arrow\">MultinomialNB</label><div class=\"sk-toggleable__content\"><pre>MultinomialNB()</pre></div></div></div></div></div>"
      ],
      "text/plain": [
       "MultinomialNB()"
      ]
     },
     "execution_count": 14,
     "metadata": {},
     "output_type": "execute_result"
    }
   ],
   "source": [
    "# es muy fácil instanciar un modelo de clasificación Naïve Bayes y entrenarlo con sklearn\n",
    "clf = MultinomialNB()\n",
    "clf.fit(X_train, y_train)"
   ]
  },
  {
   "cell_type": "code",
   "execution_count": 15,
   "metadata": {
    "id": "NrQjzM48Mu4T"
   },
   "outputs": [],
   "source": [
    "# con nuestro vectorizador ya fiteado en train, vectorizamos los textos\n",
    "# del conjunto de test\n",
    "X_test = tfidfvect.transform(newsgroups_test.data)\n",
    "y_test = newsgroups_test.target\n",
    "y_pred =  clf.predict(X_test)"
   ]
  },
  {
   "cell_type": "code",
   "execution_count": null,
   "metadata": {
    "colab": {
     "base_uri": "https://localhost:8080/"
    },
    "id": "UkGJhetEPdA4",
    "outputId": "232ee2ce-e904-466e-be57-babc1f319029"
   },
   "outputs": [
    {
     "data": {
      "text/plain": [
       "0.5854345727938506"
      ]
     },
     "execution_count": 27,
     "metadata": {},
     "output_type": "execute_result"
    }
   ],
   "source": [
    "# el F1-score es una metrica adecuada para reportar desempeño de modelos de claificación\n",
    "# es robusta al desbalance de clases. El promediado 'macro' es el promedio de los\n",
    "# F1-score de cada clase. El promedio 'micro' es equivalente a la accuracy que no\n",
    "# es una buena métrica cuando los datasets son desbalanceados\n",
    "f1_score(y_test, y_pred, average='macro')"
   ]
  },
  {
   "cell_type": "markdown",
   "metadata": {
    "id": "McArD4rSDR2K"
   },
   "source": [
    "### Consigna del desafío 1"
   ]
  },
  {
   "cell_type": "markdown",
   "metadata": {
    "id": "lJgf6GQIIEH1"
   },
   "source": [
    "**1**. Vectorizar documentos. Tomar 5 documentos al azar y medir similaridad con el resto de los documentos.\n",
    "Estudiar los 5 documentos más similares de cada uno analizar si tiene sentido\n",
    "la similaridad según el contenido del texto y la etiqueta de clasificación.\n",
    "\n",
    "**2**. Entrenar modelos de clasificación Naïve Bayes para maximizar el desempeño de clasificación\n",
    "(f1-score macro) en el conjunto de datos de test. Considerar cambiar parámteros\n",
    "de instanciación del vectorizador y los modelos y probar modelos de Naïve Bayes Multinomial\n",
    "y ComplementNB.\n",
    "\n",
    "**3**. Transponer la matriz documento-término. De esa manera se obtiene una matriz\n",
    "término-documento que puede ser interpretada como una colección de vectorización de palabras.\n",
    "Estudiar ahora similaridad entre palabras tomando 5 palabras y estudiando sus 5 más similares.\n"
   ]
  },
  {
   "cell_type": "markdown",
   "metadata": {},
   "source": [
    "### Vectorizacion Count Vectorizer"
   ]
  },
  {
   "cell_type": "code",
   "execution_count": null,
   "metadata": {},
   "outputs": [],
   "source": [
    "from sklearn.feature_extraction.text import CountVectorizer\n",
    "\n",
    "# Crear un objeto CountVectorizer\n",
    "count_vectorizer = CountVectorizer()\n",
    "\n",
    "# Vectorizar los documentos\n",
    "X_count = count_vectorizer.fit_transform(documentos)"
   ]
  },
  {
   "cell_type": "markdown",
   "metadata": {},
   "source": [
    "### Hashing Vectorizer"
   ]
  },
  {
   "cell_type": "code",
   "execution_count": null,
   "metadata": {},
   "outputs": [],
   "source": [
    "from sklearn.feature_extraction.text import HashingVectorizer\n",
    "\n",
    "# Create a HashingVectorizer object\n",
    "hash_vectorizer = HashingVectorizer(n_features=10000)\n",
    "\n",
    "# Vectorize the documents\n",
    "X_hash = hash_vectorizer.fit_transform(documentos)"
   ]
  },
  {
   "cell_type": "code",
   "execution_count": null,
   "metadata": {},
   "outputs": [],
   "source": [
    "from sklearn.feature_extraction.text import TfidfVectorizer\n",
    "from sklearn.metrics.pairwise import cosine_similarity\n",
    "import numpy as np\n",
    "\n",
    "# Supongamos que X_tfidf es la matriz TF-IDF de tus documentos\n",
    "# X_tfidf = tfidf_vectorizer.fit_transform(documentos)\n",
    "\n",
    "# Tomar 5 documentos al azar\n",
    "indices_documentos_aleatorios = np.random.choice(range(len(documentos)), size=5, replace=False)\n",
    "documentos_aleatorios = [documentos[i] for i in indices_documentos_aleatorios]\n",
    "\n",
    "# Calcular la similitud entre los documentos aleatorios y todos los documentos\n",
    "similarity_matrix = cosine_similarity(X_tfidf[indices_documentos_aleatorios], X_tfidf)\n",
    "\n",
    "# Encontrar los 5 documentos más similares para cada uno de los documentos aleatorios\n",
    "for i, doc_index in enumerate(indices_documentos_aleatorios):\n",
    "    # Excluir el propio documento de la lista de documentos similares\n",
    "    similar_indices = np.argsort(similarity_matrix[i])[::-1][1:6]\n",
    "    # Imprimir los documentos más similares\n",
    "    print(f\"Documentos similares al documento aleatorio {i+1}:\")\n",
    "    for j, similar_index in enumerate(similar_indices):\n",
    "        print(f\"Documento {similar_index}: {documentos[similar_index]}\")\n",
    "        # También puedes imprimir la similitud si lo deseas\n",
    "        # print(f\"Similarity Score: {similarity_matrix[i][similar_index]}\")\n",
    "    print()"
   ]
  },
  {
   "cell_type": "code",
   "execution_count": null,
   "metadata": {},
   "outputs": [],
   "source": [
    "from sklearn.feature_extraction.text import CountVectorizer\n",
    "from sklearn.metrics.pairwise import cosine_similarity\n",
    "import numpy as np\n",
    "\n",
    "# Supongamos que X_count es la matriz de conteo de tus documentos\n",
    "# X_count = count_vectorizer.fit_transform(documentos)\n",
    "\n",
    "# Tomar 5 documentos al azar\n",
    "indices_documentos_aleatorios = np.random.choice(range(len(documentos)), size=5, replace=False)\n",
    "documentos_aleatorios = [documentos[i] for i in indices_documentos_aleatorios]\n",
    "\n",
    "# Calcular la similitud entre los documentos aleatorios y todos los documentos\n",
    "similarity_matrix = cosine_similarity(X_count[indices_documentos_aleatorios])\n",
    "\n",
    "# Encontrar los 5 documentos más similares para cada uno de los documentos aleatorios\n",
    "for i, doc_index in enumerate(indices_documentos_aleatorios):\n",
    "    # Excluir el propio documento de la lista de documentos similares\n",
    "    similar_indices = np.argsort(similarity_matrix[i])[::-1][1:6]\n",
    "    # Imprimir los documentos más similares\n",
    "    print(f\"Documentos similares al documento aleatorio {i+1}:\")\n",
    "    for j, similar_index in enumerate(similar_indices):\n",
    "        print(f\"Documento {similar_index}: {documentos[similar_index]}\")\n",
    "        # También puedes imprimir la similitud si lo deseas\n",
    "        # print(f\"Similarity Score: {similarity_matrix[i][similar_index]}\")\n",
    "    print()\n"
   ]
  },
  {
   "cell_type": "code",
   "execution_count": null,
   "metadata": {},
   "outputs": [],
   "source": [
    "from sklearn.feature_extraction.text import HashingVectorizer\n",
    "from sklearn.metrics.pairwise import cosine_similarity\n",
    "import numpy as np\n",
    "\n",
    "# Supongamos que X_hash es la matriz obtenida con HashingVectorizer\n",
    "# hash_vectorizer = HashingVectorizer(n_features=10000)\n",
    "# X_hash = hash_vectorizer.fit_transform(documentos)\n",
    "\n",
    "# Tomar 5 documentos al azar\n",
    "indices_documentos_aleatorios = np.random.choice(range(len(documentos)), size=5, replace=False)\n",
    "documentos_aleatorios = [documentos[i] for i in indices_documentos_aleatorios]\n",
    "\n",
    "# Calcular la similitud entre los documentos aleatorios y todos los documentos\n",
    "similarity_matrix = cosine_similarity(X_hash[indices_documentos_aleatorios])\n",
    "\n",
    "# Encontrar los 5 documentos más similares para cada uno de los documentos aleatorios\n",
    "for i, doc_index in enumerate(indices_documentos_aleatorios):\n",
    "    # Excluir el propio documento de la lista de documentos similares\n",
    "    similar_indices = np.argsort(similarity_matrix[i])[::-1][1:6]\n",
    "    # Imprimir los documentos más similares\n",
    "    print(f\"Documentos similares al documento aleatorio {i+1}:\")\n",
    "    for j, similar_index in enumerate(similar_indices):\n",
    "        print(f\"Documento {similar_index}: {documentos[similar_index]}\")\n",
    "        # También puedes imprimir la similitud si lo deseas\n",
    "        # print(f\"Similarity Score: {similarity_matrix[i][similar_index]}\")\n",
    "    print()\n"
   ]
  },
  {
   "cell_type": "markdown",
   "metadata": {},
   "source": [
    "### Naive"
   ]
  },
  {
   "cell_type": "code",
   "execution_count": null,
   "metadata": {},
   "outputs": [],
   "source": [
    "from sklearn.datasets import fetch_20newsgroups\n",
    "from sklearn.model_selection import train_test_split\n",
    "from sklearn.feature_extraction.text import CountVectorizer\n",
    "from sklearn.naive_bayes import MultinomialNB, ComplementNB\n",
    "from sklearn.metrics import f1_score\n",
    "\n",
    "# Cargar los datos\n",
    "newsgroups_data = fetch_20newsgroups(subset='all', shuffle=True, random_state=42)\n",
    "\n",
    "# Vectorizar los documentos\n",
    "vectorizer = CountVectorizer()\n",
    "X = vectorizer.fit_transform(newsgroups_data.data)\n",
    "y = newsgroups_data.target\n",
    "\n",
    "# División de datos en conjuntos de entrenamiento y prueba\n",
    "X_train, X_test, y_train, y_test = train_test_split(X, y, test_size=0.2, random_state=42)\n",
    "\n",
    "# Entrenamiento de modelos de Naïve Bayes\n",
    "models = {\n",
    "    \"MultinomialNB\": MultinomialNB(),\n",
    "    \"ComplementNB\": ComplementNB()\n",
    "}\n",
    "\n",
    "for model_name, model in models.items():\n",
    "    model.fit(X_train, y_train)\n",
    "    y_pred = model.predict(X_test)\n",
    "    f1 = f1_score(y_test, y_pred, average='macro')\n",
    "    print(f\"{model_name} - f1-score macro: {f1}\")\n"
   ]
  },
  {
   "cell_type": "code",
   "execution_count": null,
   "metadata": {},
   "outputs": [],
   "source": [
    "#Traspose \n",
    "\n",
    "from sklearn.feature_extraction.text import CountVectorizer\n",
    "from sklearn.metrics.pairwise import cosine_similarity\n",
    "import numpy as np\n",
    "\n",
    "# Supongamos que X_count es la matriz de conteo de tus documentos\n",
    "# X_count = count_vectorizer.fit_transform(documentos)\n",
    "\n",
    "# Transponer la matriz documento-término para obtener una matriz término-documento\n",
    "X_term_doc = X_count.T\n",
    "\n",
    "# Obtener los nombres de las palabras\n",
    "feature_names = count_vectorizer.get_feature_names_out()\n",
    "\n",
    "# Tomar 5 palabras al azar\n",
    "indices_palabras_aleatorias = np.random.choice(range(len(feature_names)), size=5, replace=False)\n",
    "palabras_aleatorias = [feature_names[i] for i in indices_palabras_aleatorias]\n",
    "\n",
    "# Calcular la similitud entre las palabras aleatorias y todas las demás palabras\n",
    "similarity_matrix = cosine_similarity(X_term_doc[indices_palabras_aleatorias])\n",
    "\n",
    "# Encontrar las 5 palabras más similares para cada una de las palabras aleatorias\n",
    "for i, palabra_index in enumerate(indices_palabras_aleatorias):\n",
    "    # Excluir la propia palabra de la lista de palabras similares\n",
    "    similar_indices = np.argsort(similarity_matrix[i])[::-1][1:6]\n",
    "    # Imprimir las palabras más similares\n",
    "    print(f\"Palabras similares a la palabra '{palabras_aleatorias[i]}':\")\n",
    "    for j, similar_index in enumerate(similar_indices):\n",
    "        print(f\"Palabra {feature_names[similar_index]}\")\n",
    "    print()\n"
   ]
  }
 ],
 "metadata": {
  "colab": {
   "provenance": []
  },
  "kernelspec": {
   "display_name": "Python 3 (ipykernel)",
   "language": "python",
   "name": "python3"
  },
  "language_info": {
   "codemirror_mode": {
    "name": "ipython",
    "version": 3
   },
   "file_extension": ".py",
   "mimetype": "text/x-python",
   "name": "python",
   "nbconvert_exporter": "python",
   "pygments_lexer": "ipython3",
   "version": "3.10.12"
  }
 },
 "nbformat": 4,
 "nbformat_minor": 4
}
