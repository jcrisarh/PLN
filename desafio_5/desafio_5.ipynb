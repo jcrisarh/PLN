{
 "cells": [
  {
   "cell_type": "markdown",
   "metadata": {
    "id": "G63Jpt-wYcJ3"
   },
   "source": [
    "# Procesamiento de lenguaje natural\n",
    "## Bert Sentiment Analysis\n"
   ]
  },
  {
   "cell_type": "code",
   "execution_count": 1,
   "metadata": {
    "id": "rcPiEBdt8NqM"
   },
   "outputs": [],
   "source": [
    "!pip install transformers --quiet"
   ]
  },
  {
   "cell_type": "code",
   "execution_count": 2,
   "metadata": {},
   "outputs": [
    {
     "name": "stderr",
     "output_type": "stream",
     "text": [
      "2024-07-01 17:19:34.808491: I tensorflow/core/util/port.cc:113] oneDNN custom operations are on. You may see slightly different numerical results due to floating-point round-off errors from different computation orders. To turn them off, set the environment variable `TF_ENABLE_ONEDNN_OPTS=0`.\n",
      "2024-07-01 17:19:34.819035: E external/local_xla/xla/stream_executor/cuda/cuda_fft.cc:479] Unable to register cuFFT factory: Attempting to register factory for plugin cuFFT when one has already been registered\n",
      "2024-07-01 17:19:34.832982: E external/local_xla/xla/stream_executor/cuda/cuda_dnn.cc:10575] Unable to register cuDNN factory: Attempting to register factory for plugin cuDNN when one has already been registered\n",
      "2024-07-01 17:19:34.833009: E external/local_xla/xla/stream_executor/cuda/cuda_blas.cc:1442] Unable to register cuBLAS factory: Attempting to register factory for plugin cuBLAS when one has already been registered\n",
      "2024-07-01 17:19:34.841962: I tensorflow/core/platform/cpu_feature_guard.cc:210] This TensorFlow binary is optimized to use available CPU instructions in performance-critical operations.\n",
      "To enable the following instructions: AVX2 AVX512F AVX512_VNNI FMA, in other operations, rebuild TensorFlow with the appropriate compiler flags.\n",
      "2024-07-01 17:19:35.396289: W tensorflow/compiler/tf2tensorrt/utils/py_utils.cc:38] TF-TRT Warning: Could not find TensorRT\n"
     ]
    }
   ],
   "source": [
    "import tensorflow\n",
    "from transformers import TFBertModel\n",
    "import tf_keras"
   ]
  },
  {
   "cell_type": "markdown",
   "metadata": {},
   "source": [
    "### Definiendo modelo"
   ]
  },
  {
   "cell_type": "code",
   "execution_count": 3,
   "metadata": {},
   "outputs": [
    {
     "name": "stderr",
     "output_type": "stream",
     "text": [
      "2024-07-01 17:19:38.100574: I external/local_xla/xla/stream_executor/cuda/cuda_executor.cc:998] successful NUMA node read from SysFS had negative value (-1), but there must be at least one NUMA node, so returning NUMA node zero. See more at https://github.com/torvalds/linux/blob/v6.0/Documentation/ABI/testing/sysfs-bus-pci#L344-L355\n",
      "2024-07-01 17:19:38.107557: I external/local_xla/xla/stream_executor/cuda/cuda_executor.cc:998] successful NUMA node read from SysFS had negative value (-1), but there must be at least one NUMA node, so returning NUMA node zero. See more at https://github.com/torvalds/linux/blob/v6.0/Documentation/ABI/testing/sysfs-bus-pci#L344-L355\n",
      "2024-07-01 17:19:38.117377: I external/local_xla/xla/stream_executor/cuda/cuda_executor.cc:998] successful NUMA node read from SysFS had negative value (-1), but there must be at least one NUMA node, so returning NUMA node zero. See more at https://github.com/torvalds/linux/blob/v6.0/Documentation/ABI/testing/sysfs-bus-pci#L344-L355\n",
      "2024-07-01 17:19:38.122527: I external/local_xla/xla/stream_executor/cuda/cuda_executor.cc:998] successful NUMA node read from SysFS had negative value (-1), but there must be at least one NUMA node, so returning NUMA node zero. See more at https://github.com/torvalds/linux/blob/v6.0/Documentation/ABI/testing/sysfs-bus-pci#L344-L355\n",
      "2024-07-01 17:19:38.125833: I external/local_xla/xla/stream_executor/cuda/cuda_executor.cc:998] successful NUMA node read from SysFS had negative value (-1), but there must be at least one NUMA node, so returning NUMA node zero. See more at https://github.com/torvalds/linux/blob/v6.0/Documentation/ABI/testing/sysfs-bus-pci#L344-L355\n",
      "2024-07-01 17:19:38.128901: I external/local_xla/xla/stream_executor/cuda/cuda_executor.cc:998] successful NUMA node read from SysFS had negative value (-1), but there must be at least one NUMA node, so returning NUMA node zero. See more at https://github.com/torvalds/linux/blob/v6.0/Documentation/ABI/testing/sysfs-bus-pci#L344-L355\n",
      "2024-07-01 17:19:38.276766: I external/local_xla/xla/stream_executor/cuda/cuda_executor.cc:998] successful NUMA node read from SysFS had negative value (-1), but there must be at least one NUMA node, so returning NUMA node zero. See more at https://github.com/torvalds/linux/blob/v6.0/Documentation/ABI/testing/sysfs-bus-pci#L344-L355\n",
      "2024-07-01 17:19:38.278689: I external/local_xla/xla/stream_executor/cuda/cuda_executor.cc:998] successful NUMA node read from SysFS had negative value (-1), but there must be at least one NUMA node, so returning NUMA node zero. See more at https://github.com/torvalds/linux/blob/v6.0/Documentation/ABI/testing/sysfs-bus-pci#L344-L355\n",
      "2024-07-01 17:19:38.280481: I external/local_xla/xla/stream_executor/cuda/cuda_executor.cc:998] successful NUMA node read from SysFS had negative value (-1), but there must be at least one NUMA node, so returning NUMA node zero. See more at https://github.com/torvalds/linux/blob/v6.0/Documentation/ABI/testing/sysfs-bus-pci#L344-L355\n",
      "2024-07-01 17:19:38.282553: I tensorflow/core/common_runtime/gpu/gpu_device.cc:1928] Created device /job:localhost/replica:0/task:0/device:GPU:0 with 4126 MB memory:  -> device: 0, name: NVIDIA GeForce RTX 3060 Laptop GPU, pci bus id: 0000:01:00.0, compute capability: 8.6\n",
      "Some weights of the PyTorch model were not used when initializing the TF 2.0 model TFBertModel: ['cls.predictions.transform.dense.bias', 'cls.seq_relationship.weight', 'cls.predictions.transform.LayerNorm.bias', 'cls.seq_relationship.bias', 'cls.predictions.bias', 'cls.predictions.transform.LayerNorm.weight', 'cls.predictions.transform.dense.weight']\n",
      "- This IS expected if you are initializing TFBertModel from a PyTorch model trained on another task or with another architecture (e.g. initializing a TFBertForSequenceClassification model from a BertForPreTraining model).\n",
      "- This IS NOT expected if you are initializing TFBertModel from a PyTorch model that you expect to be exactly identical (e.g. initializing a TFBertForSequenceClassification model from a BertForSequenceClassification model).\n",
      "All the weights of TFBertModel were initialized from the PyTorch model.\n",
      "If your task is similar to the task the model of the checkpoint was trained on, you can already use TFBertModel for predictions without further training.\n"
     ]
    }
   ],
   "source": [
    "bert_model = TFBertModel.from_pretrained(\"bert-base-uncased\")"
   ]
  },
  {
   "cell_type": "code",
   "execution_count": 4,
   "metadata": {},
   "outputs": [],
   "source": [
    "max_length = 140\n",
    "output_shape = 3"
   ]
  },
  {
   "cell_type": "code",
   "execution_count": 5,
   "metadata": {},
   "outputs": [],
   "source": [
    "import tensorflow as tf\n",
    "#import \n",
    "bert_model.bert.trainable = False\n",
    "\n",
    "input_ids = tensorflow.keras.layers.Input(shape=(max_length,), dtype=tensorflow.int32, name='input_ids')\n",
    "attention_mask = tensorflow.keras.layers.Input(shape=(max_length,), dtype=tensorflow.int32, name='attention_mask')\n",
    "\n",
    "outputs = bert_model(input_ids, attention_mask=attention_mask)\n",
    "\n",
    "pooled_output = outputs.pooler_output\n",
    "\n",
    "x = tensorflow.keras.layers.Dropout(0.2)(pooled_output)\n",
    "output = tensorflow.keras.layers.Dense(output_shape, activation='softmax')(x)\n",
    "\n",
    "model = tensorflow.keras.Model(inputs=[input_ids, attention_mask], outputs=output)\n",
    "\n",
    "model.compile(optimizer='adam',\n",
    "              loss='categorical_crossentropy',\n",
    "              metrics=['accuracy',tf.keras.metrics.F1Score(average='macro')])"
   ]
  },
  {
   "cell_type": "code",
   "execution_count": 6,
   "metadata": {},
   "outputs": [
    {
     "name": "stdout",
     "output_type": "stream",
     "text": [
      "Model: \"model\"\n",
      "__________________________________________________________________________________________________\n",
      " Layer (type)                Output Shape                 Param #   Connected to                  \n",
      "==================================================================================================\n",
      " input_ids (InputLayer)      [(None, 140)]                0         []                            \n",
      "                                                                                                  \n",
      " attention_mask (InputLayer  [(None, 140)]                0         []                            \n",
      " )                                                                                                \n",
      "                                                                                                  \n",
      " tf_bert_model (TFBertModel  TFBaseModelOutputWithPooli   1094822   ['input_ids[0][0]',           \n",
      " )                           ngAndCrossAttentions(last_   40         'attention_mask[0][0]']      \n",
      "                             hidden_state=(None, 140, 7                                           \n",
      "                             68),                                                                 \n",
      "                              pooler_output=(None, 768)                                           \n",
      "                             , past_key_values=None, hi                                           \n",
      "                             dden_states=None, attentio                                           \n",
      "                             ns=None, cross_attentions=                                           \n",
      "                             None)                                                                \n",
      "                                                                                                  \n",
      " dropout_37 (Dropout)        (None, 768)                  0         ['tf_bert_model[0][1]']       \n",
      "                                                                                                  \n",
      " dense (Dense)               (None, 3)                    2307      ['dropout_37[0][0]']          \n",
      "                                                                                                  \n",
      "==================================================================================================\n",
      "Total params: 109484547 (417.65 MB)\n",
      "Trainable params: 2307 (9.01 KB)\n",
      "Non-trainable params: 109482240 (417.64 MB)\n",
      "__________________________________________________________________________________________________\n"
     ]
    }
   ],
   "source": [
    "model.summary()"
   ]
  },
  {
   "cell_type": "code",
   "execution_count": 7,
   "metadata": {
    "id": "cjQ7q6N7CL_J"
   },
   "outputs": [],
   "source": [
    "def plot_train_metrics(history):\n",
    "    epoch_count = range(1, len(history.history['accuracy']) + 1)\n",
    "    sns.lineplot(x=epoch_count,  y=history.history['accuracy'], label='train')\n",
    "    sns.lineplot(x=epoch_count,  y=history.history['val_accuracy'], label='valid')\n",
    "    plt.show()"
   ]
  },
  {
   "cell_type": "markdown",
   "metadata": {
    "id": "hU2-H3K1YzJ8"
   },
   "source": [
    "### Datos\n",
    "Utilizaremos como dataset críticas de Google Apps en formato csv."
   ]
  },
  {
   "cell_type": "code",
   "execution_count": 8,
   "metadata": {
    "colab": {
     "base_uri": "https://localhost:8080/"
    },
    "id": "QBjUqdvpvLUG",
    "outputId": "c75a83f5-669b-4f3f-fb2c-5eb507d36e40"
   },
   "outputs": [
    {
     "name": "stdout",
     "output_type": "stream",
     "text": [
      "  % Total    % Received % Xferd  Average Speed   Time    Time     Time  Current\n",
      "                                 Dload  Upload   Total   Spent    Left  Speed\n",
      "  0     0    0     0    0     0      0      0 --:--:-- --:--:-- --:--:--     0\n",
      "  0     0    0     0    0     0      0      0 --:--:-- --:--:-- --:--:--     0\n",
      "100  131k  100  131k    0     0  85442      0  0:00:01  0:00:01 --:--:--  127k\n",
      "  % Total    % Received % Xferd  Average Speed   Time    Time     Time  Current\n",
      "                                 Dload  Upload   Total   Spent    Left  Speed\n",
      "  0     0    0     0    0     0      0      0 --:--:-- --:--:-- --:--:--     0\n",
      "  0     0    0     0    0     0      0      0 --:--:-- --:--:-- --:--:--     0\n",
      "100 7002k  100 7002k    0     0   404k      0  0:00:17  0:00:17 --:--:-- 1906k\n"
     ]
    }
   ],
   "source": [
    "# Descargar la carpeta de dataset\n",
    "!curl -L -o 'apps.csv' 'https://drive.google.com/u/0/uc?id=1S6qMioqPJjyBLpLVz4gmRTnJHnjitnuV&export=download&confirm=t'\n",
    "!curl -L -o 'reviews.csv' 'https://drive.google.com/u/0/uc?id=1zdmewp7ayS4js4VtrJEHzAheSW-5NBZv&export=download&confirm=t'"
   ]
  },
  {
   "cell_type": "code",
   "execution_count": 9,
   "metadata": {
    "colab": {
     "base_uri": "https://localhost:8080/",
     "height": 687
    },
    "id": "KPlBX0wV8gv9",
    "outputId": "c144beec-9c58-4b6d-9b85-bc46de6d383e"
   },
   "outputs": [
    {
     "data": {
      "text/html": [
       "<div>\n",
       "<style scoped>\n",
       "    .dataframe tbody tr th:only-of-type {\n",
       "        vertical-align: middle;\n",
       "    }\n",
       "\n",
       "    .dataframe tbody tr th {\n",
       "        vertical-align: top;\n",
       "    }\n",
       "\n",
       "    .dataframe thead th {\n",
       "        text-align: right;\n",
       "    }\n",
       "</style>\n",
       "<table border=\"1\" class=\"dataframe\">\n",
       "  <thead>\n",
       "    <tr style=\"text-align: right;\">\n",
       "      <th></th>\n",
       "      <th>userName</th>\n",
       "      <th>userImage</th>\n",
       "      <th>content</th>\n",
       "      <th>score</th>\n",
       "      <th>thumbsUpCount</th>\n",
       "      <th>reviewCreatedVersion</th>\n",
       "      <th>at</th>\n",
       "      <th>replyContent</th>\n",
       "      <th>repliedAt</th>\n",
       "      <th>sortOrder</th>\n",
       "      <th>appId</th>\n",
       "    </tr>\n",
       "  </thead>\n",
       "  <tbody>\n",
       "    <tr>\n",
       "      <th>0</th>\n",
       "      <td>Andrew Thomas</td>\n",
       "      <td>https://lh3.googleusercontent.com/a-/AOh14GiHd...</td>\n",
       "      <td>Update: After getting a response from the deve...</td>\n",
       "      <td>1</td>\n",
       "      <td>21</td>\n",
       "      <td>4.17.0.3</td>\n",
       "      <td>2020-04-05 22:25:57</td>\n",
       "      <td>According to our TOS, and the term you have ag...</td>\n",
       "      <td>2020-04-05 15:10:24</td>\n",
       "      <td>most_relevant</td>\n",
       "      <td>com.anydo</td>\n",
       "    </tr>\n",
       "    <tr>\n",
       "      <th>1</th>\n",
       "      <td>Craig Haines</td>\n",
       "      <td>https://lh3.googleusercontent.com/-hoe0kwSJgPQ...</td>\n",
       "      <td>Used it for a fair amount of time without any ...</td>\n",
       "      <td>1</td>\n",
       "      <td>11</td>\n",
       "      <td>4.17.0.3</td>\n",
       "      <td>2020-04-04 13:40:01</td>\n",
       "      <td>It sounds like you logged in with a different ...</td>\n",
       "      <td>2020-04-05 15:11:35</td>\n",
       "      <td>most_relevant</td>\n",
       "      <td>com.anydo</td>\n",
       "    </tr>\n",
       "    <tr>\n",
       "      <th>2</th>\n",
       "      <td>steven adkins</td>\n",
       "      <td>https://lh3.googleusercontent.com/a-/AOh14GiXw...</td>\n",
       "      <td>Your app sucks now!!!!! Used to be good but no...</td>\n",
       "      <td>1</td>\n",
       "      <td>17</td>\n",
       "      <td>4.17.0.3</td>\n",
       "      <td>2020-04-01 16:18:13</td>\n",
       "      <td>This sounds odd! We are not aware of any issue...</td>\n",
       "      <td>2020-04-02 16:05:56</td>\n",
       "      <td>most_relevant</td>\n",
       "      <td>com.anydo</td>\n",
       "    </tr>\n",
       "    <tr>\n",
       "      <th>3</th>\n",
       "      <td>Lars Panzerbjørn</td>\n",
       "      <td>https://lh3.googleusercontent.com/a-/AOh14Gg-h...</td>\n",
       "      <td>It seems OK, but very basic. Recurring tasks n...</td>\n",
       "      <td>1</td>\n",
       "      <td>192</td>\n",
       "      <td>4.17.0.2</td>\n",
       "      <td>2020-03-12 08:17:34</td>\n",
       "      <td>We do offer this option as part of the Advance...</td>\n",
       "      <td>2020-03-15 06:20:13</td>\n",
       "      <td>most_relevant</td>\n",
       "      <td>com.anydo</td>\n",
       "    </tr>\n",
       "    <tr>\n",
       "      <th>4</th>\n",
       "      <td>Scott Prewitt</td>\n",
       "      <td>https://lh3.googleusercontent.com/-K-X1-YsVd6U...</td>\n",
       "      <td>Absolutely worthless. This app runs a prohibit...</td>\n",
       "      <td>1</td>\n",
       "      <td>42</td>\n",
       "      <td>4.17.0.2</td>\n",
       "      <td>2020-03-14 17:41:01</td>\n",
       "      <td>We're sorry you feel this way! 90% of the app ...</td>\n",
       "      <td>2020-03-15 23:45:51</td>\n",
       "      <td>most_relevant</td>\n",
       "      <td>com.anydo</td>\n",
       "    </tr>\n",
       "  </tbody>\n",
       "</table>\n",
       "</div>"
      ],
      "text/plain": [
       "           userName                                          userImage  \\\n",
       "0     Andrew Thomas  https://lh3.googleusercontent.com/a-/AOh14GiHd...   \n",
       "1      Craig Haines  https://lh3.googleusercontent.com/-hoe0kwSJgPQ...   \n",
       "2     steven adkins  https://lh3.googleusercontent.com/a-/AOh14GiXw...   \n",
       "3  Lars Panzerbjørn  https://lh3.googleusercontent.com/a-/AOh14Gg-h...   \n",
       "4     Scott Prewitt  https://lh3.googleusercontent.com/-K-X1-YsVd6U...   \n",
       "\n",
       "                                             content  score  thumbsUpCount  \\\n",
       "0  Update: After getting a response from the deve...      1             21   \n",
       "1  Used it for a fair amount of time without any ...      1             11   \n",
       "2  Your app sucks now!!!!! Used to be good but no...      1             17   \n",
       "3  It seems OK, but very basic. Recurring tasks n...      1            192   \n",
       "4  Absolutely worthless. This app runs a prohibit...      1             42   \n",
       "\n",
       "  reviewCreatedVersion                   at  \\\n",
       "0             4.17.0.3  2020-04-05 22:25:57   \n",
       "1             4.17.0.3  2020-04-04 13:40:01   \n",
       "2             4.17.0.3  2020-04-01 16:18:13   \n",
       "3             4.17.0.2  2020-03-12 08:17:34   \n",
       "4             4.17.0.2  2020-03-14 17:41:01   \n",
       "\n",
       "                                        replyContent            repliedAt  \\\n",
       "0  According to our TOS, and the term you have ag...  2020-04-05 15:10:24   \n",
       "1  It sounds like you logged in with a different ...  2020-04-05 15:11:35   \n",
       "2  This sounds odd! We are not aware of any issue...  2020-04-02 16:05:56   \n",
       "3  We do offer this option as part of the Advance...  2020-03-15 06:20:13   \n",
       "4  We're sorry you feel this way! 90% of the app ...  2020-03-15 23:45:51   \n",
       "\n",
       "       sortOrder      appId  \n",
       "0  most_relevant  com.anydo  \n",
       "1  most_relevant  com.anydo  \n",
       "2  most_relevant  com.anydo  \n",
       "3  most_relevant  com.anydo  \n",
       "4  most_relevant  com.anydo  "
      ]
     },
     "execution_count": 9,
     "metadata": {},
     "output_type": "execute_result"
    }
   ],
   "source": [
    "import pandas as pd\n",
    "# Armar el dataset\n",
    "df = pd.read_csv('reviews.csv')\n",
    "df.head()"
   ]
  },
  {
   "cell_type": "code",
   "execution_count": 10,
   "metadata": {
    "colab": {
     "base_uri": "https://localhost:8080/"
    },
    "id": "loFa9OgIROfi",
    "outputId": "2f1e4089-4956-40ad-a9b7-a126df74d0f0"
   },
   "outputs": [
    {
     "name": "stdout",
     "output_type": "stream",
     "text": [
      "Cantidad de críticas: 15746\n"
     ]
    }
   ],
   "source": [
    "print(\"Cantidad de críticas:\", len(df))"
   ]
  },
  {
   "cell_type": "code",
   "execution_count": 11,
   "metadata": {
    "colab": {
     "base_uri": "https://localhost:8080/",
     "height": 354
    },
    "id": "fpwgmwN4W549",
    "outputId": "00d06044-a31b-461b-c00a-b0efec18071b"
   },
   "outputs": [
    {
     "data": {
      "text/plain": [
       "<Axes: xlabel='score', ylabel='count'>"
      ]
     },
     "execution_count": 11,
     "metadata": {},
     "output_type": "execute_result"
    },
    {
     "data": {
      "image/png": "[encoded data removed]",
      "text/plain": [
       "<Figure size 640x480 with 1 Axes>"
      ]
     },
     "metadata": {},
     "output_type": "display_data"
    }
   ],
   "source": [
    "# ¿Cómo están balanceados los datos?\n",
    "import seaborn as sns\n",
    "import matplotlib.pyplot as plt  # Importa matplotlib.pyplot para mostrar gráficos\n",
    "sns.countplot(x=df.score)"
   ]
  },
  {
   "cell_type": "markdown",
   "metadata": {
    "id": "BCO209z59D7C"
   },
   "source": [
    "## Limpieza de datos"
   ]
  },
  {
   "cell_type": "code",
   "execution_count": 12,
   "metadata": {
    "id": "dE572tLfXKCX"
   },
   "outputs": [
    {
     "name": "stdout",
     "output_type": "stream",
     "text": [
      "sentiment\n",
      "0    5028\n",
      "1    5042\n",
      "2    5676\n",
      "Name: count, dtype: int64\n"
     ]
    }
   ],
   "source": [
    "# Balancear los datos\n",
    "df['sentiment'] = df.score.apply(lambda x: 0 if x <=2 else 1 if x == 3 else 2)\n",
    "class_names = ['negative', 'neutral', 'positive']\n",
    "# Contar las ocurrencias de cada clase en la columna `sentiment`\n",
    "counts = df['sentiment'].value_counts().sort_index()\n",
    "\n",
    "print(counts)\n"
   ]
  },
  {
   "cell_type": "code",
   "execution_count": 13,
   "metadata": {},
   "outputs": [
    {
     "data": {
      "image/png": "[encoded data removed]",
      "text/plain": [
       "<Figure size 800x600 with 1 Axes>"
      ]
     },
     "metadata": {},
     "output_type": "display_data"
    }
   ],
   "source": [
    "# Crear el gráfico de barras usando seaborn\n",
    "plt.figure(figsize=(8, 6))  # Ajusta el tamaño del gráfico si es necesario\n",
    "sns.barplot(x=class_names, y=counts)\n",
    "# Personalizar el gráfico\n",
    "plt.xlabel('Sentiment')\n",
    "plt.ylabel('Counts')\n",
    "plt.title('Counts of Sentiments')\n",
    "\n",
    "plt.show()"
   ]
  },
  {
   "cell_type": "code",
   "execution_count": 14,
   "metadata": {
    "colab": {
     "base_uri": "https://localhost:8080/"
    },
    "id": "KaRGx3pW9fyx",
    "outputId": "961089db-9571-438c-f45c-e9bba1bde6e7"
   },
   "outputs": [
    {
     "name": "stdout",
     "output_type": "stream",
     "text": [
      "sentences shape: (15746,)\n"
     ]
    },
    {
     "data": {
      "text/plain": [
       "array([\"Update: After getting a response from the developer I would change my rating to 0 stars if possible. These guys hide behind confusing and opaque terms and refuse to budge at all. I'm so annoyed that my money has been lost to them! Really terrible customer experience. Original: Be very careful when signing up for a free trial of this app. If you happen to go over they automatically charge you for a full years subscription and refuse to refund. Terrible customer experience and the app is just OK.\",\n",
       "       'Used it for a fair amount of time without any problems. Suddenly then asked me to create an account or log using Google or FB. I used my Google one only to discover everything was gone!',\n",
       "       \"Your app sucks now!!!!! Used to be good but now doesn't update until I physically open it up and then close it then scroll and then it finally shows what I want to put on the list!!!!!! And I FRIGGEN paid for this garbage!!!!!!!\"],\n",
       "      dtype=object)"
      ]
     },
     "execution_count": 14,
     "metadata": {},
     "output_type": "execute_result"
    }
   ],
   "source": [
    "sentences = df['content'].values\n",
    "print(\"sentences shape:\", sentences.shape)\n",
    "sentences[:3]"
   ]
  },
  {
   "cell_type": "code",
   "execution_count": 15,
   "metadata": {
    "colab": {
     "base_uri": "https://localhost:8080/",
     "height": 358
    },
    "id": "PXdyAh6NYpSx",
    "outputId": "a1d56be2-18f5-4754-b78b-3ee9f873b36e"
   },
   "outputs": [
    {
     "name": "stdout",
     "output_type": "stream",
     "text": [
      "Median: 139.0\n"
     ]
    },
    {
     "data": {
      "text/plain": [
       "<seaborn.axisgrid.FacetGrid at 0x7df3180fdd50>"
      ]
     },
     "execution_count": 15,
     "metadata": {},
     "output_type": "execute_result"
    },
    {
     "data": {
      "image/png": "[encoded data removed]",
      "text/plain": [
       "<Figure size 500x500 with 1 Axes>"
      ]
     },
     "metadata": {},
     "output_type": "display_data"
    }
   ],
   "source": [
    "import numpy as np\n",
    "sentence_lens = []\n",
    "\n",
    "for sentence in sentences:\n",
    "  sentence_lens.append(len(sentence))\n",
    "\n",
    "print(\"Median:\", np.median(sentence_lens))\n",
    "sns.displot(sentence_lens)"
   ]
  },
  {
   "cell_type": "code",
   "execution_count": 16,
   "metadata": {},
   "outputs": [],
   "source": [
    "from tensorflow.keras.utils import to_categorical"
   ]
  },
  {
   "cell_type": "code",
   "execution_count": 17,
   "metadata": {
    "colab": {
     "base_uri": "https://localhost:8080/"
    },
    "id": "c26zJ7qUAV4F",
    "outputId": "f1f9eadd-430e-407a-99c2-ae079f21708a"
   },
   "outputs": [
    {
     "name": "stdout",
     "output_type": "stream",
     "text": [
      "y shape: (15746,)\n",
      "[[1. 0. 0.]\n",
      " [1. 0. 0.]\n",
      " [1. 0. 0.]]\n",
      "output shape: 3\n"
     ]
    }
   ],
   "source": [
    "y = df['sentiment'].values\n",
    "print(\"y shape:\", y.shape)\n",
    "y = to_categorical(y)\n",
    "print(y[:3])\n",
    "output_shape = y.shape[1]\n",
    "print(\"output shape:\", output_shape)"
   ]
  },
  {
   "cell_type": "markdown",
   "metadata": {
    "id": "qvoZ8YlK0vOQ"
   },
   "source": [
    "## 1 - Data generator\n"
   ]
  },
  {
   "cell_type": "code",
   "execution_count": 18,
   "metadata": {},
   "outputs": [],
   "source": [
    "from transformers import InputExample, InputFeatures  # Métodos para transformar el dataset\n",
    "from transformers import BertTokenizer\n",
    "import numpy as np"
   ]
  },
  {
   "cell_type": "code",
   "execution_count": 19,
   "metadata": {},
   "outputs": [],
   "source": [
    "# Muy importante que para tensorflow los modelos Bert deben empezar con \"TF\"\n",
    "# de lo contrario estaremos utilizando un modelo para pytorch\n",
    "\n",
    "# Descargamos el modelo base de BERT más liviano y su correspondiente tokenizer\n",
    "bert_tokenizer = BertTokenizer.from_pretrained(\"bert-base-uncased\")"
   ]
  },
  {
   "cell_type": "code",
   "execution_count": 20,
   "metadata": {
    "id": "rYnD8msegnSI"
   },
   "outputs": [],
   "source": [
    "# Del dataset original accederemos a los datos por índices (idx)\n",
    "# mezclados aleatoriamente\n",
    "from sklearn.model_selection import train_test_split\n",
    "max_length = 140 # BERT soporta máximo 512\n",
    "indices = np.arange(len(sentences))\n",
    "idx_train_val, idx_test = train_test_split(indices, test_size=0.2, random_state=42)\n",
    "idx_train, idx_val = train_test_split(idx_train_val, test_size=0.2, random_state=42)"
   ]
  },
  {
   "cell_type": "code",
   "execution_count": 21,
   "metadata": {
    "colab": {
     "base_uri": "https://localhost:8080/"
    },
    "id": "5Hm0jGD-j32e",
    "outputId": "82f903b1-90cd-447b-ffe0-9fa65248bbe6"
   },
   "outputs": [
    {
     "name": "stdout",
     "output_type": "stream",
     "text": [
      "10076 2520 3150\n"
     ]
    }
   ],
   "source": [
    "print(idx_train.shape[0], idx_val.shape[0], idx_test.shape[0])"
   ]
  },
  {
   "cell_type": "code",
   "execution_count": 22,
   "metadata": {
    "id": "MMfyhfKqfs6G"
   },
   "outputs": [],
   "source": [
    "\n",
    "def convert_data_to_examples(text, labels, idx_train, idx_val):\n",
    "    # Armamos un \"InputExample\" para los datos de entrenamiento y validación\n",
    "    train_InputExamples = [InputExample(guid=None, # Globally unique ID for bookkeeping, unused in this case\n",
    "                                                          text_a = text[i], \n",
    "                                                          text_b = None,\n",
    "                                                          label = labels[i]) for i in idx_train]\n",
    "\n",
    "    validation_InputExamples = [InputExample(guid=None, # Globally unique ID for bookkeeping, unused in this case\n",
    "                                                          text_a = text[i],\n",
    "                                                          text_b = None,\n",
    "                                                          label = labels[i]) for i in idx_val]\n",
    "  \n",
    "    return train_InputExamples, validation_InputExamples\n",
    "\n",
    " \n",
    "def convert_examples_to_tf_dataset(examples, bert_tokenizer, max_length=512):\n",
    "    # Transformamos los datos de entrada en tensorres de:\n",
    "    # input_ids --> token id\n",
    "    # attention_mask\n",
    "    # token type\n",
    "    features = []\n",
    "\n",
    "    for e in examples:\n",
    "        # Documentation is really strong for this method, so please take a look at it\n",
    "        input_dict = bert_tokenizer.encode_plus(\n",
    "            e.text_a,\n",
    "            add_special_tokens=True,\n",
    "            max_length=max_length, # truncates if len(s) > max_length\n",
    "            return_token_type_ids=False,\n",
    "            return_attention_mask=True,\n",
    "            padding='max_length', # pads to the right by default # CHECK THIS for pad_to_max_length\n",
    "            truncation=True\n",
    "        )\n",
    "\n",
    "        input_ids, attention_mask = (input_dict[\"input_ids\"], input_dict['attention_mask'])\n",
    "\n",
    "        features.append(\n",
    "            InputFeatures(\n",
    "                input_ids=input_ids, attention_mask=attention_mask, label=e.label\n",
    "            )\n",
    "        )\n",
    "\n",
    "    def gen():\n",
    "    # Función generadora para no levantar todos los datos en un instante\n",
    "        for f in features:\n",
    "            yield (\n",
    "                {\n",
    "                    \"input_ids\": f.input_ids,\n",
    "                    \"attention_mask\": f.attention_mask,\n",
    "                },\n",
    "                f.label,\n",
    "            )\n",
    "\n",
    "    return tensorflow.data.Dataset.from_generator(\n",
    "        # Tensorflow dataset generator (basado en el generador y en el esquema de datos definido)\n",
    "        gen,\n",
    "        ({\"input_ids\": tensorflow.int32, \"attention_mask\": tensorflow.int32}, tensorflow.float32),\n",
    "        (\n",
    "            {\n",
    "                \"input_ids\": tensorflow.TensorShape([None]),\n",
    "                \"attention_mask\": tensorflow.TensorShape([None]),\n",
    "            },\n",
    "            tensorflow.TensorShape([output_shape]),\n",
    "        ),\n",
    "    )"
   ]
  },
  {
   "cell_type": "code",
   "execution_count": 23,
   "metadata": {
    "colab": {
     "base_uri": "https://localhost:8080/"
    },
    "id": "VXrlV-xPiebq",
    "outputId": "224c55dc-5ddb-4c01-c804-0b4ebe4eb8c4"
   },
   "outputs": [],
   "source": [
    "train_InputExamples, validation_InputExamples = convert_data_to_examples(sentences, y, idx_train, idx_val)\n",
    "\n",
    "train_data = convert_examples_to_tf_dataset(list(train_InputExamples), bert_tokenizer, max_length=max_length)\n",
    "# shuffle 100 --> mezcla los datos y los lee a de 100 unidades\n",
    "# batch 32 --> ejecuta una epoca de entrenamiento de a 32 unidades\n",
    "train_data = train_data.shuffle(100).batch(32)\n",
    "\n",
    "validation_data = convert_examples_to_tf_dataset(list(validation_InputExamples), bert_tokenizer, max_length=max_length)\n",
    "validation_data = validation_data.batch(32)"
   ]
  },
  {
   "cell_type": "code",
   "execution_count": 24,
   "metadata": {
    "colab": {
     "base_uri": "https://localhost:8080/"
    },
    "id": "aQV1WrdKFJnF",
    "outputId": "eccbd408-606b-4b67-aeba-36d5c42825f4"
   },
   "outputs": [],
   "source": [
    "pred_sentences = [sentences[i] for i in idx_test]\n",
    "tf_batch = bert_tokenizer(pred_sentences, max_length=max_length, padding=True, truncation=True, return_tensors='tf')"
   ]
  },
  {
   "cell_type": "code",
   "execution_count": 25,
   "metadata": {
    "id": "ZUBLlpH0GAVE"
   },
   "outputs": [],
   "source": [
    "X_test = [tf_batch['input_ids'],  \n",
    "          tf_batch['attention_mask']]"
   ]
  },
  {
   "cell_type": "code",
   "execution_count": 26,
   "metadata": {
    "id": "3E-z51xls0lH"
   },
   "outputs": [
    {
     "name": "stdout",
     "output_type": "stream",
     "text": [
      "[[1. 0. 0.]\n",
      " [1. 0. 0.]\n",
      " [1. 0. 0.]\n",
      " ...\n",
      " [0. 1. 0.]\n",
      " [0. 0. 1.]\n",
      " [0. 0. 1.]]\n"
     ]
    }
   ],
   "source": [
    "y_test = y[idx_test]\n",
    "print(y_test)"
   ]
  },
  {
   "cell_type": "markdown",
   "metadata": {
    "id": "kNinUuS6nqRJ"
   },
   "source": [
    "## 2 - BERT multiclass classification"
   ]
  },
  {
   "cell_type": "code",
   "execution_count": 38,
   "metadata": {
    "colab": {
     "base_uri": "https://localhost:8080/"
    },
    "id": "aQKTqv20j5kA",
    "outputId": "c513e516-0a71-4920-f17b-8fcc9a449627"
   },
   "outputs": [
    {
     "name": "stdout",
     "output_type": "stream",
     "text": [
      "Epoch 1/20\n",
      "    315/Unknown - 61s 193ms/step - loss: 0.9523 - accuracy: 0.5306 - f1_score: 0.5193"
     ]
    },
    {
     "name": "stderr",
     "output_type": "stream",
     "text": [
      "2024-07-01 20:11:42.707799: W tensorflow/core/framework/local_rendezvous.cc:404] Local rendezvous is aborting with status: OUT_OF_RANGE: End of sequence\n",
      "\t [[{{node IteratorGetNext}}]]\n",
      "2024-07-01 20:11:42.707843: I tensorflow/core/framework/local_rendezvous.cc:426] Local rendezvous send item cancelled. Key hash: 11508614096383773546\n",
      "2024-07-01 20:11:42.707846: I tensorflow/core/framework/local_rendezvous.cc:426] Local rendezvous send item cancelled. Key hash: 13038982676870578679\n",
      "2024-07-01 20:11:42.707849: I tensorflow/core/framework/local_rendezvous.cc:426] Local rendezvous send item cancelled. Key hash: 11564808238939562447\n",
      "2024-07-01 20:11:42.707852: I tensorflow/core/framework/local_rendezvous.cc:426] Local rendezvous send item cancelled. Key hash: 14069981986756539797\n",
      "2024-07-01 20:11:42.707954: W tensorflow/core/framework/local_rendezvous.cc:404] Local rendezvous is aborting with status: OUT_OF_RANGE: End of sequence\n",
      "\t [[{{node IteratorGetNext}}]]\n",
      "\t [[model/tf_bert_model/bert/Shape/_10]]\n"
     ]
    },
    {
     "name": "stdout",
     "output_type": "stream",
     "text": [
      "315/315 [==============================] - 75s 238ms/step - loss: 0.9523 - accuracy: 0.5306 - f1_score: 0.5193 - val_loss: 0.9091 - val_accuracy: 0.5520 - val_f1_score: 0.4975\n",
      "Epoch 2/20\n"
     ]
    },
    {
     "name": "stderr",
     "output_type": "stream",
     "text": [
      "2024-07-01 20:11:56.803332: W tensorflow/core/framework/local_rendezvous.cc:404] Local rendezvous is aborting with status: OUT_OF_RANGE: End of sequence\n",
      "\t [[{{node IteratorGetNext}}]]\n",
      "2024-07-01 20:11:56.803371: I tensorflow/core/framework/local_rendezvous.cc:426] Local rendezvous send item cancelled. Key hash: 11508614096383773546\n",
      "2024-07-01 20:11:56.803375: I tensorflow/core/framework/local_rendezvous.cc:426] Local rendezvous send item cancelled. Key hash: 13038982676870578679\n",
      "2024-07-01 20:11:56.803395: I tensorflow/core/framework/local_rendezvous.cc:426] Local rendezvous send item cancelled. Key hash: 11564808238939562447\n",
      "2024-07-01 20:11:56.803399: I tensorflow/core/framework/local_rendezvous.cc:426] Local rendezvous send item cancelled. Key hash: 14069981986756539797\n",
      "2024-07-01 20:11:56.803422: W tensorflow/core/framework/local_rendezvous.cc:404] Local rendezvous is aborting with status: OUT_OF_RANGE: End of sequence\n",
      "\t [[{{node IteratorGetNext}}]]\n",
      "\t [[IteratorGetNext/_4]]\n"
     ]
    },
    {
     "name": "stdout",
     "output_type": "stream",
     "text": [
      "315/315 [==============================] - 76s 241ms/step - loss: 0.9436 - accuracy: 0.5419 - f1_score: 0.5310 - val_loss: 0.8899 - val_accuracy: 0.5639 - val_f1_score: 0.5020\n",
      "Epoch 3/20\n",
      "315/315 [==============================] - 76s 241ms/step - loss: 0.9376 - accuracy: 0.5434 - f1_score: 0.5329 - val_loss: 0.8806 - val_accuracy: 0.5702 - val_f1_score: 0.5230\n",
      "Epoch 4/20\n",
      "315/315 [==============================] - 76s 241ms/step - loss: 0.9299 - accuracy: 0.5487 - f1_score: 0.5393 - val_loss: 0.8756 - val_accuracy: 0.5690 - val_f1_score: 0.5377\n",
      "Epoch 5/20\n",
      "315/315 [==============================] - 76s 241ms/step - loss: 0.9331 - accuracy: 0.5404 - f1_score: 0.5295 - val_loss: 0.8888 - val_accuracy: 0.5702 - val_f1_score: 0.5016\n",
      "Epoch 6/20\n",
      "315/315 [==============================] - 76s 242ms/step - loss: 0.9335 - accuracy: 0.5461 - f1_score: 0.5351 - val_loss: 0.8690 - val_accuracy: 0.5742 - val_f1_score: 0.5283\n",
      "Epoch 7/20\n",
      "315/315 [==============================] - 76s 242ms/step - loss: 0.9244 - accuracy: 0.5479 - f1_score: 0.5367 - val_loss: 0.8708 - val_accuracy: 0.5694 - val_f1_score: 0.5156\n",
      "Epoch 8/20\n",
      "315/315 [==============================] - 76s 242ms/step - loss: 0.9260 - accuracy: 0.5476 - f1_score: 0.5373 - val_loss: 0.8837 - val_accuracy: 0.5746 - val_f1_score: 0.5181\n",
      "Epoch 9/20\n",
      "315/315 [==============================] - 76s 242ms/step - loss: 0.9249 - accuracy: 0.5519 - f1_score: 0.5407 - val_loss: 0.8605 - val_accuracy: 0.5853 - val_f1_score: 0.5672\n",
      "Epoch 10/20\n",
      "315/315 [==============================] - 76s 242ms/step - loss: 0.9242 - accuracy: 0.5521 - f1_score: 0.5427 - val_loss: 0.8670 - val_accuracy: 0.5722 - val_f1_score: 0.5413\n",
      "Epoch 11/20\n",
      "315/315 [==============================] - 76s 242ms/step - loss: 0.9233 - accuracy: 0.5535 - f1_score: 0.5430 - val_loss: 0.8560 - val_accuracy: 0.5829 - val_f1_score: 0.5557\n",
      "Epoch 12/20\n",
      "315/315 [==============================] - 76s 242ms/step - loss: 0.9247 - accuracy: 0.5496 - f1_score: 0.5388 - val_loss: 0.8541 - val_accuracy: 0.5873 - val_f1_score: 0.5660\n",
      "Epoch 13/20\n",
      "315/315 [==============================] - 76s 242ms/step - loss: 0.9254 - accuracy: 0.5498 - f1_score: 0.5400 - val_loss: 0.8664 - val_accuracy: 0.5849 - val_f1_score: 0.5743\n",
      "Epoch 14/20\n",
      "315/315 [==============================] - 76s 242ms/step - loss: 0.9183 - accuracy: 0.5553 - f1_score: 0.5459 - val_loss: 0.8633 - val_accuracy: 0.5770 - val_f1_score: 0.5315\n",
      "Epoch 15/20\n",
      "315/315 [==============================] - 76s 242ms/step - loss: 0.9152 - accuracy: 0.5565 - f1_score: 0.5461 - val_loss: 0.8770 - val_accuracy: 0.5690 - val_f1_score: 0.4996\n",
      "Epoch 16/20\n",
      "315/315 [==============================] - 76s 242ms/step - loss: 0.9171 - accuracy: 0.5582 - f1_score: 0.5475 - val_loss: 0.8645 - val_accuracy: 0.5746 - val_f1_score: 0.5197\n",
      "Epoch 17/20\n",
      "315/315 [==============================] - 77s 243ms/step - loss: 0.9246 - accuracy: 0.5517 - f1_score: 0.5421 - val_loss: 0.8673 - val_accuracy: 0.5738 - val_f1_score: 0.5036\n",
      "Epoch 18/20\n",
      "315/315 [==============================] - 76s 240ms/step - loss: 0.9229 - accuracy: 0.5505 - f1_score: 0.5405 - val_loss: 0.8512 - val_accuracy: 0.5873 - val_f1_score: 0.5528\n",
      "Epoch 19/20\n",
      "315/315 [==============================] - 76s 240ms/step - loss: 0.9233 - accuracy: 0.5513 - f1_score: 0.5417 - val_loss: 0.8615 - val_accuracy: 0.5754 - val_f1_score: 0.5211\n",
      "Epoch 20/20\n",
      "315/315 [==============================] - 76s 240ms/step - loss: 0.9219 - accuracy: 0.5554 - f1_score: 0.5462 - val_loss: 0.8668 - val_accuracy: 0.5802 - val_f1_score: 0.5187\n"
     ]
    }
   ],
   "source": [
    "history = model.fit(train_data, epochs=20, validation_data=validation_data)"
   ]
  },
  {
   "cell_type": "code",
   "execution_count": 39,
   "metadata": {
    "colab": {
     "base_uri": "https://localhost:8080/",
     "height": 265
    },
    "id": "qj2dAl-tnxY-",
    "outputId": "b7975840-720c-44e6-ba18-736088540703"
   },
   "outputs": [
    {
     "data": {
      "image/png": "[encoded data removed]",
      "text/plain": [
       "<Figure size 640x480 with 1 Axes>"
      ]
     },
     "metadata": {},
     "output_type": "display_data"
    }
   ],
   "source": [
    "plot_train_metrics(history)"
   ]
  },
  {
   "cell_type": "code",
   "execution_count": 40,
   "metadata": {
    "colab": {
     "base_uri": "https://localhost:8080/"
    },
    "id": "HILK90qzn-kL",
    "outputId": "34985136-0e6f-4693-dcc4-c52c5ea77f4a"
   },
   "outputs": [
    {
     "name": "stdout",
     "output_type": "stream",
     "text": [
      "99/99 [==============================] - 18s 176ms/step\n"
     ]
    },
    {
     "data": {
      "text/plain": [
       "array([[0.6366126 , 0.24924038, 0.11414703],\n",
       "       [0.50692827, 0.23134124, 0.26173055],\n",
       "       [0.22777426, 0.34314677, 0.42907897]], dtype=float32)"
      ]
     },
     "execution_count": 40,
     "metadata": {},
     "output_type": "execute_result"
    }
   ],
   "source": [
    "y_hat_prob = model.predict(X_test)\n",
    "y_hat_prob[:3]"
   ]
  },
  {
   "cell_type": "code",
   "execution_count": 41,
   "metadata": {
    "id": "kwSvM4-koOdz"
   },
   "outputs": [
    {
     "name": "stdout",
     "output_type": "stream",
     "text": [
      "[0 0 0 ... 1 2 2]\n"
     ]
    }
   ],
   "source": [
    "y_hat = np.argmax(y_hat_prob, axis=1)\n",
    "y_test_labels = np.argmax(y_test, axis=1)\n",
    "print(y_test_labels)"
   ]
  },
  {
   "cell_type": "code",
   "execution_count": 42,
   "metadata": {
    "colab": {
     "base_uri": "https://localhost:8080/"
    },
    "id": "tSNbyLNYwdqQ",
    "outputId": "a432dc0b-96ae-43af-da62-2a739a20761a"
   },
   "outputs": [
    {
     "name": "stdout",
     "output_type": "stream",
     "text": [
      "99/99 [==============================] - 18s 180ms/step - loss: 0.8687 - accuracy: 0.5971 - f1_score: 0.5391\n"
     ]
    },
    {
     "data": {
      "text/plain": [
       "0.5971428751945496"
      ]
     },
     "execution_count": 42,
     "metadata": {},
     "output_type": "execute_result"
    }
   ],
   "source": [
    "# Calcular la exactitud (accuracy)\n",
    "scores = model.evaluate(X_test, y_test)\n",
    "scores[1]"
   ]
  },
  {
   "cell_type": "code",
   "execution_count": 46,
   "metadata": {},
   "outputs": [
    {
     "name": "stdout",
     "output_type": "stream",
     "text": [
      "El f1_score en los datos de prueba es: 0.539088249206543\n"
     ]
    }
   ],
   "source": [
    "print(\"El f1_score en los datos de prueba es: \"+ str(scores[2]))"
   ]
  },
  {
   "cell_type": "code",
   "execution_count": 47,
   "metadata": {
    "colab": {
     "base_uri": "https://localhost:8080/",
     "height": 279
    },
    "id": "mGzdpPfcwlRL",
    "outputId": "4eaa89a1-c601-4a3b-cb0c-6e1cb940d8b5"
   },
   "outputs": [
    {
     "data": {
      "image/png": "[encoded data removed]",
      "text/plain": [
       "<Figure size 640x480 with 2 Axes>"
      ]
     },
     "metadata": {},
     "output_type": "display_data"
    }
   ],
   "source": [
    "from sklearn.metrics import confusion_matrix, ConfusionMatrixDisplay\n",
    "\n",
    "cm = confusion_matrix(y_test_labels, y_hat)\n",
    "n_classes = len(np.unique(y_test_labels))\n",
    "display_labels = np.unique(y_test_labels) \n",
    "\n",
    "cmd = ConfusionMatrixDisplay(cm, display_labels=display_labels)\n",
    "cmd.plot(cmap=plt.cm.Blues)\n",
    "plt.show()"
   ]
  },
  {
   "cell_type": "markdown",
   "metadata": {},
   "source": [
    "### Bert Multiclass classification con 5 clases"
   ]
  },
  {
   "cell_type": "code",
   "execution_count": 1,
   "metadata": {},
   "outputs": [
    {
     "name": "stderr",
     "output_type": "stream",
     "text": [
      "2024-07-02 14:25:54.340649: I tensorflow/core/util/port.cc:113] oneDNN custom operations are on. You may see slightly different numerical results due to floating-point round-off errors from different computation orders. To turn them off, set the environment variable `TF_ENABLE_ONEDNN_OPTS=0`.\n",
      "2024-07-02 14:25:54.432848: E external/local_xla/xla/stream_executor/cuda/cuda_fft.cc:479] Unable to register cuFFT factory: Attempting to register factory for plugin cuFFT when one has already been registered\n",
      "2024-07-02 14:25:54.503756: E external/local_xla/xla/stream_executor/cuda/cuda_dnn.cc:10575] Unable to register cuDNN factory: Attempting to register factory for plugin cuDNN when one has already been registered\n",
      "2024-07-02 14:25:54.504164: E external/local_xla/xla/stream_executor/cuda/cuda_blas.cc:1442] Unable to register cuBLAS factory: Attempting to register factory for plugin cuBLAS when one has already been registered\n",
      "2024-07-02 14:25:54.574462: I tensorflow/core/platform/cpu_feature_guard.cc:210] This TensorFlow binary is optimized to use available CPU instructions in performance-critical operations.\n",
      "To enable the following instructions: AVX2 AVX512F AVX512_VNNI FMA, in other operations, rebuild TensorFlow with the appropriate compiler flags.\n",
      "2024-07-02 14:25:55.369650: W tensorflow/compiler/tf2tensorrt/utils/py_utils.cc:38] TF-TRT Warning: Could not find TensorRT\n"
     ]
    }
   ],
   "source": [
    "import tensorflow\n",
    "from transformers import TFBertModel\n",
    "import tf_keras"
   ]
  },
  {
   "cell_type": "code",
   "execution_count": 2,
   "metadata": {},
   "outputs": [
    {
     "name": "stderr",
     "output_type": "stream",
     "text": [
      "2024-07-02 14:26:04.240439: I external/local_xla/xla/stream_executor/cuda/cuda_executor.cc:998] successful NUMA node read from SysFS had negative value (-1), but there must be at least one NUMA node, so returning NUMA node zero. See more at https://github.com/torvalds/linux/blob/v6.0/Documentation/ABI/testing/sysfs-bus-pci#L344-L355\n",
      "2024-07-02 14:26:04.246057: I external/local_xla/xla/stream_executor/cuda/cuda_executor.cc:998] successful NUMA node read from SysFS had negative value (-1), but there must be at least one NUMA node, so returning NUMA node zero. See more at https://github.com/torvalds/linux/blob/v6.0/Documentation/ABI/testing/sysfs-bus-pci#L344-L355\n",
      "2024-07-02 14:26:04.248303: I external/local_xla/xla/stream_executor/cuda/cuda_executor.cc:998] successful NUMA node read from SysFS had negative value (-1), but there must be at least one NUMA node, so returning NUMA node zero. See more at https://github.com/torvalds/linux/blob/v6.0/Documentation/ABI/testing/sysfs-bus-pci#L344-L355\n",
      "2024-07-02 14:26:04.250607: I external/local_xla/xla/stream_executor/cuda/cuda_executor.cc:998] successful NUMA node read from SysFS had negative value (-1), but there must be at least one NUMA node, so returning NUMA node zero. See more at https://github.com/torvalds/linux/blob/v6.0/Documentation/ABI/testing/sysfs-bus-pci#L344-L355\n",
      "2024-07-02 14:26:04.252409: I external/local_xla/xla/stream_executor/cuda/cuda_executor.cc:998] successful NUMA node read from SysFS had negative value (-1), but there must be at least one NUMA node, so returning NUMA node zero. See more at https://github.com/torvalds/linux/blob/v6.0/Documentation/ABI/testing/sysfs-bus-pci#L344-L355\n",
      "2024-07-02 14:26:04.254095: I external/local_xla/xla/stream_executor/cuda/cuda_executor.cc:998] successful NUMA node read from SysFS had negative value (-1), but there must be at least one NUMA node, so returning NUMA node zero. See more at https://github.com/torvalds/linux/blob/v6.0/Documentation/ABI/testing/sysfs-bus-pci#L344-L355\n",
      "2024-07-02 14:26:04.386332: I external/local_xla/xla/stream_executor/cuda/cuda_executor.cc:998] successful NUMA node read from SysFS had negative value (-1), but there must be at least one NUMA node, so returning NUMA node zero. See more at https://github.com/torvalds/linux/blob/v6.0/Documentation/ABI/testing/sysfs-bus-pci#L344-L355\n",
      "2024-07-02 14:26:04.388194: I external/local_xla/xla/stream_executor/cuda/cuda_executor.cc:998] successful NUMA node read from SysFS had negative value (-1), but there must be at least one NUMA node, so returning NUMA node zero. See more at https://github.com/torvalds/linux/blob/v6.0/Documentation/ABI/testing/sysfs-bus-pci#L344-L355\n",
      "2024-07-02 14:26:04.389866: I external/local_xla/xla/stream_executor/cuda/cuda_executor.cc:998] successful NUMA node read from SysFS had negative value (-1), but there must be at least one NUMA node, so returning NUMA node zero. See more at https://github.com/torvalds/linux/blob/v6.0/Documentation/ABI/testing/sysfs-bus-pci#L344-L355\n",
      "2024-07-02 14:26:04.391547: I tensorflow/core/common_runtime/gpu/gpu_device.cc:1928] Created device /job:localhost/replica:0/task:0/device:GPU:0 with 4126 MB memory:  -> device: 0, name: NVIDIA GeForce RTX 3060 Laptop GPU, pci bus id: 0000:01:00.0, compute capability: 8.6\n",
      "Some weights of the PyTorch model were not used when initializing the TF 2.0 model TFBertModel: ['cls.predictions.transform.LayerNorm.bias', 'cls.seq_relationship.bias', 'cls.predictions.transform.LayerNorm.weight', 'cls.predictions.transform.dense.bias', 'cls.predictions.bias', 'cls.seq_relationship.weight', 'cls.predictions.transform.dense.weight']\n",
      "- This IS expected if you are initializing TFBertModel from a PyTorch model trained on another task or with another architecture (e.g. initializing a TFBertForSequenceClassification model from a BertForPreTraining model).\n",
      "- This IS NOT expected if you are initializing TFBertModel from a PyTorch model that you expect to be exactly identical (e.g. initializing a TFBertForSequenceClassification model from a BertForSequenceClassification model).\n",
      "All the weights of TFBertModel were initialized from the PyTorch model.\n",
      "If your task is similar to the task the model of the checkpoint was trained on, you can already use TFBertModel for predictions without further training.\n"
     ]
    }
   ],
   "source": [
    "bert_model = TFBertModel.from_pretrained(\"bert-base-uncased\")"
   ]
  },
  {
   "cell_type": "code",
   "execution_count": 3,
   "metadata": {},
   "outputs": [],
   "source": [
    "max_length = 140\n",
    "output_shape = 5"
   ]
  },
  {
   "cell_type": "code",
   "execution_count": 4,
   "metadata": {},
   "outputs": [],
   "source": [
    "import tensorflow as tf\n",
    "#import \n",
    "bert_model.bert.trainable = False\n",
    "\n",
    "input_ids = tensorflow.keras.layers.Input(shape=(max_length,), dtype=tensorflow.int32, name='input_ids')\n",
    "attention_mask = tensorflow.keras.layers.Input(shape=(max_length,), dtype=tensorflow.int32, name='attention_mask')\n",
    "\n",
    "outputs = bert_model(input_ids, attention_mask=attention_mask)\n",
    "\n",
    "pooled_output = outputs.pooler_output\n",
    "\n",
    "x = tensorflow.keras.layers.Dropout(0.2)(pooled_output)\n",
    "output = tensorflow.keras.layers.Dense(output_shape, activation='softmax')(x)\n",
    "\n",
    "model = tensorflow.keras.Model(inputs=[input_ids, attention_mask], outputs=output)\n",
    "\n",
    "model.compile(optimizer='adam',\n",
    "              loss='categorical_crossentropy',\n",
    "              metrics=['accuracy',tf.keras.metrics.F1Score(average='macro')])"
   ]
  },
  {
   "cell_type": "code",
   "execution_count": 5,
   "metadata": {},
   "outputs": [
    {
     "name": "stdout",
     "output_type": "stream",
     "text": [
      "Model: \"model\"\n",
      "__________________________________________________________________________________________________\n",
      " Layer (type)                Output Shape                 Param #   Connected to                  \n",
      "==================================================================================================\n",
      " input_ids (InputLayer)      [(None, 140)]                0         []                            \n",
      "                                                                                                  \n",
      " attention_mask (InputLayer  [(None, 140)]                0         []                            \n",
      " )                                                                                                \n",
      "                                                                                                  \n",
      " tf_bert_model (TFBertModel  TFBaseModelOutputWithPooli   1094822   ['input_ids[0][0]',           \n",
      " )                           ngAndCrossAttentions(last_   40         'attention_mask[0][0]']      \n",
      "                             hidden_state=(None, 140, 7                                           \n",
      "                             68),                                                                 \n",
      "                              pooler_output=(None, 768)                                           \n",
      "                             , past_key_values=None, hi                                           \n",
      "                             dden_states=None, attentio                                           \n",
      "                             ns=None, cross_attentions=                                           \n",
      "                             None)                                                                \n",
      "                                                                                                  \n",
      " dropout_37 (Dropout)        (None, 768)                  0         ['tf_bert_model[0][1]']       \n",
      "                                                                                                  \n",
      " dense (Dense)               (None, 5)                    3845      ['dropout_37[0][0]']          \n",
      "                                                                                                  \n",
      "==================================================================================================\n",
      "Total params: 109486085 (417.66 MB)\n",
      "Trainable params: 3845 (15.02 KB)\n",
      "Non-trainable params: 109482240 (417.64 MB)\n",
      "__________________________________________________________________________________________________\n"
     ]
    }
   ],
   "source": [
    "model.summary()"
   ]
  },
  {
   "cell_type": "code",
   "execution_count": 31,
   "metadata": {},
   "outputs": [],
   "source": [
    "import matplotlib.pyplot as plt\n",
    "import seaborn as sns\n",
    "def plot_train_metrics(history):\n",
    "    epoch_count = range(1, len(history.history['accuracy']) + 1)\n",
    "    sns.lineplot(x=epoch_count,  y=history.history['accuracy'], label='train')\n",
    "    sns.lineplot(x=epoch_count,  y=history.history['val_accuracy'], label='valid')\n",
    "    plt.show()"
   ]
  },
  {
   "cell_type": "code",
   "execution_count": 8,
   "metadata": {},
   "outputs": [
    {
     "data": {
      "text/html": [
       "<div>\n",
       "<style scoped>\n",
       "    .dataframe tbody tr th:only-of-type {\n",
       "        vertical-align: middle;\n",
       "    }\n",
       "\n",
       "    .dataframe tbody tr th {\n",
       "        vertical-align: top;\n",
       "    }\n",
       "\n",
       "    .dataframe thead th {\n",
       "        text-align: right;\n",
       "    }\n",
       "</style>\n",
       "<table border=\"1\" class=\"dataframe\">\n",
       "  <thead>\n",
       "    <tr style=\"text-align: right;\">\n",
       "      <th></th>\n",
       "      <th>userName</th>\n",
       "      <th>userImage</th>\n",
       "      <th>content</th>\n",
       "      <th>score</th>\n",
       "      <th>thumbsUpCount</th>\n",
       "      <th>reviewCreatedVersion</th>\n",
       "      <th>at</th>\n",
       "      <th>replyContent</th>\n",
       "      <th>repliedAt</th>\n",
       "      <th>sortOrder</th>\n",
       "      <th>appId</th>\n",
       "    </tr>\n",
       "  </thead>\n",
       "  <tbody>\n",
       "    <tr>\n",
       "      <th>0</th>\n",
       "      <td>Andrew Thomas</td>\n",
       "      <td>https://lh3.googleusercontent.com/a-/AOh14GiHd...</td>\n",
       "      <td>Update: After getting a response from the deve...</td>\n",
       "      <td>1</td>\n",
       "      <td>21</td>\n",
       "      <td>4.17.0.3</td>\n",
       "      <td>2020-04-05 22:25:57</td>\n",
       "      <td>According to our TOS, and the term you have ag...</td>\n",
       "      <td>2020-04-05 15:10:24</td>\n",
       "      <td>most_relevant</td>\n",
       "      <td>com.anydo</td>\n",
       "    </tr>\n",
       "    <tr>\n",
       "      <th>1</th>\n",
       "      <td>Craig Haines</td>\n",
       "      <td>https://lh3.googleusercontent.com/-hoe0kwSJgPQ...</td>\n",
       "      <td>Used it for a fair amount of time without any ...</td>\n",
       "      <td>1</td>\n",
       "      <td>11</td>\n",
       "      <td>4.17.0.3</td>\n",
       "      <td>2020-04-04 13:40:01</td>\n",
       "      <td>It sounds like you logged in with a different ...</td>\n",
       "      <td>2020-04-05 15:11:35</td>\n",
       "      <td>most_relevant</td>\n",
       "      <td>com.anydo</td>\n",
       "    </tr>\n",
       "    <tr>\n",
       "      <th>2</th>\n",
       "      <td>steven adkins</td>\n",
       "      <td>https://lh3.googleusercontent.com/a-/AOh14GiXw...</td>\n",
       "      <td>Your app sucks now!!!!! Used to be good but no...</td>\n",
       "      <td>1</td>\n",
       "      <td>17</td>\n",
       "      <td>4.17.0.3</td>\n",
       "      <td>2020-04-01 16:18:13</td>\n",
       "      <td>This sounds odd! We are not aware of any issue...</td>\n",
       "      <td>2020-04-02 16:05:56</td>\n",
       "      <td>most_relevant</td>\n",
       "      <td>com.anydo</td>\n",
       "    </tr>\n",
       "    <tr>\n",
       "      <th>3</th>\n",
       "      <td>Lars Panzerbjørn</td>\n",
       "      <td>https://lh3.googleusercontent.com/a-/AOh14Gg-h...</td>\n",
       "      <td>It seems OK, but very basic. Recurring tasks n...</td>\n",
       "      <td>1</td>\n",
       "      <td>192</td>\n",
       "      <td>4.17.0.2</td>\n",
       "      <td>2020-03-12 08:17:34</td>\n",
       "      <td>We do offer this option as part of the Advance...</td>\n",
       "      <td>2020-03-15 06:20:13</td>\n",
       "      <td>most_relevant</td>\n",
       "      <td>com.anydo</td>\n",
       "    </tr>\n",
       "    <tr>\n",
       "      <th>4</th>\n",
       "      <td>Scott Prewitt</td>\n",
       "      <td>https://lh3.googleusercontent.com/-K-X1-YsVd6U...</td>\n",
       "      <td>Absolutely worthless. This app runs a prohibit...</td>\n",
       "      <td>1</td>\n",
       "      <td>42</td>\n",
       "      <td>4.17.0.2</td>\n",
       "      <td>2020-03-14 17:41:01</td>\n",
       "      <td>We're sorry you feel this way! 90% of the app ...</td>\n",
       "      <td>2020-03-15 23:45:51</td>\n",
       "      <td>most_relevant</td>\n",
       "      <td>com.anydo</td>\n",
       "    </tr>\n",
       "  </tbody>\n",
       "</table>\n",
       "</div>"
      ],
      "text/plain": [
       "           userName                                          userImage  \\\n",
       "0     Andrew Thomas  https://lh3.googleusercontent.com/a-/AOh14GiHd...   \n",
       "1      Craig Haines  https://lh3.googleusercontent.com/-hoe0kwSJgPQ...   \n",
       "2     steven adkins  https://lh3.googleusercontent.com/a-/AOh14GiXw...   \n",
       "3  Lars Panzerbjørn  https://lh3.googleusercontent.com/a-/AOh14Gg-h...   \n",
       "4     Scott Prewitt  https://lh3.googleusercontent.com/-K-X1-YsVd6U...   \n",
       "\n",
       "                                             content  score  thumbsUpCount  \\\n",
       "0  Update: After getting a response from the deve...      1             21   \n",
       "1  Used it for a fair amount of time without any ...      1             11   \n",
       "2  Your app sucks now!!!!! Used to be good but no...      1             17   \n",
       "3  It seems OK, but very basic. Recurring tasks n...      1            192   \n",
       "4  Absolutely worthless. This app runs a prohibit...      1             42   \n",
       "\n",
       "  reviewCreatedVersion                   at  \\\n",
       "0             4.17.0.3  2020-04-05 22:25:57   \n",
       "1             4.17.0.3  2020-04-04 13:40:01   \n",
       "2             4.17.0.3  2020-04-01 16:18:13   \n",
       "3             4.17.0.2  2020-03-12 08:17:34   \n",
       "4             4.17.0.2  2020-03-14 17:41:01   \n",
       "\n",
       "                                        replyContent            repliedAt  \\\n",
       "0  According to our TOS, and the term you have ag...  2020-04-05 15:10:24   \n",
       "1  It sounds like you logged in with a different ...  2020-04-05 15:11:35   \n",
       "2  This sounds odd! We are not aware of any issue...  2020-04-02 16:05:56   \n",
       "3  We do offer this option as part of the Advance...  2020-03-15 06:20:13   \n",
       "4  We're sorry you feel this way! 90% of the app ...  2020-03-15 23:45:51   \n",
       "\n",
       "       sortOrder      appId  \n",
       "0  most_relevant  com.anydo  \n",
       "1  most_relevant  com.anydo  \n",
       "2  most_relevant  com.anydo  \n",
       "3  most_relevant  com.anydo  \n",
       "4  most_relevant  com.anydo  "
      ]
     },
     "execution_count": 8,
     "metadata": {},
     "output_type": "execute_result"
    }
   ],
   "source": [
    "import pandas as pd\n",
    "# Armar el dataset\n",
    "df = pd.read_csv('reviews.csv')\n",
    "df.head()"
   ]
  },
  {
   "cell_type": "code",
   "execution_count": 15,
   "metadata": {},
   "outputs": [
    {
     "name": "stdout",
     "output_type": "stream",
     "text": [
      "sentences shape: (15746,)\n"
     ]
    },
    {
     "data": {
      "text/plain": [
       "array([\"Update: After getting a response from the developer I would change my rating to 0 stars if possible. These guys hide behind confusing and opaque terms and refuse to budge at all. I'm so annoyed that my money has been lost to them! Really terrible customer experience. Original: Be very careful when signing up for a free trial of this app. If you happen to go over they automatically charge you for a full years subscription and refuse to refund. Terrible customer experience and the app is just OK.\",\n",
       "       'Used it for a fair amount of time without any problems. Suddenly then asked me to create an account or log using Google or FB. I used my Google one only to discover everything was gone!',\n",
       "       \"Your app sucks now!!!!! Used to be good but now doesn't update until I physically open it up and then close it then scroll and then it finally shows what I want to put on the list!!!!!! And I FRIGGEN paid for this garbage!!!!!!!\"],\n",
       "      dtype=object)"
      ]
     },
     "execution_count": 15,
     "metadata": {},
     "output_type": "execute_result"
    }
   ],
   "source": [
    "sentences = df['content'].values\n",
    "print(\"sentences shape:\", sentences.shape)\n",
    "sentences[:3]"
   ]
  },
  {
   "cell_type": "code",
   "execution_count": 17,
   "metadata": {},
   "outputs": [],
   "source": [
    "import numpy as np\n",
    "sentence_lens = []\n",
    "for sentence in sentences:\n",
    "  sentence_lens.append(len(sentence))"
   ]
  },
  {
   "cell_type": "code",
   "execution_count": 18,
   "metadata": {},
   "outputs": [
    {
     "name": "stdout",
     "output_type": "stream",
     "text": [
      "[1 2 3 4 5]\n"
     ]
    }
   ],
   "source": [
    "y_unique_values = df['score'].unique()\n",
    "print(y_unique_values)"
   ]
  },
  {
   "cell_type": "code",
   "execution_count": 19,
   "metadata": {},
   "outputs": [
    {
     "name": "stdout",
     "output_type": "stream",
     "text": [
      "y shape: (15746,)\n",
      "output shape: 5\n"
     ]
    }
   ],
   "source": [
    "from tensorflow.keras.utils import to_categorical\n",
    "y = df['score'].values\n",
    "print(\"y shape:\", y.shape)\n",
    "\n",
    "y_adjusted = y - 1\n",
    "y = to_categorical(y_adjusted)\n",
    "\n",
    "output_shape = y.shape[1]\n",
    "print(\"output shape:\", output_shape)"
   ]
  },
  {
   "cell_type": "code",
   "execution_count": 20,
   "metadata": {},
   "outputs": [],
   "source": [
    "from transformers import InputExample, InputFeatures  \n",
    "from transformers import BertTokenizer\n",
    "import numpy as np"
   ]
  },
  {
   "cell_type": "code",
   "execution_count": 21,
   "metadata": {},
   "outputs": [],
   "source": [
    "bert_tokenizer = BertTokenizer.from_pretrained(\"bert-base-uncased\")"
   ]
  },
  {
   "cell_type": "code",
   "execution_count": 22,
   "metadata": {},
   "outputs": [],
   "source": [
    "from sklearn.model_selection import train_test_split\n",
    "max_length = 140 # BERT soporta máximo 512\n",
    "indices = np.arange(len(sentences))\n",
    "idx_train_val, idx_test = train_test_split(indices, test_size=0.2, random_state=42)\n",
    "idx_train, idx_val = train_test_split(idx_train_val, test_size=0.2, random_state=42)"
   ]
  },
  {
   "cell_type": "code",
   "execution_count": 23,
   "metadata": {},
   "outputs": [
    {
     "name": "stdout",
     "output_type": "stream",
     "text": [
      "10076 2520 3150\n"
     ]
    }
   ],
   "source": [
    "print(idx_train.shape[0], idx_val.shape[0], idx_test.shape[0])"
   ]
  },
  {
   "cell_type": "code",
   "execution_count": 24,
   "metadata": {},
   "outputs": [],
   "source": [
    "def convert_data_to_examples(text, labels, idx_train, idx_val):\n",
    "    # Armamos un \"InputExample\" para los datos de entrenamiento y validación\n",
    "    train_InputExamples = [InputExample(guid=None, # Globally unique ID for bookkeeping, unused in this case\n",
    "                                                          text_a = text[i], \n",
    "                                                          text_b = None,\n",
    "                                                          label = labels[i]) for i in idx_train]\n",
    "\n",
    "    validation_InputExamples = [InputExample(guid=None, # Globally unique ID for bookkeeping, unused in this case\n",
    "                                                          text_a = text[i],\n",
    "                                                          text_b = None,\n",
    "                                                          label = labels[i]) for i in idx_val]\n",
    "  \n",
    "    return train_InputExamples, validation_InputExamples\n",
    "\n",
    " \n",
    "def convert_examples_to_tf_dataset(examples, bert_tokenizer, max_length=512):\n",
    "    # Transformamos los datos de entrada en tensorres de:\n",
    "    # input_ids --> token id\n",
    "    # attention_mask\n",
    "    # token type\n",
    "    features = []\n",
    "\n",
    "    for e in examples:\n",
    "        # Documentation is really strong for this method, so please take a look at it\n",
    "        input_dict = bert_tokenizer.encode_plus(\n",
    "            e.text_a,\n",
    "            add_special_tokens=True,\n",
    "            max_length=max_length, # truncates if len(s) > max_length\n",
    "            return_token_type_ids=False,\n",
    "            return_attention_mask=True,\n",
    "            padding='max_length', # pads to the right by default # CHECK THIS for pad_to_max_length\n",
    "            truncation=True\n",
    "        )\n",
    "\n",
    "        input_ids, attention_mask = (input_dict[\"input_ids\"], input_dict['attention_mask'])\n",
    "\n",
    "        features.append(\n",
    "            InputFeatures(\n",
    "                input_ids=input_ids, attention_mask=attention_mask, label=e.label\n",
    "            )\n",
    "        )\n",
    "\n",
    "    def gen():\n",
    "    # Función generadora para no levantar todos los datos en un instante\n",
    "        for f in features:\n",
    "            yield (\n",
    "                {\n",
    "                    \"input_ids\": f.input_ids,\n",
    "                    \"attention_mask\": f.attention_mask,\n",
    "                },\n",
    "                f.label,\n",
    "            )\n",
    "\n",
    "    return tensorflow.data.Dataset.from_generator(\n",
    "        # Tensorflow dataset generator (basado en el generador y en el esquema de datos definido)\n",
    "        gen,\n",
    "        ({\"input_ids\": tensorflow.int32, \"attention_mask\": tensorflow.int32}, tensorflow.float32),\n",
    "        (\n",
    "            {\n",
    "                \"input_ids\": tensorflow.TensorShape([None]),\n",
    "                \"attention_mask\": tensorflow.TensorShape([None]),\n",
    "            },\n",
    "            tensorflow.TensorShape([output_shape]),\n",
    "        ),\n",
    "    )"
   ]
  },
  {
   "cell_type": "code",
   "execution_count": 25,
   "metadata": {},
   "outputs": [],
   "source": [
    "train_InputExamples, validation_InputExamples = convert_data_to_examples(sentences, y, idx_train, idx_val)\n",
    "\n",
    "train_data = convert_examples_to_tf_dataset(list(train_InputExamples), bert_tokenizer, max_length=max_length)\n",
    "# shuffle 100 --> mezcla los datos y los lee a de 100 unidades\n",
    "# batch 32 --> ejecuta una epoca de entrenamiento de a 32 unidades\n",
    "train_data = train_data.shuffle(100).batch(32)\n",
    "\n",
    "validation_data = convert_examples_to_tf_dataset(list(validation_InputExamples), bert_tokenizer, max_length=max_length)\n",
    "validation_data = validation_data.batch(32)"
   ]
  },
  {
   "cell_type": "code",
   "execution_count": 26,
   "metadata": {},
   "outputs": [],
   "source": [
    "pred_sentences = [sentences[i] for i in idx_test]\n",
    "tf_batch = bert_tokenizer(pred_sentences, max_length=max_length, padding=True, truncation=True, return_tensors='tf')\n",
    "\n"
   ]
  },
  {
   "cell_type": "code",
   "execution_count": 27,
   "metadata": {},
   "outputs": [],
   "source": [
    "X_test = [tf_batch['input_ids'],  \n",
    "          tf_batch['attention_mask']]"
   ]
  },
  {
   "cell_type": "code",
   "execution_count": 28,
   "metadata": {},
   "outputs": [
    {
     "name": "stdout",
     "output_type": "stream",
     "text": [
      "[[1. 0. 0. 0. 0.]\n",
      " [1. 0. 0. 0. 0.]\n",
      " [0. 1. 0. 0. 0.]\n",
      " ...\n",
      " [0. 0. 1. 0. 0.]\n",
      " [0. 0. 0. 1. 0.]\n",
      " [0. 0. 0. 1. 0.]]\n"
     ]
    }
   ],
   "source": [
    "y_test = y[idx_test]\n",
    "print(y_test)"
   ]
  },
  {
   "cell_type": "code",
   "execution_count": 29,
   "metadata": {},
   "outputs": [
    {
     "name": "stdout",
     "output_type": "stream",
     "text": [
      "Epoch 1/100\n",
      "      1/Unknown - 21s 21s/step - loss: 1.9910 - accuracy: 0.0938 - f1_score: 0.0538"
     ]
    },
    {
     "name": "stderr",
     "output_type": "stream",
     "text": [
      "WARNING: All log messages before absl::InitializeLog() is called are written to STDERR\n",
      "I0000 00:00:1719943048.812300  273317 service.cc:145] XLA service 0x72844d149df0 initialized for platform CUDA (this does not guarantee that XLA will be used). Devices:\n",
      "I0000 00:00:1719943048.812326  273317 service.cc:153]   StreamExecutor device (0): NVIDIA GeForce RTX 3060 Laptop GPU, Compute Capability 8.6\n",
      "2024-07-02 14:57:28.818008: I tensorflow/compiler/mlir/tensorflow/utils/dump_mlir_util.cc:268] disabling MLIR crash reproducer, set env var `MLIR_CRASH_REPRODUCER_DIRECTORY` to enable.\n",
      "2024-07-02 14:57:28.834933: I external/local_xla/xla/stream_executor/cuda/cuda_dnn.cc:465] Loaded cuDNN version 8907\n",
      "I0000 00:00:1719943048.885216  273317 device_compiler.h:188] Compiled cluster using XLA!  This line is logged at most once for the lifetime of the process.\n"
     ]
    },
    {
     "name": "stdout",
     "output_type": "stream",
     "text": [
      "    315/Unknown - 82s 196ms/step - loss: 1.6144 - accuracy: 0.2878 - f1_score: 0.2114"
     ]
    },
    {
     "name": "stderr",
     "output_type": "stream",
     "text": [
      "2024-07-02 14:58:30.477813: W tensorflow/core/framework/local_rendezvous.cc:404] Local rendezvous is aborting with status: OUT_OF_RANGE: End of sequence\n",
      "\t [[{{node IteratorGetNext}}]]\n",
      "2024-07-02 14:58:30.477851: I tensorflow/core/framework/local_rendezvous.cc:426] Local rendezvous send item cancelled. Key hash: 15239944843124795836\n",
      "2024-07-02 14:58:30.477855: W tensorflow/core/framework/local_rendezvous.cc:404] Local rendezvous is aborting with status: OUT_OF_RANGE: End of sequence\n",
      "\t [[{{node IteratorGetNext}}]]\n",
      "\t [[model/tf_bert_model/bert/Shape_1/_8]]\n",
      "2024-07-02 14:58:30.477873: I tensorflow/core/framework/local_rendezvous.cc:426] Local rendezvous send item cancelled. Key hash: 865186995671661751\n",
      "2024-07-02 14:58:30.477878: I tensorflow/core/framework/local_rendezvous.cc:426] Local rendezvous send item cancelled. Key hash: 10970274492683263683\n",
      "2024-07-02 14:58:30.477928: I tensorflow/core/framework/local_rendezvous.cc:426] Local rendezvous send item cancelled. Key hash: 13427882907913616172\n",
      "2024-07-02 14:58:50.191195: W tensorflow/core/framework/local_rendezvous.cc:404] Local rendezvous is aborting with status: OUT_OF_RANGE: End of sequence\n",
      "\t [[{{node IteratorGetNext}}]]\n",
      "2024-07-02 14:58:50.191232: I tensorflow/core/framework/local_rendezvous.cc:426] Local rendezvous send item cancelled. Key hash: 15239944843124795836\n",
      "2024-07-02 14:58:50.191236: I tensorflow/core/framework/local_rendezvous.cc:426] Local rendezvous send item cancelled. Key hash: 13427882907913616172\n",
      "2024-07-02 14:58:50.191240: I tensorflow/core/framework/local_rendezvous.cc:426] Local rendezvous send item cancelled. Key hash: 865186995671661751\n",
      "2024-07-02 14:58:50.191242: I tensorflow/core/framework/local_rendezvous.cc:426] Local rendezvous send item cancelled. Key hash: 10970274492683263683\n",
      "2024-07-02 14:58:50.191247: W tensorflow/core/framework/local_rendezvous.cc:404] Local rendezvous is aborting with status: OUT_OF_RANGE: End of sequence\n",
      "\t [[{{node IteratorGetNext}}]]\n",
      "\t [[model/tf_bert_model/bert/embeddings/assert_less/Assert/Assert/data_0/_20]]\n"
     ]
    },
    {
     "name": "stdout",
     "output_type": "stream",
     "text": [
      "315/315 [==============================] - 102s 260ms/step - loss: 1.6144 - accuracy: 0.2878 - f1_score: 0.2114 - val_loss: 1.4975 - val_accuracy: 0.3798 - val_f1_score: 0.3021\n",
      "Epoch 2/100\n",
      "315/315 [==============================] - 77s 243ms/step - loss: 1.5264 - accuracy: 0.3341 - f1_score: 0.2608 - val_loss: 1.4511 - val_accuracy: 0.3702 - val_f1_score: 0.3100\n",
      "Epoch 3/100\n",
      "315/315 [==============================] - 77s 244ms/step - loss: 1.4721 - accuracy: 0.3610 - f1_score: 0.2919 - val_loss: 1.3867 - val_accuracy: 0.4302 - val_f1_score: 0.2795\n",
      "Epoch 4/100\n",
      "315/315 [==============================] - 77s 245ms/step - loss: 1.4402 - accuracy: 0.3698 - f1_score: 0.3018 - val_loss: 1.3775 - val_accuracy: 0.4194 - val_f1_score: 0.2640\n",
      "Epoch 5/100\n",
      "315/315 [==============================] - 77s 245ms/step - loss: 1.4176 - accuracy: 0.3913 - f1_score: 0.3198 - val_loss: 1.3528 - val_accuracy: 0.4345 - val_f1_score: 0.2774\n",
      "Epoch 6/100\n",
      "315/315 [==============================] - 77s 245ms/step - loss: 1.4113 - accuracy: 0.3887 - f1_score: 0.3207 - val_loss: 1.3445 - val_accuracy: 0.4393 - val_f1_score: 0.3300\n",
      "Epoch 7/100\n",
      "315/315 [==============================] - 77s 246ms/step - loss: 1.4024 - accuracy: 0.3919 - f1_score: 0.3281 - val_loss: 1.3523 - val_accuracy: 0.4409 - val_f1_score: 0.3641\n",
      "Epoch 8/100\n",
      "315/315 [==============================] - 77s 246ms/step - loss: 1.4019 - accuracy: 0.3942 - f1_score: 0.3347 - val_loss: 1.3309 - val_accuracy: 0.4500 - val_f1_score: 0.3523\n",
      "Epoch 9/100\n",
      "315/315 [==============================] - 77s 246ms/step - loss: 1.3878 - accuracy: 0.4074 - f1_score: 0.3419 - val_loss: 1.3274 - val_accuracy: 0.4433 - val_f1_score: 0.2944\n",
      "Epoch 10/100\n",
      "315/315 [==============================] - 77s 246ms/step - loss: 1.3753 - accuracy: 0.4048 - f1_score: 0.3341 - val_loss: 1.3123 - val_accuracy: 0.4548 - val_f1_score: 0.3711\n",
      "Epoch 11/100\n",
      "315/315 [==============================] - 78s 248ms/step - loss: 1.3697 - accuracy: 0.4020 - f1_score: 0.3397 - val_loss: 1.3217 - val_accuracy: 0.4433 - val_f1_score: 0.3683\n",
      "Epoch 12/100\n",
      "315/315 [==============================] - 78s 247ms/step - loss: 1.3760 - accuracy: 0.4077 - f1_score: 0.3488 - val_loss: 1.3229 - val_accuracy: 0.4528 - val_f1_score: 0.3652\n",
      "Epoch 13/100\n",
      "315/315 [==============================] - 79s 251ms/step - loss: 1.3651 - accuracy: 0.4105 - f1_score: 0.3504 - val_loss: 1.3235 - val_accuracy: 0.4444 - val_f1_score: 0.3634\n",
      "Epoch 14/100\n",
      "315/315 [==============================] - 78s 248ms/step - loss: 1.3695 - accuracy: 0.4098 - f1_score: 0.3509 - val_loss: 1.3189 - val_accuracy: 0.4218 - val_f1_score: 0.4116\n",
      "Epoch 15/100\n",
      "315/315 [==============================] - 78s 247ms/step - loss: 1.3618 - accuracy: 0.4096 - f1_score: 0.3468 - val_loss: 1.3307 - val_accuracy: 0.4044 - val_f1_score: 0.3504\n",
      "Epoch 16/100\n",
      "315/315 [==============================] - 78s 248ms/step - loss: 1.3587 - accuracy: 0.4176 - f1_score: 0.3582 - val_loss: 1.2956 - val_accuracy: 0.4619 - val_f1_score: 0.3767\n",
      "Epoch 17/100\n",
      "315/315 [==============================] - 77s 244ms/step - loss: 1.3617 - accuracy: 0.4147 - f1_score: 0.3584 - val_loss: 1.2938 - val_accuracy: 0.4567 - val_f1_score: 0.3225\n",
      "Epoch 18/100\n",
      "315/315 [==============================] - 76s 242ms/step - loss: 1.3574 - accuracy: 0.4183 - f1_score: 0.3607 - val_loss: 1.3190 - val_accuracy: 0.4230 - val_f1_score: 0.4089\n",
      "Epoch 19/100\n",
      "315/315 [==============================] - 76s 242ms/step - loss: 1.3598 - accuracy: 0.4117 - f1_score: 0.3520 - val_loss: 1.3037 - val_accuracy: 0.4373 - val_f1_score: 0.3902\n",
      "Epoch 20/100\n",
      "315/315 [==============================] - 76s 242ms/step - loss: 1.3573 - accuracy: 0.4182 - f1_score: 0.3595 - val_loss: 1.2817 - val_accuracy: 0.4726 - val_f1_score: 0.3635\n",
      "Epoch 21/100\n",
      "315/315 [==============================] - 77s 244ms/step - loss: 1.3551 - accuracy: 0.4204 - f1_score: 0.3597 - val_loss: 1.3011 - val_accuracy: 0.4532 - val_f1_score: 0.3369\n",
      "Epoch 22/100\n",
      "315/315 [==============================] - 78s 246ms/step - loss: 1.3500 - accuracy: 0.4167 - f1_score: 0.3561 - val_loss: 1.2913 - val_accuracy: 0.4615 - val_f1_score: 0.3791\n",
      "Epoch 23/100\n",
      "315/315 [==============================] - 78s 247ms/step - loss: 1.3548 - accuracy: 0.4162 - f1_score: 0.3577 - val_loss: 1.2843 - val_accuracy: 0.4683 - val_f1_score: 0.3621\n",
      "Epoch 24/100\n",
      "315/315 [==============================] - 78s 246ms/step - loss: 1.3589 - accuracy: 0.4133 - f1_score: 0.3550 - val_loss: 1.2766 - val_accuracy: 0.4810 - val_f1_score: 0.3986\n",
      "Epoch 25/100\n",
      "315/315 [==============================] - 78s 246ms/step - loss: 1.3496 - accuracy: 0.4159 - f1_score: 0.3577 - val_loss: 1.2922 - val_accuracy: 0.4425 - val_f1_score: 0.3884\n",
      "Epoch 26/100\n",
      "315/315 [==============================] - 77s 245ms/step - loss: 1.3563 - accuracy: 0.4186 - f1_score: 0.3566 - val_loss: 1.2894 - val_accuracy: 0.4607 - val_f1_score: 0.3453\n",
      "Epoch 27/100\n",
      "315/315 [==============================] - 77s 243ms/step - loss: 1.3556 - accuracy: 0.4169 - f1_score: 0.3611 - val_loss: 1.2944 - val_accuracy: 0.4397 - val_f1_score: 0.3760\n",
      "Epoch 28/100\n",
      "315/315 [==============================] - 76s 242ms/step - loss: 1.3579 - accuracy: 0.4167 - f1_score: 0.3581 - val_loss: 1.2753 - val_accuracy: 0.4758 - val_f1_score: 0.3447\n",
      "Epoch 29/100\n",
      "315/315 [==============================] - 76s 241ms/step - loss: 1.3422 - accuracy: 0.4198 - f1_score: 0.3595 - val_loss: 1.2844 - val_accuracy: 0.4623 - val_f1_score: 0.4009\n",
      "Epoch 30/100\n",
      "315/315 [==============================] - 76s 241ms/step - loss: 1.3517 - accuracy: 0.4193 - f1_score: 0.3609 - val_loss: 1.2772 - val_accuracy: 0.4750 - val_f1_score: 0.3898\n",
      "Epoch 31/100\n",
      "315/315 [==============================] - 76s 241ms/step - loss: 1.3497 - accuracy: 0.4188 - f1_score: 0.3613 - val_loss: 1.3021 - val_accuracy: 0.4369 - val_f1_score: 0.4017\n",
      "Epoch 32/100\n",
      "315/315 [==============================] - 76s 241ms/step - loss: 1.3505 - accuracy: 0.4196 - f1_score: 0.3602 - val_loss: 1.2975 - val_accuracy: 0.4361 - val_f1_score: 0.4185\n",
      "Epoch 33/100\n",
      "315/315 [==============================] - 76s 241ms/step - loss: 1.3527 - accuracy: 0.4200 - f1_score: 0.3631 - val_loss: 1.2940 - val_accuracy: 0.4647 - val_f1_score: 0.3868\n",
      "Epoch 34/100\n",
      "315/315 [==============================] - 76s 241ms/step - loss: 1.3552 - accuracy: 0.4126 - f1_score: 0.3588 - val_loss: 1.2711 - val_accuracy: 0.4722 - val_f1_score: 0.4104\n",
      "Epoch 35/100\n",
      "315/315 [==============================] - 76s 241ms/step - loss: 1.3492 - accuracy: 0.4208 - f1_score: 0.3686 - val_loss: 1.3002 - val_accuracy: 0.4421 - val_f1_score: 0.3392\n",
      "Epoch 36/100\n",
      "315/315 [==============================] - 76s 241ms/step - loss: 1.3515 - accuracy: 0.4240 - f1_score: 0.3626 - val_loss: 1.2743 - val_accuracy: 0.4810 - val_f1_score: 0.4061\n",
      "Epoch 37/100\n",
      "315/315 [==============================] - 76s 240ms/step - loss: 1.3555 - accuracy: 0.4213 - f1_score: 0.3617 - val_loss: 1.2791 - val_accuracy: 0.4635 - val_f1_score: 0.4041\n",
      "Epoch 38/100\n",
      "315/315 [==============================] - 76s 240ms/step - loss: 1.3494 - accuracy: 0.4209 - f1_score: 0.3648 - val_loss: 1.2882 - val_accuracy: 0.4484 - val_f1_score: 0.3977\n",
      "Epoch 39/100\n",
      "315/315 [==============================] - 76s 240ms/step - loss: 1.3421 - accuracy: 0.4262 - f1_score: 0.3715 - val_loss: 1.2689 - val_accuracy: 0.4734 - val_f1_score: 0.3752\n",
      "Epoch 40/100\n",
      "315/315 [==============================] - 76s 240ms/step - loss: 1.3495 - accuracy: 0.4184 - f1_score: 0.3632 - val_loss: 1.2827 - val_accuracy: 0.4504 - val_f1_score: 0.4131\n",
      "Epoch 41/100\n",
      "315/315 [==============================] - 76s 240ms/step - loss: 1.3543 - accuracy: 0.4210 - f1_score: 0.3698 - val_loss: 1.2761 - val_accuracy: 0.4746 - val_f1_score: 0.3900\n",
      "Epoch 42/100\n",
      "315/315 [==============================] - 76s 240ms/step - loss: 1.3441 - accuracy: 0.4273 - f1_score: 0.3677 - val_loss: 1.2714 - val_accuracy: 0.4671 - val_f1_score: 0.3864\n",
      "Epoch 43/100\n",
      "315/315 [==============================] - 76s 241ms/step - loss: 1.3391 - accuracy: 0.4249 - f1_score: 0.3674 - val_loss: 1.2691 - val_accuracy: 0.4813 - val_f1_score: 0.4137\n",
      "Epoch 44/100\n",
      "315/315 [==============================] - 76s 241ms/step - loss: 1.3455 - accuracy: 0.4194 - f1_score: 0.3653 - val_loss: 1.2607 - val_accuracy: 0.4798 - val_f1_score: 0.3864\n",
      "Epoch 45/100\n",
      "315/315 [==============================] - 76s 241ms/step - loss: 1.3486 - accuracy: 0.4148 - f1_score: 0.3622 - val_loss: 1.2753 - val_accuracy: 0.4627 - val_f1_score: 0.3716\n",
      "Epoch 46/100\n",
      "315/315 [==============================] - 76s 241ms/step - loss: 1.3467 - accuracy: 0.4196 - f1_score: 0.3613 - val_loss: 1.2752 - val_accuracy: 0.4667 - val_f1_score: 0.4179\n",
      "Epoch 47/100\n",
      "315/315 [==============================] - 76s 241ms/step - loss: 1.3469 - accuracy: 0.4140 - f1_score: 0.3574 - val_loss: 1.2887 - val_accuracy: 0.4218 - val_f1_score: 0.3801\n",
      "Epoch 48/100\n",
      "315/315 [==============================] - 76s 241ms/step - loss: 1.3537 - accuracy: 0.4168 - f1_score: 0.3648 - val_loss: 1.2915 - val_accuracy: 0.4294 - val_f1_score: 0.3921\n",
      "Epoch 49/100\n",
      "315/315 [==============================] - 77s 243ms/step - loss: 1.3471 - accuracy: 0.4227 - f1_score: 0.3689 - val_loss: 1.3148 - val_accuracy: 0.4262 - val_f1_score: 0.3716\n",
      "Epoch 50/100\n",
      "315/315 [==============================] - 76s 242ms/step - loss: 1.3459 - accuracy: 0.4216 - f1_score: 0.3687 - val_loss: 1.3004 - val_accuracy: 0.4262 - val_f1_score: 0.3974\n",
      "Epoch 51/100\n",
      "315/315 [==============================] - 76s 241ms/step - loss: 1.3457 - accuracy: 0.4247 - f1_score: 0.3706 - val_loss: 1.2712 - val_accuracy: 0.4730 - val_f1_score: 0.3675\n",
      "Epoch 52/100\n",
      "315/315 [==============================] - 76s 241ms/step - loss: 1.3572 - accuracy: 0.4150 - f1_score: 0.3615 - val_loss: 1.2761 - val_accuracy: 0.4833 - val_f1_score: 0.3977\n",
      "Epoch 53/100\n",
      "315/315 [==============================] - 76s 242ms/step - loss: 1.3441 - accuracy: 0.4236 - f1_score: 0.3685 - val_loss: 1.2761 - val_accuracy: 0.4603 - val_f1_score: 0.4216\n",
      "Epoch 54/100\n",
      "315/315 [==============================] - 76s 241ms/step - loss: 1.3429 - accuracy: 0.4242 - f1_score: 0.3663 - val_loss: 1.2761 - val_accuracy: 0.4520 - val_f1_score: 0.3701\n",
      "Epoch 55/100\n",
      "315/315 [==============================] - 76s 241ms/step - loss: 1.3514 - accuracy: 0.4203 - f1_score: 0.3617 - val_loss: 1.3237 - val_accuracy: 0.3976 - val_f1_score: 0.3289\n",
      "Epoch 56/100\n",
      "315/315 [==============================] - 76s 241ms/step - loss: 1.3555 - accuracy: 0.4176 - f1_score: 0.3629 - val_loss: 1.2650 - val_accuracy: 0.4817 - val_f1_score: 0.4113\n",
      "Epoch 57/100\n",
      "315/315 [==============================] - 76s 242ms/step - loss: 1.3474 - accuracy: 0.4195 - f1_score: 0.3660 - val_loss: 1.2737 - val_accuracy: 0.4734 - val_f1_score: 0.4054\n",
      "Epoch 58/100\n",
      "315/315 [==============================] - 76s 240ms/step - loss: 1.3603 - accuracy: 0.4149 - f1_score: 0.3607 - val_loss: 1.2799 - val_accuracy: 0.4694 - val_f1_score: 0.3853\n",
      "Epoch 59/100\n",
      "315/315 [==============================] - 76s 240ms/step - loss: 1.3523 - accuracy: 0.4187 - f1_score: 0.3638 - val_loss: 1.2661 - val_accuracy: 0.4687 - val_f1_score: 0.3891\n",
      "Epoch 60/100\n",
      "315/315 [==============================] - 76s 240ms/step - loss: 1.3476 - accuracy: 0.4200 - f1_score: 0.3648 - val_loss: 1.2700 - val_accuracy: 0.4786 - val_f1_score: 0.4064\n",
      "Epoch 61/100\n",
      "315/315 [==============================] - 76s 240ms/step - loss: 1.3402 - accuracy: 0.4269 - f1_score: 0.3721 - val_loss: 1.2892 - val_accuracy: 0.4437 - val_f1_score: 0.3811\n",
      "Epoch 62/100\n",
      "315/315 [==============================] - 76s 242ms/step - loss: 1.3556 - accuracy: 0.4206 - f1_score: 0.3658 - val_loss: 1.2721 - val_accuracy: 0.4810 - val_f1_score: 0.4107\n",
      "Epoch 63/100\n",
      "315/315 [==============================] - 77s 244ms/step - loss: 1.3426 - accuracy: 0.4235 - f1_score: 0.3704 - val_loss: 1.2703 - val_accuracy: 0.4758 - val_f1_score: 0.4391\n",
      "Epoch 64/100\n",
      "315/315 [==============================] - 77s 243ms/step - loss: 1.3461 - accuracy: 0.4191 - f1_score: 0.3668 - val_loss: 1.2882 - val_accuracy: 0.4484 - val_f1_score: 0.3818\n",
      "Epoch 65/100\n",
      "315/315 [==============================] - 76s 240ms/step - loss: 1.3466 - accuracy: 0.4152 - f1_score: 0.3610 - val_loss: 1.3000 - val_accuracy: 0.4353 - val_f1_score: 0.3822\n",
      "Epoch 66/100\n",
      "315/315 [==============================] - 75s 239ms/step - loss: 1.3559 - accuracy: 0.4170 - f1_score: 0.3664 - val_loss: 1.2836 - val_accuracy: 0.4528 - val_f1_score: 0.4081\n",
      "Epoch 67/100\n",
      "315/315 [==============================] - 76s 241ms/step - loss: 1.3523 - accuracy: 0.4181 - f1_score: 0.3672 - val_loss: 1.2689 - val_accuracy: 0.4750 - val_f1_score: 0.4131\n",
      "Epoch 68/100\n",
      "315/315 [==============================] - 76s 242ms/step - loss: 1.3467 - accuracy: 0.4232 - f1_score: 0.3708 - val_loss: 1.2617 - val_accuracy: 0.4714 - val_f1_score: 0.3523\n",
      "Epoch 69/100\n",
      "315/315 [==============================] - 76s 242ms/step - loss: 1.3469 - accuracy: 0.4227 - f1_score: 0.3662 - val_loss: 1.2802 - val_accuracy: 0.4679 - val_f1_score: 0.3769\n",
      "Epoch 70/100\n",
      "315/315 [==============================] - 76s 242ms/step - loss: 1.3532 - accuracy: 0.4144 - f1_score: 0.3615 - val_loss: 1.2630 - val_accuracy: 0.4750 - val_f1_score: 0.3949\n",
      "Epoch 71/100\n",
      "315/315 [==============================] - 76s 242ms/step - loss: 1.3504 - accuracy: 0.4183 - f1_score: 0.3658 - val_loss: 1.2819 - val_accuracy: 0.4552 - val_f1_score: 0.3895\n",
      "Epoch 72/100\n",
      "315/315 [==============================] - 76s 242ms/step - loss: 1.3492 - accuracy: 0.4179 - f1_score: 0.3660 - val_loss: 1.2782 - val_accuracy: 0.4623 - val_f1_score: 0.3854\n",
      "Epoch 73/100\n",
      "315/315 [==============================] - 77s 243ms/step - loss: 1.3561 - accuracy: 0.4225 - f1_score: 0.3683 - val_loss: 1.2866 - val_accuracy: 0.4278 - val_f1_score: 0.3867\n",
      "Epoch 74/100\n",
      "315/315 [==============================] - 77s 244ms/step - loss: 1.3606 - accuracy: 0.4183 - f1_score: 0.3636 - val_loss: 1.2728 - val_accuracy: 0.4583 - val_f1_score: 0.4223\n",
      "Epoch 75/100\n",
      "315/315 [==============================] - 78s 248ms/step - loss: 1.3436 - accuracy: 0.4247 - f1_score: 0.3677 - val_loss: 1.2854 - val_accuracy: 0.4425 - val_f1_score: 0.3915\n",
      "Epoch 76/100\n",
      "315/315 [==============================] - 79s 250ms/step - loss: 1.3544 - accuracy: 0.4209 - f1_score: 0.3701 - val_loss: 1.2898 - val_accuracy: 0.4345 - val_f1_score: 0.4288\n",
      "Epoch 77/100\n",
      "315/315 [==============================] - 79s 250ms/step - loss: 1.3546 - accuracy: 0.4174 - f1_score: 0.3645 - val_loss: 1.2812 - val_accuracy: 0.4837 - val_f1_score: 0.3969\n",
      "Epoch 78/100\n",
      "315/315 [==============================] - 79s 250ms/step - loss: 1.3444 - accuracy: 0.4250 - f1_score: 0.3708 - val_loss: 1.2600 - val_accuracy: 0.4750 - val_f1_score: 0.3617\n",
      "Epoch 79/100\n",
      "315/315 [==============================] - 79s 250ms/step - loss: 1.3364 - accuracy: 0.4236 - f1_score: 0.3661 - val_loss: 1.2636 - val_accuracy: 0.4738 - val_f1_score: 0.3969\n",
      "Epoch 80/100\n",
      "315/315 [==============================] - 79s 250ms/step - loss: 1.3511 - accuracy: 0.4199 - f1_score: 0.3663 - val_loss: 1.2634 - val_accuracy: 0.4829 - val_f1_score: 0.4293\n",
      "Epoch 81/100\n",
      "315/315 [==============================] - 79s 251ms/step - loss: 1.3417 - accuracy: 0.4263 - f1_score: 0.3763 - val_loss: 1.2859 - val_accuracy: 0.4385 - val_f1_score: 0.3808\n",
      "Epoch 82/100\n",
      "315/315 [==============================] - 79s 251ms/step - loss: 1.3448 - accuracy: 0.4248 - f1_score: 0.3725 - val_loss: 1.2567 - val_accuracy: 0.4750 - val_f1_score: 0.3785\n",
      "Epoch 83/100\n",
      "315/315 [==============================] - 79s 251ms/step - loss: 1.3407 - accuracy: 0.4268 - f1_score: 0.3744 - val_loss: 1.2766 - val_accuracy: 0.4452 - val_f1_score: 0.4214\n",
      "Epoch 84/100\n",
      "315/315 [==============================] - 79s 251ms/step - loss: 1.3471 - accuracy: 0.4221 - f1_score: 0.3672 - val_loss: 1.2723 - val_accuracy: 0.4746 - val_f1_score: 0.4003\n",
      "Epoch 85/100\n",
      "315/315 [==============================] - 79s 251ms/step - loss: 1.3492 - accuracy: 0.4219 - f1_score: 0.3652 - val_loss: 1.3011 - val_accuracy: 0.4179 - val_f1_score: 0.3954\n",
      "Epoch 86/100\n",
      "315/315 [==============================] - 79s 251ms/step - loss: 1.3402 - accuracy: 0.4257 - f1_score: 0.3740 - val_loss: 1.2684 - val_accuracy: 0.4647 - val_f1_score: 0.4285\n",
      "Epoch 87/100\n",
      "315/315 [==============================] - 79s 251ms/step - loss: 1.3479 - accuracy: 0.4200 - f1_score: 0.3707 - val_loss: 1.2750 - val_accuracy: 0.4567 - val_f1_score: 0.4099\n",
      "Epoch 88/100\n",
      "315/315 [==============================] - 79s 249ms/step - loss: 1.3518 - accuracy: 0.4162 - f1_score: 0.3630 - val_loss: 1.2544 - val_accuracy: 0.4754 - val_f1_score: 0.3620\n",
      "Epoch 89/100\n",
      "315/315 [==============================] - 79s 251ms/step - loss: 1.3436 - accuracy: 0.4245 - f1_score: 0.3724 - val_loss: 1.2997 - val_accuracy: 0.4222 - val_f1_score: 0.3732\n",
      "Epoch 90/100\n",
      "315/315 [==============================] - 79s 250ms/step - loss: 1.3462 - accuracy: 0.4218 - f1_score: 0.3699 - val_loss: 1.2651 - val_accuracy: 0.4738 - val_f1_score: 0.4108\n",
      "Epoch 91/100\n",
      "315/315 [==============================] - 79s 250ms/step - loss: 1.3451 - accuracy: 0.4274 - f1_score: 0.3755 - val_loss: 1.2668 - val_accuracy: 0.4698 - val_f1_score: 0.4038\n",
      "Epoch 92/100\n",
      "315/315 [==============================] - 79s 250ms/step - loss: 1.3408 - accuracy: 0.4272 - f1_score: 0.3712 - val_loss: 1.2729 - val_accuracy: 0.4730 - val_f1_score: 0.3993\n",
      "Epoch 93/100\n",
      "315/315 [==============================] - 79s 250ms/step - loss: 1.3578 - accuracy: 0.4164 - f1_score: 0.3619 - val_loss: 1.2816 - val_accuracy: 0.4496 - val_f1_score: 0.3734\n",
      "Epoch 94/100\n",
      "315/315 [==============================] - 79s 251ms/step - loss: 1.3479 - accuracy: 0.4216 - f1_score: 0.3718 - val_loss: 1.2641 - val_accuracy: 0.4813 - val_f1_score: 0.4070\n",
      "Epoch 95/100\n",
      "315/315 [==============================] - 79s 250ms/step - loss: 1.3480 - accuracy: 0.4198 - f1_score: 0.3635 - val_loss: 1.2715 - val_accuracy: 0.4667 - val_f1_score: 0.4067\n",
      "Epoch 96/100\n",
      "315/315 [==============================] - 79s 249ms/step - loss: 1.3523 - accuracy: 0.4171 - f1_score: 0.3630 - val_loss: 1.2659 - val_accuracy: 0.4714 - val_f1_score: 0.4258\n",
      "Epoch 97/100\n",
      "315/315 [==============================] - 77s 245ms/step - loss: 1.3430 - accuracy: 0.4200 - f1_score: 0.3624 - val_loss: 1.2774 - val_accuracy: 0.4500 - val_f1_score: 0.3921\n",
      "Epoch 98/100\n",
      "315/315 [==============================] - 77s 244ms/step - loss: 1.3440 - accuracy: 0.4223 - f1_score: 0.3695 - val_loss: 1.2620 - val_accuracy: 0.4679 - val_f1_score: 0.3728\n",
      "Epoch 99/100\n",
      "315/315 [==============================] - 77s 243ms/step - loss: 1.3474 - accuracy: 0.4247 - f1_score: 0.3744 - val_loss: 1.3033 - val_accuracy: 0.4508 - val_f1_score: 0.3738\n",
      "Epoch 100/100\n",
      "315/315 [==============================] - 77s 243ms/step - loss: 1.3531 - accuracy: 0.4199 - f1_score: 0.3641 - val_loss: 1.2883 - val_accuracy: 0.4290 - val_f1_score: 0.4068\n"
     ]
    }
   ],
   "source": [
    "history = model.fit(train_data, epochs=100, validation_data=validation_data)"
   ]
  },
  {
   "cell_type": "code",
   "execution_count": 32,
   "metadata": {},
   "outputs": [
    {
     "data": {
      "image/png": "[encoded data removed]",
      "text/plain": [
       "<Figure size 640x480 with 1 Axes>"
      ]
     },
     "metadata": {},
     "output_type": "display_data"
    }
   ],
   "source": [
    "plot_train_metrics(history)"
   ]
  },
  {
   "cell_type": "code",
   "execution_count": 33,
   "metadata": {},
   "outputs": [
    {
     "name": "stdout",
     "output_type": "stream",
     "text": [
      "99/99 [==============================] - 21s 174ms/step\n"
     ]
    },
    {
     "data": {
      "text/plain": [
       "array([[0.28516313, 0.35173813, 0.2559206 , 0.07701418, 0.03016397],\n",
       "       [0.19060667, 0.3724165 , 0.21996984, 0.13225535, 0.08475164],\n",
       "       [0.07478395, 0.21469493, 0.33706024, 0.2515336 , 0.12192723]],\n",
       "      dtype=float32)"
      ]
     },
     "execution_count": 33,
     "metadata": {},
     "output_type": "execute_result"
    }
   ],
   "source": [
    "y_hat_prob = model.predict(X_test)\n",
    "y_hat_prob[:3]"
   ]
  },
  {
   "cell_type": "code",
   "execution_count": 34,
   "metadata": {},
   "outputs": [
    {
     "name": "stdout",
     "output_type": "stream",
     "text": [
      "[0 0 1 ... 2 3 3]\n"
     ]
    }
   ],
   "source": [
    "y_hat = np.argmax(y_hat_prob, axis=1)\n",
    "y_test_labels = np.argmax(y_test, axis=1)\n",
    "print(y_test_labels)"
   ]
  },
  {
   "cell_type": "code",
   "execution_count": 35,
   "metadata": {},
   "outputs": [
    {
     "name": "stdout",
     "output_type": "stream",
     "text": [
      "99/99 [==============================] - 22s 180ms/step - loss: 1.2838 - accuracy: 0.4238 - f1_score: 0.4049\n"
     ]
    },
    {
     "data": {
      "text/plain": [
       "0.4238095283508301"
      ]
     },
     "execution_count": 35,
     "metadata": {},
     "output_type": "execute_result"
    }
   ],
   "source": [
    "# Calcular la exactitud (accuracy)\n",
    "scores = model.evaluate(X_test, y_test)\n",
    "scores[1]"
   ]
  },
  {
   "cell_type": "code",
   "execution_count": 36,
   "metadata": {},
   "outputs": [
    {
     "name": "stdout",
     "output_type": "stream",
     "text": [
      "[<tf.Tensor: shape=(3150, 140), dtype=int32, numpy=\n",
      "array([[  101,  2129,  2000, ...,     0,     0,     0],\n",
      "       [  101, 10166,  1012, ...,     0,     0,     0],\n",
      "       [  101,  1045,  2288, ...,     0,     0,     0],\n",
      "       ...,\n",
      "       [  101,  1045,  2066, ...,     0,     0,     0],\n",
      "       [  101,  5587,  2129, ...,     0,     0,     0],\n",
      "       [  101,  2204, 10439, ...,     0,     0,     0]], dtype=int32)>, <tf.Tensor: shape=(3150, 140), dtype=int32, numpy=\n",
      "array([[1, 1, 1, ..., 0, 0, 0],\n",
      "       [1, 1, 1, ..., 0, 0, 0],\n",
      "       [1, 1, 1, ..., 0, 0, 0],\n",
      "       ...,\n",
      "       [1, 1, 1, ..., 0, 0, 0],\n",
      "       [1, 1, 1, ..., 0, 0, 0],\n",
      "       [1, 1, 1, ..., 0, 0, 0]], dtype=int32)>]\n"
     ]
    },
    {
     "data": {
      "image/png": "[encoded data removed]",
      "text/plain": [
       "<Figure size 640x480 with 2 Axes>"
      ]
     },
     "metadata": {},
     "output_type": "display_data"
    }
   ],
   "source": [
    "from sklearn.metrics import confusion_matrix, ConfusionMatrixDisplay\n",
    "print(X_test)\n",
    "\n",
    "cm = confusion_matrix(y_test_labels, y_hat)\n",
    "n_classes = len(np.unique(y_test_labels))\n",
    "display_labels = np.unique(y_test_labels) \n",
    "\n",
    "cmd = ConfusionMatrixDisplay(cm, display_labels=display_labels)\n",
    "cmd.plot(cmap=plt.cm.Blues)\n",
    "plt.show()"
   ]
  },
  {
   "cell_type": "markdown",
   "metadata": {},
   "source": [
    "### Se agrega una capa densa"
   ]
  },
  {
   "cell_type": "code",
   "execution_count": 1,
   "metadata": {},
   "outputs": [
    {
     "name": "stderr",
     "output_type": "stream",
     "text": [
      "2024-07-02 19:30:31.406772: I tensorflow/core/util/port.cc:113] oneDNN custom operations are on. You may see slightly different numerical results due to floating-point round-off errors from different computation orders. To turn them off, set the environment variable `TF_ENABLE_ONEDNN_OPTS=0`.\n",
      "2024-07-02 19:30:31.421748: E external/local_xla/xla/stream_executor/cuda/cuda_fft.cc:479] Unable to register cuFFT factory: Attempting to register factory for plugin cuFFT when one has already been registered\n",
      "2024-07-02 19:30:31.443601: E external/local_xla/xla/stream_executor/cuda/cuda_dnn.cc:10575] Unable to register cuDNN factory: Attempting to register factory for plugin cuDNN when one has already been registered\n",
      "2024-07-02 19:30:31.443640: E external/local_xla/xla/stream_executor/cuda/cuda_blas.cc:1442] Unable to register cuBLAS factory: Attempting to register factory for plugin cuBLAS when one has already been registered\n",
      "2024-07-02 19:30:31.455620: I tensorflow/core/platform/cpu_feature_guard.cc:210] This TensorFlow binary is optimized to use available CPU instructions in performance-critical operations.\n",
      "To enable the following instructions: AVX2 AVX512F AVX512_VNNI FMA, in other operations, rebuild TensorFlow with the appropriate compiler flags.\n",
      "2024-07-02 19:30:32.107089: W tensorflow/compiler/tf2tensorrt/utils/py_utils.cc:38] TF-TRT Warning: Could not find TensorRT\n"
     ]
    }
   ],
   "source": [
    "import tensorflow\n",
    "from transformers import TFBertModel\n",
    "import tf_keras"
   ]
  },
  {
   "cell_type": "code",
   "execution_count": 2,
   "metadata": {},
   "outputs": [
    {
     "name": "stderr",
     "output_type": "stream",
     "text": [
      "2024-07-02 19:30:48.486424: I external/local_xla/xla/stream_executor/cuda/cuda_executor.cc:998] successful NUMA node read from SysFS had negative value (-1), but there must be at least one NUMA node, so returning NUMA node zero. See more at https://github.com/torvalds/linux/blob/v6.0/Documentation/ABI/testing/sysfs-bus-pci#L344-L355\n",
      "2024-07-02 19:30:48.489726: I external/local_xla/xla/stream_executor/cuda/cuda_executor.cc:998] successful NUMA node read from SysFS had negative value (-1), but there must be at least one NUMA node, so returning NUMA node zero. See more at https://github.com/torvalds/linux/blob/v6.0/Documentation/ABI/testing/sysfs-bus-pci#L344-L355\n",
      "2024-07-02 19:30:48.492271: I external/local_xla/xla/stream_executor/cuda/cuda_executor.cc:998] successful NUMA node read from SysFS had negative value (-1), but there must be at least one NUMA node, so returning NUMA node zero. See more at https://github.com/torvalds/linux/blob/v6.0/Documentation/ABI/testing/sysfs-bus-pci#L344-L355\n",
      "2024-07-02 19:30:48.496336: I external/local_xla/xla/stream_executor/cuda/cuda_executor.cc:998] successful NUMA node read from SysFS had negative value (-1), but there must be at least one NUMA node, so returning NUMA node zero. See more at https://github.com/torvalds/linux/blob/v6.0/Documentation/ABI/testing/sysfs-bus-pci#L344-L355\n",
      "2024-07-02 19:30:48.499758: I external/local_xla/xla/stream_executor/cuda/cuda_executor.cc:998] successful NUMA node read from SysFS had negative value (-1), but there must be at least one NUMA node, so returning NUMA node zero. See more at https://github.com/torvalds/linux/blob/v6.0/Documentation/ABI/testing/sysfs-bus-pci#L344-L355\n",
      "2024-07-02 19:30:48.502311: I external/local_xla/xla/stream_executor/cuda/cuda_executor.cc:998] successful NUMA node read from SysFS had negative value (-1), but there must be at least one NUMA node, so returning NUMA node zero. See more at https://github.com/torvalds/linux/blob/v6.0/Documentation/ABI/testing/sysfs-bus-pci#L344-L355\n",
      "2024-07-02 19:30:48.643780: I external/local_xla/xla/stream_executor/cuda/cuda_executor.cc:998] successful NUMA node read from SysFS had negative value (-1), but there must be at least one NUMA node, so returning NUMA node zero. See more at https://github.com/torvalds/linux/blob/v6.0/Documentation/ABI/testing/sysfs-bus-pci#L344-L355\n",
      "2024-07-02 19:30:48.646424: I external/local_xla/xla/stream_executor/cuda/cuda_executor.cc:998] successful NUMA node read from SysFS had negative value (-1), but there must be at least one NUMA node, so returning NUMA node zero. See more at https://github.com/torvalds/linux/blob/v6.0/Documentation/ABI/testing/sysfs-bus-pci#L344-L355\n",
      "2024-07-02 19:30:48.648379: I external/local_xla/xla/stream_executor/cuda/cuda_executor.cc:998] successful NUMA node read from SysFS had negative value (-1), but there must be at least one NUMA node, so returning NUMA node zero. See more at https://github.com/torvalds/linux/blob/v6.0/Documentation/ABI/testing/sysfs-bus-pci#L344-L355\n",
      "2024-07-02 19:30:48.650370: I tensorflow/core/common_runtime/gpu/gpu_device.cc:1928] Created device /job:localhost/replica:0/task:0/device:GPU:0 with 4126 MB memory:  -> device: 0, name: NVIDIA GeForce RTX 3060 Laptop GPU, pci bus id: 0000:01:00.0, compute capability: 8.6\n",
      "Some weights of the PyTorch model were not used when initializing the TF 2.0 model TFBertModel: ['cls.predictions.transform.LayerNorm.bias', 'cls.seq_relationship.weight', 'cls.seq_relationship.bias', 'cls.predictions.bias', 'cls.predictions.transform.dense.weight', 'cls.predictions.transform.LayerNorm.weight', 'cls.predictions.transform.dense.bias']\n",
      "- This IS expected if you are initializing TFBertModel from a PyTorch model trained on another task or with another architecture (e.g. initializing a TFBertForSequenceClassification model from a BertForPreTraining model).\n",
      "- This IS NOT expected if you are initializing TFBertModel from a PyTorch model that you expect to be exactly identical (e.g. initializing a TFBertForSequenceClassification model from a BertForSequenceClassification model).\n",
      "All the weights of TFBertModel were initialized from the PyTorch model.\n",
      "If your task is similar to the task the model of the checkpoint was trained on, you can already use TFBertModel for predictions without further training.\n"
     ]
    }
   ],
   "source": [
    "bert_model = TFBertModel.from_pretrained(\"bert-base-uncased\")"
   ]
  },
  {
   "cell_type": "code",
   "execution_count": 3,
   "metadata": {},
   "outputs": [],
   "source": [
    "max_length = 140\n",
    "output_shape = 5"
   ]
  },
  {
   "cell_type": "code",
   "execution_count": 6,
   "metadata": {},
   "outputs": [],
   "source": [
    "import tensorflow as tf\n",
    "#import \n",
    "bert_model.bert.trainable = False\n",
    "\n",
    "input_ids = tensorflow.keras.layers.Input(shape=(max_length,), dtype=tensorflow.int32, name='input_ids')\n",
    "attention_mask = tensorflow.keras.layers.Input(shape=(max_length,), dtype=tensorflow.int32, name='attention_mask')\n",
    "\n",
    "outputs = bert_model(input_ids, attention_mask=attention_mask)\n",
    "\n",
    "pooled_output = outputs.pooler_output\n",
    "\n",
    "dense_layer = tf.keras.layers.Dense(256, activation='relu')(pooled_output)\n",
    "\n",
    "x = tensorflow.keras.layers.Dropout(0.2)(dense_layer)\n",
    "output = tensorflow.keras.layers.Dense(output_shape, activation='softmax')(x)\n",
    "\n",
    "model = tensorflow.keras.Model(inputs=[input_ids, attention_mask], outputs=output)\n",
    "\n",
    "model.compile(optimizer='adam',\n",
    "              loss='categorical_crossentropy',\n",
    "              metrics=['accuracy',tf.keras.metrics.F1Score(average='macro')])"
   ]
  },
  {
   "cell_type": "code",
   "execution_count": 7,
   "metadata": {},
   "outputs": [
    {
     "name": "stdout",
     "output_type": "stream",
     "text": [
      "Model: \"model_1\"\n",
      "__________________________________________________________________________________________________\n",
      " Layer (type)                Output Shape                 Param #   Connected to                  \n",
      "==================================================================================================\n",
      " input_ids (InputLayer)      [(None, 140)]                0         []                            \n",
      "                                                                                                  \n",
      " attention_mask (InputLayer  [(None, 140)]                0         []                            \n",
      " )                                                                                                \n",
      "                                                                                                  \n",
      " tf_bert_model (TFBertModel  TFBaseModelOutputWithPooli   1094822   ['input_ids[0][0]',           \n",
      " )                           ngAndCrossAttentions(last_   40         'attention_mask[0][0]']      \n",
      "                             hidden_state=(None, 140, 7                                           \n",
      "                             68),                                                                 \n",
      "                              pooler_output=(None, 768)                                           \n",
      "                             , past_key_values=None, hi                                           \n",
      "                             dden_states=None, attentio                                           \n",
      "                             ns=None, cross_attentions=                                           \n",
      "                             None)                                                                \n",
      "                                                                                                  \n",
      " dense_2 (Dense)             (None, 256)                  196864    ['tf_bert_model[1][1]']       \n",
      "                                                                                                  \n",
      " dropout_38 (Dropout)        (None, 256)                  0         ['dense_2[0][0]']             \n",
      "                                                                                                  \n",
      " dense_3 (Dense)             (None, 5)                    1285      ['dropout_38[0][0]']          \n",
      "                                                                                                  \n",
      "==================================================================================================\n",
      "Total params: 109680389 (418.40 MB)\n",
      "Trainable params: 198149 (774.02 KB)\n",
      "Non-trainable params: 109482240 (417.64 MB)\n",
      "__________________________________________________________________________________________________\n"
     ]
    }
   ],
   "source": [
    "model.summary()"
   ]
  },
  {
   "cell_type": "code",
   "execution_count": 8,
   "metadata": {},
   "outputs": [],
   "source": [
    "import matplotlib.pyplot as plt\n",
    "import seaborn as sns\n",
    "def plot_train_metrics(history):\n",
    "    epoch_count = range(1, len(history.history['accuracy']) + 1)\n",
    "    sns.lineplot(x=epoch_count,  y=history.history['accuracy'], label='train')\n",
    "    sns.lineplot(x=epoch_count,  y=history.history['val_accuracy'], label='valid')\n",
    "    plt.show()"
   ]
  },
  {
   "cell_type": "code",
   "execution_count": 9,
   "metadata": {},
   "outputs": [
    {
     "data": {
      "text/html": [
       "<div>\n",
       "<style scoped>\n",
       "    .dataframe tbody tr th:only-of-type {\n",
       "        vertical-align: middle;\n",
       "    }\n",
       "\n",
       "    .dataframe tbody tr th {\n",
       "        vertical-align: top;\n",
       "    }\n",
       "\n",
       "    .dataframe thead th {\n",
       "        text-align: right;\n",
       "    }\n",
       "</style>\n",
       "<table border=\"1\" class=\"dataframe\">\n",
       "  <thead>\n",
       "    <tr style=\"text-align: right;\">\n",
       "      <th></th>\n",
       "      <th>userName</th>\n",
       "      <th>userImage</th>\n",
       "      <th>content</th>\n",
       "      <th>score</th>\n",
       "      <th>thumbsUpCount</th>\n",
       "      <th>reviewCreatedVersion</th>\n",
       "      <th>at</th>\n",
       "      <th>replyContent</th>\n",
       "      <th>repliedAt</th>\n",
       "      <th>sortOrder</th>\n",
       "      <th>appId</th>\n",
       "    </tr>\n",
       "  </thead>\n",
       "  <tbody>\n",
       "    <tr>\n",
       "      <th>0</th>\n",
       "      <td>Andrew Thomas</td>\n",
       "      <td>https://lh3.googleusercontent.com/a-/AOh14GiHd...</td>\n",
       "      <td>Update: After getting a response from the deve...</td>\n",
       "      <td>1</td>\n",
       "      <td>21</td>\n",
       "      <td>4.17.0.3</td>\n",
       "      <td>2020-04-05 22:25:57</td>\n",
       "      <td>According to our TOS, and the term you have ag...</td>\n",
       "      <td>2020-04-05 15:10:24</td>\n",
       "      <td>most_relevant</td>\n",
       "      <td>com.anydo</td>\n",
       "    </tr>\n",
       "    <tr>\n",
       "      <th>1</th>\n",
       "      <td>Craig Haines</td>\n",
       "      <td>https://lh3.googleusercontent.com/-hoe0kwSJgPQ...</td>\n",
       "      <td>Used it for a fair amount of time without any ...</td>\n",
       "      <td>1</td>\n",
       "      <td>11</td>\n",
       "      <td>4.17.0.3</td>\n",
       "      <td>2020-04-04 13:40:01</td>\n",
       "      <td>It sounds like you logged in with a different ...</td>\n",
       "      <td>2020-04-05 15:11:35</td>\n",
       "      <td>most_relevant</td>\n",
       "      <td>com.anydo</td>\n",
       "    </tr>\n",
       "    <tr>\n",
       "      <th>2</th>\n",
       "      <td>steven adkins</td>\n",
       "      <td>https://lh3.googleusercontent.com/a-/AOh14GiXw...</td>\n",
       "      <td>Your app sucks now!!!!! Used to be good but no...</td>\n",
       "      <td>1</td>\n",
       "      <td>17</td>\n",
       "      <td>4.17.0.3</td>\n",
       "      <td>2020-04-01 16:18:13</td>\n",
       "      <td>This sounds odd! We are not aware of any issue...</td>\n",
       "      <td>2020-04-02 16:05:56</td>\n",
       "      <td>most_relevant</td>\n",
       "      <td>com.anydo</td>\n",
       "    </tr>\n",
       "    <tr>\n",
       "      <th>3</th>\n",
       "      <td>Lars Panzerbjørn</td>\n",
       "      <td>https://lh3.googleusercontent.com/a-/AOh14Gg-h...</td>\n",
       "      <td>It seems OK, but very basic. Recurring tasks n...</td>\n",
       "      <td>1</td>\n",
       "      <td>192</td>\n",
       "      <td>4.17.0.2</td>\n",
       "      <td>2020-03-12 08:17:34</td>\n",
       "      <td>We do offer this option as part of the Advance...</td>\n",
       "      <td>2020-03-15 06:20:13</td>\n",
       "      <td>most_relevant</td>\n",
       "      <td>com.anydo</td>\n",
       "    </tr>\n",
       "    <tr>\n",
       "      <th>4</th>\n",
       "      <td>Scott Prewitt</td>\n",
       "      <td>https://lh3.googleusercontent.com/-K-X1-YsVd6U...</td>\n",
       "      <td>Absolutely worthless. This app runs a prohibit...</td>\n",
       "      <td>1</td>\n",
       "      <td>42</td>\n",
       "      <td>4.17.0.2</td>\n",
       "      <td>2020-03-14 17:41:01</td>\n",
       "      <td>We're sorry you feel this way! 90% of the app ...</td>\n",
       "      <td>2020-03-15 23:45:51</td>\n",
       "      <td>most_relevant</td>\n",
       "      <td>com.anydo</td>\n",
       "    </tr>\n",
       "  </tbody>\n",
       "</table>\n",
       "</div>"
      ],
      "text/plain": [
       "           userName                                          userImage  \\\n",
       "0     Andrew Thomas  https://lh3.googleusercontent.com/a-/AOh14GiHd...   \n",
       "1      Craig Haines  https://lh3.googleusercontent.com/-hoe0kwSJgPQ...   \n",
       "2     steven adkins  https://lh3.googleusercontent.com/a-/AOh14GiXw...   \n",
       "3  Lars Panzerbjørn  https://lh3.googleusercontent.com/a-/AOh14Gg-h...   \n",
       "4     Scott Prewitt  https://lh3.googleusercontent.com/-K-X1-YsVd6U...   \n",
       "\n",
       "                                             content  score  thumbsUpCount  \\\n",
       "0  Update: After getting a response from the deve...      1             21   \n",
       "1  Used it for a fair amount of time without any ...      1             11   \n",
       "2  Your app sucks now!!!!! Used to be good but no...      1             17   \n",
       "3  It seems OK, but very basic. Recurring tasks n...      1            192   \n",
       "4  Absolutely worthless. This app runs a prohibit...      1             42   \n",
       "\n",
       "  reviewCreatedVersion                   at  \\\n",
       "0             4.17.0.3  2020-04-05 22:25:57   \n",
       "1             4.17.0.3  2020-04-04 13:40:01   \n",
       "2             4.17.0.3  2020-04-01 16:18:13   \n",
       "3             4.17.0.2  2020-03-12 08:17:34   \n",
       "4             4.17.0.2  2020-03-14 17:41:01   \n",
       "\n",
       "                                        replyContent            repliedAt  \\\n",
       "0  According to our TOS, and the term you have ag...  2020-04-05 15:10:24   \n",
       "1  It sounds like you logged in with a different ...  2020-04-05 15:11:35   \n",
       "2  This sounds odd! We are not aware of any issue...  2020-04-02 16:05:56   \n",
       "3  We do offer this option as part of the Advance...  2020-03-15 06:20:13   \n",
       "4  We're sorry you feel this way! 90% of the app ...  2020-03-15 23:45:51   \n",
       "\n",
       "       sortOrder      appId  \n",
       "0  most_relevant  com.anydo  \n",
       "1  most_relevant  com.anydo  \n",
       "2  most_relevant  com.anydo  \n",
       "3  most_relevant  com.anydo  \n",
       "4  most_relevant  com.anydo  "
      ]
     },
     "execution_count": 9,
     "metadata": {},
     "output_type": "execute_result"
    }
   ],
   "source": [
    "import pandas as pd\n",
    "# Armar el dataset\n",
    "df = pd.read_csv('reviews.csv')\n",
    "df.head()"
   ]
  },
  {
   "cell_type": "code",
   "execution_count": 10,
   "metadata": {},
   "outputs": [
    {
     "name": "stdout",
     "output_type": "stream",
     "text": [
      "sentences shape: (15746,)\n"
     ]
    },
    {
     "data": {
      "text/plain": [
       "array([\"Update: After getting a response from the developer I would change my rating to 0 stars if possible. These guys hide behind confusing and opaque terms and refuse to budge at all. I'm so annoyed that my money has been lost to them! Really terrible customer experience. Original: Be very careful when signing up for a free trial of this app. If you happen to go over they automatically charge you for a full years subscription and refuse to refund. Terrible customer experience and the app is just OK.\",\n",
       "       'Used it for a fair amount of time without any problems. Suddenly then asked me to create an account or log using Google or FB. I used my Google one only to discover everything was gone!',\n",
       "       \"Your app sucks now!!!!! Used to be good but now doesn't update until I physically open it up and then close it then scroll and then it finally shows what I want to put on the list!!!!!! And I FRIGGEN paid for this garbage!!!!!!!\"],\n",
       "      dtype=object)"
      ]
     },
     "execution_count": 10,
     "metadata": {},
     "output_type": "execute_result"
    }
   ],
   "source": [
    "sentences = df['content'].values\n",
    "print(\"sentences shape:\", sentences.shape)\n",
    "sentences[:3]"
   ]
  },
  {
   "cell_type": "code",
   "execution_count": 11,
   "metadata": {},
   "outputs": [],
   "source": [
    "import numpy as np\n",
    "sentence_lens = []\n",
    "for sentence in sentences:\n",
    "  sentence_lens.append(len(sentence))"
   ]
  },
  {
   "cell_type": "code",
   "execution_count": 12,
   "metadata": {},
   "outputs": [
    {
     "name": "stdout",
     "output_type": "stream",
     "text": [
      "y shape: (15746,)\n",
      "output shape: 5\n"
     ]
    }
   ],
   "source": [
    "from tensorflow.keras.utils import to_categorical\n",
    "y = df['score'].values\n",
    "print(\"y shape:\", y.shape)\n",
    "\n",
    "y_adjusted = y - 1\n",
    "y = to_categorical(y_adjusted)\n",
    "\n",
    "output_shape = y.shape[1]\n",
    "print(\"output shape:\", output_shape)"
   ]
  },
  {
   "cell_type": "code",
   "execution_count": 13,
   "metadata": {},
   "outputs": [],
   "source": [
    "from transformers import InputExample, InputFeatures  \n",
    "from transformers import BertTokenizer\n",
    "import numpy as np"
   ]
  },
  {
   "cell_type": "code",
   "execution_count": 14,
   "metadata": {},
   "outputs": [],
   "source": [
    "bert_tokenizer = BertTokenizer.from_pretrained(\"bert-base-uncased\")"
   ]
  },
  {
   "cell_type": "code",
   "execution_count": 15,
   "metadata": {},
   "outputs": [],
   "source": [
    "from sklearn.model_selection import train_test_split\n",
    "max_length = 140 # BERT soporta máximo 512\n",
    "indices = np.arange(len(sentences))\n",
    "idx_train_val, idx_test = train_test_split(indices, test_size=0.2, random_state=42)\n",
    "idx_train, idx_val = train_test_split(idx_train_val, test_size=0.2, random_state=42)"
   ]
  },
  {
   "cell_type": "code",
   "execution_count": 16,
   "metadata": {},
   "outputs": [
    {
     "name": "stdout",
     "output_type": "stream",
     "text": [
      "10076 2520 3150\n"
     ]
    }
   ],
   "source": [
    "print(idx_train.shape[0], idx_val.shape[0], idx_test.shape[0])"
   ]
  },
  {
   "cell_type": "code",
   "execution_count": 17,
   "metadata": {},
   "outputs": [],
   "source": [
    "def convert_data_to_examples(text, labels, idx_train, idx_val):\n",
    "    # Armamos un \"InputExample\" para los datos de entrenamiento y validación\n",
    "    train_InputExamples = [InputExample(guid=None, # Globally unique ID for bookkeeping, unused in this case\n",
    "                                                          text_a = text[i], \n",
    "                                                          text_b = None,\n",
    "                                                          label = labels[i]) for i in idx_train]\n",
    "\n",
    "    validation_InputExamples = [InputExample(guid=None, # Globally unique ID for bookkeeping, unused in this case\n",
    "                                                          text_a = text[i],\n",
    "                                                          text_b = None,\n",
    "                                                          label = labels[i]) for i in idx_val]\n",
    "  \n",
    "    return train_InputExamples, validation_InputExamples\n",
    "\n",
    " \n",
    "def convert_examples_to_tf_dataset(examples, bert_tokenizer, max_length=512):\n",
    "    # Transformamos los datos de entrada en tensorres de:\n",
    "    # input_ids --> token id\n",
    "    # attention_mask\n",
    "    # token type\n",
    "    features = []\n",
    "\n",
    "    for e in examples:\n",
    "        # Documentation is really strong for this method, so please take a look at it\n",
    "        input_dict = bert_tokenizer.encode_plus(\n",
    "            e.text_a,\n",
    "            add_special_tokens=True,\n",
    "            max_length=max_length, # truncates if len(s) > max_length\n",
    "            return_token_type_ids=False,\n",
    "            return_attention_mask=True,\n",
    "            padding='max_length', # pads to the right by default # CHECK THIS for pad_to_max_length\n",
    "            truncation=True\n",
    "        )\n",
    "\n",
    "        input_ids, attention_mask = (input_dict[\"input_ids\"], input_dict['attention_mask'])\n",
    "\n",
    "        features.append(\n",
    "            InputFeatures(\n",
    "                input_ids=input_ids, attention_mask=attention_mask, label=e.label\n",
    "            )\n",
    "        )\n",
    "\n",
    "    def gen():\n",
    "    # Función generadora para no levantar todos los datos en un instante\n",
    "        for f in features:\n",
    "            yield (\n",
    "                {\n",
    "                    \"input_ids\": f.input_ids,\n",
    "                    \"attention_mask\": f.attention_mask,\n",
    "                },\n",
    "                f.label,\n",
    "            )\n",
    "\n",
    "    return tensorflow.data.Dataset.from_generator(\n",
    "        # Tensorflow dataset generator (basado en el generador y en el esquema de datos definido)\n",
    "        gen,\n",
    "        ({\"input_ids\": tensorflow.int32, \"attention_mask\": tensorflow.int32}, tensorflow.float32),\n",
    "        (\n",
    "            {\n",
    "                \"input_ids\": tensorflow.TensorShape([None]),\n",
    "                \"attention_mask\": tensorflow.TensorShape([None]),\n",
    "            },\n",
    "            tensorflow.TensorShape([output_shape]),\n",
    "        ),\n",
    "    )\n"
   ]
  },
  {
   "cell_type": "code",
   "execution_count": 18,
   "metadata": {},
   "outputs": [],
   "source": [
    "train_InputExamples, validation_InputExamples = convert_data_to_examples(sentences, y, idx_train, idx_val)\n",
    "\n",
    "train_data = convert_examples_to_tf_dataset(list(train_InputExamples), bert_tokenizer, max_length=max_length)\n",
    "# shuffle 100 --> mezcla los datos y los lee a de 100 unidades\n",
    "# batch 32 --> ejecuta una epoca de entrenamiento de a 32 unidades\n",
    "train_data = train_data.shuffle(100).batch(32)\n",
    "\n",
    "validation_data = convert_examples_to_tf_dataset(list(validation_InputExamples), bert_tokenizer, max_length=max_length)\n",
    "validation_data = validation_data.batch(32)"
   ]
  },
  {
   "cell_type": "code",
   "execution_count": 19,
   "metadata": {},
   "outputs": [],
   "source": [
    "pred_sentences = [sentences[i] for i in idx_test]\n",
    "tf_batch = bert_tokenizer(pred_sentences, max_length=max_length, padding=True, truncation=True, return_tensors='tf')"
   ]
  },
  {
   "cell_type": "code",
   "execution_count": 20,
   "metadata": {},
   "outputs": [],
   "source": [
    "X_test = [tf_batch['input_ids'],  \n",
    "          tf_batch['attention_mask']]"
   ]
  },
  {
   "cell_type": "code",
   "execution_count": 21,
   "metadata": {},
   "outputs": [
    {
     "name": "stdout",
     "output_type": "stream",
     "text": [
      "[[1. 0. 0. 0. 0.]\n",
      " [1. 0. 0. 0. 0.]\n",
      " [0. 1. 0. 0. 0.]\n",
      " ...\n",
      " [0. 0. 1. 0. 0.]\n",
      " [0. 0. 0. 1. 0.]\n",
      " [0. 0. 0. 1. 0.]]\n"
     ]
    }
   ],
   "source": [
    "y_test = y[idx_test]\n",
    "print(y_test)"
   ]
  },
  {
   "cell_type": "code",
   "execution_count": 22,
   "metadata": {},
   "outputs": [
    {
     "name": "stdout",
     "output_type": "stream",
     "text": [
      "Epoch 1/100\n"
     ]
    },
    {
     "name": "stderr",
     "output_type": "stream",
     "text": [
      "WARNING: All log messages before absl::InitializeLog() is called are written to STDERR\n",
      "I0000 00:00:1719960120.404189  293651 service.cc:145] XLA service 0x7ef913a511a0 initialized for platform CUDA (this does not guarantee that XLA will be used). Devices:\n",
      "I0000 00:00:1719960120.404212  293651 service.cc:153]   StreamExecutor device (0): NVIDIA GeForce RTX 3060 Laptop GPU, Compute Capability 8.6\n",
      "2024-07-02 19:42:00.408482: I tensorflow/compiler/mlir/tensorflow/utils/dump_mlir_util.cc:268] disabling MLIR crash reproducer, set env var `MLIR_CRASH_REPRODUCER_DIRECTORY` to enable.\n",
      "2024-07-02 19:42:00.424654: I external/local_xla/xla/stream_executor/cuda/cuda_dnn.cc:465] Loaded cuDNN version 8907\n",
      "I0000 00:00:1719960120.465679  293651 device_compiler.h:188] Compiled cluster using XLA!  This line is logged at most once for the lifetime of the process.\n"
     ]
    },
    {
     "name": "stdout",
     "output_type": "stream",
     "text": [
      "    315/Unknown - 84s 198ms/step - loss: 1.5526 - accuracy: 0.3217 - f1_score: 0.1982"
     ]
    },
    {
     "name": "stderr",
     "output_type": "stream",
     "text": [
      "2024-07-02 19:43:02.730551: W tensorflow/core/framework/local_rendezvous.cc:404] Local rendezvous is aborting with status: OUT_OF_RANGE: End of sequence\n",
      "\t [[{{node IteratorGetNext}}]]\n",
      "2024-07-02 19:43:02.730593: I tensorflow/core/framework/local_rendezvous.cc:426] Local rendezvous send item cancelled. Key hash: 16560357845272177340\n",
      "2024-07-02 19:43:02.730597: I tensorflow/core/framework/local_rendezvous.cc:426] Local rendezvous send item cancelled. Key hash: 7094210338327769913\n",
      "2024-07-02 19:43:02.730601: I tensorflow/core/framework/local_rendezvous.cc:426] Local rendezvous send item cancelled. Key hash: 1062977836091839891\n",
      "2024-07-02 19:43:02.730604: I tensorflow/core/framework/local_rendezvous.cc:426] Local rendezvous send item cancelled. Key hash: 15867734838356041163\n",
      "2024-07-02 19:43:02.730703: W tensorflow/core/framework/local_rendezvous.cc:404] Local rendezvous is aborting with status: OUT_OF_RANGE: End of sequence\n",
      "\t [[{{node IteratorGetNext}}]]\n",
      "\t [[model_1/tf_bert_model/bert/Shape_1/_8]]\n",
      "2024-07-02 19:43:24.078675: W tensorflow/core/framework/local_rendezvous.cc:404] Local rendezvous is aborting with status: OUT_OF_RANGE: End of sequence\n",
      "\t [[{{node IteratorGetNext}}]]\n",
      "2024-07-02 19:43:24.078714: I tensorflow/core/framework/local_rendezvous.cc:426] Local rendezvous send item cancelled. Key hash: 16560357845272177340\n",
      "2024-07-02 19:43:24.078717: I tensorflow/core/framework/local_rendezvous.cc:426] Local rendezvous send item cancelled. Key hash: 7094210338327769913\n",
      "2024-07-02 19:43:24.078720: I tensorflow/core/framework/local_rendezvous.cc:426] Local rendezvous send item cancelled. Key hash: 15867734838356041163\n",
      "2024-07-02 19:43:24.078722: I tensorflow/core/framework/local_rendezvous.cc:426] Local rendezvous send item cancelled. Key hash: 1062977836091839891\n",
      "2024-07-02 19:43:24.078730: W tensorflow/core/framework/local_rendezvous.cc:404] Local rendezvous is aborting with status: OUT_OF_RANGE: End of sequence\n",
      "\t [[{{node IteratorGetNext}}]]\n",
      "\t [[model_1/tf_bert_model/bert/Shape/_10]]\n"
     ]
    },
    {
     "name": "stdout",
     "output_type": "stream",
     "text": [
      "315/315 [==============================] - 106s 267ms/step - loss: 1.5526 - accuracy: 0.3217 - f1_score: 0.1982 - val_loss: 1.4902 - val_accuracy: 0.3492 - val_f1_score: 0.1954\n",
      "Epoch 2/100\n",
      "315/315 [==============================] - 79s 251ms/step - loss: 1.4383 - accuracy: 0.3767 - f1_score: 0.2337 - val_loss: 1.3764 - val_accuracy: 0.4099 - val_f1_score: 0.2447\n",
      "Epoch 3/100\n",
      "315/315 [==============================] - 79s 252ms/step - loss: 1.3820 - accuracy: 0.4000 - f1_score: 0.2621 - val_loss: 1.3778 - val_accuracy: 0.4004 - val_f1_score: 0.2652\n",
      "Epoch 4/100\n",
      "315/315 [==============================] - 80s 252ms/step - loss: 1.3637 - accuracy: 0.4060 - f1_score: 0.2812 - val_loss: 1.3210 - val_accuracy: 0.4151 - val_f1_score: 0.2380\n",
      "Epoch 5/100\n",
      "315/315 [==============================] - 80s 253ms/step - loss: 1.3342 - accuracy: 0.4208 - f1_score: 0.3072 - val_loss: 1.3443 - val_accuracy: 0.4218 - val_f1_score: 0.2771\n",
      "Epoch 6/100\n",
      "315/315 [==============================] - 80s 253ms/step - loss: 1.3258 - accuracy: 0.4269 - f1_score: 0.3192 - val_loss: 1.3314 - val_accuracy: 0.4246 - val_f1_score: 0.3137\n",
      "Epoch 7/100\n",
      "315/315 [==============================] - 79s 251ms/step - loss: 1.3148 - accuracy: 0.4303 - f1_score: 0.3281 - val_loss: 1.2852 - val_accuracy: 0.4476 - val_f1_score: 0.3507\n",
      "Epoch 8/100\n",
      "315/315 [==============================] - 80s 254ms/step - loss: 1.3222 - accuracy: 0.4265 - f1_score: 0.3261 - val_loss: 1.2837 - val_accuracy: 0.4544 - val_f1_score: 0.3319\n",
      "Epoch 9/100\n",
      "315/315 [==============================] - 80s 254ms/step - loss: 1.3145 - accuracy: 0.4317 - f1_score: 0.3338 - val_loss: 1.2766 - val_accuracy: 0.4512 - val_f1_score: 0.3292\n",
      "Epoch 10/100\n",
      "315/315 [==============================] - 92s 292ms/step - loss: 1.3079 - accuracy: 0.4334 - f1_score: 0.3399 - val_loss: 1.2671 - val_accuracy: 0.4639 - val_f1_score: 0.3404\n",
      "Epoch 11/100\n",
      "315/315 [==============================] - 89s 283ms/step - loss: 1.2955 - accuracy: 0.4412 - f1_score: 0.3461 - val_loss: 1.2609 - val_accuracy: 0.4607 - val_f1_score: 0.3371\n",
      "Epoch 12/100\n",
      "315/315 [==============================] - 80s 254ms/step - loss: 1.2913 - accuracy: 0.4407 - f1_score: 0.3419 - val_loss: 1.2680 - val_accuracy: 0.4587 - val_f1_score: 0.3398\n",
      "Epoch 13/100\n",
      "315/315 [==============================] - 80s 254ms/step - loss: 1.3052 - accuracy: 0.4408 - f1_score: 0.3424 - val_loss: 1.2582 - val_accuracy: 0.4694 - val_f1_score: 0.3519\n",
      "Epoch 14/100\n",
      "315/315 [==============================] - 90s 285ms/step - loss: 1.2895 - accuracy: 0.4441 - f1_score: 0.3488 - val_loss: 1.2592 - val_accuracy: 0.4643 - val_f1_score: 0.3429\n",
      "Epoch 15/100\n",
      "315/315 [==============================] - 77s 244ms/step - loss: 1.2991 - accuracy: 0.4417 - f1_score: 0.3447 - val_loss: 1.2901 - val_accuracy: 0.4472 - val_f1_score: 0.3477\n",
      "Epoch 16/100\n",
      "315/315 [==============================] - 77s 246ms/step - loss: 1.2967 - accuracy: 0.4419 - f1_score: 0.3440 - val_loss: 1.2756 - val_accuracy: 0.4536 - val_f1_score: 0.3359\n",
      "Epoch 17/100\n",
      "315/315 [==============================] - 78s 249ms/step - loss: 1.2891 - accuracy: 0.4446 - f1_score: 0.3477 - val_loss: 1.2492 - val_accuracy: 0.4694 - val_f1_score: 0.3565\n",
      "Epoch 18/100\n",
      "315/315 [==============================] - 77s 245ms/step - loss: 1.2866 - accuracy: 0.4428 - f1_score: 0.3500 - val_loss: 1.2497 - val_accuracy: 0.4655 - val_f1_score: 0.3677\n",
      "Epoch 19/100\n",
      "315/315 [==============================] - 78s 246ms/step - loss: 1.2789 - accuracy: 0.4479 - f1_score: 0.3560 - val_loss: 1.2412 - val_accuracy: 0.4770 - val_f1_score: 0.3577\n",
      "Epoch 20/100\n",
      "315/315 [==============================] - 78s 247ms/step - loss: 1.2810 - accuracy: 0.4471 - f1_score: 0.3522 - val_loss: 1.2458 - val_accuracy: 0.4690 - val_f1_score: 0.3627\n",
      "Epoch 21/100\n",
      "315/315 [==============================] - 78s 246ms/step - loss: 1.2876 - accuracy: 0.4433 - f1_score: 0.3481 - val_loss: 1.2471 - val_accuracy: 0.4667 - val_f1_score: 0.3553\n",
      "Epoch 22/100\n",
      "315/315 [==============================] - 78s 247ms/step - loss: 1.2753 - accuracy: 0.4461 - f1_score: 0.3499 - val_loss: 1.2415 - val_accuracy: 0.4722 - val_f1_score: 0.3642\n",
      "Epoch 23/100\n",
      "315/315 [==============================] - 78s 247ms/step - loss: 1.2773 - accuracy: 0.4458 - f1_score: 0.3538 - val_loss: 1.2795 - val_accuracy: 0.4560 - val_f1_score: 0.3619\n",
      "Epoch 24/100\n",
      "315/315 [==============================] - 78s 247ms/step - loss: 1.2719 - accuracy: 0.4525 - f1_score: 0.3584 - val_loss: 1.2405 - val_accuracy: 0.4694 - val_f1_score: 0.3689\n",
      "Epoch 25/100\n",
      "315/315 [==============================] - 77s 243ms/step - loss: 1.2756 - accuracy: 0.4480 - f1_score: 0.3530 - val_loss: 1.2362 - val_accuracy: 0.4659 - val_f1_score: 0.3710\n",
      "Epoch 26/100\n",
      "315/315 [==============================] - 76s 243ms/step - loss: 1.2709 - accuracy: 0.4497 - f1_score: 0.3543 - val_loss: 1.2376 - val_accuracy: 0.4706 - val_f1_score: 0.3572\n",
      "Epoch 27/100\n",
      "315/315 [==============================] - 76s 243ms/step - loss: 1.2754 - accuracy: 0.4530 - f1_score: 0.3547 - val_loss: 1.2382 - val_accuracy: 0.4687 - val_f1_score: 0.3597\n",
      "Epoch 28/100\n",
      "315/315 [==============================] - 76s 243ms/step - loss: 1.2723 - accuracy: 0.4503 - f1_score: 0.3564 - val_loss: 1.2486 - val_accuracy: 0.4627 - val_f1_score: 0.3585\n",
      "Epoch 29/100\n",
      "315/315 [==============================] - 76s 243ms/step - loss: 1.2741 - accuracy: 0.4498 - f1_score: 0.3574 - val_loss: 1.2405 - val_accuracy: 0.4679 - val_f1_score: 0.3616\n",
      "Epoch 30/100\n",
      "315/315 [==============================] - 76s 242ms/step - loss: 1.2664 - accuracy: 0.4555 - f1_score: 0.3601 - val_loss: 1.2383 - val_accuracy: 0.4706 - val_f1_score: 0.3570\n",
      "Epoch 31/100\n",
      "315/315 [==============================] - 76s 242ms/step - loss: 1.2698 - accuracy: 0.4568 - f1_score: 0.3589 - val_loss: 1.2350 - val_accuracy: 0.4675 - val_f1_score: 0.3552\n",
      "Epoch 32/100\n",
      "315/315 [==============================] - 76s 242ms/step - loss: 1.2727 - accuracy: 0.4586 - f1_score: 0.3652 - val_loss: 1.2314 - val_accuracy: 0.4770 - val_f1_score: 0.3720\n",
      "Epoch 33/100\n",
      "315/315 [==============================] - 76s 242ms/step - loss: 1.2646 - accuracy: 0.4499 - f1_score: 0.3564 - val_loss: 1.2454 - val_accuracy: 0.4659 - val_f1_score: 0.3526\n",
      "Epoch 34/100\n",
      "315/315 [==============================] - 76s 242ms/step - loss: 1.2697 - accuracy: 0.4557 - f1_score: 0.3605 - val_loss: 1.2499 - val_accuracy: 0.4591 - val_f1_score: 0.3675\n",
      "Epoch 35/100\n",
      "315/315 [==============================] - 76s 243ms/step - loss: 1.2718 - accuracy: 0.4539 - f1_score: 0.3581 - val_loss: 1.2370 - val_accuracy: 0.4655 - val_f1_score: 0.3494\n",
      "Epoch 36/100\n",
      "315/315 [==============================] - 76s 240ms/step - loss: 1.2614 - accuracy: 0.4560 - f1_score: 0.3613 - val_loss: 1.2484 - val_accuracy: 0.4798 - val_f1_score: 0.3627\n",
      "Epoch 37/100\n",
      "315/315 [==============================] - 76s 240ms/step - loss: 1.2645 - accuracy: 0.4587 - f1_score: 0.3632 - val_loss: 1.2315 - val_accuracy: 0.4766 - val_f1_score: 0.3541\n",
      "Epoch 38/100\n",
      "315/315 [==============================] - 76s 240ms/step - loss: 1.2773 - accuracy: 0.4550 - f1_score: 0.3625 - val_loss: 1.2500 - val_accuracy: 0.4671 - val_f1_score: 0.3705\n",
      "Epoch 39/100\n",
      "315/315 [==============================] - 76s 240ms/step - loss: 1.2644 - accuracy: 0.4481 - f1_score: 0.3561 - val_loss: 1.2384 - val_accuracy: 0.4766 - val_f1_score: 0.3652\n",
      "Epoch 40/100\n",
      "315/315 [==============================] - 76s 240ms/step - loss: 1.2694 - accuracy: 0.4523 - f1_score: 0.3565 - val_loss: 1.2411 - val_accuracy: 0.4655 - val_f1_score: 0.3500\n",
      "Epoch 41/100\n",
      "315/315 [==============================] - 76s 240ms/step - loss: 1.2637 - accuracy: 0.4545 - f1_score: 0.3625 - val_loss: 1.2227 - val_accuracy: 0.4790 - val_f1_score: 0.3604\n",
      "Epoch 42/100\n",
      "315/315 [==============================] - 76s 240ms/step - loss: 1.2626 - accuracy: 0.4538 - f1_score: 0.3609 - val_loss: 1.2232 - val_accuracy: 0.4714 - val_f1_score: 0.3634\n",
      "Epoch 43/100\n",
      "315/315 [==============================] - 76s 240ms/step - loss: 1.2581 - accuracy: 0.4575 - f1_score: 0.3648 - val_loss: 1.2180 - val_accuracy: 0.4806 - val_f1_score: 0.3716\n",
      "Epoch 44/100\n",
      "315/315 [==============================] - 75s 240ms/step - loss: 1.2575 - accuracy: 0.4600 - f1_score: 0.3676 - val_loss: 1.2210 - val_accuracy: 0.4762 - val_f1_score: 0.3704\n",
      "Epoch 45/100\n",
      "315/315 [==============================] - 75s 240ms/step - loss: 1.2542 - accuracy: 0.4562 - f1_score: 0.3651 - val_loss: 1.2366 - val_accuracy: 0.4710 - val_f1_score: 0.3673\n",
      "Epoch 46/100\n",
      "315/315 [==============================] - 76s 240ms/step - loss: 1.2624 - accuracy: 0.4547 - f1_score: 0.3605 - val_loss: 1.2289 - val_accuracy: 0.4754 - val_f1_score: 0.3672\n",
      "Epoch 47/100\n",
      "315/315 [==============================] - 76s 240ms/step - loss: 1.2589 - accuracy: 0.4546 - f1_score: 0.3581 - val_loss: 1.2182 - val_accuracy: 0.4778 - val_f1_score: 0.3910\n",
      "Epoch 48/100\n",
      "315/315 [==============================] - 76s 240ms/step - loss: 1.2503 - accuracy: 0.4589 - f1_score: 0.3669 - val_loss: 1.2214 - val_accuracy: 0.4794 - val_f1_score: 0.3738\n",
      "Epoch 49/100\n",
      "315/315 [==============================] - 75s 240ms/step - loss: 1.2585 - accuracy: 0.4640 - f1_score: 0.3701 - val_loss: 1.2216 - val_accuracy: 0.4885 - val_f1_score: 0.3771\n",
      "Epoch 50/100\n",
      "315/315 [==============================] - 76s 240ms/step - loss: 1.2557 - accuracy: 0.4576 - f1_score: 0.3649 - val_loss: 1.2161 - val_accuracy: 0.4798 - val_f1_score: 0.3643\n",
      "Epoch 51/100\n",
      "315/315 [==============================] - 75s 240ms/step - loss: 1.2529 - accuracy: 0.4601 - f1_score: 0.3660 - val_loss: 1.2177 - val_accuracy: 0.4802 - val_f1_score: 0.3678\n",
      "Epoch 52/100\n",
      "315/315 [==============================] - 75s 239ms/step - loss: 1.2614 - accuracy: 0.4519 - f1_score: 0.3593 - val_loss: 1.2119 - val_accuracy: 0.4790 - val_f1_score: 0.3738\n",
      "Epoch 53/100\n",
      "315/315 [==============================] - 75s 239ms/step - loss: 1.2611 - accuracy: 0.4568 - f1_score: 0.3618 - val_loss: 1.2248 - val_accuracy: 0.4825 - val_f1_score: 0.3870\n",
      "Epoch 54/100\n",
      "315/315 [==============================] - 75s 240ms/step - loss: 1.2475 - accuracy: 0.4659 - f1_score: 0.3760 - val_loss: 1.2142 - val_accuracy: 0.4750 - val_f1_score: 0.3746\n",
      "Epoch 55/100\n",
      "315/315 [==============================] - 75s 239ms/step - loss: 1.2506 - accuracy: 0.4641 - f1_score: 0.3724 - val_loss: 1.2180 - val_accuracy: 0.4833 - val_f1_score: 0.3588\n",
      "Epoch 56/100\n",
      "315/315 [==============================] - 75s 239ms/step - loss: 1.2604 - accuracy: 0.4598 - f1_score: 0.3670 - val_loss: 1.2170 - val_accuracy: 0.4770 - val_f1_score: 0.3631\n",
      "Epoch 57/100\n",
      "315/315 [==============================] - 75s 239ms/step - loss: 1.2564 - accuracy: 0.4567 - f1_score: 0.3671 - val_loss: 1.2134 - val_accuracy: 0.4810 - val_f1_score: 0.3821\n",
      "Epoch 58/100\n",
      "315/315 [==============================] - 75s 239ms/step - loss: 1.2447 - accuracy: 0.4633 - f1_score: 0.3720 - val_loss: 1.2139 - val_accuracy: 0.4694 - val_f1_score: 0.3655\n",
      "Epoch 59/100\n",
      "315/315 [==============================] - 75s 239ms/step - loss: 1.2484 - accuracy: 0.4623 - f1_score: 0.3746 - val_loss: 1.2119 - val_accuracy: 0.4794 - val_f1_score: 0.3934\n",
      "Epoch 60/100\n",
      "315/315 [==============================] - 75s 239ms/step - loss: 1.2517 - accuracy: 0.4588 - f1_score: 0.3689 - val_loss: 1.2149 - val_accuracy: 0.4738 - val_f1_score: 0.3824\n",
      "Epoch 61/100\n",
      "315/315 [==============================] - 75s 239ms/step - loss: 1.2510 - accuracy: 0.4580 - f1_score: 0.3673 - val_loss: 1.2163 - val_accuracy: 0.4730 - val_f1_score: 0.3780\n",
      "Epoch 62/100\n",
      "315/315 [==============================] - 75s 239ms/step - loss: 1.2470 - accuracy: 0.4585 - f1_score: 0.3649 - val_loss: 1.2167 - val_accuracy: 0.4698 - val_f1_score: 0.3670\n",
      "Epoch 63/100\n",
      "315/315 [==============================] - 75s 239ms/step - loss: 1.2474 - accuracy: 0.4614 - f1_score: 0.3734 - val_loss: 1.2143 - val_accuracy: 0.4754 - val_f1_score: 0.3608\n",
      "Epoch 64/100\n",
      "315/315 [==============================] - 75s 239ms/step - loss: 1.2581 - accuracy: 0.4584 - f1_score: 0.3676 - val_loss: 1.2497 - val_accuracy: 0.4627 - val_f1_score: 0.3743\n",
      "Epoch 65/100\n",
      "315/315 [==============================] - 75s 239ms/step - loss: 1.2539 - accuracy: 0.4641 - f1_score: 0.3718 - val_loss: 1.2102 - val_accuracy: 0.4849 - val_f1_score: 0.3741\n",
      "Epoch 66/100\n",
      "315/315 [==============================] - 75s 239ms/step - loss: 1.2480 - accuracy: 0.4570 - f1_score: 0.3663 - val_loss: 1.2131 - val_accuracy: 0.4778 - val_f1_score: 0.3643\n",
      "Epoch 67/100\n",
      "315/315 [==============================] - 75s 239ms/step - loss: 1.2529 - accuracy: 0.4599 - f1_score: 0.3674 - val_loss: 1.2139 - val_accuracy: 0.4829 - val_f1_score: 0.3788\n",
      "Epoch 68/100\n",
      "315/315 [==============================] - 75s 239ms/step - loss: 1.2458 - accuracy: 0.4631 - f1_score: 0.3716 - val_loss: 1.2149 - val_accuracy: 0.4798 - val_f1_score: 0.3704\n",
      "Epoch 69/100\n",
      "315/315 [==============================] - 75s 239ms/step - loss: 1.2478 - accuracy: 0.4621 - f1_score: 0.3739 - val_loss: 1.2117 - val_accuracy: 0.4774 - val_f1_score: 0.3801\n",
      "Epoch 70/100\n",
      "315/315 [==============================] - 75s 239ms/step - loss: 1.2439 - accuracy: 0.4610 - f1_score: 0.3742 - val_loss: 1.2104 - val_accuracy: 0.4849 - val_f1_score: 0.3733\n",
      "Epoch 71/100\n",
      "315/315 [==============================] - 75s 239ms/step - loss: 1.2524 - accuracy: 0.4617 - f1_score: 0.3716 - val_loss: 1.2308 - val_accuracy: 0.4782 - val_f1_score: 0.3667\n",
      "Epoch 72/100\n",
      "315/315 [==============================] - 75s 239ms/step - loss: 1.2425 - accuracy: 0.4663 - f1_score: 0.3825 - val_loss: 1.2087 - val_accuracy: 0.4810 - val_f1_score: 0.3860\n",
      "Epoch 73/100\n",
      "315/315 [==============================] - 75s 239ms/step - loss: 1.2389 - accuracy: 0.4662 - f1_score: 0.3716 - val_loss: 1.2180 - val_accuracy: 0.4698 - val_f1_score: 0.3578\n",
      "Epoch 74/100\n",
      "315/315 [==============================] - 75s 239ms/step - loss: 1.2377 - accuracy: 0.4674 - f1_score: 0.3807 - val_loss: 1.2052 - val_accuracy: 0.4766 - val_f1_score: 0.3641\n",
      "Epoch 75/100\n",
      "315/315 [==============================] - 75s 239ms/step - loss: 1.2401 - accuracy: 0.4658 - f1_score: 0.3768 - val_loss: 1.2217 - val_accuracy: 0.4798 - val_f1_score: 0.3633\n",
      "Epoch 76/100\n",
      "315/315 [==============================] - 75s 239ms/step - loss: 1.2418 - accuracy: 0.4675 - f1_score: 0.3781 - val_loss: 1.2063 - val_accuracy: 0.4829 - val_f1_score: 0.3755\n",
      "Epoch 77/100\n",
      "315/315 [==============================] - 75s 239ms/step - loss: 1.2395 - accuracy: 0.4608 - f1_score: 0.3734 - val_loss: 1.2062 - val_accuracy: 0.4794 - val_f1_score: 0.3786\n",
      "Epoch 78/100\n",
      "315/315 [==============================] - 75s 239ms/step - loss: 1.2436 - accuracy: 0.4653 - f1_score: 0.3758 - val_loss: 1.2173 - val_accuracy: 0.4734 - val_f1_score: 0.3844\n",
      "Epoch 79/100\n",
      "315/315 [==============================] - 75s 239ms/step - loss: 1.2419 - accuracy: 0.4646 - f1_score: 0.3767 - val_loss: 1.2109 - val_accuracy: 0.4833 - val_f1_score: 0.3729\n",
      "Epoch 80/100\n",
      "315/315 [==============================] - 75s 239ms/step - loss: 1.2420 - accuracy: 0.4604 - f1_score: 0.3658 - val_loss: 1.2284 - val_accuracy: 0.4746 - val_f1_score: 0.3713\n",
      "Epoch 81/100\n",
      "315/315 [==============================] - 75s 239ms/step - loss: 1.2408 - accuracy: 0.4643 - f1_score: 0.3736 - val_loss: 1.2167 - val_accuracy: 0.4738 - val_f1_score: 0.3633\n",
      "Epoch 82/100\n",
      "315/315 [==============================] - 75s 239ms/step - loss: 1.2401 - accuracy: 0.4654 - f1_score: 0.3748 - val_loss: 1.2204 - val_accuracy: 0.4758 - val_f1_score: 0.3617\n",
      "Epoch 83/100\n",
      "315/315 [==============================] - 75s 239ms/step - loss: 1.2428 - accuracy: 0.4617 - f1_score: 0.3710 - val_loss: 1.2091 - val_accuracy: 0.4778 - val_f1_score: 0.3757\n",
      "Epoch 84/100\n",
      "315/315 [==============================] - 75s 239ms/step - loss: 1.2406 - accuracy: 0.4691 - f1_score: 0.3796 - val_loss: 1.2072 - val_accuracy: 0.4754 - val_f1_score: 0.3775\n",
      "Epoch 85/100\n",
      "315/315 [==============================] - 75s 239ms/step - loss: 1.2372 - accuracy: 0.4658 - f1_score: 0.3767 - val_loss: 1.2114 - val_accuracy: 0.4706 - val_f1_score: 0.3651\n",
      "Epoch 86/100\n",
      "315/315 [==============================] - 75s 239ms/step - loss: 1.2390 - accuracy: 0.4674 - f1_score: 0.3777 - val_loss: 1.2231 - val_accuracy: 0.4722 - val_f1_score: 0.3686\n",
      "Epoch 87/100\n",
      "315/315 [==============================] - 75s 239ms/step - loss: 1.2398 - accuracy: 0.4668 - f1_score: 0.3765 - val_loss: 1.2158 - val_accuracy: 0.4687 - val_f1_score: 0.3604\n",
      "Epoch 88/100\n",
      "315/315 [==============================] - 75s 239ms/step - loss: 1.2314 - accuracy: 0.4656 - f1_score: 0.3755 - val_loss: 1.2115 - val_accuracy: 0.4798 - val_f1_score: 0.3626\n",
      "Epoch 89/100\n",
      "315/315 [==============================] - 75s 239ms/step - loss: 1.2451 - accuracy: 0.4619 - f1_score: 0.3731 - val_loss: 1.2168 - val_accuracy: 0.4734 - val_f1_score: 0.3658\n",
      "Epoch 90/100\n",
      "315/315 [==============================] - 75s 239ms/step - loss: 1.2314 - accuracy: 0.4693 - f1_score: 0.3823 - val_loss: 1.2018 - val_accuracy: 0.4833 - val_f1_score: 0.3712\n",
      "Epoch 91/100\n",
      "315/315 [==============================] - 75s 239ms/step - loss: 1.2481 - accuracy: 0.4630 - f1_score: 0.3733 - val_loss: 1.1974 - val_accuracy: 0.4806 - val_f1_score: 0.3794\n",
      "Epoch 92/100\n",
      "315/315 [==============================] - 75s 239ms/step - loss: 1.2374 - accuracy: 0.4689 - f1_score: 0.3796 - val_loss: 1.2087 - val_accuracy: 0.4790 - val_f1_score: 0.3744\n",
      "Epoch 93/100\n",
      "315/315 [==============================] - 75s 239ms/step - loss: 1.2407 - accuracy: 0.4637 - f1_score: 0.3751 - val_loss: 1.2042 - val_accuracy: 0.4833 - val_f1_score: 0.3813\n",
      "Epoch 94/100\n",
      "315/315 [==============================] - 75s 239ms/step - loss: 1.2365 - accuracy: 0.4631 - f1_score: 0.3747 - val_loss: 1.2041 - val_accuracy: 0.4742 - val_f1_score: 0.3774\n",
      "Epoch 95/100\n",
      "315/315 [==============================] - 75s 239ms/step - loss: 1.2416 - accuracy: 0.4609 - f1_score: 0.3719 - val_loss: 1.2172 - val_accuracy: 0.4770 - val_f1_score: 0.3630\n",
      "Epoch 96/100\n",
      "315/315 [==============================] - 75s 239ms/step - loss: 1.2289 - accuracy: 0.4710 - f1_score: 0.3828 - val_loss: 1.2033 - val_accuracy: 0.4742 - val_f1_score: 0.3754\n",
      "Epoch 97/100\n",
      "315/315 [==============================] - 75s 239ms/step - loss: 1.2383 - accuracy: 0.4621 - f1_score: 0.3718 - val_loss: 1.2157 - val_accuracy: 0.4710 - val_f1_score: 0.3646\n",
      "Epoch 98/100\n",
      "315/315 [==============================] - 75s 239ms/step - loss: 1.2341 - accuracy: 0.4683 - f1_score: 0.3806 - val_loss: 1.2006 - val_accuracy: 0.4933 - val_f1_score: 0.3767\n",
      "Epoch 99/100\n",
      "315/315 [==============================] - 75s 239ms/step - loss: 1.2323 - accuracy: 0.4673 - f1_score: 0.3790 - val_loss: 1.2108 - val_accuracy: 0.4885 - val_f1_score: 0.3694\n",
      "Epoch 100/100\n",
      "315/315 [==============================] - 75s 239ms/step - loss: 1.2371 - accuracy: 0.4660 - f1_score: 0.3791 - val_loss: 1.2147 - val_accuracy: 0.4683 - val_f1_score: 0.3723\n"
     ]
    }
   ],
   "source": [
    "history = model.fit(train_data, epochs=100, validation_data=validation_data)"
   ]
  },
  {
   "cell_type": "code",
   "execution_count": 23,
   "metadata": {},
   "outputs": [
    {
     "data": {
      "image/png": "[encoded data removed]",
      "text/plain": [
       "<Figure size 640x480 with 1 Axes>"
      ]
     },
     "metadata": {},
     "output_type": "display_data"
    }
   ],
   "source": [
    "plot_train_metrics(history)"
   ]
  },
  {
   "cell_type": "code",
   "execution_count": 24,
   "metadata": {},
   "outputs": [
    {
     "name": "stdout",
     "output_type": "stream",
     "text": [
      "99/99 [==============================] - 22s 175ms/step\n"
     ]
    },
    {
     "data": {
      "text/plain": [
       "array([[0.24884993, 0.2498754 , 0.33481815, 0.11450964, 0.05194685],\n",
       "       [0.35895416, 0.29648045, 0.2655397 , 0.05872524, 0.02030044],\n",
       "       [0.03634843, 0.11920068, 0.3821102 , 0.33185193, 0.13048871]],\n",
       "      dtype=float32)"
      ]
     },
     "execution_count": 24,
     "metadata": {},
     "output_type": "execute_result"
    }
   ],
   "source": [
    "y_hat_prob = model.predict(X_test)\n",
    "y_hat_prob[:3]"
   ]
  },
  {
   "cell_type": "code",
   "execution_count": 25,
   "metadata": {},
   "outputs": [
    {
     "name": "stdout",
     "output_type": "stream",
     "text": [
      "[0 0 1 ... 2 3 3]\n"
     ]
    }
   ],
   "source": [
    "y_hat = np.argmax(y_hat_prob, axis=1)\n",
    "y_test_labels = np.argmax(y_test, axis=1)\n",
    "print(y_test_labels)"
   ]
  },
  {
   "cell_type": "code",
   "execution_count": 26,
   "metadata": {},
   "outputs": [
    {
     "name": "stdout",
     "output_type": "stream",
     "text": [
      "99/99 [==============================] - 22s 177ms/step - loss: 1.2172 - accuracy: 0.4638 - f1_score: 0.3810\n"
     ]
    },
    {
     "data": {
      "text/plain": [
       "0.4638095200061798"
      ]
     },
     "execution_count": 26,
     "metadata": {},
     "output_type": "execute_result"
    }
   ],
   "source": [
    "# Calcular la exactitud (accuracy)\n",
    "scores = model.evaluate(X_test, y_test)\n",
    "scores[1]"
   ]
  },
  {
   "cell_type": "code",
   "execution_count": 27,
   "metadata": {},
   "outputs": [
    {
     "data": {
      "image/png": "[encoded data removed]",
      "text/plain": [
       "<Figure size 640x480 with 2 Axes>"
      ]
     },
     "metadata": {},
     "output_type": "display_data"
    }
   ],
   "source": [
    "from sklearn.metrics import confusion_matrix, ConfusionMatrixDisplay\n",
    "cm = confusion_matrix(y_test_labels, y_hat)El F1-score correspondiente al primer entrenamiento con 20 epochs (3 clases) es 0.5391, y para los otros dos entrenamientos con 5 clases es 0.4049 y 0.3810 con 100 epochs. Esto indica que al usar 3 clases, el modelo predice mejor. De igual forma, al comparar el modelo inicial y al agregar una capa densa, se observa que el primero tiene un mayor F1-score. Al comparar las matrices de confusión, también se observa que, en general, se predicen mejor las clases sin la capa densa adicional.\n",
    "n_classes = len(np.unique(y_test_labels))\n",
    "display_labels = np.unique(y_test_labels) \n",
    "\n",
    "cmd = ConfusionMatrixDisplay(cm, display_labels=display_labels)\n",
    "cmd.plot(cmap=plt.cm.Blues)\n",
    "plt.show()"
   ]
  },
  {
   "cell_type": "markdown",
   "metadata": {},
   "source": [
    "El F1-score correspondiente al primer entrenamiento con 20 epochs (3 clases) es 0.5391, y para los otros dos entrenamientos con 5 clases es 0.4049 y 0.3810 con 100 epochs. Esto indica que al usar 3 clases, el modelo predice mejor. De igual forma, al comparar el modelo inicial y al agregar una capa densa, se observa que el primero tiene un mayor F1-score. Al comparar las matrices de confusión, también se observa que, en general, se predicen mejor las clases sin la capa densa adicional."
   ]
  },
  {
   "cell_type": "markdown",
   "metadata": {
    "id": "0ugxcD9s9o8l"
   },
   "source": [
    "## 3 - BERT Fine tuning"
   ]
  },
  {
   "cell_type": "code",
   "execution_count": null,
   "metadata": {
    "colab": {
     "base_uri": "https://localhost:8080/"
    },
    "id": "5SyRhGOAsTM5",
    "outputId": "edd930c3-f817-4e43-9f1e-9ed932239d1e"
   },
   "outputs": [
    {
     "name": "stdout",
     "output_type": "stream",
     "text": [
      "Model: \"model_4\"\n",
      "__________________________________________________________________________________________________\n",
      "Layer (type)                    Output Shape         Param #     Connected to                     \n",
      "==================================================================================================\n",
      "input_ids (InputLayer)          [(None, 140)]        0                                            \n",
      "__________________________________________________________________________________________________\n",
      "attention_mask (InputLayer)     [(None, 140)]        0                                            \n",
      "__________________________________________________________________________________________________\n",
      "tf_bert_model_1 (TFBertModel)   TFBaseModelOutputWit 109482240   input_ids[0][0]                  \n",
      "                                                                 attention_mask[0][0]             \n",
      "__________________________________________________________________________________________________\n",
      "dropout_119 (Dropout)           (None, 768)          0           tf_bert_model_1[0][1]            \n",
      "__________________________________________________________________________________________________\n",
      "dense_7 (Dense)                 (None, 3)            2307        dropout_119[0][0]                \n",
      "==================================================================================================\n",
      "Total params: 109,484,547\n",
      "Trainable params: 109,484,547\n",
      "Non-trainable params: 0\n",
      "__________________________________________________________________________________________________\n"
     ]
    }
   ],
   "source": [
    "model2 = model1\n",
    "\n",
    "# Colocar todas las layers como entrenables\n",
    "for layer in model2.layers:\n",
    "  layer.trainable = True\n",
    "\n",
    "# Como es fine tunning se recomiendo utiliza al menos un learning rate 100 veces\n",
    "# menor\n",
    "model2.compile(optimizer=keras.optimizers.Adam(learning_rate=0.00001),\n",
    "              loss='categorical_crossentropy',\n",
    "              metrics=['accuracy'])\n",
    "\n",
    "model2.summary()"
   ]
  },
  {
   "cell_type": "code",
   "execution_count": null,
   "metadata": {
    "colab": {
     "base_uri": "https://localhost:8080/"
    },
    "id": "-TDb4gKKtW1r",
    "outputId": "132c1ab7-3fb7-4cbd-b1cc-d75fbd5015bf"
   },
   "outputs": [
    {
     "name": "stdout",
     "output_type": "stream",
     "text": [
      "Epoch 1/5\n",
      "315/315 [==============================] - 592s 2s/step - loss: 0.7534 - accuracy: 0.6527 - val_loss: 0.6668 - val_accuracy: 0.6992\n",
      "Epoch 2/5\n",
      "315/315 [==============================] - 570s 2s/step - loss: 0.6114 - accuracy: 0.7290 - val_loss: 0.6275 - val_accuracy: 0.7325\n",
      "Epoch 3/5\n",
      "315/315 [==============================] - 571s 2s/step - loss: 0.4785 - accuracy: 0.8009 - val_loss: 0.6383 - val_accuracy: 0.7571\n",
      "Epoch 4/5\n",
      "315/315 [==============================] - 571s 2s/step - loss: 0.3461 - accuracy: 0.8616 - val_loss: 0.6397 - val_accuracy: 0.7893\n",
      "Epoch 5/5\n",
      "315/315 [==============================] - 571s 2s/step - loss: 0.2142 - accuracy: 0.9166 - val_loss: 0.7829 - val_accuracy: 0.7976\n"
     ]
    }
   ],
   "source": [
    "history2 = model2.fit(train_data, epochs=5, validation_data=validation_data)"
   ]
  },
  {
   "cell_type": "code",
   "execution_count": null,
   "metadata": {
    "colab": {
     "base_uri": "https://localhost:8080/",
     "height": 265
    },
    "id": "vpwwEaxgyI34",
    "outputId": "c84c3c8d-fc0a-4ff6-b543-d05d442731d2"
   },
   "outputs": [
    {
     "data": {
      "image/png": "[encoded data removed]",
      "text/plain": [
       "<Figure size 432x288 with 1 Axes>"
      ]
     },
     "metadata": {
      "needs_background": "light"
     },
     "output_type": "display_data"
    }
   ],
   "source": [
    "plot_train_metrics(history2)"
   ]
  },
  {
   "cell_type": "code",
   "execution_count": null,
   "metadata": {
    "colab": {
     "base_uri": "https://localhost:8080/"
    },
    "id": "tNooXBNxyN04",
    "outputId": "29e48463-8f00-4fb2-a835-144da613dd31"
   },
   "outputs": [
    {
     "data": {
      "text/plain": [
       "array([[2.4404263e-01, 5.2928245e-01, 2.2667496e-01],\n",
       "       [9.9471468e-01, 5.2647959e-03, 2.0519461e-05],\n",
       "       [2.3615422e-02, 9.2708921e-01, 4.9295384e-02]], dtype=float32)"
      ]
     },
     "execution_count": 93,
     "metadata": {},
     "output_type": "execute_result"
    }
   ],
   "source": [
    "y_hat_prob2 = model2.predict(X_test)\n",
    "y_hat_prob2[:3]"
   ]
  },
  {
   "cell_type": "code",
   "execution_count": null,
   "metadata": {
    "id": "f43_zEHZyRV2"
   },
   "outputs": [],
   "source": [
    "y_hat2 = np.argmax(y_hat_prob2, axis=1)"
   ]
  },
  {
   "cell_type": "code",
   "execution_count": null,
   "metadata": {
    "colab": {
     "base_uri": "https://localhost:8080/"
    },
    "id": "pN-fE34KyYlp",
    "outputId": "923f30cf-76ba-4455-b722-e968e0756c92"
   },
   "outputs": [
    {
     "name": "stdout",
     "output_type": "stream",
     "text": [
      "99/99 [==============================] - 61s 582ms/step - loss: 0.7595 - accuracy: 0.8035\n"
     ]
    },
    {
     "data": {
      "text/plain": [
       "0.8034920692443848"
      ]
     },
     "execution_count": 96,
     "metadata": {},
     "output_type": "execute_result"
    }
   ],
   "source": [
    "# Calcular la exactitud (accuracy)\n",
    "scores = model1.evaluate(X_test, y_test)\n",
    "scores[1]"
   ]
  },
  {
   "cell_type": "code",
   "execution_count": null,
   "metadata": {
    "colab": {
     "base_uri": "https://localhost:8080/",
     "height": 279
    },
    "id": "drV-U5LOyZuB",
    "outputId": "2cacadcc-e3fb-4042-f50c-51752ae58b0b"
   },
   "outputs": [
    {
     "data": {
      "image/png": "[encoded data removed]",
      "text/plain": [
       "<Figure size 432x288 with 2 Axes>"
      ]
     },
     "metadata": {
      "needs_background": "light"
     },
     "output_type": "display_data"
    }
   ],
   "source": [
    "from sklearn.metrics import confusion_matrix, ConfusionMatrixDisplay\n",
    "cm = confusion_matrix(y_test.argmax(axis=1), y_hat2)\n",
    "cmd = ConfusionMatrixDisplay(cm, display_labels=list(range(10)))\n",
    "cmd.plot(cmap=plt.cm.Blues)\n",
    "plt.show()"
   ]
  },
  {
   "cell_type": "markdown",
   "metadata": {
    "id": "P9oKmUU7z1HN"
   },
   "source": [
    "## Salvar el modelo"
   ]
  },
  {
   "cell_type": "code",
   "execution_count": null,
   "metadata": {
    "id": "GdL89sAc0FaN"
   },
   "outputs": [],
   "source": [
    "model2.save_weights('bert_weights.h5')"
   ]
  },
  {
   "cell_type": "code",
   "execution_count": null,
   "metadata": {
    "colab": {
     "base_uri": "https://localhost:8080/",
     "height": 17
    },
    "id": "Lk4S4D-H188y",
    "outputId": "b373fd93-9847-4ddc-c22e-2c5a5ce5ea2e"
   },
   "outputs": [
    {
     "data": {
      "application/javascript": [
       "\n",
       "    async function download(id, filename, size) {\n",
       "      if (!google.colab.kernel.accessAllowed) {\n",
       "        return;\n",
       "      }\n",
       "      const div = document.createElement('div');\n",
       "      const label = document.createElement('label');\n",
       "      label.textContent = `Downloading \"${filename}\": `;\n",
       "      div.appendChild(label);\n",
       "      const progress = document.createElement('progress');\n",
       "      progress.max = size;\n",
       "      div.appendChild(progress);\n",
       "      document.body.appendChild(div);\n",
       "\n",
       "      const buffers = [];\n",
       "      let downloaded = 0;\n",
       "\n",
       "      const channel = await google.colab.kernel.comms.open(id);\n",
       "      // Send a message to notify the kernel that we're ready.\n",
       "      channel.send({})\n",
       "\n",
       "      for await (const message of channel.messages) {\n",
       "        // Send a message to notify the kernel that we're ready.\n",
       "        channel.send({})\n",
       "        if (message.buffers) {\n",
       "          for (const buffer of message.buffers) {\n",
       "            buffers.push(buffer);\n",
       "            downloaded += buffer.byteLength;\n",
       "            progress.value = downloaded;\n",
       "          }\n",
       "        }\n",
       "      }\n",
       "      const blob = new Blob(buffers, {type: 'application/binary'});\n",
       "      const a = document.createElement('a');\n",
       "      a.href = window.URL.createObjectURL(blob);\n",
       "      a.download = filename;\n",
       "      div.appendChild(a);\n",
       "      a.click();\n",
       "      div.remove();\n",
       "    }\n",
       "  "
      ],
      "text/plain": [
       "<IPython.core.display.Javascript object>"
      ]
     },
     "metadata": {},
     "output_type": "display_data"
    },
    {
     "data": {
      "application/javascript": [
       "download(\"download_5d06ddfa-747c-4067-81ad-162ef7bab8e7\", \"bert_weights.h5\", 438212952)"
      ],
      "text/plain": [
       "<IPython.core.display.Javascript object>"
      ]
     },
     "metadata": {},
     "output_type": "display_data"
    }
   ],
   "source": [
    "# Descargar los pesos a nuestra PC\n",
    "# Solo es necesario si se desea repetir el uso de este modelo en el futuro\n",
    "from google.colab import files\n",
    "files.download('bert_weights.h5')"
   ]
  },
  {
   "cell_type": "markdown",
   "metadata": {
    "id": "JEweoQu6AXT1"
   },
   "source": [
    "## Levantar el modelo"
   ]
  },
  {
   "cell_type": "code",
   "execution_count": null,
   "metadata": {
    "colab": {
     "base_uri": "https://localhost:8080/"
    },
    "id": "qEyo5kAx-1yx",
    "outputId": "4d891763-0b9f-46fb-b7a9-95cca42643fd"
   },
   "outputs": [
    {
     "name": "stderr",
     "output_type": "stream",
     "text": [
      "/usr/local/lib/python3.7/dist-packages/transformers/configuration_utils.py:337: UserWarning: Passing `gradient_checkpointing` to a config initialization is deprecated and will be removed in v5 Transformers. Using `model.gradient_checkpointing_enable()` instead, or if you are using the `Trainer` API, pass `gradient_checkpointing=True` in your `TrainingArguments`.\n",
      "  \"Passing `gradient_checkpointing` to a config initialization is deprecated and will be removed in v5 \"\n",
      "Some layers from the model checkpoint at bert-base-uncased were not used when initializing TFBertModel: ['mlm___cls', 'nsp___cls']\n",
      "- This IS expected if you are initializing TFBertModel from the checkpoint of a model trained on another task or with another architecture (e.g. initializing a BertForSequenceClassification model from a BertForPreTraining model).\n",
      "- This IS NOT expected if you are initializing TFBertModel from the checkpoint of a model that you expect to be exactly identical (initializing a BertForSequenceClassification model from a BertForSequenceClassification model).\n",
      "All the layers of TFBertModel were initialized from the model checkpoint at bert-base-uncased.\n",
      "If your task is similar to the task the model of the checkpoint was trained on, you can already use TFBertModel for predictions without further training.\n"
     ]
    }
   ],
   "source": [
    "bert_model3 = TFBertModel.from_pretrained(\"bert-base-uncased\")\n",
    "\n",
    "input_ids = tensorflow.keras.layers.Input(shape=(max_length,), dtype=tensorflow.int32, name='input_ids')\n",
    "\n",
    "# attention_mask - is a binary mask which tells BERT which tokens to attend and which not to attend.\n",
    "# Encoder will add the 0 tokens to the some sequence which smaller than MAX_SEQUENCE_LENGTH, \n",
    "# and attention_mask, in this case, tells BERT where is the token from the original data and where is 0 pad token:\n",
    "attention_mask = tensorflow.keras.layers.Input((max_length,), dtype=tensorflow.int32, name='attention_mask')\n",
    "\n",
    "# Get the pooled_output (embedding que representa toda la entrada)\n",
    "output = bert_model3([input_ids, attention_mask])[1] \n",
    "\n",
    "# We can also add dropout as regularization technique:\n",
    "output = tensorflow.keras.layers.Dropout(rate=0.2)(output)\n",
    "\n",
    "# Se puede agregar más capas Densas en el medio si se desea\n",
    "\n",
    "# Provide number of classes to the final layer:\n",
    "output = tensorflow.keras.layers.Dense(output_shape, activation='softmax')(output)\n",
    "\n",
    "# Final model:\n",
    "model3 = tensorflow.keras.models.Model(inputs=[input_ids, attention_mask], outputs=output)"
   ]
  },
  {
   "cell_type": "code",
   "execution_count": null,
   "metadata": {
    "id": "RIoUIPR8-rwB"
   },
   "outputs": [],
   "source": [
    "model3.load_weights('bert_weights.h5')"
   ]
  },
  {
   "cell_type": "markdown",
   "metadata": {
    "id": "OYN9aJGYA-d2"
   },
   "source": [
    "## Ensayo"
   ]
  },
  {
   "cell_type": "code",
   "execution_count": null,
   "metadata": {
    "colab": {
     "base_uri": "https://localhost:8080/"
    },
    "id": "9ML7P5X8BAJe",
    "outputId": "530aa003-98a0-458e-c4c1-16d602a44003"
   },
   "outputs": [
    {
     "name": "stdout",
     "output_type": "stream",
     "text": [
      "Inputs ids: tf.Tensor(\n",
      "[[  101  1045  2293  2023 10439   999   102     0     0     0     0     0\n",
      "      0     0     0     0     0     0     0     0     0     0     0     0\n",
      "      0     0     0     0     0     0     0     0     0     0     0     0\n",
      "      0     0     0     0     0     0     0     0     0     0     0     0\n",
      "      0     0     0     0     0     0     0     0     0     0     0     0\n",
      "      0     0     0     0     0     0     0     0     0     0     0     0\n",
      "      0     0     0     0     0     0     0     0     0     0     0     0\n",
      "      0     0     0     0     0     0     0     0     0     0     0     0\n",
      "      0     0     0     0     0     0     0     0     0     0     0     0\n",
      "      0     0     0     0     0     0     0     0     0     0     0     0\n",
      "      0     0     0     0     0     0     0     0     0     0     0     0\n",
      "      0     0     0     0     0     0     0     0]], shape=(1, 140), dtype=int32)\n",
      "Attention mask: tf.Tensor(\n",
      "[[1 1 1 1 1 1 1 0 0 0 0 0 0 0 0 0 0 0 0 0 0 0 0 0 0 0 0 0 0 0 0 0 0 0 0 0\n",
      "  0 0 0 0 0 0 0 0 0 0 0 0 0 0 0 0 0 0 0 0 0 0 0 0 0 0 0 0 0 0 0 0 0 0 0 0\n",
      "  0 0 0 0 0 0 0 0 0 0 0 0 0 0 0 0 0 0 0 0 0 0 0 0 0 0 0 0 0 0 0 0 0 0 0 0\n",
      "  0 0 0 0 0 0 0 0 0 0 0 0 0 0 0 0 0 0 0 0 0 0 0 0 0 0 0 0 0 0 0 0]], shape=(1, 140), dtype=int32)\n"
     ]
    },
    {
     "name": "stderr",
     "output_type": "stream",
     "text": [
      "/usr/local/lib/python3.7/dist-packages/transformers/tokenization_utils_base.py:2217: FutureWarning: The `pad_to_max_length` argument is deprecated and will be removed in a future version, use `padding=True` or `padding='longest'` to pad to the longest sequence in the batch, or use `padding='max_length'` to pad to a max length. In this case, you can give a specific length with `max_length` (e.g. `max_length=45`) or leave max_length to None to pad to the maximal input size of the model (e.g. 512 for Bert).\n",
      "  FutureWarning,\n"
     ]
    }
   ],
   "source": [
    "text = \"I love this app!\"\n",
    "\n",
    "#tf_batch = bert_tokenizer(text, max_length=max_length, padding=True, truncation=True, return_tensors='tf')\n",
    "\n",
    "tf_batch = bert_tokenizer.encode_plus(\n",
    "    text,\n",
    "    add_special_tokens=True,\n",
    "    max_length=max_length, # truncates if len(s) > max_length\n",
    "    return_token_type_ids=False,\n",
    "    return_attention_mask=True,\n",
    "    pad_to_max_length=True, # pads to the right by default # CHECK THIS for pad_to_max_length\n",
    "    truncation=True,\n",
    "    return_tensors='tf'\n",
    ")\n",
    "\n",
    "print(\"Inputs ids:\", tf_batch['input_ids'])\n",
    "print(\"Attention mask:\", tf_batch['attention_mask'])"
   ]
  },
  {
   "cell_type": "code",
   "execution_count": null,
   "metadata": {
    "id": "VVOTfMhHBURv"
   },
   "outputs": [],
   "source": [
    "X_ensayo = [tf_batch['input_ids'],  \n",
    "          tf_batch['attention_mask']]"
   ]
  },
  {
   "cell_type": "code",
   "execution_count": null,
   "metadata": {
    "colab": {
     "base_uri": "https://localhost:8080/"
    },
    "id": "HWFX-xFcBDRV",
    "outputId": "0abc67f6-62b5-4199-d73b-5c1efd3a94ae"
   },
   "outputs": [
    {
     "name": "stdout",
     "output_type": "stream",
     "text": [
      "Clasificación: positive\n"
     ]
    }
   ],
   "source": [
    "y_prob_ensayo = model3.predict(X_ensayo)\n",
    "y_prob = np.argmax(y_prob_ensayo, axis=1)\n",
    "print(\"Clasificación:\", class_names[int(y_prob)])"
   ]
  },
  {
   "cell_type": "markdown",
   "metadata": {
    "id": "IXu1W7-5LkPL"
   },
   "source": [
    "## Conclusiones"
   ]
  },
  {
   "cell_type": "markdown",
   "metadata": {
    "id": "3NuAxjtcPhoa"
   },
   "source": [
    "Se puede apreciar que luego de realizar el fine tuning el modelo se ajusta mucho mejor al problema. Existen diferentes formas de llevar a cabo este proceso, es importante que el learning rate sea mucho menor.\\\n",
    "Existen optimizadores pensados para fine tuning que realizan el ajuste de learning rate adaptativo a medida que se va entrenando capas más profundas del modelo."
   ]
  }
 ],
 "metadata": {
  "accelerator": "GPU",
  "colab": {
   "provenance": []
  },
  "kernelspec": {
   "display_name": "Python 3 (ipykernel)",
   "language": "python",
   "name": "python3"
  },
  "language_info": {
   "codemirror_mode": {
    "name": "ipython",
    "version": 3
   },
   "file_extension": ".py",
   "mimetype": "text/x-python",
   "name": "python",
   "nbconvert_exporter": "python",
   "pygments_lexer": "ipython3",
   "version": "3.10.12"
  }
 },
 "nbformat": 4,
 "nbformat_minor": 4
}
