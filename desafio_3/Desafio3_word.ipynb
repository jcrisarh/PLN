{
 "cells": [
  {
   "cell_type": "markdown",
   "metadata": {
    "id": "g3yeJGnCYxuF"
   },
   "source": [
    "# Procesamiento de lenguaje natural\n",
    "## Desafío 3\n",
    "### Modelo de lenguaje con tokenización por palabras"
   ]
  },
  {
   "cell_type": "markdown",
   "metadata": {
    "id": "Iv5PEwGzZA9-"
   },
   "source": [
    "### Consigna\n",
    "- Seleccionar un corpus de texto sobre el cual entrenar el modelo de lenguaje.\n",
    "- Realizar el pre-procesamiento adecuado para tokenizar el corpus, estructurar el dataset y separar entre datos de entrenamiento y validación.\n",
    "- Proponer arquitecturas de redes neuronales basadas en unidades recurrentes para implementar un modelo de lenguaje.\n",
    "- Con el o los modelos que consideren adecuados, generar nuevas secuencias a partir de secuencias de contexto con las estrategias de greedy search y beam search determístico y estocástico. En este último caso observar el efecto de la temperatura en la generación de secuencias.\n",
    "\n",
    "\n",
    "### Sugerencias\n",
    "- Durante el entrenamiento, guiarse por el descenso de la perplejidad en los datos de validación para finalizar el entrenamiento. Para ello se provee un callback.\n",
    "- Explorar utilizar SimpleRNN (celda de Elman), LSTM y GRU.\n",
    "- rmsprop es el optimizador recomendado para la buena convergencia. No obstante se pueden explorar otros.\n"
   ]
  },
  {
   "cell_type": "code",
   "execution_count": 1,
   "metadata": {
    "id": "Y-QdFbHZYj7C"
   },
   "outputs": [
    {
     "name": "stderr",
     "output_type": "stream",
     "text": [
      "2024-06-23 16:11:58.362632: I tensorflow/core/platform/cpu_feature_guard.cc:193] This TensorFlow binary is optimized with oneAPI Deep Neural Network Library (oneDNN) to use the following CPU instructions in performance-critical operations:  AVX2 AVX512F AVX512_VNNI FMA\n",
      "To enable them in other operations, rebuild TensorFlow with the appropriate compiler flags.\n",
      "2024-06-23 16:11:58.454208: I tensorflow/core/util/port.cc:104] oneDNN custom operations are on. You may see slightly different numerical results due to floating-point round-off errors from different computation orders. To turn them off, set the environment variable `TF_ENABLE_ONEDNN_OPTS=0`.\n",
      "2024-06-23 16:11:58.914630: W tensorflow/compiler/xla/stream_executor/platform/default/dso_loader.cc:64] Could not load dynamic library 'libnvinfer.so.7'; dlerror: libnvinfer.so.7: cannot open shared object file: No such file or directory\n",
      "2024-06-23 16:11:58.914678: W tensorflow/compiler/xla/stream_executor/platform/default/dso_loader.cc:64] Could not load dynamic library 'libnvinfer_plugin.so.7'; dlerror: libnvinfer_plugin.so.7: cannot open shared object file: No such file or directory\n",
      "2024-06-23 16:11:58.914683: W tensorflow/compiler/tf2tensorrt/utils/py_utils.cc:38] TF-TRT Warning: Cannot dlopen some TensorRT libraries. If you would like to use Nvidia GPU with TensorRT, please make sure the missing libraries mentioned above are installed properly.\n"
     ]
    }
   ],
   "source": [
    "import os\n",
    "import random\n",
    "import io\n",
    "import pickle\n",
    "import re\n",
    "\n",
    "import numpy as np\n",
    "import pandas as pd\n",
    "import matplotlib.pyplot as plt\n",
    "from sklearn.model_selection import train_test_split\n",
    "\n",
    "from tensorflow import keras\n",
    "from tensorflow.keras import layers\n",
    "from keras.utils import to_categorical\n",
    "from keras.models import Sequential\n",
    "from keras.layers import Dense, LSTM, Embedding, Dropout\n",
    "from tensorflow.keras.losses import SparseCategoricalCrossentropy"
   ]
  },
  {
   "cell_type": "markdown",
   "metadata": {
    "id": "6j-3nQ4lZjfb"
   },
   "source": [
    "### Datos\n",
    "Se utiliza como dataset textos del libro *The Happy Prince and Other Tales* disponible en Project Gutenberg: [The Happy Prince and Other Tales](https://www.gutenberg.org/cache/epub/902/pg902.txt)"
   ]
  },
  {
   "cell_type": "code",
   "execution_count": 2,
   "metadata": {},
   "outputs": [
    {
     "name": "stdout",
     "output_type": "stream",
     "text": [
      "The Project Gutenberg eBook of The Happy Prince, and Other Tales\n",
      "    \n",
      "This ebook is for the use of anyone anywhere in the United States and\n",
      "most other parts of the world at no cost and with almost no restrictions\n",
      "whatsoever. You may copy it, give it away or re-use it under the terms\n",
      "of the Project Gutenberg License included with this ebook or online\n",
      "at www.gutenberg.org. If you are not located in the United States,\n",
      "you will have to check the laws of the country where you are located\n",
      "before using this eBook.\n",
      "\n",
      "Title: The Happy Prince, and Other Tales\n",
      "\n",
      "Author: Oscar Wilde\n",
      "\n",
      "Release date: May 1, 1997 [eBook #902]\n",
      "                Most recently updated: October 25, 2021\n",
      "\n",
      "Language: English\n",
      "\n",
      "Credits: David Price and Paul Redmond\n",
      "\n",
      "\n",
      "*** START OF THE PROJECT GUTENBERG EBOOK THE HAPPY PRINCE, AND OTHER TALES ***\n",
      "\n",
      "                          [Picture: Book cover]\n",
      "\n",
      "                       [Picture: The Happy Prince]\n",
      "\n",
      "\n",
      "\n",
      "\n",
      "\n",
      "                             The Happy Prince\n",
      "                             And Othe\n"
     ]
    }
   ],
   "source": [
    "file_path = os.path.join(\"docs\", \"the_happy_prince_and_other_tales\")\n",
    "\n",
    "with open(file_path, \"r\", encoding=\"utf-8\") as file:\n",
    "    text = file.read()\n",
    "\n",
    "print(text[:1000])"
   ]
  },
  {
   "cell_type": "code",
   "execution_count": 4,
   "metadata": {},
   "outputs": [],
   "source": [
    "def remove_previous_text(text, intro_marker):\n",
    "    \"\"\" remove introduction \"\"\"\n",
    "    intro_index = text.find(intro_marker)\n",
    "    if intro_index !=-1:\n",
    "        return text[intro_index + len(intro_marker):].strip()\n",
    "    return text"
   ]
  },
  {
   "cell_type": "code",
   "execution_count": 5,
   "metadata": {},
   "outputs": [],
   "source": [
    "def remove_text_below(text, end_marker):\n",
    "    \"\"\"remove text at the end\"\"\"\n",
    "    end_marker_pos = text.find(end_marker)\n",
    "    if end_marker_pos != -1:\n",
    "        return text[:end_marker_pos]\n",
    "    return text"
   ]
  },
  {
   "cell_type": "code",
   "execution_count": 14,
   "metadata": {},
   "outputs": [],
   "source": [
    "def remove_lineas_picture(texto):\n",
    "    patron = r'^\\[Picture:.*\\]$'\n",
    "    lineas = texto.splitlines()\n",
    "    lineas_filtradas = [linea for linea in lineas if not re.match(patron, linea.strip())]\n",
    "    texto_sin_pictures = '\\n'.join(lineas_filtradas)    \n",
    "    return texto_sin_pictures"
   ]
  },
  {
   "cell_type": "code",
   "execution_count": 15,
   "metadata": {},
   "outputs": [],
   "source": [
    "def remove_empty_lines(text):\n",
    "    lines = text.split('\\n')\n",
    "    clean_lines = [line for line in lines if line.strip()]\n",
    "    clean_text = '\\n'.join(clean_lines)\n",
    "    return clean_text"
   ]
  },
  {
   "cell_type": "code",
   "execution_count": 16,
   "metadata": {},
   "outputs": [
    {
     "name": "stdout",
     "output_type": "stream",
     "text": [
      "Cleaned text saved to: docs/cleaned_text_2.txt\n"
     ]
    }
   ],
   "source": [
    "with open(file_path, \"r\", encoding=\"utf-8\") as file:\n",
    "    text = file.read()\n",
    "\n",
    "intro_marker = \"The Remarkable Rocket                     87\"\n",
    "end_marker = \"* * * * *\"\n",
    "\n",
    "\n",
    "cleaned_text = remove_previous_text(text, intro_marker)\n",
    "cleaned_text = remove_text_below(cleaned_text, end_marker)\n",
    "cleaned_text = remove_lineas_picture(cleaned_text)\n",
    "cleaned_text = remove_empty_lines(cleaned_text)\n",
    "\n",
    "output_file_path = os.path.join(\"docs\", \"cleaned_text_2.txt\") \n",
    "\n",
    "with open(output_file_path, \"w\", encoding=\"utf-8\") as output_file:\n",
    "    output_file.write(cleaned_text)\n",
    "\n",
    "print(\"Cleaned text saved to:\", output_file_path)"
   ]
  },
  {
   "cell_type": "code",
   "execution_count": 17,
   "metadata": {},
   "outputs": [
    {
     "data": {
      "text/html": [
       "<div>\n",
       "<style scoped>\n",
       "    .dataframe tbody tr th:only-of-type {\n",
       "        vertical-align: middle;\n",
       "    }\n",
       "\n",
       "    .dataframe tbody tr th {\n",
       "        vertical-align: top;\n",
       "    }\n",
       "\n",
       "    .dataframe thead th {\n",
       "        text-align: right;\n",
       "    }\n",
       "</style>\n",
       "<table border=\"1\" class=\"dataframe\">\n",
       "  <thead>\n",
       "    <tr style=\"text-align: right;\">\n",
       "      <th></th>\n",
       "      <th>0</th>\n",
       "    </tr>\n",
       "  </thead>\n",
       "  <tbody>\n",
       "    <tr>\n",
       "      <th>0</th>\n",
       "      <td>The Happy Prince.</td>\n",
       "    </tr>\n",
       "    <tr>\n",
       "      <th>1</th>\n",
       "      <td>HIGH above the city, on a tall column, stood t...</td>\n",
       "    </tr>\n",
       "    <tr>\n",
       "      <th>2</th>\n",
       "      <td>Prince.  He was gilded all over with thin leav...</td>\n",
       "    </tr>\n",
       "    <tr>\n",
       "      <th>3</th>\n",
       "      <td>he had two bright sapphires, and a large red r...</td>\n",
       "    </tr>\n",
       "    <tr>\n",
       "      <th>4</th>\n",
       "      <td>sword-hilt.</td>\n",
       "    </tr>\n",
       "  </tbody>\n",
       "</table>\n",
       "</div>"
      ],
      "text/plain": [
       "                                                   0\n",
       "0                                  The Happy Prince.\n",
       "1  HIGH above the city, on a tall column, stood t...\n",
       "2  Prince.  He was gilded all over with thin leav...\n",
       "3  he had two bright sapphires, and a large red r...\n",
       "4                                        sword-hilt."
      ]
     },
     "execution_count": 17,
     "metadata": {},
     "output_type": "execute_result"
    }
   ],
   "source": [
    "df = pd.read_csv(output_file_path, sep='/n', header=None, engine='python')\n",
    "df.head()"
   ]
  },
  {
   "cell_type": "markdown",
   "metadata": {
    "id": "VeMpWpiyG5Ya"
   },
   "source": [
    "Consideraremos que cada secuencia para este dataset es un verso.\n",
    "\n",
    "Una de las primeras decisiones que hay que tomar es el tamaño de contexto de tokens máximo que puede consumir el modelo. Este podría ser un hiperparámetro del problema.\n",
    "\n",
    "Para elegir el tamaño de contexto máximo para este problema se puede explorar el dataset, para ello:\n",
    "- se consideran las palabras como términos.\n",
    "- se segmentará el texto de todos los versos del dataset y ses explorará la cantidad de términos presentes.\n",
    "\n"
   ]
  },
  {
   "cell_type": "code",
   "execution_count": 18,
   "metadata": {
    "id": "riT898QlZnmF"
   },
   "outputs": [
    {
     "name": "stdout",
     "output_type": "stream",
     "text": [
      "Cantidad de documentos: 1390\n"
     ]
    }
   ],
   "source": [
    "print(\"Cantidad de documentos:\", df.shape[0])"
   ]
  },
  {
   "cell_type": "markdown",
   "metadata": {
    "id": "cP1JdiOIKQWi"
   },
   "source": [
    "### Elegir el tamaño del contexto"
   ]
  },
  {
   "cell_type": "code",
   "execution_count": 19,
   "metadata": {
    "id": "m5FeTaGvbDbw"
   },
   "outputs": [],
   "source": [
    "from tensorflow.keras.preprocessing.text import Tokenizer\n",
    "from tensorflow.keras.preprocessing.text import text_to_word_sequence\n",
    "from tensorflow.keras.utils import pad_sequences\n"
   ]
  },
  {
   "cell_type": "code",
   "execution_count": 20,
   "metadata": {
    "id": "jveeyMVKHn9J"
   },
   "outputs": [
    {
     "data": {
      "text/plain": [
       "['The Happy Prince.',\n",
       " 'HIGH above the city, on a tall column, stood the statue of the Happy',\n",
       " 'Prince.  He was gilded all over with thin leaves of fine gold, for eyes',\n",
       " 'he had two bright sapphires, and a large red ruby glowed on his',\n",
       " 'sword-hilt.',\n",
       " 'He was very much admired indeed.  “He is as beautiful as a weathercock,”',\n",
       " 'remarked one of the Town Councillors who wished to gain a reputation for',\n",
       " 'having artistic tastes; “only not quite so useful,” he added, fearing',\n",
       " 'lest people should think him unpractical, which he really was not.',\n",
       " '“Why can’t you be like the Happy Prince?” asked a sensible mother of her',\n",
       " 'little boy who was crying for the moon.  “The Happy Prince never dreams',\n",
       " 'of crying for anything.”',\n",
       " '“I am glad there is some one in the world who is quite happy,” muttered a',\n",
       " 'disappointed man as he gazed at the wonderful statue.',\n",
       " '“He looks just like an angel,” said the Charity Children as they came out',\n",
       " 'of the cathedral in their bright scarlet cloaks and their clean white',\n",
       " 'pinafores.',\n",
       " '“How do you know?” said the Mathematical Master, “you have never seen',\n",
       " 'one.”',\n",
       " '“Ah! but we have, in our dreams,” answered the children; and the',\n",
       " 'Mathematical Master frowned and looked very severe, for he did not',\n",
       " 'approve of children dreaming.',\n",
       " 'One night there flew over the city a little Swallow.  His friends had',\n",
       " 'gone away to Egypt six weeks before, but he had stayed behind, for he was',\n",
       " 'in love with the most beautiful Reed.  He had met her early in the spring',\n",
       " 'as he was flying down the river after a big yellow moth, and had been so',\n",
       " 'attracted by her slender waist that he had stopped to talk to her.',\n",
       " '“Shall I love you?” said the Swallow, who liked to come to the point at',\n",
       " 'once, and the Reed made him a low bow.  So he flew round and round her,',\n",
       " 'touching the water with his wings, and making silver ripples.  This was',\n",
       " 'his courtship, and it lasted all through the summer.',\n",
       " '“It is a ridiculous attachment,” twittered the other Swallows; “she has',\n",
       " 'no money, and far too many relations”; and indeed the river was quite',\n",
       " 'full of Reeds.  Then, when the autumn came they all flew away.',\n",
       " 'After they had gone he felt lonely, and began to tire of his lady-love.',\n",
       " '“She has no conversation,” he said, “and I am afraid that she is a',\n",
       " 'coquette, for she is always flirting with the wind.”  And certainly,',\n",
       " 'whenever the wind blew, the Reed made the most graceful curtseys.  “I',\n",
       " 'admit that she is domestic,” he continued, “but I love travelling, and my',\n",
       " 'wife, consequently, should love travelling also.”',\n",
       " '“Will you come away with me?” he said finally to her; but the Reed shook',\n",
       " 'her head, she was so attached to her home.',\n",
       " '“You have been trifling with me,” he cried.  “I am off to the Pyramids.',\n",
       " 'Good-bye!” and he flew away.',\n",
       " 'All day long he flew, and at night-time he arrived at the city.  “Where',\n",
       " 'shall I put up?” he said; “I hope the town has made preparations.”',\n",
       " 'Then he saw the statue on the tall column.',\n",
       " '“I will put up there,” he cried; “it is a fine position, with plenty of',\n",
       " 'fresh air.”  So he alighted just between the feet of the Happy Prince.',\n",
       " '“I have a golden bedroom,” he said softly to himself as he looked round,',\n",
       " 'and he prepared to go to sleep; but just as he was putting his head under',\n",
       " 'his wing a large drop of water fell on him.  “What a curious thing!” he',\n",
       " 'cried; “there is not a single cloud in the sky, the stars are quite clear',\n",
       " 'and bright, and yet it is raining.  The climate in the north of Europe is',\n",
       " 'really dreadful.  The Reed used to like the rain, but that was merely her',\n",
       " 'selfishness.”',\n",
       " 'Then another drop fell.',\n",
       " '“What is the use of a statue if it cannot keep the rain off?” he said; “I',\n",
       " 'must look for a good chimney-pot,” and he determined to fly away.',\n",
       " 'But before he had opened his wings, a third drop fell, and he looked up,',\n",
       " 'and saw—Ah! what did he see?',\n",
       " 'The eyes of the Happy Prince were filled with tears, and tears were',\n",
       " 'running down his golden cheeks.  His face was so beautiful in the',\n",
       " 'moonlight that the little Swallow was filled with pity.',\n",
       " '“Who are you?” he said.',\n",
       " '“I am the Happy Prince.”',\n",
       " '“Why are you weeping then?” asked the Swallow; “you have quite drenched',\n",
       " 'me.”',\n",
       " '“When I was alive and had a human heart,” answered the statue, “I did not',\n",
       " 'know what tears were, for I lived in the Palace of Sans-Souci, where',\n",
       " 'sorrow is not allowed to enter.  In the daytime I played with my',\n",
       " 'companions in the garden, and in the evening I led the dance in the Great',\n",
       " 'Hall.  Round the garden ran a very lofty wall, but I never cared to ask',\n",
       " 'what lay beyond it, everything about me was so beautiful.  My courtiers',\n",
       " 'called me the Happy Prince, and happy indeed I was, if pleasure be',\n",
       " 'happiness.  So I lived, and so I died.  And now that I am dead they have',\n",
       " 'set me up here so high that I can see all the ugliness and all the misery',\n",
       " 'of my city, and though my heart is made of lead yet I cannot chose but',\n",
       " 'weep.”',\n",
       " '“What! is he not solid gold?” said the Swallow to himself.  He was too',\n",
       " 'polite to make any personal remarks out loud.',\n",
       " '“Far away,” continued the statue in a low musical voice, “far away in a',\n",
       " 'little street there is a poor house.  One of the windows is open, and',\n",
       " 'through it I can see a woman seated at a table.  Her face is thin and',\n",
       " 'worn, and she has coarse, red hands, all pricked by the needle, for she',\n",
       " 'is a seamstress.  She is embroidering passion-flowers on a satin gown for',\n",
       " 'the loveliest of the Queen’s maids-of-honour to wear at the next',\n",
       " 'Court-ball.  In a bed in the corner of the room her little boy is lying',\n",
       " 'ill.  He has a fever, and is asking for oranges.  His mother has nothing',\n",
       " 'to give him but river water, so he is crying.  Swallow, Swallow, little',\n",
       " 'Swallow, will you not bring her the ruby out of my sword-hilt?  My feet',\n",
       " 'are fastened to this pedestal and I cannot move.”',\n",
       " '“I am waited for in Egypt,” said the Swallow.  “My friends are flying up',\n",
       " 'and down the Nile, and talking to the large lotus-flowers.  Soon they',\n",
       " 'will go to sleep in the tomb of the great King.  The King is there',\n",
       " 'himself in his painted coffin.  He is wrapped in yellow linen, and',\n",
       " 'embalmed with spices.  Round his neck is a chain of pale green jade, and',\n",
       " 'his hands are like withered leaves.”',\n",
       " '“Swallow, Swallow, little Swallow,” said the Prince, “will you not stay',\n",
       " 'with me for one night, and be my messenger?  The boy is so thirsty, and',\n",
       " 'the mother so sad.”',\n",
       " '“I don’t think I like boys,” answered the Swallow.  “Last summer, when I',\n",
       " 'was staying on the river, there were two rude boys, the miller’s sons,',\n",
       " 'who were always throwing stones at me.  They never hit me, of course; we',\n",
       " 'swallows fly far too well for that, and besides, I come of a family',\n",
       " 'famous for its agility; but still, it was a mark of disrespect.”',\n",
       " 'But the Happy Prince looked so sad that the little Swallow was sorry.',\n",
       " '“It is very cold here,” he said; “but I will stay with you for one night,',\n",
       " 'and be your messenger.”',\n",
       " '“Thank you, little Swallow,” said the Prince.',\n",
       " 'So the Swallow picked out the great ruby from the Prince’s sword, and',\n",
       " 'flew away with it in his beak over the roofs of the town.',\n",
       " 'He passed by the cathedral tower, where the white marble angels were',\n",
       " 'sculptured.  He passed by the palace and heard the sound of dancing.  A',\n",
       " 'beautiful girl came out on the balcony with her lover.  “How wonderful',\n",
       " 'the stars are,” he said to her, “and how wonderful is the power of love!”',\n",
       " '“I hope my dress will be ready in time for the State-ball,” she answered;',\n",
       " '“I have ordered passion-flowers to be embroidered on it; but the',\n",
       " 'seamstresses are so lazy.”',\n",
       " 'He passed over the river, and saw the lanterns hanging to the masts of',\n",
       " 'the ships.  He passed over the Ghetto, and saw the old Jews bargaining',\n",
       " 'with each other, and weighing out money in copper scales.  At last he',\n",
       " 'came to the poor house and looked in.  The boy was tossing feverishly on',\n",
       " 'his bed, and the mother had fallen asleep, she was so tired.  In he',\n",
       " 'hopped, and laid the great ruby on the table beside the woman’s thimble.',\n",
       " 'Then he flew gently round the bed, fanning the boy’s forehead with his',\n",
       " 'wings.  “How cool I feel,” said the boy, “I must be getting better”; and',\n",
       " 'he sank into a delicious slumber.',\n",
       " 'Then the Swallow flew back to the Happy Prince, and told him what he had',\n",
       " 'done.  “It is curious,” he remarked, “but I feel quite warm now, although',\n",
       " 'it is so cold.”',\n",
       " '“That is because you have done a good action,” said the Prince.  And the',\n",
       " 'little Swallow began to think, and then he fell asleep.  Thinking always',\n",
       " 'made him sleepy.',\n",
       " 'When day broke he flew down to the river and had a bath.  “What a',\n",
       " 'remarkable phenomenon,” said the Professor of Ornithology as he was',\n",
       " 'passing over the bridge.  “A swallow in winter!”  And he wrote a long',\n",
       " 'letter about it to the local newspaper.  Every one quoted it, it was full',\n",
       " 'of so many words that they could not understand.',\n",
       " '“To-night I go to Egypt,” said the Swallow, and he was in high spirits at',\n",
       " 'the prospect.  He visited all the public monuments, and sat a long time',\n",
       " 'on top of the church steeple.  Wherever he went the Sparrows chirruped,',\n",
       " 'and said to each other, “What a distinguished stranger!” so he enjoyed',\n",
       " 'himself very much.',\n",
       " 'When the moon rose he flew back to the Happy Prince.  “Have you any',\n",
       " 'commissions for Egypt?” he cried; “I am just starting.”',\n",
       " '“Swallow, Swallow, little Swallow,” said the Prince, “will you not stay',\n",
       " 'with me one night longer?”',\n",
       " '“I am waited for in Egypt,” answered the Swallow.  “To-morrow my friends',\n",
       " 'will fly up to the Second Cataract.  The river-horse couches there among',\n",
       " 'the bulrushes, and on a great granite throne sits the God Memnon.  All',\n",
       " 'night long he watches the stars, and when the morning star shines he',\n",
       " 'utters one cry of joy, and then he is silent.  At noon the yellow lions',\n",
       " 'come down to the water’s edge to drink.  They have eyes like green',\n",
       " 'beryls, and their roar is louder than the roar of the cataract.”',\n",
       " '“Swallow, Swallow, little Swallow,” said the Prince, “far away across the',\n",
       " 'city I see a young man in a garret.  He is leaning over a desk covered',\n",
       " 'with papers, and in a tumbler by his side there is a bunch of withered',\n",
       " 'violets.  His hair is brown and crisp, and his lips are red as a',\n",
       " 'pomegranate, and he has large and dreamy eyes.  He is trying to finish a',\n",
       " 'play for the Director of the Theatre, but he is too cold to write any',\n",
       " 'more.  There is no fire in the grate, and hunger has made him faint.”',\n",
       " '“I will wait with you one night longer,” said the Swallow, who really had',\n",
       " 'a good heart.  “Shall I take him another ruby?”',\n",
       " '“Alas!  I have no ruby now,” said the Prince; “my eyes are all that I',\n",
       " 'have left.  They are made of rare sapphires, which were brought out of',\n",
       " 'India a thousand years ago.  Pluck out one of them and take it to him.',\n",
       " 'He will sell it to the jeweller, and buy food and firewood, and finish',\n",
       " 'his play.”',\n",
       " '“Dear Prince,” said the Swallow, “I cannot do that”; and he began to',\n",
       " 'weep.',\n",
       " '“Swallow, Swallow, little Swallow,” said the Prince, “do as I command',\n",
       " 'you.”',\n",
       " 'So the Swallow plucked out the Prince’s eye, and flew away to the',\n",
       " 'student’s garret.  It was easy enough to get in, as there was a hole in',\n",
       " 'the roof.  Through this he darted, and came into the room.  The young man',\n",
       " 'had his head buried in his hands, so he did not hear the flutter of the',\n",
       " 'bird’s wings, and when he looked up he found the beautiful sapphire lying',\n",
       " 'on the withered violets.',\n",
       " '“I am beginning to be appreciated,” he cried; “this is from some great',\n",
       " 'admirer.  Now I can finish my play,” and he looked quite happy.',\n",
       " 'The next day the Swallow flew down to the harbour.  He sat on the mast of',\n",
       " 'a large vessel and watched the sailors hauling big chests out of the hold',\n",
       " 'with ropes.  “Heave a-hoy!” they shouted as each chest came up.  “I am',\n",
       " 'going to Egypt”! cried the Swallow, but nobody minded, and when the moon',\n",
       " 'rose he flew back to the Happy Prince.',\n",
       " '“I am come to bid you good-bye,” he cried.',\n",
       " '“Swallow, Swallow, little Swallow,” said the Prince, “will you not stay',\n",
       " 'with me one night longer?”',\n",
       " '“It is winter,” answered the Swallow, “and the chill snow will soon be',\n",
       " 'here.  In Egypt the sun is warm on the green palm-trees, and the',\n",
       " 'crocodiles lie in the mud and look lazily about them.  My companions are',\n",
       " 'building a nest in the Temple of Baalbec, and the pink and white doves',\n",
       " 'are watching them, and cooing to each other.  Dear Prince, I must leave',\n",
       " 'you, but I will never forget you, and next spring I will bring you back',\n",
       " 'two beautiful jewels in place of those you have given away.  The ruby',\n",
       " 'shall be redder than a red rose, and the sapphire shall be as blue as the',\n",
       " 'great sea.”',\n",
       " '“In the square below,” said the Happy Prince, “there stands a little',\n",
       " 'match-girl.  She has let her matches fall in the gutter, and they are all',\n",
       " 'spoiled.  Her father will beat her if she does not bring home some money,',\n",
       " 'and she is crying.  She has no shoes or stockings, and her little head is',\n",
       " 'bare.  Pluck out my other eye, and give it to her, and her father will',\n",
       " 'not beat her.”',\n",
       " '“I will stay with you one night longer,” said the Swallow, “but I cannot',\n",
       " 'pluck out your eye.  You would be quite blind then.”',\n",
       " '“Swallow, Swallow, little Swallow,” said the Prince, “do as I command',\n",
       " 'you.”',\n",
       " 'So he plucked out the Prince’s other eye, and darted down with it.  He',\n",
       " 'swooped past the match-girl, and slipped the jewel into the palm of her',\n",
       " 'hand.  “What a lovely bit of glass,” cried the little girl; and she ran',\n",
       " 'home, laughing.',\n",
       " 'Then the Swallow came back to the Prince.  “You are blind now,” he said,',\n",
       " '“so I will stay with you always.”',\n",
       " '“No, little Swallow,” said the poor Prince, “you must go away to Egypt.”',\n",
       " '“I will stay with you always,” said the Swallow, and he slept at the',\n",
       " 'Prince’s feet.',\n",
       " 'All the next day he sat on the Prince’s shoulder, and told him stories of',\n",
       " 'what he had seen in strange lands.  He told him of the red ibises, who',\n",
       " 'stand in long rows on the banks of the Nile, and catch gold-fish in their',\n",
       " 'beaks; of the Sphinx, who is as old as the world itself, and lives in the',\n",
       " 'desert, and knows everything; of the merchants, who walk slowly by the',\n",
       " 'side of their camels, and carry amber beads in their hands; of the King',\n",
       " 'of the Mountains of the Moon, who is as black as ebony, and worships a',\n",
       " 'large crystal; of the great green snake that sleeps in a palm-tree, and',\n",
       " 'has twenty priests to feed it with honey-cakes; and of the pygmies who',\n",
       " 'sail over a big lake on large flat leaves, and are always at war with the',\n",
       " 'butterflies.',\n",
       " '“Dear little Swallow,” said the Prince, “you tell me of marvellous',\n",
       " 'things, but more marvellous than anything is the suffering of men and of',\n",
       " 'women.  There is no Mystery so great as Misery.  Fly over my city, little',\n",
       " 'Swallow, and tell me what you see there.”',\n",
       " 'So the Swallow flew over the great city, and saw the rich making merry in',\n",
       " 'their beautiful houses, while the beggars were sitting at the gates.  He',\n",
       " 'flew into dark lanes, and saw the white faces of starving children',\n",
       " 'looking out listlessly at the black streets.  Under the archway of a',\n",
       " 'bridge two little boys were lying in one another’s arms to try and keep',\n",
       " 'themselves warm.  “How hungry we are!” they said.  “You must not lie',\n",
       " 'here,” shouted the Watchman, and they wandered out into the rain.',\n",
       " 'Then he flew back and told the Prince what he had seen.',\n",
       " '“I am covered with fine gold,” said the Prince, “you must take it off,',\n",
       " 'leaf by leaf, and give it to my poor; the living always think that gold',\n",
       " 'can make them happy.”',\n",
       " 'Leaf after leaf of the fine gold the Swallow picked off, till the Happy',\n",
       " 'Prince looked quite dull and grey.  Leaf after leaf of the fine gold he',\n",
       " 'brought to the poor, and the children’s faces grew rosier, and they',\n",
       " 'laughed and played games in the street.  “We have bread now!” they cried.',\n",
       " 'Then the snow came, and after the snow came the frost.  The streets',\n",
       " 'looked as if they were made of silver, they were so bright and',\n",
       " 'glistening; long icicles like crystal daggers hung down from the eaves of',\n",
       " 'the houses, everybody went about in furs, and the little boys wore',\n",
       " 'scarlet caps and skated on the ice.',\n",
       " 'The poor little Swallow grew colder and colder, but he would not leave',\n",
       " 'the Prince, he loved him too well.  He picked up crumbs outside the',\n",
       " 'baker’s door when the baker was not looking and tried to keep himself',\n",
       " 'warm by flapping his wings.',\n",
       " 'But at last he knew that he was going to die.  He had just strength to',\n",
       " 'fly up to the Prince’s shoulder once more.  “Good-bye, dear Prince!” he',\n",
       " 'murmured, “will you let me kiss your hand?”',\n",
       " '“I am glad that you are going to Egypt at last, little Swallow,” said the',\n",
       " 'Prince, “you have stayed too long here; but you must kiss me on the lips,',\n",
       " 'for I love you.”',\n",
       " '“It is not to Egypt that I am going,” said the Swallow.  “I am going to',\n",
       " 'the House of Death.  Death is the brother of Sleep, is he not?”',\n",
       " 'And he kissed the Happy Prince on the lips, and fell down dead at his',\n",
       " 'feet.',\n",
       " 'At that moment a curious crack sounded inside the statue, as if something',\n",
       " 'had broken.  The fact is that the leaden heart had snapped right in two.',\n",
       " 'It certainly was a dreadfully hard frost.',\n",
       " 'Early the next morning the Mayor was walking in the square below in',\n",
       " 'company with the Town Councillors.  As they passed the column he looked',\n",
       " 'up at the statue: “Dear me! how shabby the Happy Prince looks!” he said.',\n",
       " '“How shabby indeed!” cried the Town Councillors, who always agreed with',\n",
       " 'the Mayor; and they went up to look at it.',\n",
       " '“The ruby has fallen out of his sword, his eyes are gone, and he is',\n",
       " 'golden no longer,” said the Mayor in fact, “he is little better than a',\n",
       " 'beggar!”',\n",
       " '“Little better than a beggar,” said the Town Councillors.',\n",
       " '“And here is actually a dead bird at his feet!” continued the Mayor.  “We',\n",
       " 'must really issue a proclamation that birds are not to be allowed to die',\n",
       " 'here.”  And the Town Clerk made a note of the suggestion.',\n",
       " 'So they pulled down the statue of the Happy Prince.  “As he is no longer',\n",
       " 'beautiful he is no longer useful,” said the Art Professor at the',\n",
       " 'University.',\n",
       " 'Then they melted the statue in a furnace, and the Mayor held a meeting of',\n",
       " 'the Corporation to decide what was to be done with the metal.  “We must',\n",
       " 'have another statue, of course,” he said, “and it shall be a statue of',\n",
       " 'myself.”',\n",
       " '“Of myself,” said each of the Town Councillors, and they quarrelled.',\n",
       " 'When I last heard of them they were quarrelling still.',\n",
       " '“What a strange thing!” said the overseer of the workmen at the foundry.',\n",
       " '“This broken lead heart will not melt in the furnace.  We must throw it',\n",
       " 'away.”  So they threw it on a dust-heap where the dead Swallow was also',\n",
       " 'lying.',\n",
       " '“Bring me the two most precious things in the city,” said God to one of',\n",
       " 'His Angels; and the Angel brought Him the leaden heart and the dead bird.',\n",
       " '“You have rightly chosen,” said God, “for in my garden of Paradise this',\n",
       " 'little bird shall sing for evermore, and in my city of gold the Happy',\n",
       " 'Prince shall praise me.”',\n",
       " 'The Nightingale and the Rose.',\n",
       " '“SHE said that she would dance with me if I brought her red roses,” cried',\n",
       " 'the young Student; “but in all my garden there is no red rose.”',\n",
       " 'From her nest in the holm-oak tree the Nightingale heard him, and she',\n",
       " 'looked out through the leaves, and wondered.',\n",
       " '“No red rose in all my garden!” he cried, and his beautiful eyes filled',\n",
       " 'with tears.  “Ah, on what little things does happiness depend!  I have',\n",
       " 'read all that the wise men have written, and all the secrets of',\n",
       " 'philosophy are mine, yet for want of a red rose is my life made',\n",
       " 'wretched.”',\n",
       " '“Here at last is a true lover,” said the Nightingale.  “Night after night',\n",
       " 'have I sung of him, though I knew him not: night after night have I told',\n",
       " 'his story to the stars, and now I see him.  His hair is dark as the',\n",
       " 'hyacinth-blossom, and his lips are red as the rose of his desire; but',\n",
       " 'passion has made his face like pale ivory, and sorrow has set her seal',\n",
       " 'upon his brow.”',\n",
       " '“The Prince gives a ball to-morrow night,” murmured the young Student,',\n",
       " '“and my love will be of the company.  If I bring her a red rose she will',\n",
       " 'dance with me till dawn.  If I bring her a red rose, I shall hold her in',\n",
       " 'my arms, and she will lean her head upon my shoulder, and her hand will',\n",
       " 'be clasped in mine.  But there is no red rose in my garden, so I shall',\n",
       " 'sit lonely, and she will pass me by.  She will have no heed of me, and my',\n",
       " 'heart will break.”',\n",
       " '“Here indeed is the true lover,” said the Nightingale.  “What I sing of,',\n",
       " 'he suffers—what is joy to me, to him is pain.  Surely Love is a wonderful',\n",
       " 'thing.  It is more precious than emeralds, and dearer than fine opals.',\n",
       " 'Pearls and pomegranates cannot buy it, nor is it set forth in the',\n",
       " 'marketplace.  It may not be purchased of the merchants, nor can it be',\n",
       " 'weighed out in the balance for gold.”',\n",
       " '“The musicians will sit in their gallery,” said the young Student, “and',\n",
       " 'play upon their stringed instruments, and my love will dance to the sound',\n",
       " 'of the harp and the violin.  She will dance so lightly that her feet will',\n",
       " 'not touch the floor, and the courtiers in their gay dresses will throng',\n",
       " 'round her.  But with me she will not dance, for I have no red rose to',\n",
       " 'give her”; and he flung himself down on the grass, and buried his face in',\n",
       " 'his hands, and wept.',\n",
       " '“Why is he weeping?” asked a little Green Lizard, as he ran past him with',\n",
       " 'his tail in the air.',\n",
       " '“Why, indeed?” said a Butterfly, who was fluttering about after a',\n",
       " 'sunbeam.',\n",
       " '“Why, indeed?” whispered a Daisy to his neighbour, in a soft, low voice.',\n",
       " '“He is weeping for a red rose,” said the Nightingale.',\n",
       " '“For a red rose?” they cried; “how very ridiculous!” and the little',\n",
       " 'Lizard, who was something of a cynic, laughed outright.',\n",
       " 'But the Nightingale understood the secret of the Student’s sorrow, and',\n",
       " 'she sat silent in the oak-tree, and thought about the mystery of Love.',\n",
       " 'Suddenly she spread her brown wings for flight, and soared into the air.',\n",
       " 'She passed through the grove like a shadow, and like a shadow she sailed',\n",
       " 'across the garden.',\n",
       " 'In the centre of the grass-plot was standing a beautiful Rose-tree, and',\n",
       " 'when she saw it she flew over to it, and lit upon a spray.',\n",
       " '“Give me a red rose,” she cried, “and I will sing you my sweetest song.”',\n",
       " 'But the Tree shook its head.',\n",
       " '“My roses are white,” it answered; “as white as the foam of the sea, and',\n",
       " 'whiter than the snow upon the mountain.  But go to my brother who grows',\n",
       " 'round the old sun-dial, and perhaps he will give you what you want.”',\n",
       " 'So the Nightingale flew over to the Rose-tree that was growing round the',\n",
       " 'old sun-dial.',\n",
       " '“Give me a red rose,” she cried, “and I will sing you my sweetest song.”',\n",
       " 'But the Tree shook its head.',\n",
       " '“My roses are yellow,” it answered; “as yellow as the hair of the',\n",
       " 'mermaiden who sits upon an amber throne, and yellower than the daffodil',\n",
       " 'that blooms in the meadow before the mower comes with his scythe.  But go',\n",
       " 'to my brother who grows beneath the Student’s window, and perhaps he will',\n",
       " 'give you what you want.”',\n",
       " 'So the Nightingale flew over to the Rose-tree that was growing beneath',\n",
       " 'the Student’s window.',\n",
       " '“Give me a red rose,” she cried, “and I will sing you my sweetest song.”',\n",
       " 'But the Tree shook its head.',\n",
       " '“My roses are red,” it answered, “as red as the feet of the dove, and',\n",
       " 'redder than the great fans of coral that wave and wave in the',\n",
       " 'ocean-cavern.  But the winter has chilled my veins, and the frost has',\n",
       " 'nipped my buds, and the storm has broken my branches, and I shall have no',\n",
       " 'roses at all this year.”',\n",
       " '“One red rose is all I want,” cried the Nightingale, “only one red rose!',\n",
       " 'Is there no way by which I can get it?”',\n",
       " '“There is a way,” answered the Tree; “but it is so terrible that I dare',\n",
       " 'not tell it to you.”',\n",
       " '“Tell it to me,” said the Nightingale, “I am not afraid.”',\n",
       " '“If you want a red rose,” said the Tree, “you must build it out of music',\n",
       " 'by moonlight, and stain it with your own heart’s-blood.  You must sing to',\n",
       " 'me with your breast against a thorn.  All night long you must sing to me,',\n",
       " 'and the thorn must pierce your heart, and your life-blood must flow into',\n",
       " 'my veins, and become mine.”',\n",
       " '“Death is a great price to pay for a red rose,” cried the Nightingale,',\n",
       " '“and Life is very dear to all.  It is pleasant to sit in the green wood,',\n",
       " 'and to watch the Sun in his chariot of gold, and the Moon in her chariot',\n",
       " 'of pearl.  Sweet is the scent of the hawthorn, and sweet are the',\n",
       " 'bluebells that hide in the valley, and the heather that blows on the',\n",
       " 'hill.  Yet Love is better than Life, and what is the heart of a bird',\n",
       " 'compared to the heart of a man?”',\n",
       " 'So she spread her brown wings for flight, and soared into the air.  She',\n",
       " 'swept over the garden like a shadow, and like a shadow she sailed through',\n",
       " 'the grove.',\n",
       " 'The young Student was still lying on the grass, where she had left him,',\n",
       " 'and the tears were not yet dry in his beautiful eyes.',\n",
       " '“Be happy,” cried the Nightingale, “be happy; you shall have your red',\n",
       " 'rose.  I will build it out of music by moonlight, and stain it with my',\n",
       " 'own heart’s-blood.  All that I ask of you in return is that you will be a',\n",
       " 'true lover, for Love is wiser than Philosophy, though she is wise, and',\n",
       " 'mightier than Power, though he is mighty.  Flame-coloured are his wings,',\n",
       " 'and coloured like flame is his body.  His lips are sweet as honey, and',\n",
       " 'his breath is like frankincense.”',\n",
       " 'The Student looked up from the grass, and listened, but he could not',\n",
       " 'understand what the Nightingale was saying to him, for he only knew the',\n",
       " 'things that are written down in books.',\n",
       " 'But the Oak-tree understood, and felt sad, for he was very fond of the',\n",
       " 'little Nightingale who had built her nest in his branches.',\n",
       " '“Sing me one last song,” he whispered; “I shall feel very lonely when you',\n",
       " 'are gone.”',\n",
       " 'So the Nightingale sang to the Oak-tree, and her voice was like water',\n",
       " 'bubbling from a silver jar.',\n",
       " 'When she had finished her song the Student got up, and pulled a note-book',\n",
       " 'and a lead-pencil out of his pocket.',\n",
       " '“She has form,” he said to himself, as he walked away through the',\n",
       " 'grove—“that cannot be denied to her; but has she got feeling?  I am',\n",
       " 'afraid not.  In fact, she is like most artists; she is all style, without',\n",
       " 'any sincerity.  She would not sacrifice herself for others.  She thinks',\n",
       " 'merely of music, and everybody knows that the arts are selfish.  Still,',\n",
       " 'it must be admitted that she has some beautiful notes in her voice.  What',\n",
       " 'a pity it is that they do not mean anything, or do any practical good.”',\n",
       " 'And he went into his room, and lay down on his little pallet-bed, and',\n",
       " 'began to think of his love; and, after a time, he fell asleep.',\n",
       " 'And when the Moon shone in the heavens the Nightingale flew to the',\n",
       " 'Rose-tree, and set her breast against the thorn.  All night long she sang',\n",
       " 'with her breast against the thorn, and the cold crystal Moon leaned down',\n",
       " 'and listened.  All night long she sang, and the thorn went deeper and',\n",
       " 'deeper into her breast, and her life-blood ebbed away from her.',\n",
       " 'She sang first of the birth of love in the heart of a boy and a girl.',\n",
       " 'And on the top-most spray of the Rose-tree there blossomed a marvellous',\n",
       " 'rose, petal following petal, as song followed song.  Pale was it, at',\n",
       " 'first, as the mist that hangs over the river—pale as the feet of the',\n",
       " 'morning, and silver as the wings of the dawn.  As the shadow of a rose in',\n",
       " 'a mirror of silver, as the shadow of a rose in a water-pool, so was the',\n",
       " 'rose that blossomed on the topmost spray of the Tree.',\n",
       " 'But the Tree cried to the Nightingale to press closer against the thorn.',\n",
       " '“Press closer, little Nightingale,” cried the Tree, “or the Day will come',\n",
       " 'before the rose is finished.”',\n",
       " 'So the Nightingale pressed closer against the thorn, and louder and',\n",
       " 'louder grew her song, for she sang of the birth of passion in the soul of',\n",
       " 'a man and a maid.',\n",
       " 'And a delicate flush of pink came into the leaves of the rose, like the',\n",
       " 'flush in the face of the bridegroom when he kisses the lips of the bride.',\n",
       " 'But the thorn had not yet reached her heart, so the rose’s heart remained',\n",
       " 'white, for only a Nightingale’s heart’s-blood can crimson the heart of a',\n",
       " 'rose.',\n",
       " 'And the Tree cried to the Nightingale to press closer against the thorn.',\n",
       " '“Press closer, little Nightingale,” cried the Tree, “or the Day will come',\n",
       " 'before the rose is finished.”',\n",
       " 'So the Nightingale pressed closer against the thorn, and the thorn',\n",
       " 'touched her heart, and a fierce pang of pain shot through her.  Bitter,',\n",
       " 'bitter was the pain, and wilder and wilder grew her song, for she sang of',\n",
       " 'the Love that is perfected by Death, of the Love that dies not in the',\n",
       " 'tomb.',\n",
       " 'And the marvellous rose became crimson, like the rose of the eastern sky.',\n",
       " 'Crimson was the girdle of petals, and crimson as a ruby was the heart.',\n",
       " 'But the Nightingale’s voice grew fainter, and her little wings began to',\n",
       " 'beat, and a film came over her eyes.  Fainter and fainter grew her song,',\n",
       " 'and she felt something choking her in her throat.',\n",
       " 'Then she gave one last burst of music.  The white Moon heard it, and she',\n",
       " 'forgot the dawn, and lingered on in the sky.  The red rose heard it, and',\n",
       " 'it trembled all over with ecstasy, and opened its petals to the cold',\n",
       " 'morning air.  Echo bore it to her purple cavern in the hills, and woke',\n",
       " 'the sleeping shepherds from their dreams.  It floated through the reeds',\n",
       " 'of the river, and they carried its message to the sea.',\n",
       " '“Look, look!” cried the Tree, “the rose is finished now”; but the',\n",
       " 'Nightingale made no answer, for she was lying dead in the long grass,',\n",
       " 'with the thorn in her heart.',\n",
       " 'And at noon the Student opened his window and looked out.',\n",
       " '“Why, what a wonderful piece of luck!” he cried; “here is a red rose!  I',\n",
       " 'have never seen any rose like it in all my life.  It is so beautiful that',\n",
       " 'I am sure it has a long Latin name”; and he leaned down and plucked it.',\n",
       " 'Then he put on his hat, and ran up to the Professor’s house with the rose',\n",
       " 'in his hand.',\n",
       " 'The daughter of the Professor was sitting in the doorway winding blue',\n",
       " 'silk on a reel, and her little dog was lying at her feet.',\n",
       " '“You said that you would dance with me if I brought you a red rose,”',\n",
       " 'cried the Student.  “Here is the reddest rose in all the world.  You will',\n",
       " 'wear it to-night next your heart, and as we dance together it will tell',\n",
       " 'you how I love you.”',\n",
       " 'But the girl frowned.',\n",
       " '“I am afraid it will not go with my dress,” she answered; “and, besides,',\n",
       " 'the Chamberlain’s nephew has sent me some real jewels, and everybody',\n",
       " 'knows that jewels cost far more than flowers.”',\n",
       " '“Well, upon my word, you are very ungrateful,” said the Student angrily;',\n",
       " 'and he threw the rose into the street, where it fell into the gutter, and',\n",
       " 'a cart-wheel went over it.',\n",
       " '“Ungrateful!” said the girl.  “I tell you what, you are very rude; and,',\n",
       " 'after all, who are you?  Only a Student.  Why, I don’t believe you have',\n",
       " 'even got silver buckles to your shoes as the Chamberlain’s nephew has”;',\n",
       " 'and she got up from her chair and went into the house.',\n",
       " '“What a silly thing Love is,” said the Student as he walked away.  “It',\n",
       " 'is not half as useful as Logic, for it does not prove anything, and it is',\n",
       " 'always telling one of things that are not going to happen, and making one',\n",
       " 'believe things that are not true.  In fact, it is quite unpractical, and,',\n",
       " 'as in this age to be practical is everything, I shall go back to',\n",
       " 'Philosophy and study Metaphysics.”',\n",
       " 'So he returned to his room and pulled out a great dusty book, and began',\n",
       " 'to read.',\n",
       " 'The Selfish Giant.',\n",
       " 'EVERY afternoon, as they were coming from school, the children used to go',\n",
       " 'and play in the Giant’s garden.',\n",
       " 'It was a large lovely garden, with soft green grass.  Here and there over',\n",
       " 'the grass stood beautiful flowers like stars, and there were twelve',\n",
       " 'peach-trees that in the spring-time broke out into delicate blossoms of',\n",
       " 'pink and pearl, and in the autumn bore rich fruit.  The birds sat on the',\n",
       " 'trees and sang so sweetly that the children used to stop their games in',\n",
       " 'order to listen to them.  “How happy we are here!” they cried to each',\n",
       " 'other.',\n",
       " 'One day the Giant came back.  He had been to visit his friend the Cornish',\n",
       " 'ogre, and had stayed with him for seven years.  After the seven years',\n",
       " 'were over he had said all that he had to say, for his conversation was',\n",
       " 'limited, and he determined to return to his own castle.  When he arrived',\n",
       " 'he saw the children playing in the garden.',\n",
       " '“What are you doing here?” he cried in a very gruff voice, and the',\n",
       " 'children ran away.',\n",
       " '“My own garden is my own garden,” said the Giant; “any one can understand',\n",
       " 'that, and I will allow nobody to play in it but myself.”  So he built a',\n",
       " 'high wall all round it, and put up a notice-board.',\n",
       " 'TRESPASSERS',\n",
       " 'WILL BE',\n",
       " 'PROSECUTED',\n",
       " 'He was a very selfish Giant.',\n",
       " 'The poor children had now nowhere to play.  They tried to play on the',\n",
       " 'road, but the road was very dusty and full of hard stones, and they did',\n",
       " 'not like it.  They used to wander round the high wall when their lessons',\n",
       " 'were over, and talk about the beautiful garden inside.  “How happy we',\n",
       " 'were there,” they said to each other.',\n",
       " 'Then the Spring came, and all over the country there were little blossoms',\n",
       " 'and little birds.  Only in the garden of the Selfish Giant it was still',\n",
       " 'winter.  The birds did not care to sing in it as there were no children,',\n",
       " 'and the trees forgot to blossom.  Once a beautiful flower put its head',\n",
       " 'out from the grass, but when it saw the notice-board it was so sorry for',\n",
       " 'the children that it slipped back into the ground again, and went off to',\n",
       " 'sleep.  The only people who were pleased were the Snow and the Frost.',\n",
       " '“Spring has forgotten this garden,” they cried, “so we will live here all',\n",
       " 'the year round.”  The Snow covered up the grass with her great white',\n",
       " 'cloak, and the Frost painted all the trees silver.  Then they invited the',\n",
       " 'North Wind to stay with them, and he came.  He was wrapped in furs, and',\n",
       " 'he roared all day about the garden, and blew the chimney-pots down.',\n",
       " '“This is a delightful spot,” he said, “we must ask the Hail on a visit.”',\n",
       " 'So the Hail came.  Every day for three hours he rattled on the roof of',\n",
       " 'the castle till he broke most of the slates, and then he ran round and',\n",
       " 'round the garden as fast as he could go.  He was dressed in grey, and his',\n",
       " 'breath was like ice.',\n",
       " '“I cannot understand why the Spring is so late in coming,” said the',\n",
       " 'Selfish Giant, as he sat at the window and looked out at his cold white',\n",
       " 'garden; “I hope there will be a change in the weather.”',\n",
       " 'But the Spring never came, nor the Summer.  The Autumn gave golden fruit',\n",
       " 'to every garden, but to the Giant’s garden she gave none.  “He is too',\n",
       " 'selfish,” she said.  So it was always Winter there, and the North Wind,',\n",
       " 'and the Hail, and the Frost, and the Snow danced about through the trees.',\n",
       " 'One morning the Giant was lying awake in bed when he heard some lovely',\n",
       " 'music.  It sounded so sweet to his ears that he thought it must be the',\n",
       " 'King’s musicians passing by.  It was really only a little linnet singing',\n",
       " 'outside his window, but it was so long since he had heard a bird sing in',\n",
       " 'his garden that it seemed to him to be the most beautiful music in the',\n",
       " 'world.  Then the Hail stopped dancing over his head, and the North Wind',\n",
       " 'ceased roaring, and a delicious perfume came to him through the open',\n",
       " 'casement.  “I believe the Spring has come at last,” said the Giant; and',\n",
       " 'he jumped out of bed and looked out.',\n",
       " 'What did he see?',\n",
       " 'He saw a most wonderful sight.  Through a little hole in the wall the',\n",
       " 'children had crept in, and they were sitting in the branches of the',\n",
       " 'trees.  In every tree that he could see there was a little child.  And',\n",
       " 'the trees were so glad to have the children back again that they had',\n",
       " 'covered themselves with blossoms, and were waving their arms gently above',\n",
       " 'the children’s heads.  The birds were flying about and twittering with',\n",
       " 'delight, and the flowers were looking up through the green grass and',\n",
       " 'laughing.  It was a lovely scene, only in one corner it was still winter.',\n",
       " 'It was the farthest corner of the garden, and in it was standing a little',\n",
       " 'boy.  He was so small that he could not reach up to the branches of the',\n",
       " 'tree, and he was wandering all round it, crying bitterly.  The poor tree',\n",
       " 'was still quite covered with frost and snow, and the North Wind was',\n",
       " 'blowing and roaring above it.  “Climb up! little boy,” said the Tree, and',\n",
       " 'it bent its branches down as low as it could; but the boy was too tiny.',\n",
       " 'And the Giant’s heart melted as he looked out.  “How selfish I have',\n",
       " 'been!” he said; “now I know why the Spring would not come here.  I will',\n",
       " 'put that poor little boy on the top of the tree, and then I will knock',\n",
       " 'down the wall, and my garden shall be the children’s playground for ever',\n",
       " 'and ever.”  He was really very sorry for what he had done.',\n",
       " 'So he crept downstairs and opened the front door quite softly, and went',\n",
       " 'out into the garden.  But when the children saw him they were so',\n",
       " 'frightened that they all ran away, and the garden became winter again.',\n",
       " 'Only the little boy did not run, for his eyes were so full of tears that',\n",
       " 'he did not see the Giant coming.  And the Giant stole up behind him and',\n",
       " 'took him gently in his hand, and put him up into the tree.  And the tree',\n",
       " 'broke at once into blossom, and the birds came and sang on it, and the',\n",
       " 'little boy stretched out his two arms and flung them round the Giant’s',\n",
       " 'neck, and kissed him.  And the other children, when they saw that the',\n",
       " 'Giant was not wicked any longer, came running back, and with them came',\n",
       " 'the Spring.  “It is your garden now, little children,” said the Giant,',\n",
       " 'and he took a great axe and knocked down the wall.  And when the people',\n",
       " 'were going to market at twelve o’clock they found the Giant playing with',\n",
       " 'the children in the most beautiful garden they had ever seen.',\n",
       " 'All day long they played, and in the evening they came to the Giant to',\n",
       " 'bid him good-bye.',\n",
       " '“But where is your little companion?” he said: “the boy I put into the',\n",
       " 'tree.”  The Giant loved him the best because he had kissed him.',\n",
       " '“We don’t know,” answered the children; “he has gone away.”',\n",
       " '“You must tell him to be sure and come here to-morrow,” said the Giant.',\n",
       " 'But the children said that they did not know where he lived, and had',\n",
       " 'never seen him before; and the Giant felt very sad.',\n",
       " 'Every afternoon, when school was over, the children came and played with',\n",
       " 'the Giant.  But the little boy whom the Giant loved was never seen again.',\n",
       " 'The Giant was very kind to all the children, yet he longed for his first',\n",
       " 'little friend, and often spoke of him.  “How I would like to see him!” he',\n",
       " 'used to say.',\n",
       " 'Years went over, and the Giant grew very old and feeble.  He could not',\n",
       " 'play about any more, so he sat in a huge armchair, and watched the',\n",
       " 'children at their games, and admired his garden.  “I have many beautiful',\n",
       " 'flowers,” he said; “but the children are the most beautiful flowers of',\n",
       " 'all.”',\n",
       " 'One winter morning he looked out of his window as he was dressing.  He',\n",
       " 'did not hate the Winter now, for he knew that it was merely the Spring',\n",
       " 'asleep, and that the flowers were resting.',\n",
       " 'Suddenly he rubbed his eyes in wonder, and looked and looked.  It',\n",
       " 'certainly was a marvellous sight.  In the farthest corner of the garden',\n",
       " 'was a tree quite covered with lovely white blossoms.  Its branches were',\n",
       " 'all golden, and silver fruit hung down from them, and underneath it stood',\n",
       " 'the little boy he had loved.',\n",
       " 'Downstairs ran the Giant in great joy, and out into the garden.  He',\n",
       " 'hastened across the grass, and came near to the child.  And when he came',\n",
       " 'quite close his face grew red with anger, and he said, “Who hath dared to',\n",
       " 'wound thee?”  For on the palms of the child’s hands were the prints of',\n",
       " 'two nails, and the prints of two nails were on the little feet.',\n",
       " '“Who hath dared to wound thee?” cried the Giant; “tell me, that I may',\n",
       " 'take my big sword and slay him.”',\n",
       " '“Nay!” answered the child; “but these are the wounds of Love.”',\n",
       " '“Who art thou?” said the Giant, and a strange awe fell on him, and he',\n",
       " 'knelt before the little child.',\n",
       " 'And the child smiled on the Giant, and said to him, “You let me play once',\n",
       " 'in your garden, to-day you shall come with me to my garden, which is',\n",
       " 'Paradise.”',\n",
       " 'And when the children ran in that afternoon, they found the Giant lying',\n",
       " 'dead under the tree, all covered with white blossoms.',\n",
       " 'The Devoted Friend.',\n",
       " 'ONE morning the old Water-rat put his head out of his hole.  He had',\n",
       " 'bright beady eyes and stiff grey whiskers and his tail was like a long',\n",
       " 'bit of black india-rubber.  The little ducks were swimming about in the',\n",
       " 'pond, looking just like a lot of yellow canaries, and their mother, who',\n",
       " 'was pure white with real red legs, was trying to teach them how to stand',\n",
       " 'on their heads in the water.',\n",
       " '“You will never be in the best society unless you can stand on your',\n",
       " 'heads,” she kept saying to them; and every now and then she showed them',\n",
       " 'how it was done.  But the little ducks paid no attention to her.  They',\n",
       " 'were so young that they did not know what an advantage it is to be in',\n",
       " 'society at all.',\n",
       " '“What disobedient children!” cried the old Water-rat; “they really',\n",
       " 'deserve to be drowned.”',\n",
       " '“Nothing of the kind,” answered the Duck, “every one must make a',\n",
       " 'beginning, and parents cannot be too patient.”',\n",
       " '“Ah! I know nothing about the feelings of parents,” said the Water-rat;',\n",
       " '“I am not a family man.  In fact, I have never been married, and I never',\n",
       " 'intend to be.  Love is all very well in its way, but friendship is much',\n",
       " 'higher.  Indeed, I know of nothing in the world that is either nobler or',\n",
       " 'rarer than a devoted friendship.”',\n",
       " '“And what, pray, is your idea of the duties of a devoted friend?” asked a',\n",
       " 'Green Linnet, who was sitting in a willow-tree hard by, and had overheard',\n",
       " 'the conversation.',\n",
       " '“Yes, that is just what I want to know,” said the Duck; and she swam away',\n",
       " 'to the end of the pond, and stood upon her head, in order to give her',\n",
       " 'children a good example.',\n",
       " '“What a silly question!” cried the Water-rat.  “I should expect my',\n",
       " 'devoted friend to be devoted to me, of course.”',\n",
       " '“And what would you do in return?” said the little bird, swinging upon a',\n",
       " 'silver spray, and flapping his tiny wings.',\n",
       " '“I don’t understand you,” answered the Water-rat.',\n",
       " '“Let me tell you a story on the subject,” said the Linnet.',\n",
       " '“Is the story about me?” asked the Water-rat.  “If so, I will listen to',\n",
       " 'it, for I am extremely fond of fiction.”',\n",
       " '“It is applicable to you,” answered the Linnet; and he flew down, and',\n",
       " 'alighting upon the bank, he told the story of The Devoted Friend.',\n",
       " '“Once upon a time,” said the Linnet, “there was an honest little fellow',\n",
       " 'named Hans.”',\n",
       " '“Was he very distinguished?” asked the Water-rat.',\n",
       " '“No,” answered the Linnet, “I don’t think he was distinguished at all,',\n",
       " 'except for his kind heart, and his funny round good-humoured face.  He',\n",
       " 'lived in a tiny cottage all by himself, and every day he worked in his',\n",
       " 'garden.  In all the country-side there was no garden so lovely as his.',\n",
       " 'Sweet-william grew there, and Gilly-flowers, and Shepherds’-purses, and',\n",
       " 'Fair-maids of France.  There were damask Roses, and yellow Roses, lilac',\n",
       " 'Crocuses, and gold, purple Violets and white.  Columbine and Ladysmock,',\n",
       " 'Marjoram and Wild Basil, the Cowslip and the Flower-de-luce, the Daffodil',\n",
       " 'and the Clove-Pink bloomed or blossomed in their proper order as the',\n",
       " 'months went by, one flower taking another flower’s place, so that there',\n",
       " 'were always beautiful things to look at, and pleasant odours to smell.',\n",
       " '“Little Hans had a great many friends, but the most devoted friend of all',\n",
       " 'was big Hugh the Miller.  Indeed, so devoted was the rich Miller to',\n",
       " 'little Hans, that he would never go by his garden without leaning over',\n",
       " 'the wall and plucking a large nosegay, or a handful of sweet herbs, or',\n",
       " 'filling his pockets with plums and cherries if it was the fruit season.',\n",
       " '“‘Real friends should have everything in common,’ the Miller used to say,',\n",
       " 'and little Hans nodded and smiled, and felt very proud of having a friend',\n",
       " 'with such noble ideas.',\n",
       " '“Sometimes, indeed, the neighbours thought it strange that the rich',\n",
       " 'Miller never gave little Hans anything in return, though he had a hundred',\n",
       " 'sacks of flour stored away in his mill, and six milch cows, and a large',\n",
       " 'flock of woolly sheep; but Hans never troubled his head about these',\n",
       " 'things, and nothing gave him greater pleasure than to listen to all the',\n",
       " 'wonderful things the Miller used to say about the unselfishness of true',\n",
       " 'friendship.',\n",
       " '“So little Hans worked away in his garden.  During the spring, the',\n",
       " 'summer, and the autumn he was very happy, but when the winter came, and',\n",
       " 'he had no fruit or flowers to bring to the market, he suffered a good',\n",
       " 'deal from cold and hunger, and often had to go to bed without any supper',\n",
       " 'but a few dried pears or some hard nuts.  In the winter, also, he was',\n",
       " 'extremely lonely, as the Miller never came to see him then.',\n",
       " '“‘There is no good in my going to see little Hans as long as the snow',\n",
       " 'lasts,’ the Miller used to say to his wife, ‘for when people are in',\n",
       " 'trouble they should be left alone, and not be bothered by visitors.  That',\n",
       " 'at least is my idea about friendship, and I am sure I am right.  So I',\n",
       " 'shall wait till the spring comes, and then I shall pay him a visit, and',\n",
       " 'he will be able to give me a large basket of primroses and that will make',\n",
       " 'him so happy.’',\n",
       " '“‘You are certainly very thoughtful about others,’ answered the Wife, as',\n",
       " 'she sat in her comfortable armchair by the big pinewood fire; ‘very',\n",
       " 'thoughtful indeed.  It is quite a treat to hear you talk about',\n",
       " 'friendship.  I am sure the clergyman himself could not say such beautiful',\n",
       " 'things as you do, though he does live in a three-storied house, and wear',\n",
       " 'a gold ring on his little finger.’',\n",
       " '“‘But could we not ask little Hans up here?’ said the Miller’s youngest',\n",
       " 'son.  ‘If poor Hans is in trouble I will give him half my porridge, and',\n",
       " 'show him my white rabbits.’',\n",
       " '“‘What a silly boy you are!’ cried the Miller; ‘I really don’t know what',\n",
       " 'is the use of sending you to school.  You seem not to learn anything.',\n",
       " 'Why, if little Hans came up here, and saw our warm fire, and our good',\n",
       " 'supper, and our great cask of red wine, he might get envious, and envy is',\n",
       " 'a most terrible thing, and would spoil anybody’s nature.  I certainly',\n",
       " 'will not allow Hans’ nature to be spoiled.  I am his best friend, and I',\n",
       " 'will always watch over him, and see that he is not led into any',\n",
       " 'temptations.  Besides, if Hans came here, he might ask me to let him have',\n",
       " 'some flour on credit, and that I could not do.  Flour is one thing, and',\n",
       " 'friendship is another, and they should not be confused.  Why, the words',\n",
       " 'are spelt differently, and mean quite different things.  Everybody can',\n",
       " 'see that.’',\n",
       " '“‘How well you talk!’ said the Miller’s Wife, pouring herself out a large',\n",
       " 'glass of warm ale; ‘really I feel quite drowsy.  It is just like being in',\n",
       " 'church.’',\n",
       " '“‘Lots of people act well,’ answered the Miller; ‘but very few people',\n",
       " 'talk well, which shows that talking is much the more difficult thing of',\n",
       " 'the two, and much the finer thing also’; and he looked sternly across the',\n",
       " 'table at his little son, who felt so ashamed of himself that he hung his',\n",
       " 'head down, and grew quite scarlet, and began to cry into his tea.',\n",
       " 'However, he was so young that you must excuse him.”',\n",
       " '“Is that the end of the story?” asked the Water-rat.',\n",
       " '“Certainly not,” answered the Linnet, “that is the beginning.”',\n",
       " '“Then you are quite behind the age,” said the Water-rat.  “Every good',\n",
       " 'story-teller nowadays starts with the end, and then goes on to the',\n",
       " 'beginning, and concludes with the middle.  That is the new method.  I',\n",
       " 'heard all about it the other day from a critic who was walking round the',\n",
       " 'pond with a young man.  He spoke of the matter at great length, and I am',\n",
       " 'sure he must have been right, for he had blue spectacles and a bald head,',\n",
       " 'and whenever the young man made any remark, he always answered ‘Pooh!’',\n",
       " 'But pray go on with your story.  I like the Miller immensely.  I have all',\n",
       " 'kinds of beautiful sentiments myself, so there is a great sympathy',\n",
       " 'between us.”',\n",
       " '“Well,” said the Linnet, hopping now on one leg and now on the other, “as',\n",
       " 'soon as the winter was over, and the primroses began to open their pale',\n",
       " 'yellow stars, the Miller said to his wife that he would go down and see',\n",
       " 'little Hans.',\n",
       " '“‘Why, what a good heart you have!’ cried his Wife; ‘you are always',\n",
       " 'thinking of others.  And mind you take the big basket with you for the',\n",
       " 'flowers.’',\n",
       " '“So the Miller tied the sails of the windmill together with a strong iron',\n",
       " 'chain, and went down the hill with the basket on his arm.',\n",
       " '“‘Good morning, little Hans,’ said the Miller.',\n",
       " '“‘Good morning,’ said Hans, leaning on his spade, and smiling from ear to',\n",
       " 'ear.',\n",
       " '“‘And how have you been all the winter?’ said the Miller.',\n",
       " '“‘Well, really,’ cried Hans, ‘it is very good of you to ask, very good',\n",
       " 'indeed.  I am afraid I had rather a hard time of it, but now the spring',\n",
       " 'has come, and I am quite happy, and all my flowers are doing well.’',\n",
       " '“‘We often talked of you during the winter, Hans,’ said the Miller, ‘and',\n",
       " 'wondered how you were getting on.’',\n",
       " '“‘That was kind of you,’ said Hans; ‘I was half afraid you had forgotten',\n",
       " 'me.’',\n",
       " '“‘Hans, I am surprised at you,’ said the Miller; ‘friendship never',\n",
       " 'forgets.  That is the wonderful thing about it, but I am afraid you don’t',\n",
       " 'understand the poetry of life.  How lovely your primroses are looking,',\n",
       " 'by-the-bye!”',\n",
       " '“‘They are certainly very lovely,’ said Hans, ‘and it is a most lucky',\n",
       " 'thing for me that I have so many.  I am going to bring them into the',\n",
       " 'market and sell them to the Burgomaster’s daughter, and buy back my',\n",
       " 'wheelbarrow with the money.’',\n",
       " '“‘Buy back your wheelbarrow?  You don’t mean to say you have sold it?',\n",
       " 'What a very stupid thing to do!’',\n",
       " '“‘Well, the fact is,’ said Hans, ‘that I was obliged to.  You see the',\n",
       " 'winter was a very bad time for me, and I really had no money at all to',\n",
       " 'buy bread with.  So I first sold the silver buttons off my Sunday coat,',\n",
       " 'and then I sold my silver chain, and then I sold my big pipe, and at last',\n",
       " 'I sold my wheelbarrow.  But I am going to buy them all back again now.’',\n",
       " '“‘Hans,’ said the Miller, ‘I will give you my wheelbarrow.  It is not in',\n",
       " 'very good repair; indeed, one side is gone, and there is something wrong',\n",
       " 'with the wheel-spokes; but in spite of that I will give it to you.  I',\n",
       " 'know it is very generous of me, and a great many people would think me',\n",
       " 'extremely foolish for parting with it, but I am not like the rest of the',\n",
       " 'world.  I think that generosity is the essence of friendship, and,',\n",
       " 'besides, I have got a new wheelbarrow for myself.  Yes, you may set your',\n",
       " 'mind at ease, I will give you my wheelbarrow.’',\n",
       " '“‘Well, really, that is generous of you,’ said little Hans, and his funny',\n",
       " 'round face glowed all over with pleasure.  ‘I can easily put it in',\n",
       " 'repair, as I have a plank of wood in the house.’',\n",
       " '“‘A plank of wood!’ said the Miller; ‘why, that is just what I want for',\n",
       " 'the roof of my barn.  There is a very large hole in it, and the corn will',\n",
       " 'all get damp if I don’t stop it up.  How lucky you mentioned it!  It is',\n",
       " 'quite remarkable how one good action always breeds another.  I have given',\n",
       " 'you my wheelbarrow, and now you are going to give me your plank.  Of',\n",
       " 'course, the wheelbarrow is worth far more than the plank, but true,',\n",
       " 'friendship never notices things like that.  Pray get it at once, and I',\n",
       " 'will set to work at my barn this very day.’',\n",
       " '“‘Certainly,’ cried little Hans, and he ran into the shed and dragged the',\n",
       " 'plank out.',\n",
       " '“‘It is not a very big plank,’ said the Miller, looking at it, ‘and I am',\n",
       " 'afraid that after I have mended my barn-roof there won’t be any left for',\n",
       " 'you to mend the wheelbarrow with; but, of course, that is not my fault.',\n",
       " 'And now, as I have given you my wheelbarrow, I am sure you would like to',\n",
       " 'give me some flowers in return.  Here is the basket, and mind you fill it',\n",
       " 'quite full.’',\n",
       " '“‘Quite full?’ said little Hans, rather sorrowfully, for it was really a',\n",
       " 'very big basket, and he knew that if he filled it he would have no',\n",
       " 'flowers left for the market and he was very anxious to get his silver',\n",
       " 'buttons back.',\n",
       " '“‘Well, really,’ answered the Miller, ‘as I have given you my',\n",
       " 'wheelbarrow, I don’t think that it is much to ask you for a few flowers.',\n",
       " 'I may be wrong, but I should have thought that friendship, true',\n",
       " 'friendship, was quite free from selfishness of any kind.’',\n",
       " '“‘My dear friend, my best friend,’ cried little Hans, ‘you are welcome to',\n",
       " 'all the flowers in my garden.  I would much sooner have your good opinion',\n",
       " 'than my silver buttons, any day’; and he ran and plucked all his pretty',\n",
       " 'primroses, and filled the Miller’s basket.',\n",
       " '“‘Good-bye, little Hans,’ said the Miller, as he went up the hill with',\n",
       " 'the plank on his shoulder, and the big basket in his hand.',\n",
       " '“‘Good-bye,’ said little Hans, and he began to dig away quite merrily, he',\n",
       " 'was so pleased about the wheelbarrow.',\n",
       " '“The next day he was nailing up some honeysuckle against the porch, when',\n",
       " 'he heard the Miller’s voice calling to him from the road.  So he jumped',\n",
       " 'off the ladder, and ran down the garden, and looked over the wall.',\n",
       " '“There was the Miller with a large sack of flour on his back.',\n",
       " '“‘Dear little Hans,’ said the Miller, ‘would you mind carrying this sack',\n",
       " 'of flour for me to market?’',\n",
       " '“‘Oh, I am so sorry,’ said Hans, ‘but I am really very busy to-day.  I',\n",
       " 'have got all my creepers to nail up, and all my flowers to water, and all',\n",
       " 'my grass to roll.’',\n",
       " '“‘Well, really,’ said the Miller, ‘I think that, considering that I am',\n",
       " 'going to give you my wheelbarrow, it is rather unfriendly of you to',\n",
       " 'refuse.’',\n",
       " '“‘Oh, don’t say that,’ cried little Hans, ‘I wouldn’t be unfriendly for',\n",
       " 'the whole world’; and he ran in for his cap, and trudged off with the big',\n",
       " 'sack on his shoulders.',\n",
       " '“It was a very hot day, and the road was terribly dusty, and before Hans',\n",
       " 'had reached the sixth milestone he was so tired that he had to sit down',\n",
       " 'and rest.  However, he went on bravely, and as last he reached the',\n",
       " 'market.  After he had waited there some time, he sold the sack of flour',\n",
       " 'for a very good price, and then he returned home at once, for he was',\n",
       " 'afraid that if he stopped too late he might meet some robbers on the way.',\n",
       " '“‘It has certainly been a hard day,’ said little Hans to himself as he',\n",
       " 'was going to bed, ‘but I am glad I did not refuse the Miller, for he is',\n",
       " 'my best friend, and, besides, he is going to give me his wheelbarrow.’',\n",
       " '“Early the next morning the Miller came down to get the money for his',\n",
       " 'sack of flour, but little Hans was so tired that he was still in bed.',\n",
       " '“‘Upon my word,’ said the Miller, ‘you are very lazy.  Really,',\n",
       " 'considering that I am going to give you my wheelbarrow, I think you might',\n",
       " 'work harder.  Idleness is a great sin, and I certainly don’t like any of',\n",
       " 'my friends to be idle or sluggish.  You must not mind my speaking quite',\n",
       " 'plainly to you.  Of course I should not dream of doing so if I were not',\n",
       " 'your friend.  But what is the good of friendship if one cannot say',\n",
       " 'exactly what one means?  Anybody can say charming things and try to',\n",
       " 'please and to flatter, but a true friend always says unpleasant things,',\n",
       " 'and does not mind giving pain.  Indeed, if he is a really true friend he',\n",
       " 'prefers it, for he knows that then he is doing good.’',\n",
       " '“‘I am very sorry,’ said little Hans, rubbing his eyes and pulling off',\n",
       " 'his night-cap, ‘but I was so tired that I thought I would lie in bed for',\n",
       " 'a little time, and listen to the birds singing.  Do you know that I',\n",
       " 'always work better after hearing the birds sing?’',\n",
       " '“‘Well, I am glad of that,’ said the Miller, clapping little Hans on the',\n",
       " 'back, ‘for I want you to come up to the mill as soon as you are dressed,',\n",
       " 'and mend my barn-roof for me.’',\n",
       " '“Poor little Hans was very anxious to go and work in his garden, for his',\n",
       " 'flowers had not been watered for two days, but he did not like to refuse',\n",
       " 'the Miller, as he was such a good friend to him.',\n",
       " '“‘Do you think it would be unfriendly of me if I said I was busy?’ he',\n",
       " 'inquired in a shy and timid voice.',\n",
       " '“‘Well, really,’ answered the Miller, ‘I do not think it is much to ask',\n",
       " 'of you, considering that I am going to give you my wheelbarrow; but of',\n",
       " 'course if you refuse I will go and do it myself.’',\n",
       " '“‘Oh! on no account,’ cried little Hans and he jumped out of bed, and',\n",
       " 'dressed himself, and went up to the barn.',\n",
       " '“He worked there all day long, till sunset, and at sunset the Miller came',\n",
       " 'to see how he was getting on.',\n",
       " '“‘Have you mended the hole in the roof yet, little Hans?’ cried the',\n",
       " 'Miller in a cheery voice.',\n",
       " '“‘It is quite mended,’ answered little Hans, coming down the ladder.',\n",
       " '“‘Ah!’ said the Miller, ‘there is no work so delightful as the work one',\n",
       " 'does for others.’',\n",
       " '“‘It is certainly a great privilege to hear you talk,’ answered little',\n",
       " 'Hans, sitting down, and wiping his forehead, ‘a very great privilege.',\n",
       " 'But I am afraid I shall never have such beautiful ideas as you have.’',\n",
       " '“‘Oh! they will come to you,’ said the Miller, ‘but you must take more',\n",
       " 'pains.  At present you have only the practice of friendship; some day you',\n",
       " 'will have the theory also.’',\n",
       " '“‘Do you really think I shall?’ asked little Hans.',\n",
       " '“‘I have no doubt of it,’ answered the Miller, ‘but now that you have',\n",
       " 'mended the roof, you had better go home and rest, for I want you to drive',\n",
       " 'my sheep to the mountain to-morrow.’',\n",
       " '“Poor little Hans was afraid to say anything to this, and early the next',\n",
       " 'morning the Miller brought his sheep round to the cottage, and Hans',\n",
       " 'started off with them to the mountain.  It took him the whole day to get',\n",
       " 'there and back; and when he returned he was so tired that he went off to',\n",
       " 'sleep in his chair, and did not wake up till it was broad daylight.',\n",
       " '“‘What a delightful time I shall have in my garden,’ he said, and he went',\n",
       " 'to work at once.',\n",
       " '“But somehow he was never able to look after his flowers at all, for his',\n",
       " 'friend the Miller was always coming round and sending him off on long',\n",
       " 'errands, or getting him to help at the mill.  Little Hans was very much',\n",
       " 'distressed at times, as he was afraid his flowers would think he had',\n",
       " 'forgotten them, but he consoled himself by the reflection that the Miller',\n",
       " 'was his best friend.  ‘Besides,’ he used to say, ‘he is going to give me',\n",
       " 'his wheelbarrow, and that is an act of pure generosity.’',\n",
       " '“So little Hans worked away for the Miller, and the Miller said all kinds',\n",
       " 'of beautiful things about friendship, which Hans took down in a',\n",
       " 'note-book, and used to read over at night, for he was a very good',\n",
       " 'scholar.',\n",
       " '“Now it happened that one evening little Hans was sitting by his fireside',\n",
       " 'when a loud rap came at the door.  It was a very wild night, and the wind',\n",
       " 'was blowing and roaring round the house so terribly that at first he',\n",
       " 'thought it was merely the storm.  But a second rap came, and then a',\n",
       " 'third, louder than any of the others.',\n",
       " '“‘It is some poor traveller,’ said little Hans to himself, and he ran to',\n",
       " 'the door.',\n",
       " '“There stood the Miller with a lantern in one hand and a big stick in the',\n",
       " 'other.',\n",
       " '“‘Dear little Hans,’ cried the Miller, ‘I am in great trouble.  My little',\n",
       " 'boy has fallen off a ladder and hurt himself, and I am going for the',\n",
       " 'Doctor.  But he lives so far away, and it is such a bad night, that it',\n",
       " 'has just occurred to me that it would be much better if you went instead',\n",
       " 'of me.  You know I am going to give you my wheelbarrow, and so, it is',\n",
       " 'only fair that you should do something for me in return.’',\n",
       " '“‘Certainly,’ cried little Hans, ‘I take it quite as a compliment your',\n",
       " 'coming to me, and I will start off at once.  But you must lend me your',\n",
       " 'lantern, as the night is so dark that I am afraid I might fall into the',\n",
       " 'ditch.’',\n",
       " '“‘I am very sorry,’ answered the Miller, ‘but it is my new lantern, and',\n",
       " 'it would be a great loss to me if anything happened to it.’',\n",
       " '“‘Well, never mind, I will do without it,’ cried little Hans, and he took',\n",
       " 'down his great fur coat, and his warm scarlet cap, and tied a muffler',\n",
       " 'round his throat, and started off.',\n",
       " '“What a dreadful storm it was!  The night was so black that little Hans',\n",
       " 'could hardly see, and the wind was so strong that he could scarcely',\n",
       " 'stand.  However, he was very courageous, and after he had been walking',\n",
       " 'about three hours, he arrived at the Doctor’s house, and knocked at the',\n",
       " 'door.',\n",
       " '“‘Who is there?’ cried the Doctor, putting his head out of his bedroom',\n",
       " 'window.',\n",
       " '“‘Little Hans, Doctor.’',\n",
       " '“’What do you want, little Hans?’',\n",
       " '“‘The Miller’s son has fallen from a ladder, and has hurt himself, and',\n",
       " 'the Miller wants you to come at once.’',\n",
       " '“‘All right!’ said the Doctor; and he ordered his horse, and his big',\n",
       " 'boots, and his lantern, and came downstairs, and rode off in the',\n",
       " 'direction of the Miller’s house, little Hans trudging behind him.',\n",
       " '“But the storm grew worse and worse, and the rain fell in torrents, and',\n",
       " 'little Hans could not see where he was going, or keep up with the horse.',\n",
       " 'At last he lost his way, and wandered off on the moor, which was a very',\n",
       " 'dangerous place, as it was full of deep holes, and there poor little Hans',\n",
       " 'was drowned.  His body was found the next day by some goatherds, floating',\n",
       " 'in a great pool of water, and was brought back by them to the cottage.',\n",
       " '“Everybody went to little Hans’ funeral, as he was so popular, and the',\n",
       " 'Miller was the chief mourner.',\n",
       " '“‘As I was his best friend,’ said the Miller, ‘it is only fair that I',\n",
       " 'should have the best place’; so he walked at the head of the procession',\n",
       " 'in a long black cloak, and every now and then he wiped his eyes with a',\n",
       " 'big pocket-handkerchief.',\n",
       " '“‘Little Hans is certainly a great loss to every one,’ said the',\n",
       " 'Blacksmith, when the funeral was over, and they were all seated',\n",
       " 'comfortably in the inn, drinking spiced wine and eating sweet cakes.',\n",
       " '“‘A great loss to me at any rate,’ answered the Miller; ‘why, I had as',\n",
       " 'good as given him my wheelbarrow, and now I really don’t know what to do',\n",
       " 'with it.  It is very much in my way at home, and it is in such bad repair',\n",
       " 'that I could not get anything for it if I sold it.  I will certainly take',\n",
       " 'care not to give away anything again.  One always suffers for being',\n",
       " 'generous.’”',\n",
       " '“Well?” said the Water-rat, after a long pause.',\n",
       " '“Well, that is the end,” said the Linnet.',\n",
       " '“But what became of the Miller?” asked the Water-rat.',\n",
       " '“Oh!  I really don’t know,” replied the Linnet; “and I am sure that I',\n",
       " 'don’t care.”',\n",
       " '“It is quite evident then that you have no sympathy in your nature,” said',\n",
       " 'the Water-rat.',\n",
       " '“I am afraid you don’t quite see the moral of the story,” remarked the',\n",
       " 'Linnet.',\n",
       " '“The what?” screamed the Water-rat.',\n",
       " '“The moral.”',\n",
       " '“Do you mean to say that the story has a moral?”',\n",
       " '“Certainly,” said the Linnet.',\n",
       " '“Well, really,” said the Water-rat, in a very angry manner, “I think you',\n",
       " 'should have told me that before you began.  If you had done so, I',\n",
       " 'certainly would not have listened to you; in fact, I should have said',\n",
       " '‘Pooh,’ like the critic.  However, I can say it now”; so he shouted out',\n",
       " '“Pooh” at the top of his voice, gave a whisk with his tail, and went back',\n",
       " 'into his hole.',\n",
       " ...]"
      ]
     },
     "execution_count": 20,
     "metadata": {},
     "output_type": "execute_result"
    }
   ],
   "source": [
    "text = list(df.loc[:,0])\n",
    "text"
   ]
  },
  {
   "cell_type": "code",
   "execution_count": 21,
   "metadata": {
    "id": "CMu9CX34J8RQ"
   },
   "outputs": [],
   "source": [
    "segmented_sentences = [text_to_word_sequence(sentence) for sentence in text]"
   ]
  },
  {
   "cell_type": "code",
   "execution_count": 22,
   "metadata": {
    "id": "neCJEVNvkkjE"
   },
   "outputs": [
    {
     "data": {
      "text/plain": [
       "'The Happy Prince.'"
      ]
     },
     "execution_count": 22,
     "metadata": {},
     "output_type": "execute_result"
    }
   ],
   "source": [
    "text[0]"
   ]
  },
  {
   "cell_type": "code",
   "execution_count": 23,
   "metadata": {
    "id": "duxuc-DVkcpP"
   },
   "outputs": [
    {
     "data": {
      "text/plain": [
       "['the', 'happy', 'prince']"
      ]
     },
     "execution_count": 23,
     "metadata": {},
     "output_type": "execute_result"
    }
   ],
   "source": [
    "segmented_sentences[0]"
   ]
  },
  {
   "cell_type": "code",
   "execution_count": 24,
   "metadata": {
    "id": "x35rV7QZH49n"
   },
   "outputs": [],
   "source": [
    "# calculamos la longitud de cada secuencia\n",
    "length_sentences = [len(sentence) for sentence in segmented_sentences]"
   ]
  },
  {
   "cell_type": "code",
   "execution_count": 25,
   "metadata": {
    "id": "R8P8vDXRII4c"
   },
   "outputs": [
    {
     "data": {
      "text/plain": [
       "(array([ 23.,  39.,  30.,  28.,  32.,  41.,   0.,  22.,  26.,  26.,  25.,\n",
       "         68., 142.,   0., 240., 260., 235., 114.,  37.,   2.]),\n",
       " array([ 1.  ,  1.85,  2.7 ,  3.55,  4.4 ,  5.25,  6.1 ,  6.95,  7.8 ,\n",
       "         8.65,  9.5 , 10.35, 11.2 , 12.05, 12.9 , 13.75, 14.6 , 15.45,\n",
       "        16.3 , 17.15, 18.  ]),\n",
       " <BarContainer object of 20 artists>)"
      ]
     },
     "execution_count": 25,
     "metadata": {},
     "output_type": "execute_result"
    },
    {
     "data": {
      "image/png": "[encoded data removed]",
      "text/plain": [
       "<Figure size 640x480 with 1 Axes>"
      ]
     },
     "metadata": {},
     "output_type": "display_data"
    }
   ],
   "source": [
    "# podemos ver su distribución\n",
    "plt.hist(length_sentences,bins=20)"
   ]
  },
  {
   "cell_type": "code",
   "execution_count": 26,
   "metadata": {
    "id": "wumBNwdjJM3j"
   },
   "outputs": [
    {
     "name": "stdout",
     "output_type": "stream",
     "text": [
      "max_context_size: 15\n"
     ]
    }
   ],
   "source": [
    "max_context_size = int(np.percentile(length_sentences, 90)-1)\n",
    "print(f'max_context_size: {max_context_size}')"
   ]
  },
  {
   "cell_type": "markdown",
   "metadata": {
    "id": "2oIUjVU0LB0r"
   },
   "source": [
    "###  Tokenizar"
   ]
  },
  {
   "cell_type": "code",
   "execution_count": 27,
   "metadata": {
    "id": "_XKQIpRiLNbg"
   },
   "outputs": [],
   "source": [
    "tok = Tokenizer()\n",
    "tok.fit_on_texts(segmented_sentences)\n",
    "tokenized_sentences = tok.texts_to_sequences(segmented_sentences)"
   ]
  },
  {
   "cell_type": "code",
   "execution_count": 28,
   "metadata": {
    "id": "AK2wfHyslrTz"
   },
   "outputs": [
    {
     "data": {
      "text/plain": [
       "[1, 74, 50]"
      ]
     },
     "execution_count": 28,
     "metadata": {},
     "output_type": "execute_result"
    }
   ],
   "source": [
    "tokenized_sentences[0]"
   ]
  },
  {
   "cell_type": "code",
   "execution_count": 29,
   "metadata": {
    "id": "s-93u9lxlwlP"
   },
   "outputs": [
    {
     "data": {
      "text/plain": [
       "['the', 'happy', 'prince']"
      ]
     },
     "execution_count": 29,
     "metadata": {},
     "output_type": "execute_result"
    }
   ],
   "source": [
    "segmented_sentences[0]"
   ]
  },
  {
   "cell_type": "markdown",
   "metadata": {
    "id": "pfpYcaypKcI9"
   },
   "source": [
    "### Organizando y estructurando el dataset"
   ]
  },
  {
   "cell_type": "code",
   "execution_count": 30,
   "metadata": {
    "id": "cSeqVGyV_wz5"
   },
   "outputs": [],
   "source": [
    "tokenized_sentences_train, tokenized_sentences_val, _, _ = train_test_split(tokenized_sentences, tokenized_sentences, test_size=0.2, random_state=42)"
   ]
  },
  {
   "cell_type": "code",
   "execution_count": 31,
   "metadata": {
    "id": "E5BPO4qPPnNR"
   },
   "outputs": [],
   "source": [
    "tok_sent = []\n",
    "\n",
    "for sent in tokenized_sentences_train:\n",
    "  if len(sent) > (max_context_size+1):\n",
    "    extra = len(sent)-(max_context_size+1) + 1\n",
    "    for i in range(extra):\n",
    "      tok_sent.append(sent[i:i+max_context_size+1])\n",
    "  else: \n",
    "    tok_sent.append(sent)\n"
   ]
  },
  {
   "cell_type": "code",
   "execution_count": 32,
   "metadata": {
    "id": "RiEt0AAz_64v"
   },
   "outputs": [
    {
     "data": {
      "text/plain": [
       "1140"
      ]
     },
     "execution_count": 32,
     "metadata": {},
     "output_type": "execute_result"
    }
   ],
   "source": [
    "len(tok_sent)"
   ]
  },
  {
   "cell_type": "code",
   "execution_count": 33,
   "metadata": {
    "id": "lWdhVV04htki"
   },
   "outputs": [],
   "source": [
    "tok_sent_augm = []\n",
    "\n",
    "for sent in tok_sent:\n",
    "\n",
    "  subseq = [sent[:i+2] for i in range(len(sent)-1)]\n",
    "  tok_sent_augm.append(pad_sequences(subseq, maxlen=max_context_size+1, padding='pre'))\n"
   ]
  },
  {
   "cell_type": "code",
   "execution_count": 34,
   "metadata": {
    "id": "THXXBya1tnZ8"
   },
   "outputs": [],
   "source": [
    "train_seqs = np.concatenate(tok_sent_augm, axis=0)"
   ]
  },
  {
   "cell_type": "code",
   "execution_count": 35,
   "metadata": {
    "id": "o5Uiflnwt10J"
   },
   "outputs": [
    {
     "data": {
      "text/plain": [
       "(12691, 16)"
      ]
     },
     "execution_count": 35,
     "metadata": {},
     "output_type": "execute_result"
    }
   ],
   "source": [
    "train_seqs.shape"
   ]
  },
  {
   "cell_type": "code",
   "execution_count": 36,
   "metadata": {
    "id": "yprwJHiMBQIS"
   },
   "outputs": [],
   "source": [
    "X = train_seqs[:,:-1]\n",
    "y = train_seqs[:,1:]"
   ]
  },
  {
   "cell_type": "code",
   "execution_count": 37,
   "metadata": {
    "id": "KFAyA4zCWE-5"
   },
   "outputs": [
    {
     "data": {
      "text/plain": [
       "(12691, 15)"
      ]
     },
     "execution_count": 37,
     "metadata": {},
     "output_type": "execute_result"
    }
   ],
   "source": [
    "y.shape"
   ]
  },
  {
   "cell_type": "code",
   "execution_count": 38,
   "metadata": {
    "id": "1D9ESMGyB_QD"
   },
   "outputs": [
    {
     "data": {
      "text/plain": [
       "{1: 'the',\n",
       " 2: 'and',\n",
       " 3: '”',\n",
       " 4: 'to',\n",
       " 5: 'a',\n",
       " 6: 'he',\n",
       " 7: 'of',\n",
       " 8: 'i',\n",
       " 9: 'is',\n",
       " 10: 'in',\n",
       " 11: 'was',\n",
       " 12: 'it',\n",
       " 13: 'you',\n",
       " 14: 'that',\n",
       " 15: 'said',\n",
       " 16: 'his',\n",
       " 17: 'for',\n",
       " 18: 'little',\n",
       " 19: 'so',\n",
       " 20: 'as',\n",
       " 21: 'with',\n",
       " 22: 'not',\n",
       " 23: 'my',\n",
       " 24: '’',\n",
       " 25: 'at',\n",
       " 26: 'have',\n",
       " 27: 'all',\n",
       " 28: 'but',\n",
       " 29: 'she',\n",
       " 30: 'on',\n",
       " 31: 'am',\n",
       " 32: 'they',\n",
       " 33: 'her',\n",
       " 34: 'had',\n",
       " 35: 'very',\n",
       " 36: 'him',\n",
       " 37: 'are',\n",
       " 38: 'will',\n",
       " 39: 'be',\n",
       " 40: 'me',\n",
       " 41: '“i',\n",
       " 42: 'cried',\n",
       " 43: 'one',\n",
       " 44: 'were',\n",
       " 45: 'like',\n",
       " 46: 'hans',\n",
       " 47: 'rose',\n",
       " 48: 'there',\n",
       " 49: 'out',\n",
       " 50: 'prince',\n",
       " 51: 'swallow',\n",
       " 52: 'no',\n",
       " 53: 'miller',\n",
       " 54: 'what',\n",
       " 55: 'great',\n",
       " 56: 'when',\n",
       " 57: 'up',\n",
       " 58: 'garden',\n",
       " 59: 'over',\n",
       " 60: 'who',\n",
       " 61: 'down',\n",
       " 62: 'about',\n",
       " 63: 'into',\n",
       " 64: 'then',\n",
       " 65: 'rocket',\n",
       " 66: 'quite',\n",
       " 67: 'came',\n",
       " 68: 'has',\n",
       " 69: 'answered',\n",
       " 70: 'red',\n",
       " 71: 'if',\n",
       " 72: 'never',\n",
       " 73: 'away',\n",
       " 74: 'happy',\n",
       " 75: 'always',\n",
       " 76: 'them',\n",
       " 77: 'would',\n",
       " 78: 'tree',\n",
       " 79: 'good',\n",
       " 80: 'beautiful',\n",
       " 81: 'by',\n",
       " 82: 'going',\n",
       " 83: 'must',\n",
       " 84: 'really',\n",
       " 85: 'day',\n",
       " 86: 'see',\n",
       " 87: 'your',\n",
       " 88: 'went',\n",
       " 89: 'their',\n",
       " 90: 'round',\n",
       " 91: 'go',\n",
       " 92: 'some',\n",
       " 93: 'children',\n",
       " 94: 'night',\n",
       " 95: 'love',\n",
       " 96: 'off',\n",
       " 97: 'shall',\n",
       " 98: 'now',\n",
       " 99: 'giant',\n",
       " 100: 'long',\n",
       " 101: 'any',\n",
       " 102: 'back',\n",
       " 103: 'than',\n",
       " 104: 'much',\n",
       " 105: 'do',\n",
       " 106: 'know',\n",
       " 107: 'looked',\n",
       " 108: 'water',\n",
       " 109: 'from',\n",
       " 110: 'think',\n",
       " 111: '“you',\n",
       " 112: 'here',\n",
       " 113: 'flowers',\n",
       " 114: 'give',\n",
       " 115: 'nightingale',\n",
       " 116: 'flew',\n",
       " 117: 'after',\n",
       " 118: 'made',\n",
       " 119: '“and',\n",
       " 120: 'heart',\n",
       " 121: 'could',\n",
       " 122: 'only',\n",
       " 123: 'indeed',\n",
       " 124: 'white',\n",
       " 125: 'did',\n",
       " 126: 'most',\n",
       " 127: 'certainly',\n",
       " 128: 'time',\n",
       " 129: 'don’t',\n",
       " 130: 'boy',\n",
       " 131: 'come',\n",
       " 132: 'other',\n",
       " 133: '“but',\n",
       " 134: 'head',\n",
       " 135: 'himself',\n",
       " 136: '“what',\n",
       " 137: 'friend',\n",
       " 138: 'eyes',\n",
       " 139: 'should',\n",
       " 140: 'this',\n",
       " 141: 'thing',\n",
       " 142: 'things',\n",
       " 143: 'myself',\n",
       " 144: 'wheelbarrow',\n",
       " 145: 'we',\n",
       " 146: 'began',\n",
       " 147: 'can',\n",
       " 148: 'fact',\n",
       " 149: 'say',\n",
       " 150: 'afraid',\n",
       " 151: 'large',\n",
       " 152: 'people',\n",
       " 153: 'big',\n",
       " 154: 'through',\n",
       " 155: '“it',\n",
       " 156: 'gold',\n",
       " 157: 'two',\n",
       " 158: 'been',\n",
       " 159: 'silver',\n",
       " 160: 'put',\n",
       " 161: 'saw',\n",
       " 162: 'voice',\n",
       " 163: 'poor',\n",
       " 164: 'how',\n",
       " 165: 'last',\n",
       " 166: 'winter',\n",
       " 167: 'every',\n",
       " 168: 'more',\n",
       " 169: 'life',\n",
       " 170: 'rat',\n",
       " 171: 'anything',\n",
       " 172: 'world',\n",
       " 173: 'just',\n",
       " 174: 'ran',\n",
       " 175: 'or',\n",
       " 176: 'friendship',\n",
       " 177: '“the',\n",
       " 178: 'spring',\n",
       " 179: 'wings',\n",
       " 180: 'feet',\n",
       " 181: 'look',\n",
       " 182: 'heard',\n",
       " 183: 'morning',\n",
       " 184: 'get',\n",
       " 185: 'grass',\n",
       " 186: 'linnet',\n",
       " 187: 'statue',\n",
       " 188: 'which',\n",
       " 189: 'moon',\n",
       " 190: '“how',\n",
       " 191: 'before',\n",
       " 192: 'talk',\n",
       " 193: 'once',\n",
       " 194: 'cannot',\n",
       " 195: 'dead',\n",
       " 196: 'house',\n",
       " 197: 'next',\n",
       " 198: 'king',\n",
       " 199: 'each',\n",
       " 200: 'grew',\n",
       " 201: 'knew',\n",
       " 202: 'better',\n",
       " 203: 'true',\n",
       " 204: 'upon',\n",
       " 205: 'may',\n",
       " 206: 'thorn',\n",
       " 207: 'duck',\n",
       " 208: 'asked',\n",
       " 209: 'too',\n",
       " 210: 'fell',\n",
       " 211: 'stars',\n",
       " 212: 'dance',\n",
       " 213: 'bed',\n",
       " 214: 'its',\n",
       " 215: 'still',\n",
       " 216: 'young',\n",
       " 217: 'play',\n",
       " 218: 'fire',\n",
       " 219: 'take',\n",
       " 220: 'everybody',\n",
       " 221: 'student',\n",
       " 222: 'want',\n",
       " 223: 'sure',\n",
       " 224: 'princess',\n",
       " 225: 'wonderful',\n",
       " 226: 'an',\n",
       " 227: 'river',\n",
       " 228: 'yellow',\n",
       " 229: 'bye',\n",
       " 230: 'air',\n",
       " 231: 'used',\n",
       " 232: 'tears',\n",
       " 233: 'court',\n",
       " 234: 'green',\n",
       " 235: 'course',\n",
       " 236: 'well',\n",
       " 237: 'old',\n",
       " 238: 'snow',\n",
       " 239: 'hand',\n",
       " 240: 'sing',\n",
       " 241: 'story',\n",
       " 242: 'song',\n",
       " 243: '“well',\n",
       " 244: 'best',\n",
       " 245: 'son',\n",
       " 246: 'mind',\n",
       " 247: 'roman',\n",
       " 248: 'candle',\n",
       " 249: 'city',\n",
       " 250: 'ruby',\n",
       " 251: '“he',\n",
       " 252: 'man',\n",
       " 253: 'egypt',\n",
       " 254: 'many',\n",
       " 255: 'golden',\n",
       " 256: 'sleep',\n",
       " 257: 'where',\n",
       " 258: 'wall',\n",
       " 259: 'ask',\n",
       " 260: 'lying',\n",
       " 261: 'nothing',\n",
       " 262: 'stay',\n",
       " 263: 'sat',\n",
       " 264: 'place',\n",
       " 265: 'lovely',\n",
       " 266: 'tell',\n",
       " 267: 'saying',\n",
       " 268: 'wheel',\n",
       " 269: 'ever',\n",
       " 270: 'end',\n",
       " 271: 'such',\n",
       " 272: '‘i',\n",
       " 273: 'whole',\n",
       " 274: 'high',\n",
       " 275: 'fine',\n",
       " 276: 'town',\n",
       " 277: '“why',\n",
       " 278: 'seen',\n",
       " 279: 'gone',\n",
       " 280: 'wind',\n",
       " 281: '“there',\n",
       " 282: 'yet',\n",
       " 283: 'rain',\n",
       " 284: 'fly',\n",
       " 285: 'face',\n",
       " 286: 'everything',\n",
       " 287: 'set',\n",
       " 288: 'told',\n",
       " 289: 'remarkable',\n",
       " 290: 'understand',\n",
       " 291: 'top',\n",
       " 292: 'longer',\n",
       " 293: 'trees',\n",
       " 294: 'let',\n",
       " 295: 'looking',\n",
       " 296: 'birds',\n",
       " 297: 'thought',\n",
       " 298: 'window',\n",
       " 299: 'way',\n",
       " 300: 'own',\n",
       " 301: 'against',\n",
       " 302: 'sang',\n",
       " 303: 'selfish',\n",
       " 304: 'why',\n",
       " 305: 'again',\n",
       " 306: 'took',\n",
       " 307: 'devoted',\n",
       " 308: 'however',\n",
       " 309: '“‘well',\n",
       " 310: 'work',\n",
       " 311: 'stick',\n",
       " 312: 'person',\n",
       " 313: 'mother',\n",
       " 314: 'glad',\n",
       " 315: 'friends',\n",
       " 316: '“she',\n",
       " 317: 'full',\n",
       " 318: 'felt',\n",
       " 319: 'wife',\n",
       " 320: 'hope',\n",
       " 321: 'sky',\n",
       " 322: 'use',\n",
       " 323: 'though',\n",
       " 324: 'bring',\n",
       " 325: '“my',\n",
       " 326: 'talking',\n",
       " 327: 'soon',\n",
       " 328: 'boys',\n",
       " 329: 'miller’s',\n",
       " 330: 'cold',\n",
       " 331: 'prince’s',\n",
       " 332: 'passed',\n",
       " 333: 'girl',\n",
       " 334: 'warm',\n",
       " 335: 'thinking',\n",
       " 336: 'covered',\n",
       " 337: 'lips',\n",
       " 338: 'brought',\n",
       " 339: 'roof',\n",
       " 340: 'does',\n",
       " 341: 'sitting',\n",
       " 342: 'till',\n",
       " 343: 'frost',\n",
       " 344: 'something',\n",
       " 345: 'hard',\n",
       " 346: '“as',\n",
       " 347: 'roses',\n",
       " 348: 'perhaps',\n",
       " 349: 'music',\n",
       " 350: 'sweet',\n",
       " 351: 'got',\n",
       " 352: 'others',\n",
       " 353: 'gave',\n",
       " 354: 'coming',\n",
       " 355: 'three',\n",
       " 356: 'kind',\n",
       " 357: 'flour',\n",
       " 358: 'basket',\n",
       " 359: 'might',\n",
       " 360: '‘but',\n",
       " 361: 'sold',\n",
       " 362: 'bad',\n",
       " 363: 'plank',\n",
       " 364: 'doubt',\n",
       " 365: 'catherine',\n",
       " 366: 'frog',\n",
       " 367: 'bright',\n",
       " 368: 'remarked',\n",
       " 369: 'crying',\n",
       " 370: '“ah',\n",
       " 371: 'our',\n",
       " 372: 'low',\n",
       " 373: 'money',\n",
       " 374: 'home',\n",
       " 375: 'merely',\n",
       " 376: 'another',\n",
       " 377: 'keep',\n",
       " 378: 'lived',\n",
       " 379: 'make',\n",
       " 380: 'hands',\n",
       " 381: 'pale',\n",
       " 382: '“swallow',\n",
       " 383: 'sorry',\n",
       " 384: 'sound',\n",
       " 385: 'done',\n",
       " 386: '“that',\n",
       " 387: 'because',\n",
       " 388: 'left',\n",
       " 389: 'hole',\n",
       " 390: '“this',\n",
       " 391: 'nobody',\n",
       " 392: 'given',\n",
       " 393: 'laughing',\n",
       " 394: '“no',\n",
       " 395: 'leaf',\n",
       " 396: '“we',\n",
       " 397: 'right',\n",
       " 398: 'bird',\n",
       " 399: 'shadow',\n",
       " 400: 'branches',\n",
       " 401: 'dry',\n",
       " 402: 'return',\n",
       " 403: 'closer',\n",
       " 404: 'bride',\n",
       " 405: 'blossoms',\n",
       " 406: 'listen',\n",
       " 407: 'delightful',\n",
       " 408: 'market',\n",
       " 409: 'often',\n",
       " 410: 'married',\n",
       " 411: 'higher',\n",
       " 412: 'extremely',\n",
       " 413: 'nature',\n",
       " 414: 'bengal',\n",
       " 415: 'light',\n",
       " 416: 'stood',\n",
       " 417: 'leaves',\n",
       " 418: 'sword',\n",
       " 419: 'councillors',\n",
       " 420: 'scarlet',\n",
       " 421: 'six',\n",
       " 422: 'reed',\n",
       " 423: 'far',\n",
       " 424: 'conversation',\n",
       " 425: 'continued',\n",
       " 426: '“will',\n",
       " 427: 'shook',\n",
       " 428: 'under',\n",
       " 429: 'curious',\n",
       " 430: 'north',\n",
       " 431: 'filled',\n",
       " 432: 'played',\n",
       " 433: 'pleasure',\n",
       " 434: 'honour',\n",
       " 435: 'besides',\n",
       " 436: 'asleep',\n",
       " 437: 'tired',\n",
       " 438: 'feel',\n",
       " 439: 'distinguished',\n",
       " 440: 'side',\n",
       " 441: 'brown',\n",
       " 442: 'buy',\n",
       " 443: 'hear',\n",
       " 444: 'sun',\n",
       " 445: 'mud',\n",
       " 446: 'pink',\n",
       " 447: 'dear',\n",
       " 448: 'blue',\n",
       " 449: '“so',\n",
       " 450: 'shoulder',\n",
       " 451: 'stand',\n",
       " 452: 'black',\n",
       " 453: 'crystal',\n",
       " 454: 'marvellous',\n",
       " 455: 'door',\n",
       " 456: 'mayor',\n",
       " 457: 'threw',\n",
       " 458: 'mine',\n",
       " 459: 'sit',\n",
       " 460: 'blood',\n",
       " 461: 'without',\n",
       " 462: 'mean',\n",
       " 463: 'first',\n",
       " 464: 'together',\n",
       " 465: 'fruit',\n",
       " 466: 'order',\n",
       " 467: 'care',\n",
       " 468: 'king’s',\n",
       " 469: 'child',\n",
       " 470: 'tiny',\n",
       " 471: 'pond',\n",
       " 472: 'attention',\n",
       " 473: 'swam',\n",
       " 474: 'rather',\n",
       " 475: 'barn',\n",
       " 476: '“‘it',\n",
       " 477: 'sack',\n",
       " 478: 'happened',\n",
       " 479: 'ditch',\n",
       " 480: 'same',\n",
       " 481: 'yourself',\n",
       " 482: 'bang',\n",
       " 483: 'tall',\n",
       " 484: 'useful',\n",
       " 485: 'behind',\n",
       " 486: 'early',\n",
       " 487: 'making',\n",
       " 488: 'summer',\n",
       " 489: 'autumn',\n",
       " 490: 'lonely',\n",
       " 491: 'whenever',\n",
       " 492: 'also',\n",
       " 493: 'arrived',\n",
       " 494: 'clear',\n",
       " 495: 'selfishness',\n",
       " 496: 'opened',\n",
       " 497: '“who',\n",
       " 498: 'palace',\n",
       " 499: 'evening',\n",
       " 500: 'lay',\n",
       " 501: 'called',\n",
       " 502: 'weep',\n",
       " 503: 'passion',\n",
       " 504: 'ball',\n",
       " 505: 'corner',\n",
       " 506: 'room',\n",
       " 507: 'waited',\n",
       " 508: 'sad',\n",
       " 509: 'picked',\n",
       " 510: 'lover',\n",
       " 511: 'fallen',\n",
       " 512: 'getting',\n",
       " 513: 'sank',\n",
       " 514: 'broke',\n",
       " 515: '“a',\n",
       " 516: 'public',\n",
       " 517: 'morrow',\n",
       " 518: 'second',\n",
       " 519: 'horse',\n",
       " 520: 'louder',\n",
       " 521: 'across',\n",
       " 522: 'hair',\n",
       " 523: 'years',\n",
       " 524: '“dear',\n",
       " 525: 'plucked',\n",
       " 526: 'eye',\n",
       " 527: 'student’s',\n",
       " 528: 'found',\n",
       " 529: 'beginning',\n",
       " 530: 'beat',\n",
       " 531: 'strange',\n",
       " 532: 'knows',\n",
       " 533: 'rich',\n",
       " 534: 'arms',\n",
       " 535: 'themselves',\n",
       " 536: 'grey',\n",
       " 537: 'loved',\n",
       " 538: 'murmured',\n",
       " 539: 'kissed',\n",
       " 540: 'broken',\n",
       " 541: 'walking',\n",
       " 542: 'oak',\n",
       " 543: 'philosophy',\n",
       " 544: '“here',\n",
       " 545: 'pain',\n",
       " 546: 'nor',\n",
       " 547: 'suddenly',\n",
       " 548: 'soared',\n",
       " 549: 'spray',\n",
       " 550: 'storm',\n",
       " 551: 'year',\n",
       " 552: 'breast',\n",
       " 553: 'listened',\n",
       " 554: 'finished',\n",
       " 555: 'walked',\n",
       " 556: 'herself',\n",
       " 557: 'deeper',\n",
       " 558: 'bridegroom',\n",
       " 559: 'reached',\n",
       " 560: 'crimson',\n",
       " 561: 'real',\n",
       " 562: 'word',\n",
       " 563: 'even',\n",
       " 564: 'silly',\n",
       " 565: 'half',\n",
       " 566: 'afternoon',\n",
       " 567: 'giant’s',\n",
       " 568: 'playing',\n",
       " 569: 'doing',\n",
       " 570: 'road',\n",
       " 571: 'country',\n",
       " 572: 'live',\n",
       " 573: 'hail',\n",
       " 574: 'sight',\n",
       " 575: 'heads',\n",
       " 576: '“now',\n",
       " 577: 'whom',\n",
       " 578: 'hate',\n",
       " 579: 'society',\n",
       " 580: 'drowned',\n",
       " 581: 'except',\n",
       " 582: 'worked',\n",
       " 583: 'fair',\n",
       " 584: 'sheep',\n",
       " 585: 'deal',\n",
       " 586: 'primroses',\n",
       " 587: 'different',\n",
       " 588: 'new',\n",
       " 589: 'matter',\n",
       " 590: 'sympathy',\n",
       " 591: 'us',\n",
       " 592: '“‘good',\n",
       " 593: 'rest',\n",
       " 594: 'mended',\n",
       " 595: 'ladder',\n",
       " 596: '“‘oh',\n",
       " 597: 'refuse',\n",
       " 598: 'cap',\n",
       " 599: 'days',\n",
       " 600: 'lantern',\n",
       " 601: 'doctor',\n",
       " 602: 'loss',\n",
       " 603: 'deep',\n",
       " 604: 'replied',\n",
       " 605: 'moral',\n",
       " 606: 'magnificent',\n",
       " 607: 'grand',\n",
       " 608: 'fireworks',\n",
       " 609: 'royal',\n",
       " 610: 'pyrotechnist',\n",
       " 611: 'cracker',\n",
       " 612: 'quack',\n",
       " 613: 'above',\n",
       " 614: 'column',\n",
       " 615: '“only',\n",
       " 616: 'dreams',\n",
       " 617: 'stayed',\n",
       " 618: 'met',\n",
       " 619: 'flying',\n",
       " 620: 'stopped',\n",
       " 621: 'position',\n",
       " 622: 'between',\n",
       " 623: 'drop',\n",
       " 624: 'dreadful',\n",
       " 625: 'third',\n",
       " 626: 'running',\n",
       " 627: 'moonlight',\n",
       " 628: 'pity',\n",
       " 629: 'weeping',\n",
       " 630: 'sorrow',\n",
       " 631: 'courtiers',\n",
       " 632: 'lead',\n",
       " 633: '“far',\n",
       " 634: 'street',\n",
       " 635: 'open',\n",
       " 636: 'table',\n",
       " 637: 'wear',\n",
       " 638: 'chain',\n",
       " 639: 'withered',\n",
       " 640: 'family',\n",
       " 641: 'dancing',\n",
       " 642: 'gently',\n",
       " 643: 'professor',\n",
       " 644: 'wrote',\n",
       " 645: 'god',\n",
       " 646: 'cry',\n",
       " 647: 'joy',\n",
       " 648: 'silent',\n",
       " 649: 'leaning',\n",
       " 650: 'violets',\n",
       " 651: 'finish',\n",
       " 652: 'pluck',\n",
       " 653: '“do',\n",
       " 654: 'watched',\n",
       " 655: 'shouted',\n",
       " 656: 'palm',\n",
       " 657: 'lie',\n",
       " 658: 'nest',\n",
       " 659: 'jewels',\n",
       " 660: 'those',\n",
       " 661: 'sea',\n",
       " 662: 'fall',\n",
       " 663: 'spoiled',\n",
       " 664: 'father',\n",
       " 665: 'past',\n",
       " 666: 'bit',\n",
       " 667: 'lives',\n",
       " 668: 'walk',\n",
       " 669: 'dark',\n",
       " 670: 'streets',\n",
       " 671: 'children’s',\n",
       " 672: 'laughed',\n",
       " 673: 'games',\n",
       " 674: 'hung',\n",
       " 675: 'tried',\n",
       " 676: '“good',\n",
       " 677: 'death',\n",
       " 678: 'brother',\n",
       " 679: 'actually',\n",
       " 680: 'note',\n",
       " 681: 'pulled',\n",
       " 682: 'art',\n",
       " 683: '“for',\n",
       " 684: 'wondered',\n",
       " 685: 'read',\n",
       " 686: 'written',\n",
       " 687: 'blossom',\n",
       " 688: 'dawn',\n",
       " 689: 'tail',\n",
       " 690: 'whispered',\n",
       " 691: 'spread',\n",
       " 692: '“give',\n",
       " 693: 'sweetest',\n",
       " 694: 'mountain',\n",
       " 695: 'terrible',\n",
       " 696: '“if',\n",
       " 697: 'heart’s',\n",
       " 698: 'wood',\n",
       " 699: 'hill',\n",
       " 700: 'book',\n",
       " 701: 'practical',\n",
       " 702: 'blossomed',\n",
       " 703: 'became',\n",
       " 704: 'fainter',\n",
       " 705: 'purple',\n",
       " 706: 'now”',\n",
       " 707: 'sent',\n",
       " 708: 'angrily',\n",
       " 709: 'believe',\n",
       " 710: 'chair',\n",
       " 711: 'returned',\n",
       " 712: 'dusty',\n",
       " 713: 'school',\n",
       " 714: 'twelve',\n",
       " 715: 'stop',\n",
       " 716: 'visit',\n",
       " 717: 'seven',\n",
       " 718: 'castle',\n",
       " 719: 'notice',\n",
       " 720: 'flower',\n",
       " 721: 'forgotten',\n",
       " 722: 'cloak',\n",
       " 723: 'hours',\n",
       " 724: 'dressed',\n",
       " 725: 'danced',\n",
       " 726: 'roaring',\n",
       " 727: 'jumped',\n",
       " 728: 'downstairs',\n",
       " 729: 'spoke',\n",
       " 730: 'dared',\n",
       " 731: 'these',\n",
       " 732: '“they',\n",
       " 733: 'parents',\n",
       " 734: 'pray',\n",
       " 735: 'expect',\n",
       " 736: '“let',\n",
       " 737: 'subject',\n",
       " 738: 'cottage',\n",
       " 739: 'proper',\n",
       " 740: 'common',\n",
       " 741: 'mill',\n",
       " 742: 'few',\n",
       " 743: 'trouble',\n",
       " 744: 'seem',\n",
       " 745: 'being',\n",
       " 746: '“certainly',\n",
       " 747: '‘you',\n",
       " 748: 'tied',\n",
       " 749: '‘and',\n",
       " 750: 'surprised',\n",
       " 751: 'lucky',\n",
       " 752: 'buttons',\n",
       " 753: 'coat',\n",
       " 754: 'repair',\n",
       " 755: 'generous',\n",
       " 756: 'damp',\n",
       " 757: 'considering',\n",
       " 758: 'unfriendly',\n",
       " 759: 'exactly',\n",
       " 760: '“‘i',\n",
       " 761: 'account',\n",
       " 762: 'times',\n",
       " 763: 'lost',\n",
       " 764: 'dangerous',\n",
       " 765: 'orders',\n",
       " 766: 'salary',\n",
       " 767: 'squib',\n",
       " 768: 'one’s',\n",
       " 769: 'exclaimed',\n",
       " 770: 'romance',\n",
       " 771: '“romance',\n",
       " 772: '“ahem',\n",
       " 773: 'ahem',\n",
       " 774: 'gunpowder',\n",
       " 775: 'sensitive',\n",
       " 776: 'else',\n",
       " 777: 'misfortune',\n",
       " 778: 'begin',\n",
       " 779: 'sense',\n",
       " 780: 'balloon',\n",
       " 781: 'important',\n",
       " 782: 'oneself',\n",
       " 783: 'daughters',\n",
       " 784: 'sensation',\n",
       " 785: 'kettle',\n",
       " 786: 'fizz',\n",
       " 787: 'thin',\n",
       " 788: 'sapphires',\n",
       " 789: 'glowed',\n",
       " 790: 'hilt',\n",
       " 791: 'admired',\n",
       " 792: 'having',\n",
       " 793: 'tastes',\n",
       " 794: 'unpractical',\n",
       " 795: 'looks',\n",
       " 796: 'angel',\n",
       " 797: 'cathedral',\n",
       " 798: 'mathematical',\n",
       " 799: 'master',\n",
       " 800: 'frowned',\n",
       " 801: 'severe',\n",
       " 802: '“shall',\n",
       " 803: 'bow',\n",
       " 804: 'lasted',\n",
       " 805: 'ridiculous',\n",
       " 806: 'swallows',\n",
       " 807: 'reeds',\n",
       " 808: 'blew',\n",
       " 809: 'graceful',\n",
       " 810: 'travelling',\n",
       " 811: 'attached',\n",
       " 812: 'bedroom',\n",
       " 813: 'softly',\n",
       " 814: 'putting',\n",
       " 815: 'single',\n",
       " 816: 'chimney',\n",
       " 817: 'determined',\n",
       " 818: 'allowed',\n",
       " 819: 'companions',\n",
       " 820: 'led',\n",
       " 821: 'hall',\n",
       " 822: 'happiness',\n",
       " 823: 'misery',\n",
       " 824: 'loud',\n",
       " 825: 'musical',\n",
       " 826: 'seated',\n",
       " 827: 'maids',\n",
       " 828: 'ill',\n",
       " 829: 'nile',\n",
       " 830: 'tomb',\n",
       " 831: 'painted',\n",
       " 832: 'wrapped',\n",
       " 833: 'neck',\n",
       " 834: 'messenger',\n",
       " 835: 'staying',\n",
       " 836: 'rude',\n",
       " 837: 'stones',\n",
       " 838: 'angels',\n",
       " 839: 'power',\n",
       " 840: 'dress',\n",
       " 841: 'state',\n",
       " 842: 'ordered',\n",
       " 843: 'embroidered',\n",
       " 844: 'lazy',\n",
       " 845: 'forehead',\n",
       " 846: 'delicious',\n",
       " 847: 'action',\n",
       " 848: 'passing',\n",
       " 849: 'bridge',\n",
       " 850: 'local',\n",
       " 851: 'words',\n",
       " 852: '“to',\n",
       " 853: 'spirits',\n",
       " 854: 'church',\n",
       " 855: 'enjoyed',\n",
       " 856: 'cataract',\n",
       " 857: 'throne',\n",
       " 858: 'sits',\n",
       " 859: 'noon',\n",
       " 860: 'drink',\n",
       " 861: 'roar',\n",
       " 862: 'garret',\n",
       " 863: 'dreamy',\n",
       " 864: 'trying',\n",
       " 865: 'hunger',\n",
       " 866: 'wait',\n",
       " 867: 'india',\n",
       " 868: 'ago',\n",
       " 869: 'sell',\n",
       " 870: 'command',\n",
       " 871: 'darted',\n",
       " 872: 'buried',\n",
       " 873: 'sapphire',\n",
       " 874: 'appreciated',\n",
       " 875: 'hold',\n",
       " 876: 'bid',\n",
       " 877: 'leave',\n",
       " 878: 'forget',\n",
       " 879: 'redder',\n",
       " 880: '“in',\n",
       " 881: 'square',\n",
       " 882: 'below',\n",
       " 883: 'match',\n",
       " 884: 'gutter',\n",
       " 885: 'shoes',\n",
       " 886: 'blind',\n",
       " 887: 'slipped',\n",
       " 888: 'glass',\n",
       " 889: 'merchants',\n",
       " 890: 'amber',\n",
       " 891: 'honey',\n",
       " 892: 'cakes',\n",
       " 893: 'men',\n",
       " 894: 'mystery',\n",
       " 895: 'merry',\n",
       " 896: 'houses',\n",
       " 897: 'faces',\n",
       " 898: 'try',\n",
       " 899: 'hungry',\n",
       " 900: 'wandered',\n",
       " 901: 'dull',\n",
       " 902: 'bread',\n",
       " 903: 'furs',\n",
       " 904: 'ice',\n",
       " 905: 'colder',\n",
       " 906: 'outside',\n",
       " 907: 'flapping',\n",
       " 908: 'die',\n",
       " 909: 'kiss',\n",
       " 910: 'sounded',\n",
       " 911: 'inside',\n",
       " 912: 'leaden',\n",
       " 913: 'company',\n",
       " 914: 'shabby',\n",
       " 915: 'beggar',\n",
       " 916: '“little',\n",
       " 917: 'melted',\n",
       " 918: 'furnace',\n",
       " 919: 'meeting',\n",
       " 920: '“of',\n",
       " 921: 'quarrelled',\n",
       " 922: 'workmen',\n",
       " 923: 'precious',\n",
       " 924: 'paradise',\n",
       " 925: 'wise',\n",
       " 926: 'pearls',\n",
       " 927: 'musicians',\n",
       " 928: 'flung',\n",
       " 929: 'lizard',\n",
       " 930: 'neighbour',\n",
       " 931: 'soft',\n",
       " 932: 'understood',\n",
       " 933: 'flight',\n",
       " 934: 'grove',\n",
       " 935: 'sailed',\n",
       " 936: 'standing',\n",
       " 937: 'lit',\n",
       " 938: 'grows',\n",
       " 939: 'dial',\n",
       " 940: 'growing',\n",
       " 941: 'daffodil',\n",
       " 942: 'comes',\n",
       " 943: 'beneath',\n",
       " 944: 'wave',\n",
       " 945: 'cavern',\n",
       " 946: 'veins',\n",
       " 947: 'dare',\n",
       " 948: '“tell',\n",
       " 949: 'build',\n",
       " 950: 'stain',\n",
       " 951: 'price',\n",
       " 952: 'pay',\n",
       " 953: 'pleasant',\n",
       " 954: 'watch',\n",
       " 955: 'chariot',\n",
       " 956: 'pearl',\n",
       " 957: '“be',\n",
       " 958: 'flame',\n",
       " 959: 'coloured',\n",
       " 960: 'body',\n",
       " 961: 'breath',\n",
       " 962: 'fond',\n",
       " 963: 'built',\n",
       " 964: 'pocket',\n",
       " 965: 'feeling',\n",
       " 966: 'heavens',\n",
       " 967: 'leaned',\n",
       " 968: 'birth',\n",
       " 969: 'petal',\n",
       " 970: 'pool',\n",
       " 971: 'press',\n",
       " 972: '“press',\n",
       " 973: '“or',\n",
       " 974: 'pressed',\n",
       " 975: 'delicate',\n",
       " 976: 'flush',\n",
       " 977: 'nightingale’s',\n",
       " 978: 'touched',\n",
       " 979: 'shot',\n",
       " 980: 'bitter',\n",
       " 981: 'wilder',\n",
       " 982: 'dies',\n",
       " 983: 'petals',\n",
       " 984: 'throat',\n",
       " 985: 'burst',\n",
       " 986: 'forgot',\n",
       " 987: 'bore',\n",
       " 988: 'carried',\n",
       " 989: '“look',\n",
       " 990: 'daughter',\n",
       " 991: 'dog',\n",
       " 992: 'chamberlain’s',\n",
       " 993: 'nephew',\n",
       " 994: 'cart',\n",
       " 995: 'age',\n",
       " 996: '“any',\n",
       " 997: 'allow',\n",
       " 998: 'board',\n",
       " 999: 'pleased',\n",
       " 1000: 'spot',\n",
       " ...}"
      ]
     },
     "execution_count": 38,
     "metadata": {},
     "output_type": "execute_result"
    }
   ],
   "source": [
    "tok.index_word"
   ]
  },
  {
   "cell_type": "code",
   "execution_count": 39,
   "metadata": {
    "id": "WtzINYjWCMf1"
   },
   "outputs": [
    {
     "data": {
      "text/plain": [
       "2346"
      ]
     },
     "execution_count": 39,
     "metadata": {},
     "output_type": "execute_result"
    }
   ],
   "source": [
    "vocab_size = len(tok.word_counts)\n",
    "vocab_size"
   ]
  },
  {
   "cell_type": "code",
   "execution_count": 40,
   "metadata": {
    "id": "spTBxmFQc6h8"
   },
   "outputs": [
    {
     "name": "stdout",
     "output_type": "stream",
     "text": [
      "{'the': 1, 'and': 2, '”': 3, 'to': 4, 'a': 5, 'he': 6, 'of': 7, 'i': 8, 'is': 9, 'in': 10, 'was': 11, 'it': 12, 'you': 13, 'that': 14, 'said': 15, 'his': 16, 'for': 17, 'little': 18, 'so': 19, 'as': 20, 'with': 21, 'not': 22, 'my': 23, '’': 24, 'at': 25, 'have': 26, 'all': 27, 'but': 28, 'she': 29, 'on': 30, 'am': 31, 'they': 32, 'her': 33, 'had': 34, 'very': 35, 'him': 36, 'are': 37, 'will': 38, 'be': 39, 'me': 40, '“i': 41, 'cried': 42, 'one': 43, 'were': 44, 'like': 45, 'hans': 46, 'rose': 47, 'there': 48, 'out': 49, 'prince': 50, 'swallow': 51, 'no': 52, 'miller': 53, 'what': 54, 'great': 55, 'when': 56, 'up': 57, 'garden': 58, 'over': 59, 'who': 60, 'down': 61, 'about': 62, 'into': 63, 'then': 64, 'rocket': 65, 'quite': 66, 'came': 67, 'has': 68, 'answered': 69, 'red': 70, 'if': 71, 'never': 72, 'away': 73, 'happy': 74, 'always': 75, 'them': 76, 'would': 77, 'tree': 78, 'good': 79, 'beautiful': 80, 'by': 81, 'going': 82, 'must': 83, 'really': 84, 'day': 85, 'see': 86, 'your': 87, 'went': 88, 'their': 89, 'round': 90, 'go': 91, 'some': 92, 'children': 93, 'night': 94, 'love': 95, 'off': 96, 'shall': 97, 'now': 98, 'giant': 99, 'long': 100, 'any': 101, 'back': 102, 'than': 103, 'much': 104, 'do': 105, 'know': 106, 'looked': 107, 'water': 108, 'from': 109, 'think': 110, '“you': 111, 'here': 112, 'flowers': 113, 'give': 114, 'nightingale': 115, 'flew': 116, 'after': 117, 'made': 118, '“and': 119, 'heart': 120, 'could': 121, 'only': 122, 'indeed': 123, 'white': 124, 'did': 125, 'most': 126, 'certainly': 127, 'time': 128, 'don’t': 129, 'boy': 130, 'come': 131, 'other': 132, '“but': 133, 'head': 134, 'himself': 135, '“what': 136, 'friend': 137, 'eyes': 138, 'should': 139, 'this': 140, 'thing': 141, 'things': 142, 'myself': 143, 'wheelbarrow': 144, 'we': 145, 'began': 146, 'can': 147, 'fact': 148, 'say': 149, 'afraid': 150, 'large': 151, 'people': 152, 'big': 153, 'through': 154, '“it': 155, 'gold': 156, 'two': 157, 'been': 158, 'silver': 159, 'put': 160, 'saw': 161, 'voice': 162, 'poor': 163, 'how': 164, 'last': 165, 'winter': 166, 'every': 167, 'more': 168, 'life': 169, 'rat': 170, 'anything': 171, 'world': 172, 'just': 173, 'ran': 174, 'or': 175, 'friendship': 176, '“the': 177, 'spring': 178, 'wings': 179, 'feet': 180, 'look': 181, 'heard': 182, 'morning': 183, 'get': 184, 'grass': 185, 'linnet': 186, 'statue': 187, 'which': 188, 'moon': 189, '“how': 190, 'before': 191, 'talk': 192, 'once': 193, 'cannot': 194, 'dead': 195, 'house': 196, 'next': 197, 'king': 198, 'each': 199, 'grew': 200, 'knew': 201, 'better': 202, 'true': 203, 'upon': 204, 'may': 205, 'thorn': 206, 'duck': 207, 'asked': 208, 'too': 209, 'fell': 210, 'stars': 211, 'dance': 212, 'bed': 213, 'its': 214, 'still': 215, 'young': 216, 'play': 217, 'fire': 218, 'take': 219, 'everybody': 220, 'student': 221, 'want': 222, 'sure': 223, 'princess': 224, 'wonderful': 225, 'an': 226, 'river': 227, 'yellow': 228, 'bye': 229, 'air': 230, 'used': 231, 'tears': 232, 'court': 233, 'green': 234, 'course': 235, 'well': 236, 'old': 237, 'snow': 238, 'hand': 239, 'sing': 240, 'story': 241, 'song': 242, '“well': 243, 'best': 244, 'son': 245, 'mind': 246, 'roman': 247, 'candle': 248, 'city': 249, 'ruby': 250, '“he': 251, 'man': 252, 'egypt': 253, 'many': 254, 'golden': 255, 'sleep': 256, 'where': 257, 'wall': 258, 'ask': 259, 'lying': 260, 'nothing': 261, 'stay': 262, 'sat': 263, 'place': 264, 'lovely': 265, 'tell': 266, 'saying': 267, 'wheel': 268, 'ever': 269, 'end': 270, 'such': 271, '‘i': 272, 'whole': 273, 'high': 274, 'fine': 275, 'town': 276, '“why': 277, 'seen': 278, 'gone': 279, 'wind': 280, '“there': 281, 'yet': 282, 'rain': 283, 'fly': 284, 'face': 285, 'everything': 286, 'set': 287, 'told': 288, 'remarkable': 289, 'understand': 290, 'top': 291, 'longer': 292, 'trees': 293, 'let': 294, 'looking': 295, 'birds': 296, 'thought': 297, 'window': 298, 'way': 299, 'own': 300, 'against': 301, 'sang': 302, 'selfish': 303, 'why': 304, 'again': 305, 'took': 306, 'devoted': 307, 'however': 308, '“‘well': 309, 'work': 310, 'stick': 311, 'person': 312, 'mother': 313, 'glad': 314, 'friends': 315, '“she': 316, 'full': 317, 'felt': 318, 'wife': 319, 'hope': 320, 'sky': 321, 'use': 322, 'though': 323, 'bring': 324, '“my': 325, 'talking': 326, 'soon': 327, 'boys': 328, 'miller’s': 329, 'cold': 330, 'prince’s': 331, 'passed': 332, 'girl': 333, 'warm': 334, 'thinking': 335, 'covered': 336, 'lips': 337, 'brought': 338, 'roof': 339, 'does': 340, 'sitting': 341, 'till': 342, 'frost': 343, 'something': 344, 'hard': 345, '“as': 346, 'roses': 347, 'perhaps': 348, 'music': 349, 'sweet': 350, 'got': 351, 'others': 352, 'gave': 353, 'coming': 354, 'three': 355, 'kind': 356, 'flour': 357, 'basket': 358, 'might': 359, '‘but': 360, 'sold': 361, 'bad': 362, 'plank': 363, 'doubt': 364, 'catherine': 365, 'frog': 366, 'bright': 367, 'remarked': 368, 'crying': 369, '“ah': 370, 'our': 371, 'low': 372, 'money': 373, 'home': 374, 'merely': 375, 'another': 376, 'keep': 377, 'lived': 378, 'make': 379, 'hands': 380, 'pale': 381, '“swallow': 382, 'sorry': 383, 'sound': 384, 'done': 385, '“that': 386, 'because': 387, 'left': 388, 'hole': 389, '“this': 390, 'nobody': 391, 'given': 392, 'laughing': 393, '“no': 394, 'leaf': 395, '“we': 396, 'right': 397, 'bird': 398, 'shadow': 399, 'branches': 400, 'dry': 401, 'return': 402, 'closer': 403, 'bride': 404, 'blossoms': 405, 'listen': 406, 'delightful': 407, 'market': 408, 'often': 409, 'married': 410, 'higher': 411, 'extremely': 412, 'nature': 413, 'bengal': 414, 'light': 415, 'stood': 416, 'leaves': 417, 'sword': 418, 'councillors': 419, 'scarlet': 420, 'six': 421, 'reed': 422, 'far': 423, 'conversation': 424, 'continued': 425, '“will': 426, 'shook': 427, 'under': 428, 'curious': 429, 'north': 430, 'filled': 431, 'played': 432, 'pleasure': 433, 'honour': 434, 'besides': 435, 'asleep': 436, 'tired': 437, 'feel': 438, 'distinguished': 439, 'side': 440, 'brown': 441, 'buy': 442, 'hear': 443, 'sun': 444, 'mud': 445, 'pink': 446, 'dear': 447, 'blue': 448, '“so': 449, 'shoulder': 450, 'stand': 451, 'black': 452, 'crystal': 453, 'marvellous': 454, 'door': 455, 'mayor': 456, 'threw': 457, 'mine': 458, 'sit': 459, 'blood': 460, 'without': 461, 'mean': 462, 'first': 463, 'together': 464, 'fruit': 465, 'order': 466, 'care': 467, 'king’s': 468, 'child': 469, 'tiny': 470, 'pond': 471, 'attention': 472, 'swam': 473, 'rather': 474, 'barn': 475, '“‘it': 476, 'sack': 477, 'happened': 478, 'ditch': 479, 'same': 480, 'yourself': 481, 'bang': 482, 'tall': 483, 'useful': 484, 'behind': 485, 'early': 486, 'making': 487, 'summer': 488, 'autumn': 489, 'lonely': 490, 'whenever': 491, 'also': 492, 'arrived': 493, 'clear': 494, 'selfishness': 495, 'opened': 496, '“who': 497, 'palace': 498, 'evening': 499, 'lay': 500, 'called': 501, 'weep': 502, 'passion': 503, 'ball': 504, 'corner': 505, 'room': 506, 'waited': 507, 'sad': 508, 'picked': 509, 'lover': 510, 'fallen': 511, 'getting': 512, 'sank': 513, 'broke': 514, '“a': 515, 'public': 516, 'morrow': 517, 'second': 518, 'horse': 519, 'louder': 520, 'across': 521, 'hair': 522, 'years': 523, '“dear': 524, 'plucked': 525, 'eye': 526, 'student’s': 527, 'found': 528, 'beginning': 529, 'beat': 530, 'strange': 531, 'knows': 532, 'rich': 533, 'arms': 534, 'themselves': 535, 'grey': 536, 'loved': 537, 'murmured': 538, 'kissed': 539, 'broken': 540, 'walking': 541, 'oak': 542, 'philosophy': 543, '“here': 544, 'pain': 545, 'nor': 546, 'suddenly': 547, 'soared': 548, 'spray': 549, 'storm': 550, 'year': 551, 'breast': 552, 'listened': 553, 'finished': 554, 'walked': 555, 'herself': 556, 'deeper': 557, 'bridegroom': 558, 'reached': 559, 'crimson': 560, 'real': 561, 'word': 562, 'even': 563, 'silly': 564, 'half': 565, 'afternoon': 566, 'giant’s': 567, 'playing': 568, 'doing': 569, 'road': 570, 'country': 571, 'live': 572, 'hail': 573, 'sight': 574, 'heads': 575, '“now': 576, 'whom': 577, 'hate': 578, 'society': 579, 'drowned': 580, 'except': 581, 'worked': 582, 'fair': 583, 'sheep': 584, 'deal': 585, 'primroses': 586, 'different': 587, 'new': 588, 'matter': 589, 'sympathy': 590, 'us': 591, '“‘good': 592, 'rest': 593, 'mended': 594, 'ladder': 595, '“‘oh': 596, 'refuse': 597, 'cap': 598, 'days': 599, 'lantern': 600, 'doctor': 601, 'loss': 602, 'deep': 603, 'replied': 604, 'moral': 605, 'magnificent': 606, 'grand': 607, 'fireworks': 608, 'royal': 609, 'pyrotechnist': 610, 'cracker': 611, 'quack': 612, 'above': 613, 'column': 614, '“only': 615, 'dreams': 616, 'stayed': 617, 'met': 618, 'flying': 619, 'stopped': 620, 'position': 621, 'between': 622, 'drop': 623, 'dreadful': 624, 'third': 625, 'running': 626, 'moonlight': 627, 'pity': 628, 'weeping': 629, 'sorrow': 630, 'courtiers': 631, 'lead': 632, '“far': 633, 'street': 634, 'open': 635, 'table': 636, 'wear': 637, 'chain': 638, 'withered': 639, 'family': 640, 'dancing': 641, 'gently': 642, 'professor': 643, 'wrote': 644, 'god': 645, 'cry': 646, 'joy': 647, 'silent': 648, 'leaning': 649, 'violets': 650, 'finish': 651, 'pluck': 652, '“do': 653, 'watched': 654, 'shouted': 655, 'palm': 656, 'lie': 657, 'nest': 658, 'jewels': 659, 'those': 660, 'sea': 661, 'fall': 662, 'spoiled': 663, 'father': 664, 'past': 665, 'bit': 666, 'lives': 667, 'walk': 668, 'dark': 669, 'streets': 670, 'children’s': 671, 'laughed': 672, 'games': 673, 'hung': 674, 'tried': 675, '“good': 676, 'death': 677, 'brother': 678, 'actually': 679, 'note': 680, 'pulled': 681, 'art': 682, '“for': 683, 'wondered': 684, 'read': 685, 'written': 686, 'blossom': 687, 'dawn': 688, 'tail': 689, 'whispered': 690, 'spread': 691, '“give': 692, 'sweetest': 693, 'mountain': 694, 'terrible': 695, '“if': 696, 'heart’s': 697, 'wood': 698, 'hill': 699, 'book': 700, 'practical': 701, 'blossomed': 702, 'became': 703, 'fainter': 704, 'purple': 705, 'now”': 706, 'sent': 707, 'angrily': 708, 'believe': 709, 'chair': 710, 'returned': 711, 'dusty': 712, 'school': 713, 'twelve': 714, 'stop': 715, 'visit': 716, 'seven': 717, 'castle': 718, 'notice': 719, 'flower': 720, 'forgotten': 721, 'cloak': 722, 'hours': 723, 'dressed': 724, 'danced': 725, 'roaring': 726, 'jumped': 727, 'downstairs': 728, 'spoke': 729, 'dared': 730, 'these': 731, '“they': 732, 'parents': 733, 'pray': 734, 'expect': 735, '“let': 736, 'subject': 737, 'cottage': 738, 'proper': 739, 'common': 740, 'mill': 741, 'few': 742, 'trouble': 743, 'seem': 744, 'being': 745, '“certainly': 746, '‘you': 747, 'tied': 748, '‘and': 749, 'surprised': 750, 'lucky': 751, 'buttons': 752, 'coat': 753, 'repair': 754, 'generous': 755, 'damp': 756, 'considering': 757, 'unfriendly': 758, 'exactly': 759, '“‘i': 760, 'account': 761, 'times': 762, 'lost': 763, 'dangerous': 764, 'orders': 765, 'salary': 766, 'squib': 767, 'one’s': 768, 'exclaimed': 769, 'romance': 770, '“romance': 771, '“ahem': 772, 'ahem': 773, 'gunpowder': 774, 'sensitive': 775, 'else': 776, 'misfortune': 777, 'begin': 778, 'sense': 779, 'balloon': 780, 'important': 781, 'oneself': 782, 'daughters': 783, 'sensation': 784, 'kettle': 785, 'fizz': 786, 'thin': 787, 'sapphires': 788, 'glowed': 789, 'hilt': 790, 'admired': 791, 'having': 792, 'tastes': 793, 'unpractical': 794, 'looks': 795, 'angel': 796, 'cathedral': 797, 'mathematical': 798, 'master': 799, 'frowned': 800, 'severe': 801, '“shall': 802, 'bow': 803, 'lasted': 804, 'ridiculous': 805, 'swallows': 806, 'reeds': 807, 'blew': 808, 'graceful': 809, 'travelling': 810, 'attached': 811, 'bedroom': 812, 'softly': 813, 'putting': 814, 'single': 815, 'chimney': 816, 'determined': 817, 'allowed': 818, 'companions': 819, 'led': 820, 'hall': 821, 'happiness': 822, 'misery': 823, 'loud': 824, 'musical': 825, 'seated': 826, 'maids': 827, 'ill': 828, 'nile': 829, 'tomb': 830, 'painted': 831, 'wrapped': 832, 'neck': 833, 'messenger': 834, 'staying': 835, 'rude': 836, 'stones': 837, 'angels': 838, 'power': 839, 'dress': 840, 'state': 841, 'ordered': 842, 'embroidered': 843, 'lazy': 844, 'forehead': 845, 'delicious': 846, 'action': 847, 'passing': 848, 'bridge': 849, 'local': 850, 'words': 851, '“to': 852, 'spirits': 853, 'church': 854, 'enjoyed': 855, 'cataract': 856, 'throne': 857, 'sits': 858, 'noon': 859, 'drink': 860, 'roar': 861, 'garret': 862, 'dreamy': 863, 'trying': 864, 'hunger': 865, 'wait': 866, 'india': 867, 'ago': 868, 'sell': 869, 'command': 870, 'darted': 871, 'buried': 872, 'sapphire': 873, 'appreciated': 874, 'hold': 875, 'bid': 876, 'leave': 877, 'forget': 878, 'redder': 879, '“in': 880, 'square': 881, 'below': 882, 'match': 883, 'gutter': 884, 'shoes': 885, 'blind': 886, 'slipped': 887, 'glass': 888, 'merchants': 889, 'amber': 890, 'honey': 891, 'cakes': 892, 'men': 893, 'mystery': 894, 'merry': 895, 'houses': 896, 'faces': 897, 'try': 898, 'hungry': 899, 'wandered': 900, 'dull': 901, 'bread': 902, 'furs': 903, 'ice': 904, 'colder': 905, 'outside': 906, 'flapping': 907, 'die': 908, 'kiss': 909, 'sounded': 910, 'inside': 911, 'leaden': 912, 'company': 913, 'shabby': 914, 'beggar': 915, '“little': 916, 'melted': 917, 'furnace': 918, 'meeting': 919, '“of': 920, 'quarrelled': 921, 'workmen': 922, 'precious': 923, 'paradise': 924, 'wise': 925, 'pearls': 926, 'musicians': 927, 'flung': 928, 'lizard': 929, 'neighbour': 930, 'soft': 931, 'understood': 932, 'flight': 933, 'grove': 934, 'sailed': 935, 'standing': 936, 'lit': 937, 'grows': 938, 'dial': 939, 'growing': 940, 'daffodil': 941, 'comes': 942, 'beneath': 943, 'wave': 944, 'cavern': 945, 'veins': 946, 'dare': 947, '“tell': 948, 'build': 949, 'stain': 950, 'price': 951, 'pay': 952, 'pleasant': 953, 'watch': 954, 'chariot': 955, 'pearl': 956, '“be': 957, 'flame': 958, 'coloured': 959, 'body': 960, 'breath': 961, 'fond': 962, 'built': 963, 'pocket': 964, 'feeling': 965, 'heavens': 966, 'leaned': 967, 'birth': 968, 'petal': 969, 'pool': 970, 'press': 971, '“press': 972, '“or': 973, 'pressed': 974, 'delicate': 975, 'flush': 976, 'nightingale’s': 977, 'touched': 978, 'shot': 979, 'bitter': 980, 'wilder': 981, 'dies': 982, 'petals': 983, 'throat': 984, 'burst': 985, 'forgot': 986, 'bore': 987, 'carried': 988, '“look': 989, 'daughter': 990, 'dog': 991, 'chamberlain’s': 992, 'nephew': 993, 'cart': 994, 'age': 995, '“any': 996, 'allow': 997, 'board': 998, 'pleased': 999, 'spot': 1000, 'late': 1001, 'weather': 1002, 'none': 1003, 'awake': 1004, 'singing': 1005, 'crept': 1006, 'farthest': 1007, 'small': 1008, 'blowing': 1009, 'knocked': 1010, 'o’clock': 1011, 'armchair': 1012, 'wonder': 1013, 'close': 1014, 'hath': 1015, 'wound': 1016, 'thee': 1017, 'prints': 1018, 'nails': 1019, 'smiled': 1020, 'stiff': 1021, 'ducks': 1022, 'pure': 1023, 'legs': 1024, 'kept': 1025, 'paid': 1026, '“every': 1027, 'feelings': 1028, 'intend': 1029, 'idea': 1030, 'example': 1031, '“is': 1032, 'bank': 1033, 'funny': 1034, 'wild': 1035, 'taking': 1036, 'nodded': 1037, 'ideas': 1038, 'during': 1039, 'supper': 1040, '‘for': 1041, 'least': 1042, 'able': 1043, 'thoughtful': 1044, 'comfortable': 1045, 'show': 1046, '“‘what': 1047, 'sending': 1048, 'wine': 1049, 'hans’': 1050, 'act': 1051, 'excuse': 1052, '“then': 1053, 'middle': 1054, 'critic': 1055, '‘pooh': 1056, 'immensely': 1057, 'kinds': 1058, 'strong': 1059, 'ear': 1060, '‘it': 1061, 'talked': 1062, '“‘hans': 1063, 'wrong': 1064, 'foolish': 1065, 'generosity': 1066, '“‘a': 1067, '‘why': 1068, '“‘certainly': 1069, 'mend': 1070, 'anxious': 1071, 'opinion': 1072, 'pretty': 1073, '“‘dear': 1074, 'busy': 1075, 'terribly': 1076, 'meet': 1077, 'means': 1078, 'anybody': 1079, 'charming': 1080, 'hearing': 1081, '“poor': 1082, '“‘do': 1083, 'inquired': 1084, 'sunset': 1085, 'privilege': 1086, 'started': 1087, 'wake': 1088, 'broad': 1089, 'help': 1090, 'rap': 1091, 'hurt': 1092, '“‘little': 1093, 'wants': 1094, 'worse': 1095, '“everybody': 1096, 'funeral': 1097, 'popular': 1098, 'rate': 1099, 'suffers': 1100, '“oh': 1101, 'evident': 1102, 'screamed': 1103, 'manner': 1104, 'part': 1105, 'annoyed': 1106, 'sledge': 1107, 'receive': 1108, 'violet': 1109, 'page': 1110, 'doubled': 1111, 'considered': 1112, 'gazette': 1113, 'marriage': 1114, 'celebrated': 1115, 'banquet': 1116, 'cup': 1117, 'flute': 1118, 'certain': 1119, 'whatever': 1120, 'display': 1121, 'midnight': 1122, 'terrace': 1123, 'appear': 1124, 'crackers': 1125, 'box': 1126, 'fashionable': 1127, 'instance': 1128, 'cough': 1129, 'supercilious': 1130, 'coughed': 1131, 'perfect': 1132, 'spun': 1133, 'disposition': 1134, 'shower': 1135, 'pylotechnic': 1136, 'pyrotechnic': 1137, 'tone': 1138, 'squibs': 1139, 'importance': 1140, 'nearly': 1141, 'suppose': 1142, 'almost': 1143, 'imagination': 1144, 'evidently': 1145, 'occasion': 1146, 'nurse': 1147, 'lose': 1148, 'affected': 1149, 'humbug': 1150, 'whizz': 1151, 'boom': 1152, 'success': 1153, 'wet': 1154, 'relations': 1155, 'huzza': 1156, 'deputation': 1157, 'caught': 1158, '“hallo': 1159, '“impossible': 1160, 'farmer’s': 1161, 'yesterday': 1162, 'find': 1163, 'arguments': 1164, 'chance': 1165, 'dragon': 1166, 'genius': 1167, '“quack': 1168, 'visitor': 1169, 'domesticity': 1170, 'faggots': 1171, 'straight': 1172, 'explode': 1173, 'goose': 1174, 'gilded': 1175, 'weathercock': 1176, 'wished': 1177, 'gain': 1178, 'reputation': 1179, 'artistic': 1180, 'added': 1181, 'fearing': 1182, 'lest': 1183, 'can’t': 1184, 'sensible': 1185, 'muttered': 1186, 'disappointed': 1187, 'gazed': 1188, 'charity': 1189, 'cloaks': 1190, 'clean': 1191, 'pinafores': 1192, 'approve': 1193, 'dreaming': 1194, 'weeks': 1195, 'moth': 1196, 'attracted': 1197, 'slender': 1198, 'waist': 1199, 'liked': 1200, 'point': 1201, 'touching': 1202, 'ripples': 1203, 'courtship': 1204, 'attachment': 1205, 'twittered': 1206, 'relations”': 1207, 'tire': 1208, 'lady': 1209, 'coquette': 1210, 'flirting': 1211, 'curtseys': 1212, 'admit': 1213, 'domestic': 1214, 'consequently': 1215, 'finally': 1216, 'trifling': 1217, 'pyramids': 1218, '“where': 1219, 'preparations': 1220, 'plenty': 1221, 'fresh': 1222, 'alighted': 1223, 'prepared': 1224, 'wing': 1225, 'cloud': 1226, 'raining': 1227, 'climate': 1228, 'europe': 1229, 'pot': 1230, 'saw—ah': 1231, 'cheeks': 1232, 'drenched': 1233, '“when': 1234, 'alive': 1235, 'human': 1236, 'sans': 1237, 'souci': 1238, 'enter': 1239, 'daytime': 1240, 'lofty': 1241, 'cared': 1242, 'beyond': 1243, 'died': 1244, 'ugliness': 1245, 'chose': 1246, 'solid': 1247, 'polite': 1248, 'personal': 1249, 'remarks': 1250, 'windows': 1251, 'woman': 1252, 'worn': 1253, 'coarse': 1254, 'pricked': 1255, 'needle': 1256, 'seamstress': 1257, 'embroidering': 1258, 'satin': 1259, 'gown': 1260, 'loveliest': 1261, 'queen’s': 1262, 'fever': 1263, 'asking': 1264, 'oranges': 1265, 'fastened': 1266, 'pedestal': 1267, 'move': 1268, 'lotus': 1269, 'coffin': 1270, 'linen': 1271, 'embalmed': 1272, 'spices': 1273, 'jade': 1274, 'thirsty': 1275, '“last': 1276, 'sons': 1277, 'throwing': 1278, 'hit': 1279, 'famous': 1280, 'agility': 1281, 'mark': 1282, 'disrespect': 1283, '“thank': 1284, 'beak': 1285, 'roofs': 1286, 'tower': 1287, 'marble': 1288, 'sculptured': 1289, 'balcony': 1290, 'ready': 1291, 'seamstresses': 1292, 'lanterns': 1293, 'hanging': 1294, 'masts': 1295, 'ships': 1296, 'ghetto': 1297, 'jews': 1298, 'bargaining': 1299, 'weighing': 1300, 'copper': 1301, 'scales': 1302, 'tossing': 1303, 'feverishly': 1304, 'hopped': 1305, 'laid': 1306, 'beside': 1307, 'woman’s': 1308, 'thimble': 1309, 'fanning': 1310, 'boy’s': 1311, 'cool': 1312, 'better”': 1313, 'slumber': 1314, 'although': 1315, 'sleepy': 1316, 'bath': 1317, 'phenomenon': 1318, 'ornithology': 1319, 'letter': 1320, 'newspaper': 1321, 'quoted': 1322, 'prospect': 1323, 'visited': 1324, 'monuments': 1325, 'steeple': 1326, 'wherever': 1327, 'sparrows': 1328, 'chirruped': 1329, 'stranger': 1330, '“have': 1331, 'commissions': 1332, 'starting': 1333, 'couches': 1334, 'among': 1335, 'bulrushes': 1336, 'granite': 1337, 'memnon': 1338, 'watches': 1339, 'star': 1340, 'shines': 1341, 'utters': 1342, 'lions': 1343, 'water’s': 1344, 'edge': 1345, 'beryls': 1346, 'desk': 1347, 'papers': 1348, 'tumbler': 1349, 'bunch': 1350, 'crisp': 1351, 'pomegranate': 1352, 'director': 1353, 'theatre': 1354, 'write': 1355, 'grate': 1356, 'faint': 1357, '“alas': 1358, 'rare': 1359, 'thousand': 1360, 'jeweller': 1361, 'food': 1362, 'firewood': 1363, 'that”': 1364, 'easy': 1365, 'enough': 1366, 'flutter': 1367, 'bird’s': 1368, 'admirer': 1369, 'harbour': 1370, 'mast': 1371, 'vessel': 1372, 'sailors': 1373, 'hauling': 1374, 'chests': 1375, 'ropes': 1376, '“heave': 1377, 'hoy': 1378, 'chest': 1379, 'egypt”': 1380, 'minded': 1381, 'chill': 1382, 'crocodiles': 1383, 'lazily': 1384, 'building': 1385, 'temple': 1386, 'baalbec': 1387, 'doves': 1388, 'watching': 1389, 'cooing': 1390, 'stands': 1391, 'matches': 1392, 'stockings': 1393, 'bare': 1394, 'swooped': 1395, 'jewel': 1396, 'slept': 1397, 'stories': 1398, 'lands': 1399, 'ibises': 1400, 'rows': 1401, 'banks': 1402, 'catch': 1403, 'fish': 1404, 'beaks': 1405, 'sphinx': 1406, 'itself': 1407, 'desert': 1408, 'slowly': 1409, 'camels': 1410, 'carry': 1411, 'beads': 1412, 'mountains': 1413, 'ebony': 1414, 'worships': 1415, 'snake': 1416, 'sleeps': 1417, 'twenty': 1418, 'priests': 1419, 'feed': 1420, 'pygmies': 1421, 'sail': 1422, 'lake': 1423, 'flat': 1424, 'war': 1425, 'butterflies': 1426, 'suffering': 1427, 'women': 1428, 'while': 1429, 'beggars': 1430, 'gates': 1431, 'lanes': 1432, 'starving': 1433, 'listlessly': 1434, 'archway': 1435, 'another’s': 1436, 'watchman': 1437, 'living': 1438, 'rosier': 1439, 'glistening': 1440, 'icicles': 1441, 'daggers': 1442, 'eaves': 1443, 'wore': 1444, 'caps': 1445, 'skated': 1446, 'crumbs': 1447, 'baker’s': 1448, 'baker': 1449, 'strength': 1450, 'moment': 1451, 'crack': 1452, 'snapped': 1453, 'dreadfully': 1454, 'agreed': 1455, 'issue': 1456, 'proclamation': 1457, 'clerk': 1458, 'suggestion': 1459, 'university': 1460, 'held': 1461, 'corporation': 1462, 'decide': 1463, 'metal': 1464, 'quarrelling': 1465, 'overseer': 1466, 'foundry': 1467, 'melt': 1468, 'throw': 1469, 'dust': 1470, 'heap': 1471, '“bring': 1472, 'rightly': 1473, 'chosen': 1474, 'evermore': 1475, 'praise': 1476, 'holm': 1477, 'depend': 1478, 'secrets': 1479, 'wretched': 1480, '“night': 1481, 'sung': 1482, 'hyacinth': 1483, 'desire': 1484, 'ivory': 1485, 'seal': 1486, 'brow': 1487, 'gives': 1488, 'lean': 1489, 'clasped': 1490, 'pass': 1491, 'heed': 1492, 'break': 1493, 'suffers—what': 1494, 'surely': 1495, 'emeralds': 1496, 'dearer': 1497, 'opals': 1498, 'pomegranates': 1499, 'forth': 1500, 'marketplace': 1501, 'purchased': 1502, 'weighed': 1503, 'balance': 1504, 'gallery': 1505, 'stringed': 1506, 'instruments': 1507, 'harp': 1508, 'violin': 1509, 'lightly': 1510, 'touch': 1511, 'floor': 1512, 'gay': 1513, 'dresses': 1514, 'throng': 1515, 'her”': 1516, 'wept': 1517, 'butterfly': 1518, 'fluttering': 1519, 'sunbeam': 1520, 'daisy': 1521, 'cynic': 1522, 'outright': 1523, 'secret': 1524, 'centre': 1525, 'plot': 1526, 'foam': 1527, 'whiter': 1528, 'mermaiden': 1529, 'yellower': 1530, 'blooms': 1531, 'meadow': 1532, 'mower': 1533, 'scythe': 1534, 'dove': 1535, 'fans': 1536, 'coral': 1537, 'ocean': 1538, 'chilled': 1539, 'nipped': 1540, 'buds': 1541, '“one': 1542, 'pierce': 1543, 'flow': 1544, 'become': 1545, '“death': 1546, 'scent': 1547, 'hawthorn': 1548, 'bluebells': 1549, 'hide': 1550, 'valley': 1551, 'heather': 1552, 'blows': 1553, 'compared': 1554, 'swept': 1555, 'wiser': 1556, 'mightier': 1557, 'mighty': 1558, 'frankincense': 1559, 'books': 1560, '“sing': 1561, 'bubbling': 1562, 'jar': 1563, 'pencil': 1564, 'form': 1565, 'grove—“that': 1566, 'denied': 1567, 'artists': 1568, 'style': 1569, 'sincerity': 1570, 'sacrifice': 1571, 'thinks': 1572, 'arts': 1573, 'admitted': 1574, 'notes': 1575, 'pallet': 1576, 'shone': 1577, 'ebbed': 1578, 'following': 1579, 'followed': 1580, 'mist': 1581, 'hangs': 1582, 'river—pale': 1583, 'mirror': 1584, 'topmost': 1585, 'soul': 1586, 'maid': 1587, 'kisses': 1588, 'rose’s': 1589, 'remained': 1590, 'fierce': 1591, 'pang': 1592, 'perfected': 1593, 'eastern': 1594, 'girdle': 1595, 'film': 1596, 'choking': 1597, 'lingered': 1598, 'trembled': 1599, 'ecstasy': 1600, 'echo': 1601, 'hills': 1602, 'woke': 1603, 'sleeping': 1604, 'shepherds': 1605, 'floated': 1606, 'message': 1607, 'answer': 1608, 'piece': 1609, 'luck': 1610, 'latin': 1611, 'name”': 1612, 'hat': 1613, 'professor’s': 1614, 'doorway': 1615, 'winding': 1616, 'silk': 1617, 'reel': 1618, 'reddest': 1619, 'cost': 1620, 'ungrateful': 1621, '“ungrateful': 1622, 'buckles': 1623, 'has”': 1624, 'logic': 1625, 'prove': 1626, 'telling': 1627, 'happen': 1628, 'study': 1629, 'metaphysics': 1630, 'peach': 1631, 'sweetly': 1632, 'cornish': 1633, 'ogre': 1634, 'limited': 1635, 'gruff': 1636, 'trespassers': 1637, 'prosecuted': 1638, 'nowhere': 1639, 'wander': 1640, 'lessons': 1641, 'ground': 1642, '“spring': 1643, 'invited': 1644, 'roared': 1645, 'pots': 1646, 'rattled': 1647, 'slates': 1648, 'fast': 1649, 'change': 1650, 'ears': 1651, 'since': 1652, 'seemed': 1653, 'ceased': 1654, 'perfume': 1655, 'casement': 1656, 'waving': 1657, 'twittering': 1658, 'delight': 1659, 'scene': 1660, 'reach': 1661, 'wandering': 1662, 'bitterly': 1663, '“climb': 1664, 'bent': 1665, 'knock': 1666, 'playground': 1667, 'front': 1668, 'frightened': 1669, 'run': 1670, 'stole': 1671, 'stretched': 1672, 'wicked': 1673, 'axe': 1674, 'companion': 1675, 'longed': 1676, 'feeble': 1677, 'huge': 1678, 'dressing': 1679, 'resting': 1680, 'rubbed': 1681, 'underneath': 1682, 'hastened': 1683, 'near': 1684, 'anger': 1685, 'palms': 1686, 'child’s': 1687, 'slay': 1688, '“nay': 1689, 'wounds': 1690, 'thou': 1691, 'awe': 1692, 'knelt': 1693, 'beady': 1694, 'whiskers': 1695, 'rubber': 1696, 'swimming': 1697, 'lot': 1698, 'canaries': 1699, 'teach': 1700, 'unless': 1701, 'showed': 1702, 'advantage': 1703, 'disobedient': 1704, 'deserve': 1705, '“nothing': 1706, 'patient': 1707, 'either': 1708, 'nobler': 1709, 'rarer': 1710, 'duties': 1711, 'willow': 1712, 'overheard': 1713, '“yes': 1714, 'question': 1715, 'swinging': 1716, 'fiction': 1717, 'applicable': 1718, 'alighting': 1719, '“once': 1720, 'honest': 1721, 'fellow': 1722, 'named': 1723, '“was': 1724, 'humoured': 1725, 'william': 1726, 'gilly': 1727, 'shepherds’': 1728, 'purses': 1729, 'france': 1730, 'damask': 1731, 'lilac': 1732, 'crocuses': 1733, 'columbine': 1734, 'ladysmock': 1735, 'marjoram': 1736, 'basil': 1737, 'cowslip': 1738, 'de': 1739, 'luce': 1740, 'clove': 1741, 'bloomed': 1742, 'months': 1743, 'flower’s': 1744, 'odours': 1745, 'smell': 1746, 'hugh': 1747, 'plucking': 1748, 'nosegay': 1749, 'handful': 1750, 'herbs': 1751, 'filling': 1752, 'pockets': 1753, 'plums': 1754, 'cherries': 1755, 'season': 1756, '“‘real': 1757, 'proud': 1758, 'noble': 1759, '“sometimes': 1760, 'neighbours': 1761, 'hundred': 1762, 'sacks': 1763, 'stored': 1764, 'milch': 1765, 'cows': 1766, 'flock': 1767, 'woolly': 1768, 'troubled': 1769, 'greater': 1770, 'unselfishness': 1771, 'suffered': 1772, 'dried': 1773, 'pears': 1774, 'nuts': 1775, '“‘there': 1776, 'lasts': 1777, 'alone': 1778, 'bothered': 1779, 'visitors': 1780, '“‘you': 1781, 'pinewood': 1782, '‘very': 1783, 'treat': 1784, 'clergyman': 1785, 'storied': 1786, 'ring': 1787, 'finger': 1788, '“‘but': 1789, 'youngest': 1790, '‘if': 1791, 'porridge': 1792, 'rabbits': 1793, 'learn': 1794, 'cask': 1795, 'envious': 1796, 'envy': 1797, 'spoil': 1798, 'anybody’s': 1799, 'temptations': 1800, 'credit': 1801, 'confused': 1802, 'spelt': 1803, 'differently': 1804, '“‘how': 1805, 'pouring': 1806, 'ale': 1807, '‘really': 1808, 'drowsy': 1809, '“‘lots': 1810, 'shows': 1811, 'difficult': 1812, 'finer': 1813, 'also’': 1814, 'sternly': 1815, 'ashamed': 1816, 'tea': 1817, 'teller': 1818, 'nowadays': 1819, 'starts': 1820, 'goes': 1821, 'concludes': 1822, 'method': 1823, 'length': 1824, 'spectacles': 1825, 'bald': 1826, 'remark': 1827, 'sentiments': 1828, 'hopping': 1829, 'leg': 1830, '“‘why': 1831, 'sails': 1832, 'windmill': 1833, 'iron': 1834, 'arm': 1835, 'spade': 1836, 'smiling': 1837, '“‘and': 1838, '“‘we': 1839, '“‘that': 1840, '‘friendship': 1841, 'forgets': 1842, 'poetry': 1843, '“‘they': 1844, 'burgomaster’s': 1845, '“‘buy': 1846, 'stupid': 1847, '‘that': 1848, 'obliged': 1849, 'sunday': 1850, 'pipe': 1851, 'spokes': 1852, 'spite': 1853, 'parting': 1854, 'essence': 1855, 'yes': 1856, 'ease': 1857, 'easily': 1858, 'corn': 1859, 'mentioned': 1860, 'breeds': 1861, 'worth': 1862, 'notices': 1863, 'shed': 1864, 'dragged': 1865, 'won’t': 1866, 'fault': 1867, 'fill': 1868, '“‘quite': 1869, 'sorrowfully': 1870, '‘as': 1871, 'free': 1872, '“‘my': 1873, 'welcome': 1874, 'sooner': 1875, 'day’': 1876, 'dig': 1877, 'merrily': 1878, 'nailing': 1879, 'honeysuckle': 1880, 'porch': 1881, 'calling': 1882, '‘would': 1883, 'carrying': 1884, 'creepers': 1885, 'nail': 1886, 'roll': 1887, 'wouldn’t': 1888, 'world’': 1889, 'trudged': 1890, 'shoulders': 1891, 'hot': 1892, 'sixth': 1893, 'milestone': 1894, 'bravely': 1895, 'robbers': 1896, '“early': 1897, '“‘upon': 1898, 'harder': 1899, 'idleness': 1900, 'sin': 1901, 'idle': 1902, 'sluggish': 1903, 'speaking': 1904, 'plainly': 1905, 'dream': 1906, 'please': 1907, 'flatter': 1908, 'says': 1909, 'unpleasant': 1910, 'giving': 1911, 'prefers': 1912, 'rubbing': 1913, 'pulling': 1914, 'clapping': 1915, 'watered': 1916, 'shy': 1917, 'timid': 1918, '“‘have': 1919, 'cheery': 1920, '“‘ah': 1921, '‘there': 1922, 'wiping': 1923, '‘a': 1924, 'pains': 1925, 'present': 1926, 'practice': 1927, 'theory': 1928, 'drive': 1929, 'daylight': 1930, 'somehow': 1931, 'errands': 1932, 'distressed': 1933, 'consoled': 1934, 'reflection': 1935, '‘besides': 1936, '‘he': 1937, 'scholar': 1938, 'fireside': 1939, 'traveller': 1940, 'occurred': 1941, 'instead': 1942, 'compliment': 1943, 'start': 1944, 'lend': 1945, 'fur': 1946, 'muffler': 1947, 'hardly': 1948, 'scarcely': 1949, 'courageous': 1950, 'doctor’s': 1951, '“‘who': 1952, '“’what': 1953, '“‘the': 1954, '“‘all': 1955, 'boots': 1956, 'rode': 1957, 'direction': 1958, 'trudging': 1959, 'torrents': 1960, 'moor': 1961, 'holes': 1962, 'goatherds': 1963, 'floating': 1964, 'chief': 1965, 'mourner': 1966, '“‘as': 1967, 'place’': 1968, 'procession': 1969, 'wiped': 1970, 'handkerchief': 1971, 'blacksmith': 1972, 'comfortably': 1973, 'inn': 1974, 'drinking': 1975, 'spiced': 1976, 'eating': 1977, '’”': 1978, 'pause': 1979, 'angry': 1980, '“pooh”': 1981, 'whisk': 1982, 'paddling': 1983, 'minutes': 1984, 'afterwards': 1985, 'points': 1986, 'mother’s': 1987, 'confirmed': 1988, 'bachelor': 1989, 'agree': 1990, 'general': 1991, 'rejoicings': 1992, 'russian': 1993, 'driven': 1994, 'finland': 1995, 'drawn': 1996, 'reindeer': 1997, 'shaped': 1998, 'swan': 1999, 'swan’s': 2000, 'ermine': 2001, 'tissue': 2002, 'drove': 2003, 'balconies': 2004, 'gate': 2005, 'waiting': 2006, 'knee': 2007, '“your': 2008, 'picture': 2009, 'picture”': 2010, 'blushed': 2011, 'delighted': 2012, '“white': 2013, 'rose”': 2014, 'page’s': 2015, 'received': 2016, 'duly': 2017, 'published': 2018, 'ceremony': 2019, 'canopy': 2020, 'velvet': 2021, 'five': 2022, 'drank': 2023, 'lovers': 2024, 'false': 2025, 'cloudy': 2026, '“it’s': 2027, 'promised': 2028, 'badly': 2029, 'airs': 2030, '“charming': 2031, 'item': 2032, 'programme': 2033, 'firework': 2034, 'attendance': 2035, 'aurora': 2036, 'borealis': 2037, 'questions': 2038, 'addressed': 2039, 'natural': 2040, 'prefer': 2041, '“just': 2042, 'tulips': 2043, 'lovelier': 2044, 'travelled': 2045, 'travel': 2046, 'improves': 2047, 'wonderfully': 2048, 'prejudices': 2049, 'enormous': 2050, 'thoroughly': 2051, 'pensive': 2052, 'prided': 2053, 'poets': 2054, 'killed': 2055, 'believed': 2056, 'remember': 2057, 'once—but': 2058, '“nonsense': 2059, 'dearly': 2060, 'paper': 2061, 'cartridge': 2062, 'drawer': 2063, 'latest': 2064, 'news': 2065, 'becomes': 2066, 'sharp': 2067, 'observation': 2068, 'attract': 2069, 'shaking': 2070, 'murmuring': 2071, '“order': 2072, 'politician': 2073, 'taken': 2074, 'prominent': 2075, 'elections': 2076, 'parliamentary': 2077, 'expressions': 2078, '“quite': 2079, 'silence': 2080, 'slow': 2081, 'distinct': 2082, 'dictating': 2083, 'memoirs': 2084, 'fortunate': 2085, 'arranged': 2086, 'beforehand': 2087, 'turned': 2088, 'princes': 2089, '“indeed': 2090, 'renowned': 2091, 'appearance': 2092, 'nineteen': 2093, 'diameter': 2094, 'french': 2095, 'extraction': 2096, 'kindly': 2097, 'brilliant': 2098, 'descent': 2099, 'newspapers': 2100, 'performance': 2101, 'flattering': 2102, 'terms': 2103, 'triumph': 2104, '“pyrotechnic': 2105, 'canister': 2106, 'crushed': 2107, 'bully': 2108, 'saying—what': 2109, 'discussing': 2110, 'interesting': 2111, 'rudely': 2112, 'interrupted': 2113, 'rudeness': 2114, 'manners': 2115, 'corns': 2116, 'treads': 2117, 'people’s': 2118, 'toes': 2119, 'whisper': 2120, 'exploded': 2121, 'laughter': 2122, '“pray': 2123, 'reason': 2124, 'virtue': 2125, 'possess': 2126, 'degree': 2127, 'reflect': 2128, 'moved': 2129, '“common': 2130, 'indignantly': 2131, 'uncommon': 2132, 'provided': 2133, 'keeping': 2134, 'appreciate': 2135, 'emotional': 2136, 'fortunately': 2137, 'sustains': 2138, 'consciousness': 2139, 'immense': 2140, 'inferiority': 2141, 'cultivated': 2142, 'hearts': 2143, 'joyful': 2144, 'soar': 2145, 'twinkle': 2146, 'trivial': 2147, 'view': 2148, 'expected': 2149, 'hollow': 2150, 'empty': 2151, 'haired': 2152, 'elder': 2153, 'spilt': 2154, 'milk': 2155, 'rudest': 2156, 'growled': 2157, '“very': 2158, 'choose”': 2159, 'flowed': 2160, 'drops': 2161, 'beetles': 2162, 'setting': 2163, 'nice': 2164, 'truly': 2165, 'romantic': 2166, 'weeps': 2167, 'about”': 2168, 'heaved': 2169, 'sigh': 2170, 'indignant': 2171, '“humbug': 2172, 'voices': 2173, 'objected': 2174, 'shield': 2175, 'shine': 2176, 'leading': 2177, 'beautifully': 2178, 'lilies': 2179, 'peeped': 2180, 'poppies': 2181, 'ten': 2182, 'struck': 2183, 'eleven': 2184, 'stroke': 2185, 'marched': 2186, 'attendants': 2187, 'lighted': 2188, 'torch': 2189, 'pole': 2190, 'lights': 2191, 'dropping': 2192, 'sparks': 2193, 'enjoying': 2194, 'speak': 2195, 'sneer': 2196, 'reserving': 2197, 'tidy': 2198, 'becoming': 2199, 'dignity”': 2200, 'nose': 2201, 'frown': 2202, 'severely': 2203, '“bad': 2204, 'whirled': 2205, 'same”': 2206, 'watering': 2207, 'recruit': 2208, 'health': 2209, 'nerves': 2210, 'shattered': 2211, 'require': 2212, 'jewelled': 2213, 'mottled': 2214, 'arrival': 2215, 'rainy': 2216, 'cloudless': 2217, '“really': 2218, 'croak': 2219, 'croaking': 2220, 'glee': 2221, 'club': 2222, 'rises': 2223, 'entrancing': 2224, 'lies': 2225, 'wink': 2226, 'gratifying': 2227, 'pike': 2228, 'monster': 2229, 'hesitation': 2230, 'breakfasting': 2231, 'assure': 2232, '“conversation': 2233, '“somebody': 2234, 'saves': 2235, 'prevents': 2236, 'complacently': 2237, '“arguments': 2238, 'vulgar': 2239, 'holds': 2240, 'opinions': 2241, 'distance': 2242, 'irritating': 2243, 'bred': 2244, 'call': 2245, 'detestable': 2246, 'especially': 2247, 'temperament': 2248, 'known': 2249, 'sympathetic': 2250, 'possibly': 2251, 'model': 2252, 'avail': 2253, 'immediately': 2254, 'favourite': 2255, 'matters': 2256, 'provincial': 2257, 'bulrush': 2258, 'pays': 2259, 'greatest': 2260, 'pleasures': 2261, 'conversations': 2262, 'clever': 2263, 'sometimes': 2264, 'lecture': 2265, 'pair': 2266, 'gauze': 2267, 'improving': 2268, 'day”': 2269, 'webbed': 2270, 'beauty': 2271, 'waddle': 2272, 'shape': 2273, 'born': 2274, 'result': 2275, 'accident': 2276, '“otherwise': 2277, 'ignorance': 2278, 'unfair': 2279, 'plough': 2280, 'fields': 2281, 'ox': 2282, 'draw': 2283, 'collie': 2284, 'creature': 2285, 'haughty': 2286, 'belong': 2287, 'lower': 2288, 'accomplishments': 2289, 'sufficient': 2290, 'industry': 2291, 'industries': 2292, 'recommend': 2293, 'simply': 2294, 'refuge': 2295, 'peaceable': 2296, 'residence': 2297, 'tedious': 2298, 'neither': 2299, 'solitude': 2300, 'essentially': 2301, 'suburban': 2302, 'probably': 2303, 'destined': 2304, 'thoughts': 2305, 'entering': 2306, 'need': 2307, 'reforming': 2308, 'resolutions': 2309, 'condemning': 2310, 'effect': 2311, 'humblest': 2312, 'excite': 2313, 'appeared': 2314, 'ages': 2315, 'rapidly': 2316, 'distracts': 2317, 'reminds': 2318, 'feel”': 2319, 'stream': 2320, '“come': 2321, 'you”': 2322, 'decidedly': 2323, 'class': 2324, 'mind”': 2325, 'loneliness': 2326, 'smocks': 2327, 'dignified': 2328, 'here”': 2329, '“old': 2330, 'complimentary': 2331, 'mistakes': 2332, 'dignitaries': 2333, 'boil': 2334, 'piled': 2335, 'boiled”': 2336, 'shut': 2337, 'burn': 2338, 'that—”': 2339, '“delightful': 2340, 'tingling': 2341, 'noise': 2342, 'sticks”': 2343, 'rushed': 2344, 'create': 2345, 'gasped': 2346}\n"
     ]
    }
   ],
   "source": [
    "print(tok.word_index)"
   ]
  },
  {
   "cell_type": "code",
   "execution_count": 41,
   "metadata": {
    "id": "nUDkjy80c77h"
   },
   "outputs": [
    {
     "name": "stdout",
     "output_type": "stream",
     "text": [
      "defaultdict(<class 'int'>, {'the': 808, 'happy': 31, 'prince': 48, 'above': 3, 'tall': 4, 'a': 326, 'high': 8, 'stood': 5, 'on': 83, 'column': 3, 'city': 9, 'statue': 11, 'of': 283, 'he': 289, 'over': 42, 'gold': 15, 'fine': 8, 'was': 187, 'all': 85, 'with': 108, 'gilded': 1, 'for': 120, 'leaves': 5, 'thin': 2, 'eyes': 19, 'red': 34, 'bright': 6, 'and': 540, 'large': 16, 'two': 14, 'glowed': 2, 'ruby': 9, 'had': 76, 'his': 129, 'sapphires': 2, 'hilt': 2, 'sword': 5, 'weathercock': 1, '”': 381, 'admired': 2, 'beautiful': 30, 'is': 221, '“he': 9, 'much': 23, 'as': 96, 'indeed': 21, 'very': 77, 'to': 320, 'who': 43, 'remarked': 6, 'wished': 1, 'gain': 1, 'reputation': 1, 'councillors': 5, 'one': 61, 'town': 8, 'fearing': 1, 'added': 1, '“only': 3, 'tastes': 2, 'artistic': 1, 'quite': 40, 'useful': 4, 'not': 100, 'so': 115, 'having': 2, 'lest': 1, 'really': 28, 'him': 76, 'should': 19, 'unpractical': 2, 'think': 22, 'people': 15, 'which': 12, 'sensible': 1, 'can’t': 1, 'asked': 11, 'be': 70, 'you': 155, 'her': 67, 'mother': 7, 'like': 56, '“why': 8, 'never': 33, 'little': 119, '“the': 13, 'moon': 12, 'dreams': 3, 'crying': 6, 'boy': 20, 'anything': 14, 'muttered': 1, '“i': 65, 'glad': 7, 'there': 49, 'world': 14, 'in': 226, 'some': 26, 'am': 79, 'man': 9, 'gazed': 1, 'at': 90, 'wonderful': 10, 'disappointed': 1, 'came': 37, 'an': 10, 'looks': 2, 'out': 48, 'they': 79, 'charity': 1, 'angel': 2, 'children': 26, 'said': 170, 'just': 14, 'scarlet': 5, 'cathedral': 2, 'white': 20, 'their': 25, 'cloaks': 1, 'clean': 1, 'pinafores': 1, 'do': 23, 'have': 87, '“how': 12, 'master': 2, 'seen': 8, 'mathematical': 2, 'know': 24, '“you': 23, 'we': 17, 'our': 5, 'answered': 39, '“ah': 6, 'but': 89, 'looked': 23, 'frowned': 2, 'severe': 2, 'did': 20, 'dreaming': 1, 'approve': 1, 'night': 25, 'friends': 7, 'swallow': 41, 'flew': 22, 'away': 33, 'behind': 4, 'before': 12, 'six': 5, 'gone': 8, 'egypt': 9, 'stayed': 3, 'weeks': 1, 'spring': 13, 'early': 4, 'met': 3, 'love': 25, 'reed': 5, 'most': 21, 'flying': 3, 'down': 42, 'big': 16, 'river': 10, 'been': 15, 'yellow': 9, 'after': 22, 'moth': 1, 'slender': 1, 'stopped': 3, 'attracted': 1, 'waist': 1, 'that': 178, 'talk': 12, 'by': 30, '“shall': 2, 'liked': 1, 'i': 222, 'point': 1, 'come': 20, 'made': 22, 'bow': 2, 'once': 12, 'round': 25, 'low': 6, 'silver': 15, 'this': 19, 'ripples': 1, 'wings': 13, 'making': 4, 'touching': 1, 'water': 24, 'through': 16, 'lasted': 2, 'courtship': 1, 'it': 174, 'summer': 4, '“it': 16, 'ridiculous': 2, 'attachment': 1, 'swallows': 2, 'other': 20, '“she': 7, 'twittered': 1, 'has': 36, 'too': 11, 'no': 48, 'relations”': 1, 'far': 5, 'many': 9, 'money': 6, 'autumn': 4, 'then': 38, 'when': 44, 'full': 7, 'reeds': 2, 'lonely': 4, 'felt': 7, 'lady': 1, 'tire': 1, 'began': 18, 'afraid': 17, '“and': 22, 'she': 70, 'conversation': 5, 'certainly': 21, 'always': 33, 'coquette': 1, 'wind': 8, 'flirting': 1, 'curtseys': 1, 'blew': 2, 'whenever': 4, 'graceful': 2, 'admit': 1, 'domestic': 1, '“but': 20, 'my': 96, 'continued': 5, 'travelling': 2, 'also': 4, 'consequently': 1, 'wife': 7, '“will': 5, 'finally': 1, 'shook': 5, 'me': 68, 'head': 20, 'home': 6, 'attached': 2, 'off': 26, 'trifling': 1, 'pyramids': 1, 'cried': 63, 'bye': 10, 'good': 31, 'arrived': 4, 'time': 21, 'day': 28, 'long': 25, '“where': 1, 'hope': 7, 'shall': 24, 'up': 44, 'put': 15, 'preparations': 1, 'saw': 15, 'position': 3, 'will': 71, 'plenty': 1, 'air': 10, 'between': 3, 'fresh': 1, 'alighted': 1, 'feet': 13, 'himself': 20, 'softly': 2, 'golden': 9, 'bedroom': 2, 'go': 27, 'prepared': 1, 'putting': 2, 'under': 5, 'sleep': 9, 'fell': 11, 'curious': 5, 'thing': 19, 'wing': 1, '“what': 20, 'drop': 3, 'cloud': 1, 'stars': 11, 'are': 77, 'single': 2, 'clear': 4, '“there': 8, 'sky': 7, 'north': 5, 'yet': 8, 'raining': 1, 'climate': 1, 'europe': 1, 'used': 10, 'merely': 6, 'rain': 8, 'dreadful': 3, 'selfishness': 4, 'another': 6, 'keep': 6, 'use': 7, 'if': 35, 'cannot': 12, 'look': 13, 'pot': 1, 'fly': 8, 'chimney': 2, 'must': 28, 'determined': 2, 'opened': 4, 'third': 3, 'saw—ah': 1, 'what': 44, 'see': 28, 'tears': 9, 'filled': 5, 'were': 56, 'running': 3, 'face': 8, 'cheeks': 1, 'moonlight': 3, 'pity': 3, '“who': 4, 'weeping': 3, 'drenched': 1, '“when': 1, 'heart': 21, 'alive': 1, 'human': 1, 'souci': 1, 'where': 9, 'sans': 1, 'palace': 4, 'lived': 6, 'sorrow': 3, 'played': 5, 'allowed': 2, 'daytime': 1, 'enter': 1, 'led': 2, 'great': 45, 'garden': 40, 'companions': 2, 'evening': 4, 'dance': 10, 'lofty': 1, 'hall': 2, 'ask': 9, 'wall': 9, 'cared': 1, 'ran': 14, 'lay': 4, 'courtiers': 3, 'about': 40, 'beyond': 1, 'everything': 8, 'pleasure': 5, 'called': 4, 'dead': 11, 'died': 1, 'happiness': 2, 'now': 25, 'can': 18, 'misery': 2, 'set': 8, 'here': 23, 'ugliness': 1, 'chose': 1, 'lead': 3, 'though': 7, 'weep': 4, 'solid': 1, 'make': 6, 'loud': 2, 'polite': 1, 'any': 25, 'personal': 1, 'remarks': 1, 'musical': 2, '“far': 2, 'voice': 15, 'open': 3, 'house': 12, 'windows': 1, 'poor': 15, 'street': 3, 'woman': 1, 'seated': 2, 'table': 3, 'needle': 1, 'hands': 6, 'pricked': 1, 'worn': 1, 'coarse': 1, 'passion': 4, 'seamstress': 1, 'gown': 1, 'flowers': 22, 'embroidering': 1, 'satin': 1, 'honour': 5, 'queen’s': 1, 'loveliest': 1, 'wear': 3, 'maids': 2, 'next': 12, 'ball': 4, 'court': 10, 'room': 4, 'lying': 9, 'bed': 11, 'corner': 4, 'nothing': 9, 'oranges': 1, 'fever': 1, 'ill': 2, 'asking': 1, 'give': 23, 'bring': 7, 'fastened': 1, 'pedestal': 1, 'move': 1, '“my': 7, 'waited': 4, 'talking': 7, 'nile': 2, 'soon': 7, 'lotus': 1, 'king': 11, 'tomb': 2, 'linen': 1, 'coffin': 1, 'painted': 2, 'wrapped': 2, 'green': 10, 'chain': 3, 'jade': 1, 'spices': 1, 'embalmed': 1, 'pale': 6, 'neck': 2, 'withered': 3, '“swallow': 6, 'stay': 9, 'messenger': 2, 'thirsty': 1, 'sad': 4, 'don’t': 21, '“last': 1, 'boys': 7, 'staying': 2, 'sons': 1, 'miller’s': 7, 'rude': 2, 'stones': 2, 'hit': 1, 'course': 10, 'throwing': 1, 'family': 3, 'besides': 5, 'well': 10, 'mark': 1, 'agility': 1, 'famous': 1, 'its': 11, 'disrespect': 1, 'still': 11, 'sorry': 6, 'cold': 7, 'your': 27, '“thank': 1, 'picked': 4, 'prince’s': 7, 'from': 24, 'beak': 1, 'roofs': 1, 'angels': 2, 'passed': 7, 'tower': 1, 'marble': 1, 'heard': 13, 'sound': 6, 'dancing': 3, 'sculptured': 1, 'balcony': 1, 'lover': 4, 'girl': 7, 'power': 2, 'how': 15, 'ready': 1, 'state': 2, 'dress': 2, 'ordered': 2, 'embroidered': 2, 'seamstresses': 1, 'lazy': 2, 'hanging': 1, 'lanterns': 1, 'masts': 1, 'bargaining': 1, 'ships': 1, 'ghetto': 1, 'old': 10, 'jews': 1, 'weighing': 1, 'copper': 1, 'each': 12, 'last': 15, 'scales': 1, 'feverishly': 1, 'tossing': 1, 'tired': 5, 'asleep': 5, 'fallen': 4, 'hopped': 1, 'thimble': 1, 'beside': 1, 'laid': 1, 'woman’s': 1, 'forehead': 2, 'boy’s': 1, 'gently': 3, 'fanning': 1, 'better”': 1, 'cool': 1, 'feel': 5, 'getting': 4, 'into': 41, 'delicious': 2, 'slumber': 1, 'sank': 4, 'told': 8, 'back': 24, 'warm': 7, 'although': 1, 'done': 6, '“that': 6, 'because': 6, 'action': 2, 'thinking': 6, 'sleepy': 1, 'broke': 4, 'bath': 1, 'phenomenon': 1, 'professor': 3, 'ornithology': 1, 'remarkable': 8, 'bridge': 2, 'winter': 15, 'wrote': 3, 'passing': 2, '“a': 4, 'every': 15, 'letter': 1, 'quoted': 1, 'local': 2, 'newspaper': 1, 'could': 21, 'words': 2, 'understand': 8, '“to': 2, 'spirits': 2, 'prospect': 1, 'visited': 1, 'public': 4, 'monuments': 1, 'sat': 9, 'steeple': 1, 'went': 28, 'wherever': 1, 'church': 2, 'sparrows': 1, 'top': 8, 'chirruped': 1, 'stranger': 1, 'enjoyed': 2, 'distinguished': 5, '“have': 1, 'rose': 50, 'starting': 1, 'commissions': 1, 'longer': 8, 'morrow': 4, 'second': 4, 'horse': 4, 'couches': 1, 'among': 1, 'cataract': 2, 'god': 3, 'granite': 1, 'memnon': 1, 'throne': 2, 'bulrushes': 1, 'sits': 2, 'morning': 13, 'watches': 1, 'star': 1, 'shines': 1, 'lions': 1, 'joy': 3, 'noon': 2, 'silent': 3, 'cry': 3, 'utters': 1, 'water’s': 1, 'edge': 1, 'drink': 2, 'louder': 4, 'than': 23, 'roar': 1, 'beryls': 1, 'across': 4, 'desk': 1, 'garret': 2, 'young': 11, 'leaning': 3, 'covered': 7, 'side': 5, 'papers': 1, 'bunch': 1, 'tumbler': 1, 'crisp': 1, 'lips': 7, 'brown': 5, 'hair': 4, 'violets': 3, 'finish': 3, 'pomegranate': 1, 'dreamy': 2, 'trying': 2, 'write': 1, 'theatre': 1, 'play': 10, 'director': 1, 'faint': 1, 'grate': 1, 'fire': 11, 'more': 15, 'hunger': 2, 'wait': 2, 'take': 11, '“alas': 1, 'rare': 1, 'left': 6, 'brought': 7, 'pluck': 3, 'thousand': 1, 'years': 3, 'ago': 2, 'india': 2, 'them': 31, 'firewood': 1, 'jeweller': 1, 'buy': 5, 'sell': 2, 'food': 1, 'that”': 1, '“dear': 4, 'command': 2, '“do': 3, 'plucked': 4, 'eye': 4, 'enough': 1, 'hole': 6, 'get': 13, 'student’s': 4, 'easy': 1, 'darted': 2, 'roof': 7, 'hear': 5, 'flutter': 1, 'buried': 2, 'bird’s': 1, 'sapphire': 2, 'found': 4, 'appreciated': 2, '“this': 6, 'beginning': 4, 'admirer': 1, 'harbour': 1, 'mast': 1, 'chests': 1, 'sailors': 1, 'hold': 2, 'watched': 3, 'hauling': 1, 'vessel': 1, 'ropes': 1, 'hoy': 1, 'shouted': 3, '“heave': 1, 'chest': 1, 'nobody': 6, 'going': 29, 'egypt”': 1, 'minded': 1, 'bid': 2, 'chill': 1, 'snow': 9, 'palm': 3, 'sun': 5, 'trees': 8, 'lie': 3, 'crocodiles': 1, 'lazily': 1, 'mud': 5, 'pink': 5, 'building': 1, 'temple': 1, 'nest': 3, 'baalbec': 1, 'doves': 1, 'cooing': 1, 'leave': 2, 'dear': 5, 'watching': 1, 'forget': 2, 'those': 3, 'jewels': 3, 'place': 9, 'given': 6, 'blue': 5, 'redder': 2, 'sea': 3, 'stands': 1, 'square': 2, '“in': 2, 'below': 2, 'gutter': 2, 'let': 8, 'match': 2, 'fall': 3, 'matches': 1, 'spoiled': 3, 'father': 3, 'does': 7, 'beat': 4, 'stockings': 1, 'shoes': 2, 'or': 13, 'bare': 1, 'blind': 2, 'would': 32, 'slipped': 2, 'swooped': 1, 'jewel': 1, 'past': 3, 'glass': 2, 'lovely': 9, 'bit': 3, 'hand': 9, 'laughing': 6, '“so': 5, '“no': 6, 'slept': 1, 'shoulder': 5, 'stories': 1, 'lands': 1, 'strange': 4, 'ibises': 1, 'rows': 1, 'banks': 1, 'fish': 1, 'catch': 1, 'stand': 5, 'itself': 1, 'beaks': 1, 'sphinx': 1, 'lives': 3, 'merchants': 2, 'walk': 3, 'desert': 1, 'knows': 4, 'slowly': 1, 'carry': 1, 'amber': 2, 'beads': 1, 'camels': 1, 'ebony': 1, 'worships': 1, 'black': 5, 'mountains': 1, 'sleeps': 1, 'tree': 31, 'snake': 1, 'crystal': 5, 'pygmies': 1, 'honey': 2, 'twenty': 1, 'feed': 1, 'priests': 1, 'cakes': 2, 'sail': 1, 'war': 1, 'lake': 1, 'flat': 1, 'butterflies': 1, 'tell': 9, 'marvellous': 5, 'men': 2, 'suffering': 1, 'things': 19, 'mystery': 2, 'women': 1, 'merry': 2, 'rich': 4, 'beggars': 1, 'houses': 2, 'while': 1, 'sitting': 7, 'gates': 1, 'faces': 2, 'lanes': 1, 'dark': 3, 'starving': 1, 'looking': 8, 'listlessly': 1, 'archway': 1, 'streets': 3, 'try': 2, 'arms': 4, 'another’s': 1, 'themselves': 4, 'hungry': 2, 'wandered': 2, 'watchman': 1, 'leaf': 3, 'living': 1, 'till': 7, 'grey': 4, 'dull': 2, 'rosier': 1, 'children’s': 3, 'grew': 12, 'laughed': 3, 'bread': 2, 'games': 3, '“we': 6, 'frost': 7, 'glistening': 1, 'daggers': 1, 'icicles': 1, 'hung': 3, 'eaves': 1, 'furs': 2, 'wore': 1, 'everybody': 11, 'skated': 1, 'caps': 1, 'ice': 2, 'colder': 1, 'outside': 2, 'crumbs': 1, 'loved': 4, 'baker': 1, 'door': 5, 'tried': 3, 'baker’s': 1, 'flapping': 2, 'knew': 12, 'die': 2, 'strength': 1, '“good': 3, 'kiss': 2, 'murmured': 4, 'brother': 3, 'death': 2, 'kissed': 4, 'something': 7, 'moment': 1, 'inside': 2, 'crack': 1, 'sounded': 2, 'snapped': 1, 'leaden': 2, 'broken': 4, 'fact': 18, 'right': 6, 'dreadfully': 1, 'hard': 7, 'mayor': 5, 'walking': 4, 'company': 2, 'shabby': 2, 'agreed': 1, 'better': 12, 'beggar': 2, '“little': 2, 'actually': 3, 'bird': 6, 'proclamation': 1, 'issue': 1, 'birds': 8, 'note': 3, 'suggestion': 1, 'clerk': 1, '“as': 7, 'pulled': 3, 'art': 3, 'university': 1, 'held': 1, 'melted': 2, 'furnace': 2, 'meeting': 2, 'metal': 1, 'corporation': 1, 'decide': 1, 'myself': 19, '“of': 2, 'quarrelled': 2, 'quarrelling': 1, 'overseer': 1, 'workmen': 2, 'foundry': 1, 'melt': 1, 'throw': 1, 'threw': 5, 'dust': 1, 'heap': 1, 'precious': 2, '“bring': 1, '“for': 3, 'chosen': 1, 'rightly': 1, 'paradise': 2, 'sing': 10, 'evermore': 1, 'praise': 1, 'nightingale': 23, 'roses': 6, 'student': 11, 'oak': 4, 'holm': 1, 'wondered': 3, 'depend': 1, 'wise': 2, 'written': 3, 'secrets': 1, 'read': 3, 'philosophy': 4, 'want': 11, 'life': 15, 'mine': 5, 'wretched': 1, 'true': 12, '“night': 1, '“here': 4, 'sung': 1, 'story': 10, 'hyacinth': 1, 'desire': 1, 'blossom': 3, 'ivory': 1, 'seal': 1, 'brow': 1, 'upon': 12, 'gives': 1, 'dawn': 3, 'lean': 1, 'clasped': 1, 'pass': 1, 'heed': 1, 'sit': 5, 'break': 1, 'suffers—what': 1, 'surely': 1, 'pain': 4, 'emeralds': 1, 'dearer': 1, 'opals': 1, 'forth': 1, 'nor': 4, 'pomegranates': 1, 'pearls': 2, 'may': 11, 'marketplace': 1, 'purchased': 1, 'weighed': 1, 'balance': 1, 'musicians': 2, 'gallery': 1, 'instruments': 1, 'stringed': 1, 'harp': 1, 'violin': 1, 'lightly': 1, 'gay': 1, 'throng': 1, 'dresses': 1, 'touch': 1, 'floor': 1, 'grass': 13, 'her”': 1, 'flung': 2, 'wept': 1, 'lizard': 2, 'tail': 3, 'fluttering': 1, 'butterfly': 1, 'sunbeam': 1, 'whispered': 3, 'soft': 2, 'daisy': 1, 'neighbour': 2, 'outright': 1, 'cynic': 1, 'secret': 1, 'understood': 2, 'thought': 8, 'flight': 2, 'soared': 4, 'spread': 3, 'suddenly': 4, 'shadow': 4, 'sailed': 2, 'grove': 2, 'standing': 2, 'centre': 1, 'plot': 1, 'lit': 2, 'spray': 4, '“give': 3, 'song': 9, 'sweetest': 3, 'foam': 1, 'whiter': 1, 'mountain': 3, 'grows': 2, 'dial': 2, 'perhaps': 7, 'growing': 2, 'yellower': 1, 'mermaiden': 1, 'daffodil': 2, 'blooms': 1, 'mower': 1, 'scythe': 1, 'meadow': 1, 'comes': 2, 'window': 8, 'beneath': 2, 'dove': 1, 'coral': 1, 'fans': 1, 'wave': 1, 'cavern': 2, 'veins': 2, 'ocean': 1, 'chilled': 1, 'buds': 1, 'nipped': 1, 'branches': 6, 'storm': 4, 'year': 4, '“one': 1, 'way': 8, 'terrible': 3, 'dare': 2, '“tell': 2, 'music': 7, 'build': 2, '“if': 3, 'heart’s': 3, 'own': 7, 'blood': 5, 'stain': 2, 'breast': 4, 'against': 8, 'thorn': 11, 'pierce': 1, 'flow': 1, 'become': 1, '“death': 1, 'price': 2, 'pay': 2, 'pleasant': 2, 'wood': 3, 'chariot': 1, 'watch': 2, 'pearl': 2, 'scent': 1, 'sweet': 6, 'hawthorn': 1, 'hide': 1, 'heather': 1, 'valley': 1, 'bluebells': 1, 'blows': 1, 'hill': 3, 'compared': 1, 'swept': 1, 'dry': 6, '“be': 1, 'return': 6, 'wiser': 1, 'flame': 2, 'coloured': 2, 'mightier': 1, 'mighty': 1, 'body': 2, 'frankincense': 1, 'breath': 2, 'listened': 4, 'saying': 8, 'only': 22, 'books': 1, 'fond': 2, 'built': 2, '“sing': 1, 'sang': 8, 'bubbling': 1, 'jar': 1, 'finished': 4, 'book': 3, 'got': 7, 'pencil': 1, 'pocket': 2, 'walked': 4, 'form': 1, 'feeling': 2, 'denied': 1, 'grove—“that': 1, 'without': 5, 'style': 1, 'artists': 1, 'others': 7, 'sacrifice': 1, 'herself': 4, 'sincerity': 1, 'thinks': 1, 'arts': 1, 'selfish': 8, 'admitted': 1, 'notes': 1, 'practical': 3, 'mean': 5, 'pallet': 1, 'shone': 1, 'heavens': 2, 'leaned': 2, 'deeper': 4, 'ebbed': 1, 'birth': 2, 'first': 5, 'blossomed': 3, 'petal': 1, 'following': 1, 'followed': 1, 'mist': 1, 'hangs': 1, 'river—pale': 1, 'mirror': 1, 'pool': 2, 'topmost': 1, 'press': 2, 'closer': 6, '“press': 2, '“or': 2, 'pressed': 2, 'soul': 1, 'maid': 1, 'flush': 2, 'delicate': 2, 'bridegroom': 4, 'bride': 6, 'kisses': 1, 'remained': 1, 'reached': 4, 'rose’s': 1, 'crimson': 3, 'nightingale’s': 2, 'pang': 1, 'shot': 2, 'touched': 2, 'bitter': 2, 'fierce': 1, 'wilder': 1, 'dies': 2, 'perfected': 1, 'eastern': 1, 'became': 3, 'petals': 2, 'girdle': 1, 'fainter': 2, 'film': 1, 'choking': 1, 'throat': 2, 'gave': 7, 'burst': 2, 'lingered': 1, 'forgot': 2, 'ecstasy': 1, 'trembled': 1, 'bore': 2, 'purple': 3, 'echo': 1, 'woke': 1, 'hills': 1, 'sleeping': 1, 'shepherds': 1, 'floated': 1, 'carried': 2, 'message': 1, 'now”': 3, '“look': 2, 'answer': 1, 'piece': 1, 'luck': 1, 'name”': 1, 'latin': 1, 'sure': 11, 'hat': 1, 'professor’s': 1, 'winding': 1, 'doorway': 1, 'daughter': 2, 'reel': 1, 'dog': 2, 'silk': 1, 'reddest': 1, 'together': 5, 'nephew': 2, 'chamberlain’s': 2, 'sent': 3, 'real': 4, 'cost': 1, 'ungrateful': 1, '“well': 10, 'angrily': 3, 'word': 4, 'wheel': 9, 'cart': 2, '“ungrateful': 1, 'why': 8, 'believe': 3, 'even': 4, 'buckles': 1, 'has”': 1, 'chair': 3, 'silly': 4, 'logic': 1, 'half': 4, 'prove': 1, 'happen': 1, 'telling': 1, 'age': 2, 'metaphysics': 1, 'study': 1, 'returned': 3, 'dusty': 3, 'giant': 24, 'coming': 7, 'afternoon': 4, 'school': 3, 'giant’s': 4, 'twelve': 3, 'blossoms': 6, 'peach': 1, 'fruit': 5, 'sweetly': 1, 'stop': 3, 'listen': 6, 'order': 5, 'cornish': 1, 'friend': 19, 'visit': 3, 'seven': 2, 'ogre': 1, 'say': 18, 'castle': 3, 'limited': 1, 'playing': 4, 'doing': 4, 'gruff': 1, '“any': 2, 'allow': 2, 'notice': 3, 'board': 2, 'trespassers': 1, 'prosecuted': 1, 'nowhere': 1, 'road': 3, 'wander': 1, 'lessons': 1, 'country': 4, 'care': 5, 'flower': 3, 'ground': 1, 'again': 8, 'pleased': 2, '“spring': 1, 'live': 4, 'forgotten': 3, 'cloak': 3, 'invited': 1, 'roared': 1, 'pots': 1, 'spot': 2, 'hail': 4, 'delightful': 6, 'three': 7, 'hours': 3, 'rattled': 1, 'slates': 1, 'fast': 1, 'dressed': 3, 'late': 2, 'weather': 2, 'change': 1, 'none': 2, 'danced': 3, 'awake': 2, 'ears': 1, 'king’s': 5, 'linnet': 13, 'singing': 2, 'since': 1, 'seemed': 1, 'roaring': 3, 'ceased': 1, 'perfume': 1, 'casement': 1, 'jumped': 3, 'sight': 4, 'crept': 2, 'child': 5, 'waving': 1, 'twittering': 1, 'heads': 4, 'delight': 1, 'scene': 1, 'farthest': 2, 'reach': 1, 'small': 2, 'wandering': 1, 'bitterly': 1, 'blowing': 2, '“climb': 1, 'tiny': 5, 'bent': 1, '“now': 4, 'knock': 1, 'ever': 9, 'playground': 1, 'front': 1, 'downstairs': 3, 'frightened': 1, 'run': 1, 'stole': 1, 'took': 8, 'stretched': 1, 'wicked': 1, 'axe': 1, 'knocked': 2, 'o’clock': 2, 'market': 6, 'companion': 1, 'best': 10, 'whom': 4, 'longed': 1, 'kind': 7, 'spoke': 3, 'often': 6, 'feeble': 1, 'huge': 1, 'armchair': 2, 'dressing': 1, 'hate': 4, 'resting': 1, 'wonder': 2, 'rubbed': 1, 'underneath': 1, 'hastened': 1, 'near': 1, 'anger': 1, 'dared': 3, 'hath': 2, 'close': 2, 'palms': 1, 'child’s': 1, 'thee': 2, 'prints': 2, 'wound': 2, 'nails': 1, 'slay': 1, 'wounds': 1, 'these': 3, '“nay': 1, 'thou': 1, 'awe': 1, 'knelt': 1, 'smiled': 2, 'devoted': 7, 'rat': 15, 'whiskers': 1, 'beady': 1, 'stiff': 2, 'rubber': 1, 'ducks': 2, 'swimming': 1, 'pond': 5, 'canaries': 1, 'lot': 1, 'teach': 1, 'legs': 2, 'pure': 2, 'society': 4, 'unless': 1, 'showed': 1, 'kept': 2, 'attention': 5, 'paid': 2, 'advantage': 1, 'disobedient': 1, '“they': 3, 'deserve': 1, 'drowned': 4, '“nothing': 1, '“every': 2, 'duck': 12, 'parents': 3, 'patient': 1, 'feelings': 2, 'married': 6, 'friendship': 14, 'intend': 2, 'nobler': 1, 'higher': 5, 'either': 1, 'rarer': 1, 'duties': 1, 'idea': 2, 'pray': 3, 'willow': 1, 'overheard': 1, 'swam': 5, '“yes': 1, 'end': 9, 'example': 2, 'question': 1, 'expect': 3, 'swinging': 1, 'subject': 3, '“let': 3, '“is': 2, 'fiction': 1, 'extremely': 6, 'applicable': 1, 'alighting': 1, 'bank': 2, 'fellow': 1, '“once': 1, 'honest': 1, 'named': 1, 'hans': 57, '“was': 1, 'humoured': 1, 'except': 4, 'funny': 2, 'worked': 4, 'cottage': 3, 'shepherds’': 1, 'gilly': 1, 'purses': 1, 'william': 1, 'fair': 4, 'damask': 1, 'lilac': 1, 'france': 1, 'ladysmock': 1, 'crocuses': 1, 'columbine': 1, 'cowslip': 1, 'wild': 2, 'marjoram': 1, 'basil': 1, 'de': 1, 'luce': 1, 'clove': 1, 'bloomed': 1, 'proper': 3, 'months': 1, 'taking': 2, 'flower’s': 1, 'odours': 1, 'smell': 1, 'miller': 46, 'hugh': 1, 'handful': 1, 'herbs': 1, 'nosegay': 1, 'plucking': 1, 'pockets': 1, 'season': 1, 'plums': 1, 'cherries': 1, 'filling': 1, '“‘real': 1, 'common': 3, '’': 95, 'proud': 1, 'nodded': 2, 'ideas': 2, 'such': 9, 'noble': 1, '“sometimes': 1, 'neighbours': 1, 'hundred': 1, 'flour': 6, 'mill': 3, 'cows': 1, 'milch': 1, 'stored': 1, 'sacks': 1, 'sheep': 4, 'flock': 1, 'troubled': 1, 'woolly': 1, 'greater': 1, 'unselfishness': 1, 'during': 2, 'suffered': 1, 'deal': 4, 'supper': 2, 'few': 3, 'nuts': 1, 'dried': 1, 'pears': 1, '“‘there': 1, '‘for': 2, 'lasts': 1, 'visitors': 1, 'trouble': 3, 'alone': 1, 'bothered': 1, 'least': 2, 'basket': 7, 'primroses': 4, 'able': 2, '“‘you': 1, 'thoughtful': 2, 'pinewood': 1, 'comfortable': 2, '‘very': 1, 'treat': 1, 'clergyman': 1, 'storied': 1, 'finger': 1, 'ring': 1, '“‘but': 1, 'youngest': 1, 'porridge': 1, '‘if': 1, 'son': 10, 'rabbits': 1, 'show': 2, '‘i': 9, '“‘what': 2, 'seem': 3, 'learn': 1, 'sending': 2, 'envy': 1, 'wine': 2, 'envious': 1, 'might': 7, 'cask': 1, 'spoil': 1, 'nature': 6, 'anybody’s': 1, 'hans’': 2, 'temptations': 1, 'credit': 1, 'confused': 1, 'different': 4, 'spelt': 1, 'differently': 1, '“‘how': 1, 'pouring': 1, 'drowsy': 1, '‘really': 1, 'ale': 1, 'being': 3, '“‘lots': 1, '‘but': 7, 'act': 2, 'shows': 1, 'difficult': 1, 'also’': 1, 'finer': 1, 'sternly': 1, 'ashamed': 1, 'tea': 1, 'however': 8, 'excuse': 2, '“certainly': 3, '“then': 2, 'nowadays': 1, 'goes': 1, 'teller': 1, 'starts': 1, 'concludes': 1, 'new': 4, 'method': 1, 'middle': 2, 'critic': 2, 'matter': 4, 'length': 1, 'bald': 1, 'spectacles': 1, 'remark': 1, '‘pooh': 2, 'immensely': 2, 'kinds': 2, 'sympathy': 4, 'sentiments': 1, 'us': 4, 'leg': 1, 'hopping': 1, '“‘why': 1, '‘you': 3, 'mind': 10, 'strong': 2, 'windmill': 1, 'sails': 1, 'tied': 3, 'iron': 1, 'arm': 1, '“‘good': 4, 'spade': 1, 'ear': 2, 'smiling': 1, '“‘and': 1, '“‘well': 8, '‘it': 2, 'rather': 5, '“‘we': 1, '‘and': 3, 'talked': 2, '“‘that': 1, '“‘hans': 2, 'surprised': 3, '‘friendship': 1, 'forgets': 1, 'poetry': 1, 'lucky': 3, '“‘they': 1, 'burgomaster’s': 1, 'wheelbarrow': 19, 'sold': 6, '“‘buy': 1, 'stupid': 1, 'obliged': 1, '‘that': 1, 'bad': 7, 'coat': 3, 'sunday': 1, 'buttons': 3, 'pipe': 1, 'wrong': 2, 'repair': 3, 'spokes': 1, 'spite': 1, 'generous': 3, 'rest': 4, 'foolish': 2, 'parting': 1, 'generosity': 2, 'essence': 1, 'yes': 1, 'ease': 1, 'easily': 1, 'plank': 7, '“‘a': 2, '‘why': 2, 'corn': 1, 'barn': 5, 'damp': 3, 'mentioned': 1, 'breeds': 1, 'worth': 1, 'notices': 1, 'work': 7, '“‘certainly': 2, 'shed': 1, 'dragged': 1, '“‘it': 5, 'mended': 4, 'won’t': 1, 'mend': 2, 'fault': 1, 'fill': 1, 'sorrowfully': 1, '“‘quite': 1, 'anxious': 2, '‘as': 1, 'free': 1, '“‘my': 1, 'welcome': 1, 'sooner': 1, 'opinion': 2, 'day’': 1, 'pretty': 2, 'dig': 1, 'merrily': 1, 'porch': 1, 'nailing': 1, 'honeysuckle': 1, 'calling': 1, 'ladder': 4, 'sack': 5, '“‘dear': 2, '‘would': 1, 'carrying': 1, '“‘oh': 4, 'busy': 2, 'creepers': 1, 'nail': 1, 'roll': 1, 'considering': 3, 'unfriendly': 3, 'refuse': 4, 'wouldn’t': 1, 'trudged': 1, 'cap': 4, 'whole': 9, 'world’': 1, 'shoulders': 1, 'terribly': 2, 'hot': 1, 'milestone': 1, 'sixth': 1, 'bravely': 1, 'robbers': 1, 'meet': 2, '“early': 1, '“‘upon': 1, 'sin': 1, 'idleness': 1, 'harder': 1, 'sluggish': 1, 'idle': 1, 'speaking': 1, 'plainly': 1, 'dream': 1, 'anybody': 2, 'exactly': 3, 'charming': 2, 'means': 2, 'please': 1, 'flatter': 1, 'says': 1, 'unpleasant': 1, 'giving': 1, 'prefers': 1, 'pulling': 1, '“‘i': 3, 'rubbing': 1, 'hearing': 2, 'clapping': 1, '“poor': 2, 'days': 4, 'watered': 1, '“‘do': 2, 'timid': 1, 'inquired': 2, 'shy': 1, 'account': 3, 'sunset': 1, '“‘have': 1, 'cheery': 1, '‘there': 1, '“‘ah': 1, 'privilege': 2, 'wiping': 1, '‘a': 1, 'present': 1, 'practice': 1, 'pains': 1, 'theory': 1, 'doubt': 7, 'drive': 1, 'started': 2, 'wake': 2, 'daylight': 1, 'broad': 2, 'somehow': 1, 'help': 2, 'errands': 1, 'times': 3, 'distressed': 1, 'consoled': 1, 'reflection': 1, '‘besides': 1, '‘he': 1, 'scholar': 1, 'fireside': 1, 'happened': 5, 'rap': 2, 'traveller': 1, 'lantern': 4, 'stick': 7, 'hurt': 2, 'doctor': 4, 'occurred': 1, 'instead': 1, 'compliment': 1, 'lend': 1, 'start': 1, 'ditch': 5, 'loss': 4, 'muffler': 1, 'fur': 1, 'scarcely': 1, 'hardly': 1, 'courageous': 1, 'doctor’s': 1, '“‘who': 1, '“‘little': 2, '“’what': 1, '“‘the': 1, 'wants': 2, '“‘all': 1, 'rode': 1, 'boots': 1, 'direction': 1, 'trudging': 1, 'torrents': 1, 'worse': 1, 'lost': 3, 'moor': 1, 'deep': 4, 'holes': 1, 'dangerous': 3, 'goatherds': 1, 'floating': 1, 'popular': 2, '“everybody': 2, 'funeral': 2, 'mourner': 1, 'chief': 1, '“‘as': 1, 'place’': 1, 'procession': 1, 'wiped': 1, 'handkerchief': 1, 'blacksmith': 1, 'eating': 1, 'inn': 1, 'comfortably': 1, 'spiced': 1, 'drinking': 1, 'rate': 2, 'suffers': 2, '’”': 1, 'pause': 1, 'replied': 4, '“oh': 2, 'evident': 2, 'moral': 4, 'screamed': 2, 'angry': 1, 'manner': 2, '“pooh”': 1, 'whisk': 1, 'paddling': 1, 'minutes': 1, 'afterwards': 1, 'points': 1, 'mother’s': 1, 'part': 2, 'confirmed': 1, 'bachelor': 1, 'annoyed': 2, 'agree': 1, 'rocket': 40, 'rejoicings': 1, 'general': 1, 'driven': 1, 'russian': 1, 'princess': 11, 'finland': 1, 'shaped': 1, 'reindeer': 1, 'drawn': 1, 'sledge': 1, 'swan': 1, 'swan’s': 1, 'ermine': 1, 'tissue': 1, 'drove': 1, 'balconies': 1, 'waiting': 1, 'receive': 2, 'gate': 1, 'violet': 2, 'knee': 1, '“your': 1, 'picture': 1, 'picture”': 1, 'blushed': 1, 'page': 2, 'delighted': 1, '“white': 1, 'rose”': 1, 'orders': 3, 'page’s': 1, 'doubled': 2, 'salary': 2, 'received': 1, 'considered': 2, 'duly': 1, 'published': 1, 'gazette': 2, 'celebrated': 2, 'marriage': 2, 'magnificent': 4, 'ceremony': 1, 'canopy': 1, 'velvet': 1, 'five': 1, 'banquet': 2, 'cup': 2, 'drank': 1, 'lovers': 1, 'false': 1, 'cloudy': 1, '“it’s': 1, 'promised': 1, 'flute': 2, 'badly': 1, 'airs': 1, 'certain': 2, 'whatever': 2, '“charming': 1, 'grand': 3, 'item': 1, 'fireworks': 4, 'display': 2, 'programme': 1, 'midnight': 2, 'royal': 4, 'firework': 1, 'attendance': 1, 'pyrotechnist': 4, 'terrace': 2, 'borealis': 1, 'aurora': 1, 'questions': 1, 'addressed': 1, 'natural': 1, 'prefer': 1, 'appear': 2, 'squib': 3, '“just': 1, 'tulips': 1, 'crackers': 2, 'travelled': 1, 'lovelier': 1, 'improves': 1, 'travel': 1, 'wonderfully': 1, 'prejudices': 1, 'one’s': 3, 'roman': 10, 'enormous': 1, 'candle': 10, 'thoroughly': 1, 'catherine': 7, 'exclaimed': 3, 'pensive': 1, 'box': 2, 'prided': 1, 'fashionable': 2, 'killed': 1, 'believed': 1, 'poets': 1, 'once—but': 1, 'romance': 3, 'remember': 1, '“romance': 3, '“nonsense': 1, 'instance': 2, 'dearly': 1, 'drawer': 1, 'cartridge': 1, 'paper': 1, 'same': 5, 'news': 1, 'latest': 1, 'becomes': 1, 'sharp': 1, 'cough': 2, 'supercilious': 2, 'observation': 1, 'coughed': 2, 'attract': 1, 'ahem': 3, '“ahem': 3, 'murmuring': 1, 'shaking': 1, 'politician': 1, '“order': 1, 'cracker': 4, 'prominent': 1, 'taken': 1, 'elections': 1, 'expressions': 1, 'parliamentary': 1, '“quite': 1, 'perfect': 2, 'silence': 1, 'distinct': 1, 'dictating': 1, 'slow': 1, 'memoirs': 1, 'person': 8, 'fortunate': 1, 'beforehand': 1, 'turned': 1, 'arranged': 1, 'princes': 1, '“indeed': 1, 'renowned': 1, 'appearance': 1, 'nineteen': 1, 'spun': 2, 'diameter': 1, 'french': 1, 'gunpowder': 3, 'extraction': 1, 'kindly': 1, 'shower': 2, 'brilliant': 1, 'descent': 1, 'disposition': 2, 'newspapers': 1, 'flattering': 1, 'performance': 1, 'pylotechnic': 2, 'terms': 1, 'triumph': 1, '“pyrotechnic': 1, 'pyrotechnic': 2, 'bengal': 6, 'light': 6, 'canister': 1, 'tone': 2, 'crushed': 1, 'bully': 1, 'squibs': 2, 'importance': 2, 'saying—what': 1, 'yourself': 5, 'interesting': 1, 'discussing': 1, 'interrupted': 1, 'manners': 1, 'rudely': 1, 'rudeness': 1, 'sensitive': 2, 'corns': 1, 'treads': 1, 'people’s': 1, 'whisper': 1, 'toes': 1, 'exploded': 1, 'nearly': 2, 'laughter': 1, '“pray': 1, 'reason': 1, 'else': 3, 'suppose': 2, 'possess': 1, 'degree': 1, 'virtue': 1, 'misfortune': 3, 'reflect': 1, 'begin': 3, 'moved': 1, 'almost': 2, 'sense': 3, 'indignantly': 1, '“common': 1, 'uncommon': 1, 'imagination': 1, 'provided': 1, 'keeping': 1, 'evidently': 2, 'emotional': 1, 'appreciate': 1, 'fortunately': 1, 'sustains': 1, 'consciousness': 1, 'inferiority': 1, 'immense': 1, 'cultivated': 1, 'hearts': 1, 'balloon': 3, 'joyful': 1, 'occasion': 2, 'soar': 1, 'twinkle': 1, 'trivial': 1, 'view': 1, 'hollow': 1, 'empty': 1, 'expected': 1, 'haired': 1, 'nurse': 1, 'elder': 1, 'lose': 2, 'milk': 1, 'spilt': 1, 'affected': 2, 'rudest': 1, 'growled': 1, 'important': 3, '“very': 1, 'choose”': 1, 'flowed': 1, 'drops': 1, 'setting': 1, 'beetles': 1, 'nice': 1, 'romantic': 1, 'truly': 1, 'heaved': 1, 'weeps': 1, 'about”': 1, 'sigh': 1, 'indignant': 1, 'voices': 1, '“humbug': 1, 'humbug': 2, 'objected': 1, 'shield': 1, 'shine': 1, 'leading': 1, 'beautifully': 1, 'lilies': 1, 'peeped': 1, 'poppies': 1, 'struck': 1, 'eleven': 1, 'ten': 1, 'stroke': 1, 'marched': 1, 'attendants': 1, 'lighted': 1, 'torch': 1, 'pole': 1, 'whizz': 1, 'boom': 1, 'lights': 1, 'sparks': 1, 'dropping': 1, 'bang': 2, 'enjoying': 1, 'success': 2, 'wet': 2, 'relations': 2, 'speak': 1, 'sneer': 1, 'huzza': 1, 'reserving': 1, 'tidy': 1, 'deputation': 2, 'becoming': 1, 'nose': 1, 'dignity”': 1, 'frown': 1, 'severely': 1, 'caught': 2, '“hallo': 2, '“bad': 1, 'whirled': 1, '“impossible': 2, 'same”': 1, 'watering': 1, 'recruit': 1, 'health': 1, 'require': 1, 'nerves': 1, 'shattered': 1, 'mottled': 1, 'frog': 7, 'jewelled': 1, 'arrival': 1, 'rainy': 1, 'cloudless': 1, '“really': 1, 'croak': 1, 'croaking': 1, 'glee': 1, 'club': 1, 'farmer’s': 2, 'rises': 1, 'entrancing': 1, 'lies': 1, 'yesterday': 2, 'wink': 1, 'gratifying': 1, 'find': 2, 'oneself': 3, 'daughters': 3, 'pike': 1, 'hesitation': 1, 'monster': 1, 'breakfasting': 1, 'assure': 1, '“conversation': 1, '“somebody': 1, 'prevents': 1, 'arguments': 2, 'saves': 1, '“arguments': 1, 'complacently': 1, 'holds': 1, 'vulgar': 1, 'opinions': 1, 'distance': 1, 'irritating': 1, 'bred': 1, 'call': 1, 'detestable': 1, 'especially': 1, 'known': 1, 'sympathetic': 1, 'temperament': 1, 'possibly': 1, 'model': 1, 'chance': 2, 'avail': 1, 'immediately': 1, 'favourite': 1, 'matters': 1, 'provincial': 1, 'dragon': 2, 'bulrush': 1, 'pays': 1, 'pleasures': 1, 'greatest': 1, 'conversations': 1, 'clever': 1, 'sometimes': 1, 'lecture': 1, 'pair': 1, 'gauze': 1, 'improving': 1, 'genius': 2, 'day”': 1, 'webbed': 1, 'beauty': 1, 'waddle': 1, 'shape': 1, '“quack': 2, 'quack': 2, 'result': 1, 'born': 1, 'accident': 1, '“otherwise': 1, 'ignorance': 1, 'unfair': 1, 'ox': 1, 'fields': 1, 'plough': 1, 'draw': 1, 'collie': 1, 'creature': 1, 'haughty': 1, 'belong': 1, 'lower': 1, 'accomplishments': 1, 'industry': 1, 'sufficient': 1, 'recommend': 1, 'industries': 1, 'simply': 1, 'refuge': 1, 'peaceable': 1, 'residence': 1, 'visitor': 2, 'tedious': 1, 'solitude': 1, 'suburban': 1, 'essentially': 1, 'neither': 1, 'probably': 1, 'destined': 1, 'sensation': 3, 'thoughts': 1, 'entering': 1, 'need': 1, 'reforming': 1, 'condemning': 1, 'resolutions': 1, 'domesticity': 2, 'effect': 1, 'humblest': 1, 'excite': 1, 'appeared': 1, 'rapidly': 1, 'ages': 1, 'distracts': 1, 'feel”': 1, 'reminds': 1, 'stream': 1, '“come': 1, 'you”': 1, 'class': 1, 'mind”': 1, 'decidedly': 1, 'smocks': 1, 'loneliness': 1, 'kettle': 3, 'faggots': 2, 'dignified': 1, 'here”': 1, '“old': 1, 'mistakes': 1, 'complimentary': 1, 'dignitaries': 1, 'boil': 1, 'piled': 1, 'boiled”': 1, 'shut': 1, 'burn': 1, 'straight': 2, 'that—”': 1, 'fizz': 1, '“delightful': 1, 'tingling': 1, 'explode': 2, 'noise': 1, 'goose': 2, 'sticks”': 1, 'rushed': 1, 'gasped': 1, 'create': 1})\n"
     ]
    }
   ],
   "source": [
    "# Cantidad de veces quea aparece cada palabra en cada \"documento\"\n",
    "# (1 documento = 1 caso de entrada)\n",
    "print(tok.word_docs)"
   ]
  },
  {
   "cell_type": "markdown",
   "metadata": {
    "id": "uYfhWVLLzKVO"
   },
   "source": [
    "\n",
    "### MODELO LSTM"
   ]
  },
  {
   "cell_type": "code",
   "execution_count": 44,
   "metadata": {
    "id": "5UXA5hQfWVX1"
   },
   "outputs": [
    {
     "name": "stdout",
     "output_type": "stream",
     "text": [
      "Model: \"sequential_1\"\n",
      "_________________________________________________________________\n",
      " Layer (type)                Output Shape              Param #   \n",
      "=================================================================\n",
      " embedding_1 (Embedding)     (None, None, 50)          117350    \n",
      "                                                                 \n",
      " lstm_2 (LSTM)               (None, None, 100)         60400     \n",
      "                                                                 \n",
      " lstm_3 (LSTM)               (None, None, 100)         80400     \n",
      "                                                                 \n",
      " dense_1 (Dense)             (None, None, 2347)        237047    \n",
      "                                                                 \n",
      "=================================================================\n",
      "Total params: 495,197\n",
      "Trainable params: 495,197\n",
      "Non-trainable params: 0\n",
      "_________________________________________________________________\n"
     ]
    }
   ],
   "source": [
    "model = Sequential()\n",
    "\n",
    "\n",
    "model.add(Embedding(input_dim=vocab_size+1, output_dim=50, input_shape=(None,)))\n",
    "model.add(LSTM(100, return_sequences=True))\n",
    "model.add(LSTM(100, return_sequences=True))\n",
    "model.add(Dense(vocab_size+1, activation='softmax'))\n",
    "\n",
    "model.compile(loss=SparseCategoricalCrossentropy(), optimizer='rmsprop')\n",
    "\n",
    "model.summary()"
   ]
  },
  {
   "cell_type": "markdown",
   "metadata": {
    "id": "YWK3z85sQfUe"
   },
   "source": [
    "Dado que por el momento no hay implementaciones adecuadas de la perplejidad que puedan operar en tiempo de entrenamiento, armaremos un Callback *ad-hoc* que la calcule en cada epoch.\n",
    "\n",
    "**Nota**: un Callback es una rutina gatillada por algún evento, son muy útiles para relevar datos en diferentes momentos del desarrollo del modelo. En este caso queremos hacer un cálculo cada vez que termina una epoch de entrenamiento."
   ]
  },
  {
   "cell_type": "code",
   "execution_count": 45,
   "metadata": {
    "id": "zUHX3r5JD-MG"
   },
   "outputs": [],
   "source": [
    "class PplCallback(keras.callbacks.Callback):\n",
    "\n",
    "    '''\n",
    "    Este callback es una solución ad-hoc para calcular al final de cada epoch de\n",
    "    entrenamiento la métrica de Perplejidad sobre un conjunto de datos de validación.\n",
    "    La perplejidad es una métrica cuantitativa para evaluar la calidad de la generación de secuencias.\n",
    "    Además implementa la finalización del entrenamiento (Early Stopping)\n",
    "    si la perplejidad no mejora después de `patience` epochs.\n",
    "    '''\n",
    "\n",
    "    def __init__(self, val_data, history_ppl, model_name = \"my_model\", patience=5):\n",
    "    \n",
    "      self.val_data = val_data\n",
    "      self.model_name = model_name\n",
    "\n",
    "      self.target = []\n",
    "      self.padded = []\n",
    "\n",
    "      count = 0\n",
    "      self.info = []\n",
    "      self.history_ppl = []\n",
    "      self.min_score = np.inf\n",
    "      self.patience_counter = 0\n",
    "      self.patience = patience\n",
    "\n",
    "      \n",
    "      for seq in self.val_data:\n",
    "\n",
    "        len_seq = len(seq)\n",
    "        \n",
    "        subseq = [seq[:i] for i in range(len_seq)]\n",
    "        self.target.extend([seq[i] for i in range(len_seq)])\n",
    "\n",
    "        if len(subseq)!=0:\n",
    "\n",
    "          self.padded.append(pad_sequences(subseq, maxlen=max_context_size, padding='pre'))\n",
    "\n",
    "          self.info.append((count,count+len_seq))\n",
    "          count += len_seq\n",
    "\n",
    "      self.padded = np.vstack(self.padded)\n",
    "\n",
    "\n",
    "    def on_epoch_end(self, epoch, logs=None):\n",
    "\n",
    "        \n",
    "        scores = []\n",
    "\n",
    "        predictions = self.model.predict(self.padded,verbose=0)\n",
    "\n",
    "       \n",
    "        for start,end in self.info:\n",
    "\n",
    "        \n",
    "          probs = [predictions[idx_seq,-1,idx_vocab] for idx_seq, idx_vocab in zip(range(start,end),self.target[start:end])]\n",
    "\n",
    "         \n",
    "          scores.append(np.exp(-np.sum(np.log(probs))/(end-start)))\n",
    "\n",
    "       \n",
    "        current_score = np.mean(scores)\n",
    "        history_ppl.append(current_score)\n",
    "        print(f'\\n mean perplexity: {current_score} \\n')\n",
    "\n",
    "       \n",
    "        if current_score < self.min_score:\n",
    "          self.min_score = current_score\n",
    "          self.model.save(self.model_name)\n",
    "          print(\"Saved new model!\")\n",
    "          self.patience_counter = 0\n",
    "        else:\n",
    "          self.patience_counter += 1\n",
    "          if self.patience_counter == self.patience:\n",
    "            print(\"Stopping training...\")\n",
    "            self.model.stop_training = True\n"
   ]
  },
  {
   "cell_type": "markdown",
   "metadata": {
    "id": "8HBZIwR0gruA"
   },
   "source": [
    "### Entrenamiento"
   ]
  },
  {
   "cell_type": "code",
   "execution_count": 46,
   "metadata": {
    "id": "oQq1PHDkxDvN"
   },
   "outputs": [
    {
     "name": "stdout",
     "output_type": "stream",
     "text": [
      "Epoch 1/20\n",
      "792/794 [============================>.] - ETA: 0s - loss: 3.9488\n",
      " mean perplexity: 1023.1353840543426 \n",
      "\n"
     ]
    },
    {
     "name": "stderr",
     "output_type": "stream",
     "text": [
      "WARNING:absl:Found untraced functions such as _update_step_xla, lstm_cell_2_layer_call_fn, lstm_cell_2_layer_call_and_return_conditional_losses, lstm_cell_3_layer_call_fn, lstm_cell_3_layer_call_and_return_conditional_losses while saving (showing 5 of 5). These functions will not be directly callable after loading.\n"
     ]
    },
    {
     "name": "stdout",
     "output_type": "stream",
     "text": [
      "INFO:tensorflow:Assets written to: LSTM_word/assets\n"
     ]
    },
    {
     "name": "stderr",
     "output_type": "stream",
     "text": [
      "INFO:tensorflow:Assets written to: LSTM_word/assets\n"
     ]
    },
    {
     "name": "stdout",
     "output_type": "stream",
     "text": [
      "Saved new model!\n",
      "794/794 [==============================] - 16s 17ms/step - loss: 3.9490\n",
      "Epoch 2/20\n",
      "791/794 [============================>.] - ETA: 0s - loss: 3.3431\n",
      " mean perplexity: 652.8205564097781 \n",
      "\n"
     ]
    },
    {
     "name": "stderr",
     "output_type": "stream",
     "text": [
      "WARNING:absl:Found untraced functions such as _update_step_xla, lstm_cell_2_layer_call_fn, lstm_cell_2_layer_call_and_return_conditional_losses, lstm_cell_3_layer_call_fn, lstm_cell_3_layer_call_and_return_conditional_losses while saving (showing 5 of 5). These functions will not be directly callable after loading.\n"
     ]
    },
    {
     "name": "stdout",
     "output_type": "stream",
     "text": [
      "INFO:tensorflow:Assets written to: LSTM_word/assets\n"
     ]
    },
    {
     "name": "stderr",
     "output_type": "stream",
     "text": [
      "INFO:tensorflow:Assets written to: LSTM_word/assets\n"
     ]
    },
    {
     "name": "stdout",
     "output_type": "stream",
     "text": [
      "Saved new model!\n",
      "794/794 [==============================] - 13s 17ms/step - loss: 3.3423\n",
      "Epoch 3/20\n",
      "791/794 [============================>.] - ETA: 0s - loss: 3.1366\n",
      " mean perplexity: 645.8633835491042 \n",
      "\n"
     ]
    },
    {
     "name": "stderr",
     "output_type": "stream",
     "text": [
      "WARNING:absl:Found untraced functions such as _update_step_xla, lstm_cell_2_layer_call_fn, lstm_cell_2_layer_call_and_return_conditional_losses, lstm_cell_3_layer_call_fn, lstm_cell_3_layer_call_and_return_conditional_losses while saving (showing 5 of 5). These functions will not be directly callable after loading.\n"
     ]
    },
    {
     "name": "stdout",
     "output_type": "stream",
     "text": [
      "INFO:tensorflow:Assets written to: LSTM_word/assets\n"
     ]
    },
    {
     "name": "stderr",
     "output_type": "stream",
     "text": [
      "INFO:tensorflow:Assets written to: LSTM_word/assets\n"
     ]
    },
    {
     "name": "stdout",
     "output_type": "stream",
     "text": [
      "Saved new model!\n",
      "794/794 [==============================] - 14s 17ms/step - loss: 3.1368\n",
      "Epoch 4/20\n",
      "791/794 [============================>.] - ETA: 0s - loss: 3.0139\n",
      " mean perplexity: 750.9791862218069 \n",
      "\n",
      "794/794 [==============================] - 10s 12ms/step - loss: 3.0134\n",
      "Epoch 5/20\n",
      "791/794 [============================>.] - ETA: 0s - loss: 2.9294\n",
      " mean perplexity: 652.3474117755592 \n",
      "\n",
      "794/794 [==============================] - 10s 12ms/step - loss: 2.9294\n",
      "Epoch 6/20\n",
      "792/794 [============================>.] - ETA: 0s - loss: 2.8643\n",
      " mean perplexity: 644.0066350574227 \n",
      "\n"
     ]
    },
    {
     "name": "stderr",
     "output_type": "stream",
     "text": [
      "WARNING:absl:Found untraced functions such as _update_step_xla, lstm_cell_2_layer_call_fn, lstm_cell_2_layer_call_and_return_conditional_losses, lstm_cell_3_layer_call_fn, lstm_cell_3_layer_call_and_return_conditional_losses while saving (showing 5 of 5). These functions will not be directly callable after loading.\n"
     ]
    },
    {
     "name": "stdout",
     "output_type": "stream",
     "text": [
      "INFO:tensorflow:Assets written to: LSTM_word/assets\n"
     ]
    },
    {
     "name": "stderr",
     "output_type": "stream",
     "text": [
      "INFO:tensorflow:Assets written to: LSTM_word/assets\n"
     ]
    },
    {
     "name": "stdout",
     "output_type": "stream",
     "text": [
      "Saved new model!\n",
      "794/794 [==============================] - 13s 17ms/step - loss: 2.8642\n",
      "Epoch 7/20\n",
      "791/794 [============================>.] - ETA: 0s - loss: 2.8052\n",
      " mean perplexity: 634.3755465925701 \n",
      "\n"
     ]
    },
    {
     "name": "stderr",
     "output_type": "stream",
     "text": [
      "WARNING:absl:Found untraced functions such as _update_step_xla, lstm_cell_2_layer_call_fn, lstm_cell_2_layer_call_and_return_conditional_losses, lstm_cell_3_layer_call_fn, lstm_cell_3_layer_call_and_return_conditional_losses while saving (showing 5 of 5). These functions will not be directly callable after loading.\n"
     ]
    },
    {
     "name": "stdout",
     "output_type": "stream",
     "text": [
      "INFO:tensorflow:Assets written to: LSTM_word/assets\n"
     ]
    },
    {
     "name": "stderr",
     "output_type": "stream",
     "text": [
      "INFO:tensorflow:Assets written to: LSTM_word/assets\n"
     ]
    },
    {
     "name": "stdout",
     "output_type": "stream",
     "text": [
      "Saved new model!\n",
      "794/794 [==============================] - 13s 17ms/step - loss: 2.8044\n",
      "Epoch 8/20\n",
      "791/794 [============================>.] - ETA: 0s - loss: 2.7488\n",
      " mean perplexity: 814.9302519642582 \n",
      "\n",
      "794/794 [==============================] - 9s 12ms/step - loss: 2.7487\n",
      "Epoch 9/20\n",
      "790/794 [============================>.] - ETA: 0s - loss: 2.6969\n",
      " mean perplexity: 674.7057650726334 \n",
      "\n",
      "794/794 [==============================] - 9s 12ms/step - loss: 2.6963\n",
      "Epoch 10/20\n",
      "792/794 [============================>.] - ETA: 0s - loss: 2.6463\n",
      " mean perplexity: 571.2160976850754 \n",
      "\n"
     ]
    },
    {
     "name": "stderr",
     "output_type": "stream",
     "text": [
      "WARNING:absl:Found untraced functions such as _update_step_xla, lstm_cell_2_layer_call_fn, lstm_cell_2_layer_call_and_return_conditional_losses, lstm_cell_3_layer_call_fn, lstm_cell_3_layer_call_and_return_conditional_losses while saving (showing 5 of 5). These functions will not be directly callable after loading.\n"
     ]
    },
    {
     "name": "stdout",
     "output_type": "stream",
     "text": [
      "INFO:tensorflow:Assets written to: LSTM_word/assets\n"
     ]
    },
    {
     "name": "stderr",
     "output_type": "stream",
     "text": [
      "INFO:tensorflow:Assets written to: LSTM_word/assets\n"
     ]
    },
    {
     "name": "stdout",
     "output_type": "stream",
     "text": [
      "Saved new model!\n",
      "794/794 [==============================] - 13s 17ms/step - loss: 2.6461\n",
      "Epoch 11/20\n",
      "791/794 [============================>.] - ETA: 0s - loss: 2.5973\n",
      " mean perplexity: 671.28660007216 \n",
      "\n",
      "794/794 [==============================] - 10s 12ms/step - loss: 2.5964\n",
      "Epoch 12/20\n",
      "794/794 [==============================] - ETA: 0s - loss: 2.5448\n",
      " mean perplexity: 603.4645293635597 \n",
      "\n",
      "794/794 [==============================] - 10s 12ms/step - loss: 2.5448\n",
      "Epoch 13/20\n",
      "790/794 [============================>.] - ETA: 0s - loss: 2.4949\n",
      " mean perplexity: 589.336969318488 \n",
      "\n",
      "794/794 [==============================] - 10s 12ms/step - loss: 2.4952\n",
      "Epoch 14/20\n",
      "794/794 [==============================] - ETA: 0s - loss: 2.4477\n",
      " mean perplexity: 614.2045884244735 \n",
      "\n",
      "794/794 [==============================] - 10s 12ms/step - loss: 2.4477\n",
      "Epoch 15/20\n",
      "794/794 [==============================] - ETA: 0s - loss: 2.4021\n",
      " mean perplexity: 599.7999880689644 \n",
      "\n",
      "Stopping training...\n",
      "794/794 [==============================] - 10s 12ms/step - loss: 2.4021\n"
     ]
    }
   ],
   "source": [
    "history_ppl = []\n",
    "hist = model.fit(X, y, epochs=20, callbacks=[PplCallback(tokenized_sentences_val,history_ppl, model_name=\"LSTM_word\")], batch_size=16)"
   ]
  },
  {
   "cell_type": "code",
   "execution_count": 47,
   "metadata": {
    "id": "K30JHB3Dv-mx"
   },
   "outputs": [
    {
     "data": {
      "image/png": "[encoded data removed]",
      "text/plain": [
       "<Figure size 640x480 with 1 Axes>"
      ]
     },
     "metadata": {},
     "output_type": "display_data"
    }
   ],
   "source": [
    "import matplotlib.pyplot as plt\n",
    "import seaborn as sns\n",
    "\n",
    "epoch_count = range(1, len(history_ppl) + 1)\n",
    "sns.lineplot(x=epoch_count,  y=history_ppl)\n",
    "plt.show()"
   ]
  },
  {
   "cell_type": "code",
   "execution_count": 48,
   "metadata": {
    "id": "Rhy5hZN38qfO"
   },
   "outputs": [],
   "source": [
    "\n",
    "model = keras.models.load_model('LSTM_word')"
   ]
  },
  {
   "cell_type": "markdown",
   "metadata": {
    "id": "KN6Fg_BsxJe6"
   },
   "source": [
    "\n",
    "### Predicción de próxima palabra"
   ]
  },
  {
   "cell_type": "code",
   "execution_count": 49,
   "metadata": {
    "id": "HNyBykvhzs7-"
   },
   "outputs": [
    {
     "name": "stdout",
     "output_type": "stream",
     "text": [
      "Running on local URL:  http://127.0.0.1:7860\n",
      "\n",
      "To create a public link, set `share=True` in `launch()`.\n"
     ]
    },
    {
     "data": {
      "text/html": [
       "<div><iframe src=\"http://127.0.0.1:7860/\" width=\"100%\" height=\"500\" allow=\"autoplay; camera; microphone; clipboard-read; clipboard-write;\" frameborder=\"0\" allowfullscreen></iframe></div>"
      ],
      "text/plain": [
       "<IPython.core.display.HTML object>"
      ]
     },
     "metadata": {},
     "output_type": "display_data"
    },
    {
     "name": "stdout",
     "output_type": "stream",
     "text": [
      "1/1 [==============================] - 0s 447ms/step\n",
      "1/1 [==============================] - 0s 16ms/step\n",
      "1/1 [==============================] - 0s 16ms/step\n",
      "1/1 [==============================] - 0s 15ms/step\n",
      "1/1 [==============================] - 0s 16ms/step\n",
      "1/1 [==============================] - 0s 14ms/step\n",
      "1/1 [==============================] - 0s 15ms/step\n",
      "1/1 [==============================] - 0s 14ms/step\n",
      "1/1 [==============================] - 0s 15ms/step\n",
      "1/1 [==============================] - 0s 16ms/step\n",
      "1/1 [==============================] - 0s 14ms/step\n",
      "1/1 [==============================] - 0s 15ms/step\n",
      "1/1 [==============================] - 0s 27ms/step\n",
      "Keyboard interruption in main thread... closing server.\n"
     ]
    },
    {
     "data": {
      "text/plain": []
     },
     "execution_count": 49,
     "metadata": {},
     "output_type": "execute_result"
    }
   ],
   "source": [
    "import gradio as gr\n",
    "\n",
    "def model_response(human_text):\n",
    "\n",
    "    \n",
    "    encoded = tok.texts_to_sequences([human_text])[0]\n",
    "   \n",
    "    encoded = pad_sequences([encoded], maxlen=max_context_size, padding='pre')\n",
    "\n",
    "   \n",
    "    y_hat = np.argmax(model.predict(encoded)[0,-1,:])\n",
    "\n",
    "    out_word = ''\n",
    "    for word, index in tok.word_index.items():\n",
    "        if index == y_hat:\n",
    "            out_word = word\n",
    "            break\n",
    "\n",
    "   \n",
    "    return human_text + ' ' + out_word\n",
    "\n",
    "iface = gr.Interface(\n",
    "    fn=model_response,\n",
    "    inputs=[\"textbox\"],\n",
    "    outputs=\"text\")\n",
    "\n",
    "iface.launch(debug=True)"
   ]
  },
  {
   "cell_type": "markdown",
   "metadata": {},
   "source": [
    "Algunas imagenes obtenidas de gradio:\n",
    "![img1](images/word1predlstm.png)\n",
    "![img2](images/word2predlstm.png)\n",
    "![img3](images/word3predlstm.png)\n",
    "![img5](images/word5predlstm.png)\n",
    "![img6](images/word6predlstm.png)\n",
    "![img7](images/word7predlstm.png)\n",
    "![img8](images/word8predlstm.png)\n",
    "![img9](images/word9predlstm.png)\n",
    "\n"
   ]
  },
  {
   "cell_type": "markdown",
   "metadata": {
    "id": "mCeMWWupxN1-"
   },
   "source": [
    "### Generación de secuencias"
   ]
  },
  {
   "cell_type": "code",
   "execution_count": 50,
   "metadata": {
    "id": "bwbS_pfhxvB3"
   },
   "outputs": [],
   "source": [
    "def generate_seq(model, tokenizer, seed_text, max_length, n_words):\n",
    "    \"\"\"\n",
    "        Exec model sequence prediction\n",
    "\n",
    "        Args:\n",
    "            model (keras): modelo entrenado\n",
    "            tokenizer (keras tokenizer): tonenizer utilizado en el preprocesamiento\n",
    "            seed_text (string): texto de entrada (input_seq)\n",
    "            max_length (int): máxima longitud de la sequencia de entrada\n",
    "            n_words (int): números de palabras a agregar a la sequencia de entrada\n",
    "        returns:\n",
    "            output_text (string): sentencia con las \"n_words\" agregadas\n",
    "    \"\"\"\n",
    "    output_text = seed_text\n",
    "\t  \n",
    "    for _ in range(n_words):\n",
    "      encoded = tokenizer.texts_to_sequences([output_text])[0]\n",
    "      encoded = pad_sequences([encoded], maxlen=max_length, padding='pre')\n",
    "      y_hat = np.argmax(model.predict(encoded)[0,-1,:])\n",
    "      out_word = ''\n",
    "      for word, index in tokenizer.word_index.items():\n",
    "        if index == y_hat:\n",
    "          out_word = word\n",
    "          break\n",
    "\n",
    "      output_text += ' ' + out_word\n",
    "\n",
    "    return output_text"
   ]
  },
  {
   "cell_type": "code",
   "execution_count": 51,
   "metadata": {
    "id": "JoFqRC5pxzqS"
   },
   "outputs": [
    {
     "name": "stdout",
     "output_type": "stream",
     "text": [
      "1/1 [==============================] - 0s 24ms/step\n",
      "1/1 [==============================] - 0s 14ms/step\n",
      "1/1 [==============================] - 0s 16ms/step\n",
      "1/1 [==============================] - 0s 19ms/step\n",
      "1/1 [==============================] - 0s 12ms/step\n",
      "1/1 [==============================] - 0s 13ms/step\n",
      "1/1 [==============================] - 0s 13ms/step\n",
      "1/1 [==============================] - 0s 13ms/step\n",
      "1/1 [==============================] - 0s 12ms/step\n",
      "1/1 [==============================] - 0s 13ms/step\n"
     ]
    },
    {
     "data": {
      "text/plain": [
       "'I am glad there is some very rose and the garden and the miller and the'"
      ]
     },
     "execution_count": 51,
     "metadata": {},
     "output_type": "execute_result"
    }
   ],
   "source": [
    "input_text='I am glad there is some'\n",
    "\n",
    "generate_seq(model, tok, input_text, max_length=max_context_size, n_words=10)"
   ]
  },
  {
   "cell_type": "code",
   "execution_count": 53,
   "metadata": {},
   "outputs": [
    {
     "name": "stdout",
     "output_type": "stream",
     "text": [
      "1/1 [==============================] - 0s 15ms/step\n",
      "1/1 [==============================] - 0s 13ms/step\n",
      "1/1 [==============================] - 0s 13ms/step\n",
      "1/1 [==============================] - 0s 14ms/step\n",
      "1/1 [==============================] - 0s 12ms/step\n",
      "1/1 [==============================] - 0s 12ms/step\n",
      "1/1 [==============================] - 0s 13ms/step\n",
      "1/1 [==============================] - 0s 13ms/step\n",
      "1/1 [==============================] - 0s 12ms/step\n",
      "1/1 [==============================] - 0s 13ms/step\n"
     ]
    },
    {
     "data": {
      "text/plain": [
       "'He is weeping for the great rose ” said the miller and the garden'"
      ]
     },
     "execution_count": 53,
     "metadata": {},
     "output_type": "execute_result"
    }
   ],
   "source": [
    "input_text=\"He is weeping for\"\n",
    "generate_seq(model, tok, input_text, max_length=max_context_size, n_words=10)"
   ]
  },
  {
   "cell_type": "code",
   "execution_count": 54,
   "metadata": {},
   "outputs": [
    {
     "name": "stdout",
     "output_type": "stream",
     "text": [
      "1/1 [==============================] - 0s 16ms/step\n",
      "1/1 [==============================] - 0s 14ms/step\n",
      "1/1 [==============================] - 0s 13ms/step\n",
      "1/1 [==============================] - 0s 16ms/step\n",
      "1/1 [==============================] - 0s 12ms/step\n",
      "1/1 [==============================] - 0s 13ms/step\n",
      "1/1 [==============================] - 0s 13ms/step\n",
      "1/1 [==============================] - 0s 12ms/step\n",
      "1/1 [==============================] - 0s 13ms/step\n",
      "1/1 [==============================] - 0s 13ms/step\n"
     ]
    },
    {
     "data": {
      "text/plain": [
       "'And at noon the Student was a great rose ” said the miller and the'"
      ]
     },
     "execution_count": 54,
     "metadata": {},
     "output_type": "execute_result"
    }
   ],
   "source": [
    "input_text=\"And at noon the Student\"\n",
    "generate_seq(model, tok, input_text, max_length=max_context_size, n_words=10)"
   ]
  },
  {
   "cell_type": "code",
   "execution_count": 56,
   "metadata": {},
   "outputs": [
    {
     "name": "stdout",
     "output_type": "stream",
     "text": [
      "1/1 [==============================] - 0s 16ms/step\n",
      "1/1 [==============================] - 0s 15ms/step\n",
      "1/1 [==============================] - 0s 15ms/step\n",
      "1/1 [==============================] - 0s 14ms/step\n",
      "1/1 [==============================] - 0s 15ms/step\n",
      "1/1 [==============================] - 0s 14ms/step\n",
      "1/1 [==============================] - 0s 13ms/step\n",
      "1/1 [==============================] - 0s 13ms/step\n",
      "1/1 [==============================] - 0s 13ms/step\n",
      "1/1 [==============================] - 0s 12ms/step\n"
     ]
    },
    {
     "data": {
      "text/plain": [
       "'The birds were flying about and twittering he was a great rose ” said the miller and'"
      ]
     },
     "execution_count": 56,
     "metadata": {},
     "output_type": "execute_result"
    }
   ],
   "source": [
    "input_text=\"The birds were flying about and twittering\"\n",
    "generate_seq(model, tok, input_text, max_length=max_context_size, n_words=10)"
   ]
  },
  {
   "cell_type": "code",
   "execution_count": 57,
   "metadata": {},
   "outputs": [
    {
     "name": "stdout",
     "output_type": "stream",
     "text": [
      "1/1 [==============================] - 0s 17ms/step\n",
      "1/1 [==============================] - 0s 13ms/step\n",
      "1/1 [==============================] - 0s 13ms/step\n",
      "1/1 [==============================] - 0s 13ms/step\n",
      "1/1 [==============================] - 0s 13ms/step\n",
      "1/1 [==============================] - 0s 15ms/step\n",
      "1/1 [==============================] - 0s 13ms/step\n",
      "1/1 [==============================] - 0s 13ms/step\n",
      "1/1 [==============================] - 0s 13ms/step\n",
      "1/1 [==============================] - 0s 13ms/step\n"
     ]
    },
    {
     "data": {
      "text/plain": [
       "'His body was found the miller was a great rose ” said the miller'"
      ]
     },
     "execution_count": 57,
     "metadata": {},
     "output_type": "execute_result"
    }
   ],
   "source": [
    "input_text=\"His body was found\"\n",
    "generate_seq(model, tok, input_text, max_length=max_context_size, n_words=10)\n"
   ]
  },
  {
   "cell_type": "code",
   "execution_count": 58,
   "metadata": {},
   "outputs": [
    {
     "name": "stdout",
     "output_type": "stream",
     "text": [
      "1/1 [==============================] - 0s 15ms/step\n",
      "1/1 [==============================] - 0s 14ms/step\n",
      "1/1 [==============================] - 0s 12ms/step\n",
      "1/1 [==============================] - 0s 14ms/step\n",
      "1/1 [==============================] - 0s 14ms/step\n",
      "1/1 [==============================] - 0s 13ms/step\n",
      "1/1 [==============================] - 0s 12ms/step\n",
      "1/1 [==============================] - 0s 12ms/step\n",
      "1/1 [==============================] - 0s 12ms/step\n",
      "1/1 [==============================] - 0s 12ms/step\n"
     ]
    },
    {
     "data": {
      "text/plain": [
       "'Pyrotechnic i am not be a great rose ” said the'"
      ]
     },
     "execution_count": 58,
     "metadata": {},
     "output_type": "execute_result"
    }
   ],
   "source": [
    "input_text=\"Pyrotechnic\"\n",
    "generate_seq(model, tok, input_text, max_length=max_context_size, n_words=10)"
   ]
  },
  {
   "cell_type": "code",
   "execution_count": 59,
   "metadata": {},
   "outputs": [
    {
     "name": "stdout",
     "output_type": "stream",
     "text": [
      "1/1 [==============================] - 0s 15ms/step\n",
      "1/1 [==============================] - 0s 12ms/step\n",
      "1/1 [==============================] - 0s 13ms/step\n",
      "1/1 [==============================] - 0s 13ms/step\n",
      "1/1 [==============================] - 0s 13ms/step\n",
      "1/1 [==============================] - 0s 13ms/step\n",
      "1/1 [==============================] - 0s 13ms/step\n",
      "1/1 [==============================] - 0s 12ms/step\n",
      "1/1 [==============================] - 0s 12ms/step\n",
      "1/1 [==============================] - 0s 13ms/step\n"
     ]
    },
    {
     "data": {
      "text/plain": [
       "'Fizz the garden was a garden and the garden and the'"
      ]
     },
     "execution_count": 59,
     "metadata": {},
     "output_type": "execute_result"
    }
   ],
   "source": [
    "input_text=\"Fizz\"\n",
    "generate_seq(model, tok, input_text, max_length=max_context_size, n_words=10)"
   ]
  },
  {
   "cell_type": "markdown",
   "metadata": {
    "id": "drJ6xn5qW1Hl"
   },
   "source": [
    "###  Beam search y muestreo aleatorio"
   ]
  },
  {
   "cell_type": "code",
   "execution_count": 60,
   "metadata": {
    "id": "_vovn9XZW1Hl"
   },
   "outputs": [],
   "source": [
    "def encode(text,max_length=max_context_size):\n",
    "\n",
    "    encoded = tok.texts_to_sequences([text])[0]\n",
    "    encoded = pad_sequences([encoded], maxlen=max_length, padding='pre')\n",
    "\n",
    "    return encoded\n",
    "\n",
    "def decode(seq):\n",
    "    return tok.sequences_to_texts([seq])"
   ]
  },
  {
   "cell_type": "code",
   "execution_count": 61,
   "metadata": {
    "id": "I_lZiQwkW1Hl"
   },
   "outputs": [],
   "source": [
    "from scipy.special import softmax\n",
    "\n",
    "def select_candidates(pred,num_beams,vocab_size,history_probs,history_tokens,temp,mode):\n",
    "\n",
    "  pred_large = []\n",
    "\n",
    "  for idx,pp in enumerate(pred):\n",
    "    pred_large.extend(np.log(pp+1E-10)+history_probs[idx])\n",
    "\n",
    "  pred_large = np.array(pred_large)\n",
    "\n",
    "  \n",
    "  if mode == 'det':\n",
    "    idx_select = np.argsort(pred_large)[::-1][:num_beams]\n",
    "  elif mode == 'sto':\n",
    "    idx_select = np.random.choice(np.arange(pred_large.shape[0]), num_beams, p=softmax(pred_large/temp))\n",
    "  else:\n",
    "    raise ValueError(f'Wrong selection mode. {mode} was given. det and sto are supported.')\n",
    "\n",
    "  \n",
    "  new_history_tokens = np.concatenate((np.array(history_tokens)[idx_select//vocab_size],\n",
    "                        np.array([idx_select%vocab_size]).T),\n",
    "                      axis=1)\n",
    "\n",
    "\n",
    "  return pred_large[idx_select.astype(int)], new_history_tokens.astype(int)\n",
    "\n",
    "\n",
    "def beam_search(model,num_beams,num_words,input,temp=1,mode='det'):\n",
    "\n",
    "\n",
    "    encoded = encode(input)\n",
    "\n",
    "    y_hat = model.predict(encoded,verbose=0)[0,-1,:]\n",
    "\n",
    "    \n",
    "    vocab_size = y_hat.shape[0]\n",
    "\n",
    "    \n",
    "    history_probs = [0]*num_beams\n",
    "    history_tokens = [encoded[0]]*num_beams\n",
    "\n",
    "    \n",
    "    history_probs, history_tokens = select_candidates([y_hat],\n",
    "                                        num_beams,\n",
    "                                        vocab_size,\n",
    "                                        history_probs,\n",
    "                                        history_tokens,\n",
    "                                        temp,\n",
    "                                        mode)\n",
    "\n",
    "  \n",
    "    for i in range(num_words-1):\n",
    "\n",
    "      preds = []\n",
    "\n",
    "      for hist in history_tokens:\n",
    "\n",
    "       \n",
    "        input_update = np.array([hist[i+1:]]).copy()\n",
    "\n",
    "        \n",
    "        y_hat = model.predict(input_update,verbose=0)[0,-1,:]\n",
    "\n",
    "        preds.append(y_hat)\n",
    "\n",
    "      history_probs, history_tokens = select_candidates(preds,\n",
    "                                                        num_beams,\n",
    "                                                        vocab_size,\n",
    "                                                        history_probs,\n",
    "                                                        history_tokens,\n",
    "                                                        temp,\n",
    "                                                        mode)\n",
    "\n",
    "    return history_tokens"
   ]
  },
  {
   "cell_type": "code",
   "execution_count": 65,
   "metadata": {
    "id": "GeLqAoOYW1Hm"
   },
   "outputs": [
    {
     "data": {
      "text/plain": [
       "['the prince as i am be be sound']"
      ]
     },
     "execution_count": 65,
     "metadata": {},
     "output_type": "execute_result"
    }
   ],
   "source": [
    "salidas = beam_search(model,num_beams=10,num_words=6,input=\"the prince\",temp=1,mode='sto')\n",
    "salidas.shape\n",
    "decode(salidas[0])"
   ]
  },
  {
   "cell_type": "code",
   "execution_count": 70,
   "metadata": {},
   "outputs": [
    {
     "data": {
      "text/plain": [
       "['the prince and the red rose ” said']"
      ]
     },
     "execution_count": 70,
     "metadata": {},
     "output_type": "execute_result"
    }
   ],
   "source": [
    "salidas = beam_search(model,num_beams=10,num_words=6,input=\"the prince\",temp=1,mode='det')\n",
    "salidas.shape\n",
    "decode(salidas[0])"
   ]
  },
  {
   "cell_type": "code",
   "execution_count": 66,
   "metadata": {},
   "outputs": [
    {
     "data": {
      "text/plain": [
       "['the rocket and the one prince and flew']"
      ]
     },
     "execution_count": 66,
     "metadata": {},
     "output_type": "execute_result"
    }
   ],
   "source": [
    "salidas = beam_search(model,num_beams=10,num_words=6,input=\"the rocket\",temp=1,mode='sto')\n",
    "salidas.shape\n",
    "decode(salidas[0])"
   ]
  },
  {
   "cell_type": "code",
   "execution_count": 71,
   "metadata": {},
   "outputs": [
    {
     "data": {
      "text/plain": [
       "['the rocket and a red rose ” said']"
      ]
     },
     "execution_count": 71,
     "metadata": {},
     "output_type": "execute_result"
    }
   ],
   "source": [
    "salidas = beam_search(model,num_beams=10,num_words=6,input=\"the rocket\",temp=1,mode='det')\n",
    "salidas.shape\n",
    "decode(salidas[0])"
   ]
  },
  {
   "cell_type": "code",
   "execution_count": 67,
   "metadata": {},
   "outputs": [
    {
     "data": {
      "text/plain": [
       "['the nightingale and a heart and the heart']"
      ]
     },
     "execution_count": 67,
     "metadata": {},
     "output_type": "execute_result"
    }
   ],
   "source": [
    "salidas = beam_search(model,num_beams=10,num_words=6,input=\"the nightingale\",temp=1,mode='sto')\n",
    "salidas.shape\n",
    "decode(salidas[0])"
   ]
  },
  {
   "cell_type": "code",
   "execution_count": 72,
   "metadata": {},
   "outputs": [
    {
     "data": {
      "text/plain": [
       "['the nightingale was a great rose ” said']"
      ]
     },
     "execution_count": 72,
     "metadata": {},
     "output_type": "execute_result"
    }
   ],
   "source": [
    "salidas = beam_search(model,num_beams=10,num_words=6,input=\"the nightingale\",temp=1,mode='det')\n",
    "salidas.shape\n",
    "decode(salidas[0])"
   ]
  },
  {
   "cell_type": "code",
   "execution_count": 68,
   "metadata": {},
   "outputs": [
    {
     "data": {
      "text/plain": [
       "['red rose ” said the happy thing myself']"
      ]
     },
     "execution_count": 68,
     "metadata": {},
     "output_type": "execute_result"
    }
   ],
   "source": [
    "salidas = beam_search(model,num_beams=10,num_words=6,input=\"red rose\",temp=1,mode='sto')\n",
    "salidas.shape\n",
    "decode(salidas[0])"
   ]
  },
  {
   "cell_type": "code",
   "execution_count": 69,
   "metadata": {},
   "outputs": [
    {
     "data": {
      "text/plain": [
       "['red rose ” said the miller and the']"
      ]
     },
     "execution_count": 69,
     "metadata": {},
     "output_type": "execute_result"
    }
   ],
   "source": [
    "salidas = beam_search(model,num_beams=10,num_words=6,input=\"red rose\",temp=1,mode='det')\n",
    "salidas.shape\n",
    "decode(salidas[0])"
   ]
  },
  {
   "cell_type": "markdown",
   "metadata": {},
   "source": [
    "### MODELO SIMPLE RNN"
   ]
  },
  {
   "cell_type": "code",
   "execution_count": 89,
   "metadata": {},
   "outputs": [
    {
     "name": "stdout",
     "output_type": "stream",
     "text": [
      "Model: \"sequential_9\"\n",
      "_________________________________________________________________\n",
      " Layer (type)                Output Shape              Param #   \n",
      "=================================================================\n",
      " embedding_8 (Embedding)     (None, None, 50)          117350    \n",
      "                                                                 \n",
      " simple_rnn_7 (SimpleRNN)    (None, None, 100)         15100     \n",
      "                                                                 \n",
      " simple_rnn_8 (SimpleRNN)    (None, None, 100)         20100     \n",
      "                                                                 \n",
      " dense_8 (Dense)             (None, None, 2347)        237047    \n",
      "                                                                 \n",
      "=================================================================\n",
      "Total params: 389,597\n",
      "Trainable params: 389,597\n",
      "Non-trainable params: 0\n",
      "_________________________________________________________________\n"
     ]
    }
   ],
   "source": [
    "from tensorflow.keras.models import Sequential\n",
    "from tensorflow.keras.layers import Embedding, SimpleRNN, Dense\n",
    "\n",
    "model = Sequential()\n",
    "model.add(Embedding(input_dim=vocab_size+1, output_dim=50, input_shape=(None,)))\n",
    "model.add(SimpleRNN(100, return_sequences=True))  # Capa SimpleRNN con 100 unidades y retorno de secuencias\n",
    "model.add(SimpleRNN(100, return_sequences=True))  # Capa SimpleRNN con 100 unidades y retorno de secuencias\n",
    "model.add(Dense(vocab_size+1, activation='softmax'))  # Capa de salida con activación softmax\n",
    "\n",
    "model.compile(loss=SparseCategoricalCrossentropy(), optimizer='rmsprop')\n",
    "\n",
    "model.summary()\n"
   ]
  },
  {
   "cell_type": "code",
   "execution_count": 90,
   "metadata": {},
   "outputs": [
    {
     "name": "stdout",
     "output_type": "stream",
     "text": [
      "Epoch 1/20\n",
      "788/794 [============================>.] - ETA: 0s - loss: 3.8782\n",
      " mean perplexity: 1121.3559401077039 \n",
      "\n"
     ]
    },
    {
     "name": "stderr",
     "output_type": "stream",
     "text": [
      "WARNING:absl:Found untraced functions such as _update_step_xla while saving (showing 1 of 1). These functions will not be directly callable after loading.\n"
     ]
    },
    {
     "name": "stdout",
     "output_type": "stream",
     "text": [
      "INFO:tensorflow:Assets written to: SIMPLERNN_word/assets\n"
     ]
    },
    {
     "name": "stderr",
     "output_type": "stream",
     "text": [
      "INFO:tensorflow:Assets written to: SIMPLERNN_word/assets\n"
     ]
    },
    {
     "name": "stdout",
     "output_type": "stream",
     "text": [
      "Saved new model!\n",
      "794/794 [==============================] - 9s 10ms/step - loss: 3.8785\n",
      "Epoch 2/20\n",
      "794/794 [==============================] - ETA: 0s - loss: 3.8024\n",
      " mean perplexity: 1223.0455067744101 \n",
      "\n",
      "794/794 [==============================] - 6s 8ms/step - loss: 3.8024\n",
      "Epoch 3/20\n",
      "791/794 [============================>.] - ETA: 0s - loss: 3.8020\n",
      " mean perplexity: 1106.8039491811166 \n",
      "\n"
     ]
    },
    {
     "name": "stderr",
     "output_type": "stream",
     "text": [
      "WARNING:absl:Found untraced functions such as _update_step_xla while saving (showing 1 of 1). These functions will not be directly callable after loading.\n"
     ]
    },
    {
     "name": "stdout",
     "output_type": "stream",
     "text": [
      "INFO:tensorflow:Assets written to: SIMPLERNN_word/assets\n"
     ]
    },
    {
     "name": "stderr",
     "output_type": "stream",
     "text": [
      "INFO:tensorflow:Assets written to: SIMPLERNN_word/assets\n"
     ]
    },
    {
     "name": "stdout",
     "output_type": "stream",
     "text": [
      "Saved new model!\n",
      "794/794 [==============================] - 8s 10ms/step - loss: 3.8024\n",
      "Epoch 4/20\n",
      "790/794 [============================>.] - ETA: 0s - loss: 3.7834\n",
      " mean perplexity: 793.4699775302892 \n",
      "\n"
     ]
    },
    {
     "name": "stderr",
     "output_type": "stream",
     "text": [
      "WARNING:absl:Found untraced functions such as _update_step_xla while saving (showing 1 of 1). These functions will not be directly callable after loading.\n"
     ]
    },
    {
     "name": "stdout",
     "output_type": "stream",
     "text": [
      "INFO:tensorflow:Assets written to: SIMPLERNN_word/assets\n"
     ]
    },
    {
     "name": "stderr",
     "output_type": "stream",
     "text": [
      "INFO:tensorflow:Assets written to: SIMPLERNN_word/assets\n"
     ]
    },
    {
     "name": "stdout",
     "output_type": "stream",
     "text": [
      "Saved new model!\n",
      "794/794 [==============================] - 8s 11ms/step - loss: 3.7805\n",
      "Epoch 5/20\n",
      "794/794 [==============================] - ETA: 0s - loss: 3.0831\n",
      " mean perplexity: 580.6655741257852 \n",
      "\n"
     ]
    },
    {
     "name": "stderr",
     "output_type": "stream",
     "text": [
      "WARNING:absl:Found untraced functions such as _update_step_xla while saving (showing 1 of 1). These functions will not be directly callable after loading.\n"
     ]
    },
    {
     "name": "stdout",
     "output_type": "stream",
     "text": [
      "INFO:tensorflow:Assets written to: SIMPLERNN_word/assets\n"
     ]
    },
    {
     "name": "stderr",
     "output_type": "stream",
     "text": [
      "INFO:tensorflow:Assets written to: SIMPLERNN_word/assets\n"
     ]
    },
    {
     "name": "stdout",
     "output_type": "stream",
     "text": [
      "Saved new model!\n",
      "794/794 [==============================] - 8s 10ms/step - loss: 3.0831\n",
      "Epoch 6/20\n",
      "793/794 [============================>.] - ETA: 0s - loss: 2.8501\n",
      " mean perplexity: 525.2498027403155 \n",
      "\n"
     ]
    },
    {
     "name": "stderr",
     "output_type": "stream",
     "text": [
      "WARNING:absl:Found untraced functions such as _update_step_xla while saving (showing 1 of 1). These functions will not be directly callable after loading.\n"
     ]
    },
    {
     "name": "stdout",
     "output_type": "stream",
     "text": [
      "INFO:tensorflow:Assets written to: SIMPLERNN_word/assets\n"
     ]
    },
    {
     "name": "stderr",
     "output_type": "stream",
     "text": [
      "INFO:tensorflow:Assets written to: SIMPLERNN_word/assets\n"
     ]
    },
    {
     "name": "stdout",
     "output_type": "stream",
     "text": [
      "Saved new model!\n",
      "794/794 [==============================] - 8s 10ms/step - loss: 2.8502\n",
      "Epoch 7/20\n",
      "794/794 [==============================] - ETA: 0s - loss: 2.7116\n",
      " mean perplexity: 520.6081196892675 \n",
      "\n"
     ]
    },
    {
     "name": "stderr",
     "output_type": "stream",
     "text": [
      "WARNING:absl:Found untraced functions such as _update_step_xla while saving (showing 1 of 1). These functions will not be directly callable after loading.\n"
     ]
    },
    {
     "name": "stdout",
     "output_type": "stream",
     "text": [
      "INFO:tensorflow:Assets written to: SIMPLERNN_word/assets\n"
     ]
    },
    {
     "name": "stderr",
     "output_type": "stream",
     "text": [
      "INFO:tensorflow:Assets written to: SIMPLERNN_word/assets\n"
     ]
    },
    {
     "name": "stdout",
     "output_type": "stream",
     "text": [
      "Saved new model!\n",
      "794/794 [==============================] - 8s 11ms/step - loss: 2.7116\n",
      "Epoch 8/20\n",
      "787/794 [============================>.] - ETA: 0s - loss: 2.5950\n",
      " mean perplexity: 522.5242211812441 \n",
      "\n",
      "794/794 [==============================] - 6s 8ms/step - loss: 2.5928\n",
      "Epoch 9/20\n",
      "792/794 [============================>.] - ETA: 0s - loss: 2.4768\n",
      " mean perplexity: 515.4019727863006 \n",
      "\n"
     ]
    },
    {
     "name": "stderr",
     "output_type": "stream",
     "text": [
      "WARNING:absl:Found untraced functions such as _update_step_xla while saving (showing 1 of 1). These functions will not be directly callable after loading.\n"
     ]
    },
    {
     "name": "stdout",
     "output_type": "stream",
     "text": [
      "INFO:tensorflow:Assets written to: SIMPLERNN_word/assets\n"
     ]
    },
    {
     "name": "stderr",
     "output_type": "stream",
     "text": [
      "INFO:tensorflow:Assets written to: SIMPLERNN_word/assets\n"
     ]
    },
    {
     "name": "stdout",
     "output_type": "stream",
     "text": [
      "Saved new model!\n",
      "794/794 [==============================] - 8s 9ms/step - loss: 2.4762\n",
      "Epoch 10/20\n",
      "788/794 [============================>.] - ETA: 0s - loss: 2.3637\n",
      " mean perplexity: 534.9876456464485 \n",
      "\n",
      "794/794 [==============================] - 6s 8ms/step - loss: 2.3636\n",
      "Epoch 11/20\n",
      "793/794 [============================>.] - ETA: 0s - loss: 2.2545\n",
      " mean perplexity: 593.5651646700356 \n",
      "\n",
      "794/794 [==============================] - 6s 8ms/step - loss: 2.2545\n",
      "Epoch 12/20\n",
      "788/794 [============================>.] - ETA: 0s - loss: 2.1507\n",
      " mean perplexity: 623.5392543406044 \n",
      "\n",
      "794/794 [==============================] - 6s 8ms/step - loss: 2.1506\n",
      "Epoch 13/20\n",
      "787/794 [============================>.] - ETA: 0s - loss: 2.0464\n",
      " mean perplexity: 676.5612454169126 \n",
      "\n",
      "794/794 [==============================] - 6s 8ms/step - loss: 2.0452\n",
      "Epoch 14/20\n",
      "794/794 [==============================] - ETA: 0s - loss: 1.9447\n",
      " mean perplexity: 780.5225695079419 \n",
      "\n",
      "Stopping training...\n",
      "794/794 [==============================] - 6s 8ms/step - loss: 1.9447\n"
     ]
    }
   ],
   "source": [
    "history_ppl = []\n",
    "hist = model.fit(X, y, epochs=20, callbacks=[PplCallback(tokenized_sentences_val,history_ppl, model_name=\"SIMPLERNN_word\")], batch_size=16)"
   ]
  },
  {
   "cell_type": "code",
   "execution_count": 91,
   "metadata": {},
   "outputs": [
    {
     "data": {
      "image/png": "[encoded data removed]",
      "text/plain": [
       "<Figure size 640x480 with 1 Axes>"
      ]
     },
     "metadata": {},
     "output_type": "display_data"
    }
   ],
   "source": [
    "import matplotlib.pyplot as plt\n",
    "import seaborn as sns\n",
    "\n",
    "epoch_count = range(1, len(history_ppl) + 1)\n",
    "sns.lineplot(x=epoch_count,  y=history_ppl)\n",
    "plt.show()"
   ]
  },
  {
   "cell_type": "code",
   "execution_count": 93,
   "metadata": {},
   "outputs": [],
   "source": [
    "model = keras.models.load_model('SIMPLERNN_word')"
   ]
  },
  {
   "cell_type": "markdown",
   "metadata": {},
   "source": [
    "### Predicción de próxima palabra"
   ]
  },
  {
   "cell_type": "code",
   "execution_count": 94,
   "metadata": {},
   "outputs": [
    {
     "name": "stdout",
     "output_type": "stream",
     "text": [
      "Running on local URL:  http://127.0.0.1:7860\n",
      "\n",
      "To create a public link, set `share=True` in `launch()`.\n"
     ]
    },
    {
     "data": {
      "text/html": [
       "<div><iframe src=\"http://127.0.0.1:7860/\" width=\"100%\" height=\"500\" allow=\"autoplay; camera; microphone; clipboard-read; clipboard-write;\" frameborder=\"0\" allowfullscreen></iframe></div>"
      ],
      "text/plain": [
       "<IPython.core.display.HTML object>"
      ]
     },
     "metadata": {},
     "output_type": "display_data"
    },
    {
     "name": "stdout",
     "output_type": "stream",
     "text": [
      "1/1 [==============================] - 0s 187ms/step\n",
      "1/1 [==============================] - 0s 18ms/step\n",
      "1/1 [==============================] - 0s 19ms/step\n",
      "1/1 [==============================] - 0s 17ms/step\n",
      "1/1 [==============================] - 0s 17ms/step\n",
      "1/1 [==============================] - 0s 16ms/step\n",
      "1/1 [==============================] - 0s 18ms/step\n",
      "1/1 [==============================] - 0s 17ms/step\n",
      "Keyboard interruption in main thread... closing server.\n"
     ]
    },
    {
     "data": {
      "text/plain": []
     },
     "execution_count": 94,
     "metadata": {},
     "output_type": "execute_result"
    }
   ],
   "source": [
    "iface = gr.Interface(\n",
    "    fn=model_response,\n",
    "    inputs=[\"textbox\"],\n",
    "    outputs=\"text\")\n",
    "\n",
    "iface.launch(debug=True)"
   ]
  },
  {
   "cell_type": "markdown",
   "metadata": {},
   "source": [
    "Algunas imagenes obtenidas de gradio:\n",
    "![img1](images/word1predsimplernn.png)\n",
    "![img2](images/word2predsimplernn.png)\n",
    "![img3](images/word3predsimplernn.png)\n",
    "![img5](images/word4predsimplernn.png)\n",
    "![img6](images/word5predsimplernn.png)\n",
    "![img7](images/word6predsimplernn.png)\n",
    "![img8](images/word7predsimplernn.png)\n",
    "![img9](images/word8predsimplernn.png)"
   ]
  },
  {
   "cell_type": "markdown",
   "metadata": {},
   "source": [
    "### Generación de secuencias"
   ]
  },
  {
   "cell_type": "code",
   "execution_count": 96,
   "metadata": {},
   "outputs": [
    {
     "name": "stdout",
     "output_type": "stream",
     "text": [
      "1/1 [==============================] - 0s 19ms/step\n",
      "1/1 [==============================] - 0s 18ms/step\n",
      "1/1 [==============================] - 0s 16ms/step\n",
      "1/1 [==============================] - 0s 14ms/step\n",
      "1/1 [==============================] - 0s 17ms/step\n",
      "1/1 [==============================] - 0s 18ms/step\n",
      "1/1 [==============================] - 0s 17ms/step\n",
      "1/1 [==============================] - 0s 18ms/step\n",
      "1/1 [==============================] - 0s 19ms/step\n",
      "1/1 [==============================] - 0s 19ms/step\n"
     ]
    },
    {
     "data": {
      "text/plain": [
       "'I am glad there is some one in the great big plank and his garden and'"
      ]
     },
     "execution_count": 96,
     "metadata": {},
     "output_type": "execute_result"
    }
   ],
   "source": [
    "input_text='I am glad there is some'\n",
    "\n",
    "generate_seq(model, tok, input_text, max_length=max_context_size, n_words=10)"
   ]
  },
  {
   "cell_type": "code",
   "execution_count": 97,
   "metadata": {},
   "outputs": [
    {
     "name": "stdout",
     "output_type": "stream",
     "text": [
      "1/1 [==============================] - 0s 20ms/step\n",
      "1/1 [==============================] - 0s 23ms/step\n",
      "1/1 [==============================] - 0s 26ms/step\n",
      "1/1 [==============================] - 0s 23ms/step\n",
      "1/1 [==============================] - 0s 22ms/step\n",
      "1/1 [==============================] - 0s 23ms/step\n",
      "1/1 [==============================] - 0s 23ms/step\n",
      "1/1 [==============================] - 0s 23ms/step\n",
      "1/1 [==============================] - 0s 18ms/step\n",
      "1/1 [==============================] - 0s 18ms/step\n"
     ]
    },
    {
     "data": {
      "text/plain": [
       "'He is weeping for me to me to his garden and he was a'"
      ]
     },
     "execution_count": 97,
     "metadata": {},
     "output_type": "execute_result"
    }
   ],
   "source": [
    "input_text=\"He is weeping for\"\n",
    "generate_seq(model, tok, input_text, max_length=max_context_size, n_words=10)"
   ]
  },
  {
   "cell_type": "code",
   "execution_count": 98,
   "metadata": {},
   "outputs": [
    {
     "name": "stdout",
     "output_type": "stream",
     "text": [
      "1/1 [==============================] - 0s 28ms/step\n",
      "1/1 [==============================] - 0s 23ms/step\n",
      "1/1 [==============================] - 0s 17ms/step\n",
      "1/1 [==============================] - 0s 20ms/step\n",
      "1/1 [==============================] - 0s 19ms/step\n",
      "1/1 [==============================] - 0s 19ms/step\n",
      "1/1 [==============================] - 0s 19ms/step\n",
      "1/1 [==============================] - 0s 16ms/step\n",
      "1/1 [==============================] - 0s 16ms/step\n",
      "1/1 [==============================] - 0s 17ms/step\n"
     ]
    },
    {
     "data": {
      "text/plain": [
       "'And at noon the Student was the very big plank and his garden and the'"
      ]
     },
     "execution_count": 98,
     "metadata": {},
     "output_type": "execute_result"
    }
   ],
   "source": [
    "input_text=\"And at noon the Student\"\n",
    "generate_seq(model, tok, input_text, max_length=max_context_size, n_words=10)"
   ]
  },
  {
   "cell_type": "code",
   "execution_count": 99,
   "metadata": {},
   "outputs": [
    {
     "name": "stdout",
     "output_type": "stream",
     "text": [
      "1/1 [==============================] - 0s 16ms/step\n",
      "1/1 [==============================] - 0s 18ms/step\n",
      "1/1 [==============================] - 0s 19ms/step\n",
      "1/1 [==============================] - 0s 19ms/step\n",
      "1/1 [==============================] - 0s 18ms/step\n",
      "1/1 [==============================] - 0s 16ms/step\n",
      "1/1 [==============================] - 0s 16ms/step\n",
      "1/1 [==============================] - 0s 16ms/step\n",
      "1/1 [==============================] - 0s 16ms/step\n",
      "1/1 [==============================] - 0s 18ms/step\n"
     ]
    },
    {
     "data": {
      "text/plain": [
       "'The birds were flying about and twittering the statue of the statue of the statue and the'"
      ]
     },
     "execution_count": 99,
     "metadata": {},
     "output_type": "execute_result"
    }
   ],
   "source": [
    "input_text=\"The birds were flying about and twittering\"\n",
    "generate_seq(model, tok, input_text, max_length=max_context_size, n_words=10)"
   ]
  },
  {
   "cell_type": "code",
   "execution_count": 100,
   "metadata": {},
   "outputs": [
    {
     "name": "stdout",
     "output_type": "stream",
     "text": [
      "1/1 [==============================] - 0s 24ms/step\n",
      "1/1 [==============================] - 0s 20ms/step\n",
      "1/1 [==============================] - 0s 20ms/step\n",
      "1/1 [==============================] - 0s 21ms/step\n",
      "1/1 [==============================] - 0s 20ms/step\n",
      "1/1 [==============================] - 0s 21ms/step\n",
      "1/1 [==============================] - 0s 21ms/step\n",
      "1/1 [==============================] - 0s 20ms/step\n",
      "1/1 [==============================] - 0s 20ms/step\n",
      "1/1 [==============================] - 0s 17ms/step\n"
     ]
    },
    {
     "data": {
      "text/plain": [
       "'His body was found to a very big plank and he was a red'"
      ]
     },
     "execution_count": 100,
     "metadata": {},
     "output_type": "execute_result"
    }
   ],
   "source": [
    "input_text=\"His body was found\"\n",
    "generate_seq(model, tok, input_text, max_length=max_context_size, n_words=10)"
   ]
  },
  {
   "cell_type": "code",
   "execution_count": 101,
   "metadata": {},
   "outputs": [
    {
     "name": "stdout",
     "output_type": "stream",
     "text": [
      "1/1 [==============================] - 0s 22ms/step\n",
      "1/1 [==============================] - 0s 17ms/step\n",
      "1/1 [==============================] - 0s 18ms/step\n",
      "1/1 [==============================] - 0s 16ms/step\n",
      "1/1 [==============================] - 0s 15ms/step\n",
      "1/1 [==============================] - 0s 16ms/step\n",
      "1/1 [==============================] - 0s 15ms/step\n",
      "1/1 [==============================] - 0s 15ms/step\n",
      "1/1 [==============================] - 0s 14ms/step\n",
      "1/1 [==============================] - 0s 15ms/step\n"
     ]
    },
    {
     "data": {
      "text/plain": [
       "'Pyrotechnic to be a very big plank and he was a'"
      ]
     },
     "execution_count": 101,
     "metadata": {},
     "output_type": "execute_result"
    }
   ],
   "source": [
    "input_text=\"Pyrotechnic\"\n",
    "generate_seq(model, tok, input_text, max_length=max_context_size, n_words=10)"
   ]
  },
  {
   "cell_type": "code",
   "execution_count": 102,
   "metadata": {},
   "outputs": [
    {
     "name": "stdout",
     "output_type": "stream",
     "text": [
      "1/1 [==============================] - 0s 18ms/step\n",
      "1/1 [==============================] - 0s 14ms/step\n",
      "1/1 [==============================] - 0s 16ms/step\n",
      "1/1 [==============================] - 0s 15ms/step\n",
      "1/1 [==============================] - 0s 15ms/step\n",
      "1/1 [==============================] - 0s 15ms/step\n",
      "1/1 [==============================] - 0s 15ms/step\n",
      "1/1 [==============================] - 0s 14ms/step\n",
      "1/1 [==============================] - 0s 15ms/step\n",
      "1/1 [==============================] - 0s 15ms/step\n"
     ]
    },
    {
     "data": {
      "text/plain": [
       "'Fizz the nightingale came over and the grass and the very'"
      ]
     },
     "execution_count": 102,
     "metadata": {},
     "output_type": "execute_result"
    }
   ],
   "source": [
    "input_text=\"Fizz\"\n",
    "generate_seq(model, tok, input_text, max_length=max_context_size, n_words=10)"
   ]
  },
  {
   "cell_type": "markdown",
   "metadata": {},
   "source": [
    "###  Beam search y muestreo aleatorio"
   ]
  },
  {
   "cell_type": "code",
   "execution_count": 103,
   "metadata": {},
   "outputs": [
    {
     "data": {
      "text/plain": [
       "['the prince and the statue of the great']"
      ]
     },
     "execution_count": 103,
     "metadata": {},
     "output_type": "execute_result"
    }
   ],
   "source": [
    "salidas = beam_search(model,num_beams=10,num_words=6,input=\"the prince\",temp=1,mode='sto')\n",
    "salidas.shape\n",
    "decode(salidas[0])"
   ]
  },
  {
   "cell_type": "code",
   "execution_count": 104,
   "metadata": {},
   "outputs": [
    {
     "data": {
      "text/plain": [
       "['the prince ” said the miller and he']"
      ]
     },
     "execution_count": 104,
     "metadata": {},
     "output_type": "execute_result"
    }
   ],
   "source": [
    "salidas = beam_search(model,num_beams=10,num_words=6,input=\"the prince\",temp=1,mode='det')\n",
    "salidas.shape\n",
    "decode(salidas[0])"
   ]
  },
  {
   "cell_type": "code",
   "execution_count": 105,
   "metadata": {},
   "outputs": [
    {
     "data": {
      "text/plain": [
       "['the rocket ” said the rocket “i will']"
      ]
     },
     "execution_count": 105,
     "metadata": {},
     "output_type": "execute_result"
    }
   ],
   "source": [
    "salidas = beam_search(model,num_beams=10,num_words=6,input=\"the rocket\",temp=1,mode='sto')\n",
    "salidas.shape\n",
    "decode(salidas[0])"
   ]
  },
  {
   "cell_type": "code",
   "execution_count": 106,
   "metadata": {},
   "outputs": [
    {
     "data": {
      "text/plain": [
       "['the rocket ” said the miller and he']"
      ]
     },
     "execution_count": 106,
     "metadata": {},
     "output_type": "execute_result"
    }
   ],
   "source": [
    "salidas = beam_search(model,num_beams=10,num_words=6,input=\"the rocket\",temp=1,mode='det')\n",
    "salidas.shape\n",
    "decode(salidas[0])"
   ]
  },
  {
   "cell_type": "code",
   "execution_count": 107,
   "metadata": {},
   "outputs": [
    {
     "data": {
      "text/plain": [
       "['the nightingale came so to the story of']"
      ]
     },
     "execution_count": 107,
     "metadata": {},
     "output_type": "execute_result"
    }
   ],
   "source": [
    "salidas = beam_search(model,num_beams=10,num_words=6,input=\"the nightingale\",temp=1,mode='sto')\n",
    "salidas.shape\n",
    "decode(salidas[0])"
   ]
  },
  {
   "cell_type": "code",
   "execution_count": 108,
   "metadata": {},
   "outputs": [
    {
     "data": {
      "text/plain": [
       "['the nightingale little swallow ” said the rocket']"
      ]
     },
     "execution_count": 108,
     "metadata": {},
     "output_type": "execute_result"
    }
   ],
   "source": [
    "salidas = beam_search(model,num_beams=10,num_words=6,input=\"the nightingale\",temp=1,mode='det')\n",
    "salidas.shape\n",
    "decode(salidas[0])"
   ]
  },
  {
   "cell_type": "code",
   "execution_count": 109,
   "metadata": {},
   "outputs": [
    {
     "data": {
      "text/plain": [
       "['red rose ” said the swallow “i “impossible']"
      ]
     },
     "execution_count": 109,
     "metadata": {},
     "output_type": "execute_result"
    }
   ],
   "source": [
    "salidas = beam_search(model,num_beams=10,num_words=6,input=\"red rose\",temp=1,mode='sto')\n",
    "salidas.shape\n",
    "decode(salidas[0])"
   ]
  },
  {
   "cell_type": "code",
   "execution_count": 110,
   "metadata": {},
   "outputs": [
    {
     "data": {
      "text/plain": [
       "['red rose ” said the miller and he']"
      ]
     },
     "execution_count": 110,
     "metadata": {},
     "output_type": "execute_result"
    }
   ],
   "source": [
    "salidas = beam_search(model,num_beams=10,num_words=6,input=\"red rose\",temp=1,mode='det')\n",
    "salidas.shape\n",
    "decode(salidas[0])"
   ]
  },
  {
   "cell_type": "markdown",
   "metadata": {},
   "source": [
    "### MODELO GRU"
   ]
  },
  {
   "cell_type": "code",
   "execution_count": 113,
   "metadata": {},
   "outputs": [
    {
     "name": "stdout",
     "output_type": "stream",
     "text": [
      "Model: \"sequential_11\"\n",
      "_________________________________________________________________\n",
      " Layer (type)                Output Shape              Param #   \n",
      "=================================================================\n",
      " embedding_10 (Embedding)    (None, None, 50)          117350    \n",
      "                                                                 \n",
      " gru_2 (GRU)                 (None, None, 100)         45600     \n",
      "                                                                 \n",
      " gru_3 (GRU)                 (None, None, 100)         60600     \n",
      "                                                                 \n",
      " dense_10 (Dense)            (None, None, 2347)        237047    \n",
      "                                                                 \n",
      "=================================================================\n",
      "Total params: 460,597\n",
      "Trainable params: 460,597\n",
      "Non-trainable params: 0\n",
      "_________________________________________________________________\n"
     ]
    }
   ],
   "source": [
    "from tensorflow.keras.models import Sequential\n",
    "from tensorflow.keras.layers import Embedding, GRU, Dense\n",
    "from tensorflow.keras.losses import SparseCategoricalCrossentropy\n",
    "\n",
    "# Definir el modelo con GRU\n",
    "model = Sequential()\n",
    "model.add(Embedding(input_dim=vocab_size+1, output_dim=50, input_shape=(None,)))\n",
    "model.add(GRU(100, return_sequences=True))  # Capa GRU con 100 unidades y retorno de secuencias\n",
    "model.add(GRU(100, return_sequences=True))  # Capa GRU con 100 unidades y retorno de secuencias\n",
    "model.add(Dense(vocab_size+1, activation='softmax'))  # Capa de salida con activación softmax\n",
    "\n",
    "# Compilar el modelo\n",
    "model.compile(loss=SparseCategoricalCrossentropy(), optimizer='rmsprop')\n",
    "\n",
    "# Imprimir el resumen del modelo\n",
    "model.summary()"
   ]
  },
  {
   "cell_type": "code",
   "execution_count": 114,
   "metadata": {},
   "outputs": [
    {
     "name": "stdout",
     "output_type": "stream",
     "text": [
      "Epoch 1/20\n",
      "792/794 [============================>.] - ETA: 0s - loss: 3.5922\n",
      " mean perplexity: 788.8729134522009 \n",
      "\n"
     ]
    },
    {
     "name": "stderr",
     "output_type": "stream",
     "text": [
      "WARNING:absl:Found untraced functions such as _update_step_xla, gru_cell_2_layer_call_fn, gru_cell_2_layer_call_and_return_conditional_losses, gru_cell_3_layer_call_fn, gru_cell_3_layer_call_and_return_conditional_losses while saving (showing 5 of 5). These functions will not be directly callable after loading.\n"
     ]
    },
    {
     "name": "stdout",
     "output_type": "stream",
     "text": [
      "INFO:tensorflow:Assets written to: GRU_word/assets\n"
     ]
    },
    {
     "name": "stderr",
     "output_type": "stream",
     "text": [
      "INFO:tensorflow:Assets written to: GRU_word/assets\n"
     ]
    },
    {
     "name": "stdout",
     "output_type": "stream",
     "text": [
      "Saved new model!\n",
      "794/794 [==============================] - 16s 18ms/step - loss: 3.5919\n",
      "Epoch 2/20\n",
      "790/794 [============================>.] - ETA: 0s - loss: 2.9438\n",
      " mean perplexity: 533.0348757515437 \n",
      "\n"
     ]
    },
    {
     "name": "stderr",
     "output_type": "stream",
     "text": [
      "WARNING:absl:Found untraced functions such as _update_step_xla, gru_cell_2_layer_call_fn, gru_cell_2_layer_call_and_return_conditional_losses, gru_cell_3_layer_call_fn, gru_cell_3_layer_call_and_return_conditional_losses while saving (showing 5 of 5). These functions will not be directly callable after loading.\n"
     ]
    },
    {
     "name": "stdout",
     "output_type": "stream",
     "text": [
      "INFO:tensorflow:Assets written to: GRU_word/assets\n"
     ]
    },
    {
     "name": "stderr",
     "output_type": "stream",
     "text": [
      "INFO:tensorflow:Assets written to: GRU_word/assets\n"
     ]
    },
    {
     "name": "stdout",
     "output_type": "stream",
     "text": [
      "Saved new model!\n",
      "794/794 [==============================] - 13s 17ms/step - loss: 2.9441\n",
      "Epoch 3/20\n",
      "793/794 [============================>.] - ETA: 0s - loss: 2.7809\n",
      " mean perplexity: 499.931463746908 \n",
      "\n"
     ]
    },
    {
     "name": "stderr",
     "output_type": "stream",
     "text": [
      "WARNING:absl:Found untraced functions such as _update_step_xla, gru_cell_2_layer_call_fn, gru_cell_2_layer_call_and_return_conditional_losses, gru_cell_3_layer_call_fn, gru_cell_3_layer_call_and_return_conditional_losses while saving (showing 5 of 5). These functions will not be directly callable after loading.\n"
     ]
    },
    {
     "name": "stdout",
     "output_type": "stream",
     "text": [
      "INFO:tensorflow:Assets written to: GRU_word/assets\n"
     ]
    },
    {
     "name": "stderr",
     "output_type": "stream",
     "text": [
      "INFO:tensorflow:Assets written to: GRU_word/assets\n"
     ]
    },
    {
     "name": "stdout",
     "output_type": "stream",
     "text": [
      "Saved new model!\n",
      "794/794 [==============================] - 14s 18ms/step - loss: 2.7807\n",
      "Epoch 4/20\n",
      "793/794 [============================>.] - ETA: 0s - loss: 2.6693\n",
      " mean perplexity: 498.40890699575016 \n",
      "\n"
     ]
    },
    {
     "name": "stderr",
     "output_type": "stream",
     "text": [
      "WARNING:absl:Found untraced functions such as _update_step_xla, gru_cell_2_layer_call_fn, gru_cell_2_layer_call_and_return_conditional_losses, gru_cell_3_layer_call_fn, gru_cell_3_layer_call_and_return_conditional_losses while saving (showing 5 of 5). These functions will not be directly callable after loading.\n"
     ]
    },
    {
     "name": "stdout",
     "output_type": "stream",
     "text": [
      "INFO:tensorflow:Assets written to: GRU_word/assets\n"
     ]
    },
    {
     "name": "stderr",
     "output_type": "stream",
     "text": [
      "INFO:tensorflow:Assets written to: GRU_word/assets\n"
     ]
    },
    {
     "name": "stdout",
     "output_type": "stream",
     "text": [
      "Saved new model!\n",
      "794/794 [==============================] - 13s 17ms/step - loss: 2.6693\n",
      "Epoch 5/20\n",
      "792/794 [============================>.] - ETA: 0s - loss: 2.5792\n",
      " mean perplexity: 701.790538883123 \n",
      "\n",
      "794/794 [==============================] - 10s 13ms/step - loss: 2.5790\n",
      "Epoch 6/20\n",
      "791/794 [============================>.] - ETA: 0s - loss: 2.5004\n",
      " mean perplexity: 486.2407453263791 \n",
      "\n"
     ]
    },
    {
     "name": "stderr",
     "output_type": "stream",
     "text": [
      "WARNING:absl:Found untraced functions such as _update_step_xla, gru_cell_2_layer_call_fn, gru_cell_2_layer_call_and_return_conditional_losses, gru_cell_3_layer_call_fn, gru_cell_3_layer_call_and_return_conditional_losses while saving (showing 5 of 5). These functions will not be directly callable after loading.\n"
     ]
    },
    {
     "name": "stdout",
     "output_type": "stream",
     "text": [
      "INFO:tensorflow:Assets written to: GRU_word/assets\n"
     ]
    },
    {
     "name": "stderr",
     "output_type": "stream",
     "text": [
      "INFO:tensorflow:Assets written to: GRU_word/assets\n"
     ]
    },
    {
     "name": "stdout",
     "output_type": "stream",
     "text": [
      "Saved new model!\n",
      "794/794 [==============================] - 15s 18ms/step - loss: 2.5007\n",
      "Epoch 7/20\n",
      "793/794 [============================>.] - ETA: 0s - loss: 2.4319\n",
      " mean perplexity: 485.7394898383456 \n",
      "\n"
     ]
    },
    {
     "name": "stderr",
     "output_type": "stream",
     "text": [
      "WARNING:absl:Found untraced functions such as _update_step_xla, gru_cell_2_layer_call_fn, gru_cell_2_layer_call_and_return_conditional_losses, gru_cell_3_layer_call_fn, gru_cell_3_layer_call_and_return_conditional_losses while saving (showing 5 of 5). These functions will not be directly callable after loading.\n"
     ]
    },
    {
     "name": "stdout",
     "output_type": "stream",
     "text": [
      "INFO:tensorflow:Assets written to: GRU_word/assets\n"
     ]
    },
    {
     "name": "stderr",
     "output_type": "stream",
     "text": [
      "INFO:tensorflow:Assets written to: GRU_word/assets\n"
     ]
    },
    {
     "name": "stdout",
     "output_type": "stream",
     "text": [
      "Saved new model!\n",
      "794/794 [==============================] - 14s 18ms/step - loss: 2.4318\n",
      "Epoch 8/20\n",
      "792/794 [============================>.] - ETA: 0s - loss: 2.3691\n",
      " mean perplexity: 501.08851412504913 \n",
      "\n",
      "794/794 [==============================] - 10s 13ms/step - loss: 2.3683\n",
      "Epoch 9/20\n",
      "792/794 [============================>.] - ETA: 0s - loss: 2.3068\n",
      " mean perplexity: 523.9725478089653 \n",
      "\n",
      "794/794 [==============================] - 10s 13ms/step - loss: 2.3066\n",
      "Epoch 10/20\n",
      "793/794 [============================>.] - ETA: 0s - loss: 2.2459\n",
      " mean perplexity: 507.14086469375843 \n",
      "\n",
      "794/794 [==============================] - 10s 13ms/step - loss: 2.2460\n",
      "Epoch 11/20\n",
      "794/794 [==============================] - ETA: 0s - loss: 2.1866\n",
      " mean perplexity: 530.467317271895 \n",
      "\n",
      "794/794 [==============================] - 10s 13ms/step - loss: 2.1866\n",
      "Epoch 12/20\n",
      "791/794 [============================>.] - ETA: 0s - loss: 2.1300\n",
      " mean perplexity: 547.3044674362486 \n",
      "\n",
      "Stopping training...\n",
      "794/794 [==============================] - 10s 13ms/step - loss: 2.1292\n"
     ]
    }
   ],
   "source": [
    "history_ppl = []\n",
    "hist = model.fit(X, y, epochs=20, callbacks=[PplCallback(tokenized_sentences_val,history_ppl, model_name=\"GRU_word\")], batch_size=16)"
   ]
  },
  {
   "cell_type": "code",
   "execution_count": 115,
   "metadata": {},
   "outputs": [
    {
     "data": {
      "image/png": "[encoded data removed]",
      "text/plain": [
       "<Figure size 640x480 with 1 Axes>"
      ]
     },
     "metadata": {},
     "output_type": "display_data"
    }
   ],
   "source": [
    "import matplotlib.pyplot as plt\n",
    "import seaborn as sns\n",
    "\n",
    "epoch_count = range(1, len(history_ppl) + 1)\n",
    "sns.lineplot(x=epoch_count,  y=history_ppl)\n",
    "plt.show()"
   ]
  },
  {
   "cell_type": "code",
   "execution_count": 116,
   "metadata": {},
   "outputs": [],
   "source": [
    "model = keras.models.load_model('GRU_word')"
   ]
  },
  {
   "cell_type": "markdown",
   "metadata": {},
   "source": [
    "### Predicción de próxima palabra"
   ]
  },
  {
   "cell_type": "code",
   "execution_count": 117,
   "metadata": {},
   "outputs": [
    {
     "name": "stdout",
     "output_type": "stream",
     "text": [
      "Running on local URL:  http://127.0.0.1:7860\n",
      "\n",
      "To create a public link, set `share=True` in `launch()`.\n"
     ]
    },
    {
     "data": {
      "text/html": [
       "<div><iframe src=\"http://127.0.0.1:7860/\" width=\"100%\" height=\"500\" allow=\"autoplay; camera; microphone; clipboard-read; clipboard-write;\" frameborder=\"0\" allowfullscreen></iframe></div>"
      ],
      "text/plain": [
       "<IPython.core.display.HTML object>"
      ]
     },
     "metadata": {},
     "output_type": "display_data"
    },
    {
     "name": "stdout",
     "output_type": "stream",
     "text": [
      "1/1 [==============================] - 0s 423ms/step\n",
      "1/1 [==============================] - 0s 16ms/step\n",
      "1/1 [==============================] - 0s 17ms/step\n",
      "1/1 [==============================] - 0s 17ms/step\n",
      "1/1 [==============================] - 0s 16ms/step\n",
      "1/1 [==============================] - 0s 30ms/step\n",
      "1/1 [==============================] - 0s 16ms/step\n",
      "1/1 [==============================] - 0s 16ms/step\n",
      "Keyboard interruption in main thread... closing server.\n"
     ]
    },
    {
     "data": {
      "text/plain": []
     },
     "execution_count": 117,
     "metadata": {},
     "output_type": "execute_result"
    }
   ],
   "source": [
    "iface = gr.Interface(\n",
    "    fn=model_response,\n",
    "    inputs=[\"textbox\"],\n",
    "    outputs=\"text\")\n",
    "\n",
    "iface.launch(debug=True)"
   ]
  },
  {
   "cell_type": "markdown",
   "metadata": {},
   "source": [
    "Algunas imagenes obtenidas de gradio:\n",
    "![img1](images/word1gru.png)\n",
    "![img2](images/word2gru.png)\n",
    "![img3](images/word3gru.png)\n",
    "![img4](images/word4gru.png)\n",
    "![img5](images/word5gru.png)\n",
    "![img6](images/word6gru.png)\n",
    "![img7](images/word7gru.png)\n",
    "![img8](images/word8gru.png)"
   ]
  },
  {
   "cell_type": "markdown",
   "metadata": {},
   "source": [
    "### Generación de secuencias"
   ]
  },
  {
   "cell_type": "code",
   "execution_count": 118,
   "metadata": {},
   "outputs": [
    {
     "name": "stdout",
     "output_type": "stream",
     "text": [
      "1/1 [==============================] - 0s 20ms/step\n",
      "1/1 [==============================] - 0s 18ms/step\n",
      "1/1 [==============================] - 0s 19ms/step\n",
      "1/1 [==============================] - 0s 22ms/step\n",
      "1/1 [==============================] - 0s 19ms/step\n",
      "1/1 [==============================] - 0s 15ms/step\n",
      "1/1 [==============================] - 0s 14ms/step\n",
      "1/1 [==============================] - 0s 16ms/step\n",
      "1/1 [==============================] - 0s 16ms/step\n",
      "1/1 [==============================] - 0s 16ms/step\n"
     ]
    },
    {
     "data": {
      "text/plain": [
       "'I am glad there is some wheelbarrow that i am not not not not not not'"
      ]
     },
     "execution_count": 118,
     "metadata": {},
     "output_type": "execute_result"
    }
   ],
   "source": [
    "input_text='I am glad there is some'\n",
    "\n",
    "generate_seq(model, tok, input_text, max_length=max_context_size, n_words=10)"
   ]
  },
  {
   "cell_type": "code",
   "execution_count": 119,
   "metadata": {},
   "outputs": [
    {
     "name": "stdout",
     "output_type": "stream",
     "text": [
      "1/1 [==============================] - 0s 19ms/step\n",
      "1/1 [==============================] - 0s 21ms/step\n",
      "1/1 [==============================] - 0s 20ms/step\n",
      "1/1 [==============================] - 0s 17ms/step\n",
      "1/1 [==============================] - 0s 22ms/step\n",
      "1/1 [==============================] - 0s 17ms/step\n",
      "1/1 [==============================] - 0s 17ms/step\n",
      "1/1 [==============================] - 0s 17ms/step\n",
      "1/1 [==============================] - 0s 20ms/step\n",
      "1/1 [==============================] - 0s 19ms/step\n"
     ]
    },
    {
     "data": {
      "text/plain": [
       "'He is weeping for the garden and a large large large large large large'"
      ]
     },
     "execution_count": 119,
     "metadata": {},
     "output_type": "execute_result"
    }
   ],
   "source": [
    "input_text=\"He is weeping for\"\n",
    "generate_seq(model, tok, input_text, max_length=max_context_size, n_words=10)"
   ]
  },
  {
   "cell_type": "code",
   "execution_count": 120,
   "metadata": {},
   "outputs": [
    {
     "name": "stdout",
     "output_type": "stream",
     "text": [
      "1/1 [==============================] - 0s 20ms/step\n",
      "1/1 [==============================] - 0s 19ms/step\n",
      "1/1 [==============================] - 0s 20ms/step\n",
      "1/1 [==============================] - 0s 18ms/step\n",
      "1/1 [==============================] - 0s 16ms/step\n",
      "1/1 [==============================] - 0s 17ms/step\n",
      "1/1 [==============================] - 0s 19ms/step\n",
      "1/1 [==============================] - 0s 16ms/step\n",
      "1/1 [==============================] - 0s 18ms/step\n",
      "1/1 [==============================] - 0s 17ms/step\n"
     ]
    },
    {
     "data": {
      "text/plain": [
       "'And at noon the Student and the great red day and the garden and a'"
      ]
     },
     "execution_count": 120,
     "metadata": {},
     "output_type": "execute_result"
    }
   ],
   "source": [
    "input_text=\"And at noon the Student\"\n",
    "generate_seq(model, tok, input_text, max_length=max_context_size, n_words=10)"
   ]
  },
  {
   "cell_type": "code",
   "execution_count": 121,
   "metadata": {},
   "outputs": [
    {
     "name": "stdout",
     "output_type": "stream",
     "text": [
      "1/1 [==============================] - 0s 18ms/step\n",
      "1/1 [==============================] - 0s 18ms/step\n",
      "1/1 [==============================] - 0s 22ms/step\n",
      "1/1 [==============================] - 0s 20ms/step\n",
      "1/1 [==============================] - 0s 16ms/step\n",
      "1/1 [==============================] - 0s 18ms/step\n",
      "1/1 [==============================] - 0s 20ms/step\n",
      "1/1 [==============================] - 0s 19ms/step\n",
      "1/1 [==============================] - 0s 18ms/step\n",
      "1/1 [==============================] - 0s 15ms/step\n"
     ]
    },
    {
     "data": {
      "text/plain": [
       "'The birds were flying about and twittering the garden and a large large large large large large'"
      ]
     },
     "execution_count": 121,
     "metadata": {},
     "output_type": "execute_result"
    }
   ],
   "source": [
    "input_text=\"The birds were flying about and twittering\"\n",
    "generate_seq(model, tok, input_text, max_length=max_context_size, n_words=10)"
   ]
  },
  {
   "cell_type": "code",
   "execution_count": 122,
   "metadata": {},
   "outputs": [
    {
     "name": "stdout",
     "output_type": "stream",
     "text": [
      "1/1 [==============================] - 0s 15ms/step\n",
      "1/1 [==============================] - 0s 19ms/step\n",
      "1/1 [==============================] - 0s 18ms/step\n",
      "1/1 [==============================] - 0s 17ms/step\n",
      "1/1 [==============================] - 0s 21ms/step\n",
      "1/1 [==============================] - 0s 17ms/step\n",
      "1/1 [==============================] - 0s 19ms/step\n",
      "1/1 [==============================] - 0s 17ms/step\n",
      "1/1 [==============================] - 0s 18ms/step\n",
      "1/1 [==============================] - 0s 24ms/step\n"
     ]
    },
    {
     "data": {
      "text/plain": [
       "'His body was found the miller came i am not not not not not'"
      ]
     },
     "execution_count": 122,
     "metadata": {},
     "output_type": "execute_result"
    }
   ],
   "source": [
    "input_text=\"His body was found\"\n",
    "generate_seq(model, tok, input_text, max_length=max_context_size, n_words=10)"
   ]
  },
  {
   "cell_type": "code",
   "execution_count": 123,
   "metadata": {},
   "outputs": [
    {
     "name": "stdout",
     "output_type": "stream",
     "text": [
      "1/1 [==============================] - 0s 20ms/step\n",
      "1/1 [==============================] - 0s 16ms/step\n",
      "1/1 [==============================] - 0s 14ms/step\n",
      "1/1 [==============================] - 0s 17ms/step\n",
      "1/1 [==============================] - 0s 14ms/step\n",
      "1/1 [==============================] - 0s 19ms/step\n",
      "1/1 [==============================] - 0s 15ms/step\n",
      "1/1 [==============================] - 0s 14ms/step\n",
      "1/1 [==============================] - 0s 14ms/step\n",
      "1/1 [==============================] - 0s 13ms/step\n"
     ]
    },
    {
     "data": {
      "text/plain": [
       "'Pyrotechnic and the garden and a large large large large large'"
      ]
     },
     "execution_count": 123,
     "metadata": {},
     "output_type": "execute_result"
    }
   ],
   "source": [
    "input_text=\"Pyrotechnic\"\n",
    "generate_seq(model, tok, input_text, max_length=max_context_size, n_words=10)"
   ]
  },
  {
   "cell_type": "code",
   "execution_count": 124,
   "metadata": {},
   "outputs": [
    {
     "name": "stdout",
     "output_type": "stream",
     "text": [
      "1/1 [==============================] - 0s 19ms/step\n",
      "1/1 [==============================] - 0s 19ms/step\n",
      "1/1 [==============================] - 0s 15ms/step\n",
      "1/1 [==============================] - 0s 15ms/step\n",
      "1/1 [==============================] - 0s 15ms/step\n",
      "1/1 [==============================] - 0s 15ms/step\n",
      "1/1 [==============================] - 0s 14ms/step\n",
      "1/1 [==============================] - 0s 14ms/step\n",
      "1/1 [==============================] - 0s 14ms/step\n",
      "1/1 [==============================] - 0s 13ms/step\n"
     ]
    },
    {
     "data": {
      "text/plain": [
       "'Fizz the next day he was so the great red day'"
      ]
     },
     "execution_count": 124,
     "metadata": {},
     "output_type": "execute_result"
    }
   ],
   "source": [
    "input_text=\"Fizz\"\n",
    "generate_seq(model, tok, input_text, max_length=max_context_size, n_words=10)"
   ]
  },
  {
   "cell_type": "markdown",
   "metadata": {},
   "source": [
    "###  Beam search y muestreo aleatorio"
   ]
  },
  {
   "cell_type": "code",
   "execution_count": 125,
   "metadata": {},
   "outputs": [
    {
     "data": {
      "text/plain": [
       "['the prince of the time ” answered the']"
      ]
     },
     "execution_count": 125,
     "metadata": {},
     "output_type": "execute_result"
    }
   ],
   "source": [
    "salidas = beam_search(model,num_beams=10,num_words=6,input=\"the prince\",temp=1,mode='sto')\n",
    "salidas.shape\n",
    "decode(salidas[0])"
   ]
  },
  {
   "cell_type": "code",
   "execution_count": 126,
   "metadata": {},
   "outputs": [
    {
     "data": {
      "text/plain": [
       "['the prince little swallow ” said the swallow']"
      ]
     },
     "execution_count": 126,
     "metadata": {},
     "output_type": "execute_result"
    }
   ],
   "source": [
    "salidas = beam_search(model,num_beams=10,num_words=6,input=\"the prince\",temp=1,mode='det')\n",
    "salidas.shape\n",
    "decode(salidas[0])"
   ]
  },
  {
   "cell_type": "code",
   "execution_count": 127,
   "metadata": {},
   "outputs": [
    {
     "data": {
      "text/plain": [
       "['the rocket and the giant was a before']"
      ]
     },
     "execution_count": 127,
     "metadata": {},
     "output_type": "execute_result"
    }
   ],
   "source": [
    "salidas = beam_search(model,num_beams=10,num_words=6,input=\"the rocket\",temp=1,mode='sto')\n",
    "salidas.shape\n",
    "decode(salidas[0])"
   ]
  },
  {
   "cell_type": "code",
   "execution_count": 128,
   "metadata": {},
   "outputs": [
    {
     "data": {
      "text/plain": [
       "['the rocket was a very day ” said']"
      ]
     },
     "execution_count": 128,
     "metadata": {},
     "output_type": "execute_result"
    }
   ],
   "source": [
    "salidas = beam_search(model,num_beams=10,num_words=6,input=\"the rocket\",temp=1,mode='det')\n",
    "salidas.shape\n",
    "decode(salidas[0])"
   ]
  },
  {
   "cell_type": "code",
   "execution_count": 129,
   "metadata": {},
   "outputs": [
    {
     "data": {
      "text/plain": [
       "['the nightingale was very evident i am made']"
      ]
     },
     "execution_count": 129,
     "metadata": {},
     "output_type": "execute_result"
    }
   ],
   "source": [
    "salidas = beam_search(model,num_beams=10,num_words=6,input=\"the nightingale\",temp=1,mode='sto')\n",
    "salidas.shape\n",
    "decode(salidas[0])"
   ]
  },
  {
   "cell_type": "code",
   "execution_count": 130,
   "metadata": {},
   "outputs": [
    {
     "data": {
      "text/plain": [
       "['the nightingale was very well ” said the']"
      ]
     },
     "execution_count": 130,
     "metadata": {},
     "output_type": "execute_result"
    }
   ],
   "source": [
    "salidas = beam_search(model,num_beams=10,num_words=6,input=\"the nightingale\",temp=1,mode='det')\n",
    "salidas.shape\n",
    "decode(salidas[0])"
   ]
  },
  {
   "cell_type": "code",
   "execution_count": 131,
   "metadata": {},
   "outputs": [
    {
     "data": {
      "text/plain": [
       "['red rose ” said the swallow “i am']"
      ]
     },
     "execution_count": 131,
     "metadata": {},
     "output_type": "execute_result"
    }
   ],
   "source": [
    "salidas = beam_search(model,num_beams=10,num_words=6,input=\"red rose\",temp=1,mode='sto')\n",
    "salidas.shape\n",
    "decode(salidas[0])"
   ]
  },
  {
   "cell_type": "code",
   "execution_count": 132,
   "metadata": {},
   "outputs": [
    {
     "data": {
      "text/plain": [
       "['red rose ” said the swallow “i am']"
      ]
     },
     "execution_count": 132,
     "metadata": {},
     "output_type": "execute_result"
    }
   ],
   "source": [
    "salidas = beam_search(model,num_beams=10,num_words=6,input=\"red rose\",temp=1,mode='det')\n",
    "salidas.shape\n",
    "decode(salidas[0])"
   ]
  }
 ],
 "metadata": {
  "colab": {
   "provenance": []
  },
  "kernelspec": {
   "display_name": "Python 3 (ipykernel)",
   "language": "python",
   "name": "python3"
  },
  "language_info": {
   "codemirror_mode": {
    "name": "ipython",
    "version": 3
   },
   "file_extension": ".py",
   "mimetype": "text/x-python",
   "name": "python",
   "nbconvert_exporter": "python",
   "pygments_lexer": "ipython3",
   "version": "3.10.12"
  }
 },
 "nbformat": 4,
 "nbformat_minor": 4
}
