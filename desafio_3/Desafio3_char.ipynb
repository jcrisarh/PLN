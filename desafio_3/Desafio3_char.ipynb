{
 "cells": [
  {
   "cell_type": "markdown",
   "metadata": {
    "id": "g3yeJGnCYxuF"
   },
   "source": [
    "# Procesamiento de lenguaje natural\n",
    "## Desafío 3\n",
    "### Modelo de lenguaje con tokenización por caracteres"
   ]
  },
  {
   "cell_type": "markdown",
   "metadata": {
    "id": "Iv5PEwGzZA9-"
   },
   "source": [
    "### Consigna\n",
    "- Seleccionar un corpus de texto sobre el cual entrenar el modelo de lenguaje.\n",
    "- Realizar el pre-procesamiento adecuado para tokenizar el corpus, estructurar el dataset y separar entre datos de entrenamiento y validación.\n",
    "- Proponer arquitecturas de redes neuronales basadas en unidades recurrentes para implementar un modelo de lenguaje.\n",
    "- Con el o los modelos que consideren adecuados, generar nuevas secuencias a partir de secuencias de contexto con las estrategias de greedy search y beam search determístico y estocástico. En este último caso observar el efecto de la temperatura en la generación de secuencias.\n",
    "\n",
    "\n",
    "### Sugerencias\n",
    "- Durante el entrenamiento, guiarse por el descenso de la perplejidad en los datos de validación para finalizar el entrenamiento. Para ello se provee un callback.\n",
    "- Explorar utilizar SimpleRNN (celda de Elman), LSTM y GRU.\n",
    "- rmsprop es el optimizador recomendado para la buena convergencia. No obstante se pueden explorar otros.\n"
   ]
  },
  {
   "cell_type": "code",
   "execution_count": 4,
   "metadata": {
    "id": "Y-QdFbHZYj7C"
   },
   "outputs": [
    {
     "name": "stderr",
     "output_type": "stream",
     "text": [
      "2024-06-23 11:22:14.961798: I tensorflow/core/util/port.cc:113] oneDNN custom operations are on. You may see slightly different numerical results due to floating-point round-off errors from different computation orders. To turn them off, set the environment variable `TF_ENABLE_ONEDNN_OPTS=0`.\n",
      "2024-06-23 11:22:14.994951: I tensorflow/core/platform/cpu_feature_guard.cc:210] This TensorFlow binary is optimized to use available CPU instructions in performance-critical operations.\n",
      "To enable the following instructions: AVX2 AVX512F AVX512_VNNI FMA, in other operations, rebuild TensorFlow with the appropriate compiler flags.\n",
      "2024-06-23 11:22:15.620572: W tensorflow/compiler/tf2tensorrt/utils/py_utils.cc:38] TF-TRT Warning: Could not find TensorRT\n"
     ]
    }
   ],
   "source": [
    "import random\n",
    "import io\n",
    "import pickle\n",
    "\n",
    "import os\n",
    "import re\n",
    "\n",
    "import numpy as np\n",
    "import pandas as pd\n",
    "import matplotlib.pyplot as plt\n",
    "from sklearn.model_selection import train_test_split\n",
    "\n",
    "from tensorflow import keras\n",
    "from tensorflow.keras import layers\n",
    "from keras.utils import to_categorical\n",
    "from keras.models import Sequential\n",
    "from keras.layers import Dense, LSTM, Embedding, Dropout\n",
    "from tensorflow.keras.losses import SparseCategoricalCrossentropy\n",
    "\n",
    "from tensorflow.python.client import device_lib\n",
    "import tensorflow as tf\n",
    "import tensorflow.keras.backend as K"
   ]
  },
  {
   "cell_type": "markdown",
   "metadata": {},
   "source": [
    "### Lista de dispositivos y configuración de GPU"
   ]
  },
  {
   "cell_type": "code",
   "execution_count": 1,
   "metadata": {},
   "outputs": [
    {
     "ename": "NameError",
     "evalue": "name 'device_lib' is not defined",
     "output_type": "error",
     "traceback": [
      "\u001b[0;31m---------------------------------------------------------------------------\u001b[0m",
      "\u001b[0;31mNameError\u001b[0m                                 Traceback (most recent call last)",
      "Cell \u001b[0;32mIn[1], line 1\u001b[0m\n\u001b[0;32m----> 1\u001b[0m \u001b[38;5;28mprint\u001b[39m(\u001b[43mdevice_lib\u001b[49m\u001b[38;5;241m.\u001b[39mlist_local_devices())\n",
      "\u001b[0;31mNameError\u001b[0m: name 'device_lib' is not defined"
     ]
    }
   ],
   "source": [
    "print(device_lib.list_local_devices())"
   ]
  },
  {
   "cell_type": "code",
   "execution_count": 6,
   "metadata": {},
   "outputs": [
    {
     "name": "stderr",
     "output_type": "stream",
     "text": [
      "2024-06-23 11:22:27.394980: I external/local_xla/xla/stream_executor/cuda/cuda_executor.cc:998] successful NUMA node read from SysFS had negative value (-1), but there must be at least one NUMA node, so returning NUMA node zero. See more at https://github.com/torvalds/linux/blob/v6.0/Documentation/ABI/testing/sysfs-bus-pci#L344-L355\n",
      "2024-06-23 11:22:27.396641: W tensorflow/core/common_runtime/gpu/gpu_device.cc:2251] Cannot dlopen some GPU libraries. Please make sure the missing libraries mentioned above are installed properly if you would like to use GPU. Follow the guide at https://www.tensorflow.org/install/gpu for how to download and setup the required libraries for your platform.\n",
      "Skipping registering GPU devices...\n"
     ]
    }
   ],
   "source": [
    "physical_devices = tf.config.list_physical_devices('GPU')\n",
    "if physical_devices:\n",
    "    tf.config.experimental.set_memory_growth(physical_devices[0], True)"
   ]
  },
  {
   "cell_type": "markdown",
   "metadata": {
    "id": "xTvXlEKQZdqx"
   },
   "source": [
    "### Datos\n",
    "Se utiliza como dataset textos del libro *The Picture of Dorian Gray* disponible en Project Gutenberg: [The Picture of Dorian Gray](https://www.gutenberg.org/cache/epub/174/pg174.txt)\n"
   ]
  },
  {
   "cell_type": "code",
   "execution_count": 7,
   "metadata": {},
   "outputs": [
    {
     "name": "stdout",
     "output_type": "stream",
     "text": [
      "The Project Gutenberg eBook of The Picture of Dorian Gray\n",
      "    \n",
      "This ebook is for the use of anyone anywhere in the United States and\n",
      "most other parts of the world at no cost and with almost no restrictions\n",
      "whatsoever. You may copy it, give it away or re-use it under the terms\n",
      "of the Project Gutenberg License included with this ebook or online\n",
      "at www.gutenberg.org. If you are not located in the United States,\n",
      "you will have to check the laws of the country where you are located\n",
      "before using this eBook.\n",
      "\n",
      "Title: The Picture of Dorian Gray\n",
      "\n",
      "Author: Oscar Wilde\n",
      "\n",
      "Release date: October 1, 1994 [eBook #174]\n",
      "                Most recently updated: February 3, 2022\n",
      "\n",
      "Language: English\n",
      "\n",
      "Credits: Judith Boss. HTML version by Al Haines.\n",
      "\n",
      "\n",
      "*** START OF THE PROJECT GUTENBERG EBOOK THE PICTURE OF DORIAN GRAY ***\n",
      "\n",
      "\n",
      "\n",
      "\n",
      "The Picture of Dorian Gray\n",
      "\n",
      "by Oscar Wilde\n",
      "\n",
      "\n",
      "Contents\n",
      "\n",
      " THE PREFACE\n",
      " CHAPTER I.\n",
      " CHAPTER II.\n",
      " CHAPTER III.\n",
      " CHAPTER IV.\n",
      " CHAPTER V.\n",
      " CHAPTER VI.\n",
      " CHAPTER VII.\n",
      " CHAPTER VIII.\n",
      " CHAPTER IX.\n",
      " CHA\n"
     ]
    }
   ],
   "source": [
    "\n",
    "file_path = os.path.join(\"docs\", \"the_picture_of_dorian_gray\")\n",
    "\n",
    "with open(file_path, \"r\", encoding=\"utf-8\") as file:\n",
    "    text = file.read()\n",
    "\n",
    "print(text[:1000])"
   ]
  },
  {
   "cell_type": "code",
   "execution_count": 8,
   "metadata": {
    "id": "7amy6uUaBLVD"
   },
   "outputs": [],
   "source": [
    "def remove_previous_text(text, intro_marker):\n",
    "    \"\"\" remove introduction \"\"\"\n",
    "    intro_index = text.find(intro_marker)\n",
    "    if intro_index !=-1:\n",
    "        return text[intro_index + len(intro_marker):].strip()\n",
    "    return text"
   ]
  },
  {
   "cell_type": "code",
   "execution_count": 9,
   "metadata": {},
   "outputs": [],
   "source": [
    "def remove_text_below(text, end_marker):\n",
    "    \"\"\"remove text at the end\"\"\"\n",
    "    end_marker_pos = text.find(end_marker)\n",
    "    if end_marker_pos != -1:\n",
    "        return text[:end_marker_pos]\n",
    "    return text"
   ]
  },
  {
   "cell_type": "code",
   "execution_count": 10,
   "metadata": {},
   "outputs": [],
   "source": [
    "def remove_chapter_text(text):\n",
    "    \"\"\" remove chapter titles \"\"\"\n",
    "    lines = text.split('\\n')\n",
    "    clean_lines = [line for line in lines if not re.match(r'^CHAPTER [IVXLCDM]+\\.$', line.strip())]\n",
    "    clean_text = '\\n'.join(clean_lines)\n",
    "    return clean_text"
   ]
  },
  {
   "cell_type": "code",
   "execution_count": 11,
   "metadata": {},
   "outputs": [],
   "source": [
    "def remove_titles(text, titles):\n",
    "    lines = text.split('\\n')\n",
    "    clean_lines = [line for line in lines if not any(title in line for title in titles)]\n",
    "    clean_text = '\\n'.join(clean_lines)\n",
    "    return clean_text"
   ]
  },
  {
   "cell_type": "code",
   "execution_count": 12,
   "metadata": {},
   "outputs": [],
   "source": [
    "def remove_empty_lines(text):\n",
    "    lines = text.split('\\n')\n",
    "    clean_lines = [line for line in lines if line.strip()]\n",
    "    clean_text = '\\n'.join(clean_lines)\n",
    "    return clean_text"
   ]
  },
  {
   "cell_type": "code",
   "execution_count": 13,
   "metadata": {},
   "outputs": [],
   "source": [
    "def remove_end_lines(text):\n",
    "    cleaned_text = text.replace(\"\\n\", \" \")\n",
    "    return cleaned_text"
   ]
  },
  {
   "cell_type": "code",
   "execution_count": 14,
   "metadata": {},
   "outputs": [
    {
     "name": "stdout",
     "output_type": "stream",
     "text": [
      "Cleaned text saved to: docs/cleaned_text.txt\n"
     ]
    }
   ],
   "source": [
    "with open(file_path, \"r\", encoding=\"utf-8\") as file:\n",
    "    text = file.read()\n",
    "\n",
    "intro_marker = \"THE PREFACE\"\n",
    "end_marker = \"THE END\"\n",
    "index_marker = \"THE PREFACE\"\n",
    "\n",
    "titles = [\n",
    "    \"OSCAR WILDE\" \n",
    "]\n",
    "\n",
    "cleaned_text = remove_previous_text(text, intro_marker)\n",
    "cleaned_text = remove_previous_text(cleaned_text, index_marker)\n",
    "cleaned_text = remove_text_below(cleaned_text, end_marker)\n",
    "cleaned_text = remove_chapter_text(cleaned_text)\n",
    "cleaned_text = remove_titles(cleaned_text, titles)\n",
    "cleaned_text = remove_empty_lines(cleaned_text)\n",
    "cleaned_text = remove_end_lines(cleaned_text)\n",
    "\n",
    "output_file_path = os.path.join(\"docs\", \"cleaned_text.txt\") \n",
    "\n",
    "with open(output_file_path, \"w\", encoding=\"utf-8\") as output_file:\n",
    "    output_file.write(cleaned_text)\n",
    "\n",
    "print(\"Cleaned text saved to:\", output_file_path)"
   ]
  },
  {
   "cell_type": "code",
   "execution_count": 15,
   "metadata": {},
   "outputs": [],
   "source": [
    "def read_text_file(file_path):\n",
    "    with open(file_path, 'r', encoding='utf-8') as file:\n",
    "        text = file.read()\n",
    "    return text"
   ]
  },
  {
   "cell_type": "code",
   "execution_count": 16,
   "metadata": {},
   "outputs": [
    {
     "data": {
      "text/plain": [
       "'the artist is the creator of beautiful things. to reveal art and conceal the artist is art’s aim. the critic is he who can translate into another manner or a new material his impression of beautiful things. the highest as the lowest form of criticism is a mode of autobiography. those who find ugly meanings in beautiful things are corrupt without being charming. this is a fault. those who find beautiful meanings in beautiful things are the cultivated. for these there is hope. they are the elect to whom beautiful things mean only beauty. there is no such thing as a moral or an immoral book. books are well written, or badly written. that is all. the nineteenth century dislike of realism is the rage of caliban seeing his own face in a glass. the nineteenth century dislike of romanticism is the rage of caliban not seeing his own face in a glass. the moral life of man forms part of the subject-matter of the artist, but the morality of art consists in the perfect use of an imperfect medium. n'"
      ]
     },
     "execution_count": 16,
     "metadata": {},
     "output_type": "execute_result"
    }
   ],
   "source": [
    "article_text = read_text_file(output_file_path)\n",
    "article_text = article_text.lower()\n",
    "article_text[:1000]"
   ]
  },
  {
   "cell_type": "markdown",
   "metadata": {},
   "source": [
    "Para procesar el texto obtenido en este caso se utilizan varias funciones, se eliminan los textos correspondientes al proyecto Gutenberg, se eliminan las cabeceras de los capítulos, las líneas en blanco y en este caso, los saltos de línea."
   ]
  },
  {
   "cell_type": "markdown",
   "metadata": {
    "id": "cP1JdiOIKQWi"
   },
   "source": [
    "### Tamaño del contexto"
   ]
  },
  {
   "cell_type": "code",
   "execution_count": 17,
   "metadata": {
    "id": "wumBNwdjJM3j"
   },
   "outputs": [],
   "source": [
    "max_context_size = 500"
   ]
  },
  {
   "cell_type": "code",
   "execution_count": 18,
   "metadata": {
    "id": "m5FeTaGvbDbw"
   },
   "outputs": [],
   "source": [
    "from tensorflow.keras.utils import pad_sequences"
   ]
  },
  {
   "cell_type": "code",
   "execution_count": 19,
   "metadata": {
    "id": "573Cg5n7VhWw"
   },
   "outputs": [],
   "source": [
    "chars_vocab = set(article_text)"
   ]
  },
  {
   "cell_type": "code",
   "execution_count": 20,
   "metadata": {
    "id": "VwTK6xgLJd8q"
   },
   "outputs": [
    {
     "data": {
      "text/plain": [
       "52"
      ]
     },
     "execution_count": 20,
     "metadata": {},
     "output_type": "execute_result"
    }
   ],
   "source": [
    "len(chars_vocab)"
   ]
  },
  {
   "cell_type": "code",
   "execution_count": 21,
   "metadata": {
    "id": "2W0AeQjXV1Ou"
   },
   "outputs": [],
   "source": [
    "char2idx = {k: v for v,k in enumerate(chars_vocab)}\n",
    "idx2char = {v: k for k,v in char2idx.items()}"
   ]
  },
  {
   "cell_type": "markdown",
   "metadata": {
    "id": "2oIUjVU0LB0r"
   },
   "source": [
    "###  Tokenizar"
   ]
  },
  {
   "cell_type": "code",
   "execution_count": 22,
   "metadata": {
    "id": "h07G3srdJppo"
   },
   "outputs": [],
   "source": [
    "# tokenizamos el texto completo\n",
    "tokenized_text = [char2idx[ch] for ch in article_text]"
   ]
  },
  {
   "cell_type": "code",
   "execution_count": 23,
   "metadata": {
    "id": "PwGVSKOiJ5bj"
   },
   "outputs": [
    {
     "data": {
      "text/plain": [
       "[49,\n",
       " 34,\n",
       " 13,\n",
       " 1,\n",
       " 6,\n",
       " 14,\n",
       " 49,\n",
       " 23,\n",
       " 7,\n",
       " 49,\n",
       " 1,\n",
       " 23,\n",
       " 7,\n",
       " 1,\n",
       " 49,\n",
       " 34,\n",
       " 13,\n",
       " 1,\n",
       " 42,\n",
       " 14,\n",
       " 13,\n",
       " 6,\n",
       " 49,\n",
       " 20,\n",
       " 14,\n",
       " 1,\n",
       " 20,\n",
       " 46,\n",
       " 1,\n",
       " 11,\n",
       " 13,\n",
       " 6,\n",
       " 21,\n",
       " 49,\n",
       " 23,\n",
       " 46,\n",
       " 21,\n",
       " 43,\n",
       " 1,\n",
       " 49,\n",
       " 34,\n",
       " 23,\n",
       " 15,\n",
       " 48,\n",
       " 7,\n",
       " 31,\n",
       " 1,\n",
       " 49,\n",
       " 20,\n",
       " 1,\n",
       " 14,\n",
       " 13,\n",
       " 35,\n",
       " 13,\n",
       " 6,\n",
       " 43,\n",
       " 1,\n",
       " 6,\n",
       " 14,\n",
       " 49,\n",
       " 1,\n",
       " 6,\n",
       " 15,\n",
       " 25,\n",
       " 1,\n",
       " 42,\n",
       " 20,\n",
       " 15,\n",
       " 42,\n",
       " 13,\n",
       " 6,\n",
       " 43,\n",
       " 1,\n",
       " 49,\n",
       " 34,\n",
       " 13,\n",
       " 1,\n",
       " 6,\n",
       " 14,\n",
       " 49,\n",
       " 23,\n",
       " 7,\n",
       " 49,\n",
       " 1,\n",
       " 23,\n",
       " 7,\n",
       " 1,\n",
       " 6,\n",
       " 14,\n",
       " 49,\n",
       " 24,\n",
       " 7,\n",
       " 1,\n",
       " 6,\n",
       " 23,\n",
       " 30,\n",
       " 31,\n",
       " 1,\n",
       " 49,\n",
       " 34,\n",
       " 13,\n",
       " 1,\n",
       " 42,\n",
       " 14,\n",
       " 23,\n",
       " 49,\n",
       " 23,\n",
       " 42,\n",
       " 1,\n",
       " 23,\n",
       " 7,\n",
       " 1,\n",
       " 34,\n",
       " 13,\n",
       " 1,\n",
       " 12,\n",
       " 34,\n",
       " 20,\n",
       " 1,\n",
       " 42,\n",
       " 6,\n",
       " 15,\n",
       " 1,\n",
       " 49,\n",
       " 14,\n",
       " 6,\n",
       " 15,\n",
       " 7,\n",
       " 43,\n",
       " 6,\n",
       " 49,\n",
       " 13,\n",
       " 1,\n",
       " 23,\n",
       " 15,\n",
       " 49,\n",
       " 20,\n",
       " 1,\n",
       " 6,\n",
       " 15,\n",
       " 20,\n",
       " 49,\n",
       " 34,\n",
       " 13,\n",
       " 14,\n",
       " 1,\n",
       " 30,\n",
       " 6,\n",
       " 15,\n",
       " 15,\n",
       " 13,\n",
       " 14,\n",
       " 1,\n",
       " 20,\n",
       " 14,\n",
       " 1,\n",
       " 6,\n",
       " 1,\n",
       " 15,\n",
       " 13,\n",
       " 12,\n",
       " 1,\n",
       " 30,\n",
       " 6,\n",
       " 49,\n",
       " 13,\n",
       " 14,\n",
       " 23,\n",
       " 6,\n",
       " 43,\n",
       " 1,\n",
       " 34,\n",
       " 23,\n",
       " 7,\n",
       " 1,\n",
       " 23,\n",
       " 30,\n",
       " 47,\n",
       " 14,\n",
       " 13,\n",
       " 7,\n",
       " 7,\n",
       " 23,\n",
       " 20,\n",
       " 15,\n",
       " 1,\n",
       " 20,\n",
       " 46,\n",
       " 1,\n",
       " 11,\n",
       " 13,\n",
       " 6,\n",
       " 21,\n",
       " 49,\n",
       " 23,\n",
       " 46,\n",
       " 21,\n",
       " 43,\n",
       " 1,\n",
       " 49,\n",
       " 34,\n",
       " 23,\n",
       " 15,\n",
       " 48,\n",
       " 7,\n",
       " 31,\n",
       " 1,\n",
       " 49,\n",
       " 34,\n",
       " 13,\n",
       " 1,\n",
       " 34,\n",
       " 23,\n",
       " 48,\n",
       " 34,\n",
       " 13,\n",
       " 7,\n",
       " 49,\n",
       " 1,\n",
       " 6,\n",
       " 7,\n",
       " 1,\n",
       " 49,\n",
       " 34,\n",
       " 13,\n",
       " 1,\n",
       " 43,\n",
       " 20,\n",
       " 12,\n",
       " 13,\n",
       " 7,\n",
       " 49,\n",
       " 1,\n",
       " 46,\n",
       " 20,\n",
       " 14,\n",
       " 30,\n",
       " 1,\n",
       " 20,\n",
       " 46,\n",
       " 1,\n",
       " 42,\n",
       " 14,\n",
       " 23,\n",
       " 49,\n",
       " 23,\n",
       " 42,\n",
       " 23,\n",
       " 7,\n",
       " 30,\n",
       " 1,\n",
       " 23,\n",
       " 7,\n",
       " 1,\n",
       " 6,\n",
       " 1,\n",
       " 30,\n",
       " 20,\n",
       " 25,\n",
       " 13,\n",
       " 1,\n",
       " 20,\n",
       " 46,\n",
       " 1,\n",
       " 6,\n",
       " 21,\n",
       " 49,\n",
       " 20,\n",
       " 11,\n",
       " 23,\n",
       " 20,\n",
       " 48,\n",
       " 14,\n",
       " 6,\n",
       " 47,\n",
       " 34,\n",
       " 38,\n",
       " 31,\n",
       " 1,\n",
       " 49,\n",
       " 34,\n",
       " 20,\n",
       " 7,\n",
       " 13,\n",
       " 1,\n",
       " 12,\n",
       " 34,\n",
       " 20,\n",
       " 1,\n",
       " 46,\n",
       " 23,\n",
       " 15,\n",
       " 25,\n",
       " 1,\n",
       " 21,\n",
       " 48,\n",
       " 43,\n",
       " 38,\n",
       " 1,\n",
       " 30,\n",
       " 13,\n",
       " 6,\n",
       " 15,\n",
       " 23,\n",
       " 15,\n",
       " 48,\n",
       " 7,\n",
       " 1,\n",
       " 23,\n",
       " 15,\n",
       " 1,\n",
       " 11,\n",
       " 13,\n",
       " 6,\n",
       " 21,\n",
       " 49,\n",
       " 23,\n",
       " 46,\n",
       " 21,\n",
       " 43,\n",
       " 1,\n",
       " 49,\n",
       " 34,\n",
       " 23,\n",
       " 15,\n",
       " 48,\n",
       " 7,\n",
       " 1,\n",
       " 6,\n",
       " 14,\n",
       " 13,\n",
       " 1,\n",
       " 42,\n",
       " 20,\n",
       " 14,\n",
       " 14,\n",
       " 21,\n",
       " 47,\n",
       " 49,\n",
       " 1,\n",
       " 12,\n",
       " 23,\n",
       " 49,\n",
       " 34,\n",
       " 20,\n",
       " 21,\n",
       " 49,\n",
       " 1,\n",
       " 11,\n",
       " 13,\n",
       " 23,\n",
       " 15,\n",
       " 48,\n",
       " 1,\n",
       " 42,\n",
       " 34,\n",
       " 6,\n",
       " 14,\n",
       " 30,\n",
       " 23,\n",
       " 15,\n",
       " 48,\n",
       " 31,\n",
       " 1,\n",
       " 49,\n",
       " 34,\n",
       " 23,\n",
       " 7,\n",
       " 1,\n",
       " 23,\n",
       " 7,\n",
       " 1,\n",
       " 6,\n",
       " 1,\n",
       " 46,\n",
       " 6,\n",
       " 21,\n",
       " 43,\n",
       " 49,\n",
       " 31,\n",
       " 1,\n",
       " 49,\n",
       " 34,\n",
       " 20,\n",
       " 7,\n",
       " 13,\n",
       " 1,\n",
       " 12,\n",
       " 34,\n",
       " 20,\n",
       " 1,\n",
       " 46,\n",
       " 23,\n",
       " 15,\n",
       " 25,\n",
       " 1,\n",
       " 11,\n",
       " 13,\n",
       " 6,\n",
       " 21,\n",
       " 49,\n",
       " 23,\n",
       " 46,\n",
       " 21,\n",
       " 43,\n",
       " 1,\n",
       " 30,\n",
       " 13,\n",
       " 6,\n",
       " 15,\n",
       " 23,\n",
       " 15,\n",
       " 48,\n",
       " 7,\n",
       " 1,\n",
       " 23,\n",
       " 15,\n",
       " 1,\n",
       " 11,\n",
       " 13,\n",
       " 6,\n",
       " 21,\n",
       " 49,\n",
       " 23,\n",
       " 46,\n",
       " 21,\n",
       " 43,\n",
       " 1,\n",
       " 49,\n",
       " 34,\n",
       " 23,\n",
       " 15,\n",
       " 48,\n",
       " 7,\n",
       " 1,\n",
       " 6,\n",
       " 14,\n",
       " 13,\n",
       " 1,\n",
       " 49,\n",
       " 34,\n",
       " 13,\n",
       " 1,\n",
       " 42,\n",
       " 21,\n",
       " 43,\n",
       " 49,\n",
       " 23,\n",
       " 35,\n",
       " 6,\n",
       " 49,\n",
       " 13,\n",
       " 25,\n",
       " 31,\n",
       " 1,\n",
       " 46,\n",
       " 20,\n",
       " 14,\n",
       " 1,\n",
       " 49,\n",
       " 34,\n",
       " 13,\n",
       " 7,\n",
       " 13,\n",
       " 1,\n",
       " 49,\n",
       " 34,\n",
       " 13,\n",
       " 14,\n",
       " 13,\n",
       " 1,\n",
       " 23,\n",
       " 7,\n",
       " 1,\n",
       " 34,\n",
       " 20,\n",
       " 47,\n",
       " 13,\n",
       " 31,\n",
       " 1,\n",
       " 49,\n",
       " 34,\n",
       " 13,\n",
       " 38,\n",
       " 1,\n",
       " 6,\n",
       " 14,\n",
       " 13,\n",
       " 1,\n",
       " 49,\n",
       " 34,\n",
       " 13,\n",
       " 1,\n",
       " 13,\n",
       " 43,\n",
       " 13,\n",
       " 42,\n",
       " 49,\n",
       " 1,\n",
       " 49,\n",
       " 20,\n",
       " 1,\n",
       " 12,\n",
       " 34,\n",
       " 20,\n",
       " 30,\n",
       " 1,\n",
       " 11,\n",
       " 13,\n",
       " 6,\n",
       " 21,\n",
       " 49,\n",
       " 23,\n",
       " 46,\n",
       " 21,\n",
       " 43,\n",
       " 1,\n",
       " 49,\n",
       " 34,\n",
       " 23,\n",
       " 15,\n",
       " 48,\n",
       " 7,\n",
       " 1,\n",
       " 30,\n",
       " 13,\n",
       " 6,\n",
       " 15,\n",
       " 1,\n",
       " 20,\n",
       " 15,\n",
       " 43,\n",
       " 38,\n",
       " 1,\n",
       " 11,\n",
       " 13,\n",
       " 6,\n",
       " 21,\n",
       " 49,\n",
       " 38,\n",
       " 31,\n",
       " 1,\n",
       " 49,\n",
       " 34,\n",
       " 13,\n",
       " 14,\n",
       " 13,\n",
       " 1,\n",
       " 23,\n",
       " 7,\n",
       " 1,\n",
       " 15,\n",
       " 20,\n",
       " 1,\n",
       " 7,\n",
       " 21,\n",
       " 42,\n",
       " 34,\n",
       " 1,\n",
       " 49,\n",
       " 34,\n",
       " 23,\n",
       " 15,\n",
       " 48,\n",
       " 1,\n",
       " 6,\n",
       " 7,\n",
       " 1,\n",
       " 6,\n",
       " 1,\n",
       " 30,\n",
       " 20,\n",
       " 14,\n",
       " 6,\n",
       " 43,\n",
       " 1,\n",
       " 20,\n",
       " 14,\n",
       " 1,\n",
       " 6,\n",
       " 15,\n",
       " 1,\n",
       " 23,\n",
       " 30,\n",
       " 30,\n",
       " 20,\n",
       " 14,\n",
       " 6,\n",
       " 43,\n",
       " 1,\n",
       " 11,\n",
       " 20,\n",
       " 20,\n",
       " 32,\n",
       " 31,\n",
       " 1,\n",
       " 11,\n",
       " 20,\n",
       " 20,\n",
       " 32,\n",
       " 7,\n",
       " 1,\n",
       " 6,\n",
       " 14,\n",
       " 13,\n",
       " 1,\n",
       " 12,\n",
       " 13,\n",
       " 43,\n",
       " 43,\n",
       " 1,\n",
       " 12,\n",
       " 14,\n",
       " 23,\n",
       " 49,\n",
       " 49,\n",
       " 13,\n",
       " 15,\n",
       " 18,\n",
       " 1,\n",
       " 20,\n",
       " 14,\n",
       " 1,\n",
       " 11,\n",
       " 6,\n",
       " 25,\n",
       " 43,\n",
       " 38,\n",
       " 1,\n",
       " 12,\n",
       " 14,\n",
       " 23,\n",
       " 49,\n",
       " 49,\n",
       " 13,\n",
       " 15,\n",
       " 31,\n",
       " 1,\n",
       " 49,\n",
       " 34,\n",
       " 6,\n",
       " 49,\n",
       " 1,\n",
       " 23,\n",
       " 7,\n",
       " 1,\n",
       " 6,\n",
       " 43,\n",
       " 43,\n",
       " 31,\n",
       " 1,\n",
       " 49,\n",
       " 34,\n",
       " 13,\n",
       " 1,\n",
       " 15,\n",
       " 23,\n",
       " 15,\n",
       " 13,\n",
       " 49,\n",
       " 13,\n",
       " 13,\n",
       " 15,\n",
       " 49,\n",
       " 34,\n",
       " 1,\n",
       " 42,\n",
       " 13,\n",
       " 15,\n",
       " 49,\n",
       " 21,\n",
       " 14,\n",
       " 38,\n",
       " 1,\n",
       " 25,\n",
       " 23,\n",
       " 7,\n",
       " 43,\n",
       " 23,\n",
       " 32,\n",
       " 13,\n",
       " 1,\n",
       " 20,\n",
       " 46,\n",
       " 1,\n",
       " 14,\n",
       " 13,\n",
       " 6,\n",
       " 43,\n",
       " 23,\n",
       " 7,\n",
       " 30,\n",
       " 1,\n",
       " 23,\n",
       " 7,\n",
       " 1,\n",
       " 49,\n",
       " 34,\n",
       " 13,\n",
       " 1,\n",
       " 14,\n",
       " 6,\n",
       " 48,\n",
       " 13,\n",
       " 1,\n",
       " 20,\n",
       " 46,\n",
       " 1,\n",
       " 42,\n",
       " 6,\n",
       " 43,\n",
       " 23,\n",
       " 11,\n",
       " 6,\n",
       " 15,\n",
       " 1,\n",
       " 7,\n",
       " 13,\n",
       " 13,\n",
       " 23,\n",
       " 15,\n",
       " 48,\n",
       " 1,\n",
       " 34,\n",
       " 23,\n",
       " 7,\n",
       " 1,\n",
       " 20,\n",
       " 12,\n",
       " 15,\n",
       " 1,\n",
       " 46,\n",
       " 6,\n",
       " 42,\n",
       " 13,\n",
       " 1,\n",
       " 23,\n",
       " 15,\n",
       " 1,\n",
       " 6,\n",
       " 1,\n",
       " 48,\n",
       " 43,\n",
       " 6,\n",
       " 7,\n",
       " 7,\n",
       " 31,\n",
       " 1,\n",
       " 49,\n",
       " 34,\n",
       " 13,\n",
       " 1,\n",
       " 15,\n",
       " 23,\n",
       " 15,\n",
       " 13,\n",
       " 49,\n",
       " 13,\n",
       " 13,\n",
       " 15,\n",
       " 49,\n",
       " 34,\n",
       " 1,\n",
       " 42,\n",
       " 13,\n",
       " 15,\n",
       " 49,\n",
       " 21,\n",
       " 14,\n",
       " 38,\n",
       " 1,\n",
       " 25,\n",
       " 23,\n",
       " 7,\n",
       " 43,\n",
       " 23,\n",
       " 32,\n",
       " 13,\n",
       " 1,\n",
       " 20,\n",
       " 46,\n",
       " 1,\n",
       " 14,\n",
       " 20,\n",
       " 30,\n",
       " 6,\n",
       " 15,\n",
       " 49,\n",
       " 23,\n",
       " 42,\n",
       " 23,\n",
       " 7,\n",
       " 30,\n",
       " 1,\n",
       " 23,\n",
       " 7,\n",
       " 1,\n",
       " 49,\n",
       " 34,\n",
       " 13,\n",
       " 1,\n",
       " 14,\n",
       " 6,\n",
       " 48,\n",
       " 13,\n",
       " 1,\n",
       " 20,\n",
       " 46,\n",
       " 1,\n",
       " 42,\n",
       " 6,\n",
       " 43,\n",
       " 23,\n",
       " 11,\n",
       " 6,\n",
       " 15,\n",
       " 1,\n",
       " 15,\n",
       " 20,\n",
       " 49,\n",
       " 1,\n",
       " 7,\n",
       " 13,\n",
       " 13,\n",
       " 23,\n",
       " 15,\n",
       " 48,\n",
       " 1,\n",
       " 34,\n",
       " 23,\n",
       " 7,\n",
       " 1,\n",
       " 20,\n",
       " 12,\n",
       " 15,\n",
       " 1,\n",
       " 46,\n",
       " 6,\n",
       " 42,\n",
       " 13,\n",
       " 1,\n",
       " 23,\n",
       " 15,\n",
       " 1,\n",
       " 6,\n",
       " 1,\n",
       " 48,\n",
       " 43,\n",
       " 6,\n",
       " 7,\n",
       " 7,\n",
       " 31,\n",
       " 1,\n",
       " 49,\n",
       " 34,\n",
       " 13,\n",
       " 1,\n",
       " 30,\n",
       " 20,\n",
       " 14,\n",
       " 6,\n",
       " 43,\n",
       " 1,\n",
       " 43,\n",
       " 23,\n",
       " 46,\n",
       " 13,\n",
       " 1,\n",
       " 20,\n",
       " 46,\n",
       " 1,\n",
       " 30,\n",
       " 6,\n",
       " 15,\n",
       " 1,\n",
       " 46,\n",
       " 20,\n",
       " 14,\n",
       " 30,\n",
       " 7,\n",
       " 1,\n",
       " 47,\n",
       " 6,\n",
       " 14,\n",
       " 49,\n",
       " 1,\n",
       " 20,\n",
       " 46,\n",
       " 1,\n",
       " 49,\n",
       " 34,\n",
       " 13,\n",
       " 1,\n",
       " 7,\n",
       " 21,\n",
       " 11,\n",
       " 40,\n",
       " 13,\n",
       " 42,\n",
       " 49,\n",
       " 0,\n",
       " 30,\n",
       " 6,\n",
       " 49,\n",
       " 49,\n",
       " 13,\n",
       " 14,\n",
       " 1,\n",
       " 20,\n",
       " 46,\n",
       " 1,\n",
       " 49,\n",
       " 34,\n",
       " 13,\n",
       " 1,\n",
       " 6,\n",
       " 14,\n",
       " 49,\n",
       " 23,\n",
       " 7,\n",
       " 49,\n",
       " 18,\n",
       " 1,\n",
       " 11,\n",
       " 21,\n",
       " 49,\n",
       " 1,\n",
       " 49,\n",
       " 34,\n",
       " 13,\n",
       " 1,\n",
       " 30,\n",
       " 20,\n",
       " 14,\n",
       " 6,\n",
       " 43,\n",
       " 23,\n",
       " 49,\n",
       " 38,\n",
       " 1,\n",
       " 20,\n",
       " 46,\n",
       " 1,\n",
       " 6,\n",
       " 14,\n",
       " 49,\n",
       " 1,\n",
       " 42,\n",
       " 20,\n",
       " 15,\n",
       " 7,\n",
       " 23,\n",
       " 7,\n",
       " 49,\n",
       " 7,\n",
       " 1,\n",
       " 23,\n",
       " 15,\n",
       " 1,\n",
       " 49,\n",
       " 34,\n",
       " 13,\n",
       " 1,\n",
       " 47,\n",
       " 13,\n",
       " 14,\n",
       " 46,\n",
       " 13,\n",
       " 42,\n",
       " 49,\n",
       " 1,\n",
       " 21,\n",
       " 7,\n",
       " 13,\n",
       " 1,\n",
       " 20,\n",
       " 46,\n",
       " 1,\n",
       " 6,\n",
       " 15,\n",
       " 1,\n",
       " 23,\n",
       " 30,\n",
       " 47,\n",
       " 13,\n",
       " 14,\n",
       " 46,\n",
       " 13,\n",
       " 42,\n",
       " 49,\n",
       " 1,\n",
       " 30,\n",
       " 13,\n",
       " 25,\n",
       " 23,\n",
       " 21,\n",
       " 30,\n",
       " 31,\n",
       " 1,\n",
       " 15]"
      ]
     },
     "execution_count": 23,
     "metadata": {},
     "output_type": "execute_result"
    }
   ],
   "source": [
    "tokenized_text[:1000]"
   ]
  },
  {
   "cell_type": "markdown",
   "metadata": {
    "id": "pfpYcaypKcI9"
   },
   "source": [
    "### Organizando y estructurando el dataset"
   ]
  },
  {
   "cell_type": "code",
   "execution_count": 24,
   "metadata": {
    "id": "WSSmg9jtKP0T"
   },
   "outputs": [],
   "source": [
    "# separaremos el dataset entre entrenamiento y validación.\n",
    "# `p_val` será la proporción del corpus que se reservará para validación\n",
    "# `num_val` es la cantidad de secuencias de tamaño `max_context_size` que se usará en validación\n",
    "p_val = 0.1\n",
    "num_val = int(np.ceil(len(tokenized_text)*p_val/max_context_size))"
   ]
  },
  {
   "cell_type": "code",
   "execution_count": 25,
   "metadata": {
    "id": "b7dCpGrdKll0"
   },
   "outputs": [],
   "source": [
    "# separamos la porción de texto utilizada en entrenamiento de la de validación.\n",
    "train_text = tokenized_text[:-num_val*max_context_size]\n",
    "val_text = tokenized_text[-num_val*max_context_size:]"
   ]
  },
  {
   "cell_type": "code",
   "execution_count": 26,
   "metadata": {
    "id": "NmxQdxl8LRCg"
   },
   "outputs": [],
   "source": [
    "tokenized_sentences_val = [val_text[init*max_context_size:init*(max_context_size+1)] for init in range(num_val)]"
   ]
  },
  {
   "cell_type": "code",
   "execution_count": 27,
   "metadata": {
    "id": "_gyFT9koLqDm"
   },
   "outputs": [],
   "source": [
    "tokenized_sentences_train = [train_text[init:init+max_context_size] for init in range(len(train_text)-max_context_size+1)]"
   ]
  },
  {
   "cell_type": "code",
   "execution_count": 28,
   "metadata": {
    "id": "oVNqmmLRodT0"
   },
   "outputs": [],
   "source": [
    "X = np.array(tokenized_sentences_train[:-1])\n",
    "y = np.array(tokenized_sentences_train[1:])"
   ]
  },
  {
   "cell_type": "code",
   "execution_count": 29,
   "metadata": {
    "id": "KFAyA4zCWE-5"
   },
   "outputs": [
    {
     "data": {
      "text/plain": [
       "(383574, 500)"
      ]
     },
     "execution_count": 29,
     "metadata": {},
     "output_type": "execute_result"
    }
   ],
   "source": [
    "X.shape"
   ]
  },
  {
   "cell_type": "code",
   "execution_count": 30,
   "metadata": {
    "id": "qcKRl70HFTzG"
   },
   "outputs": [
    {
     "data": {
      "text/plain": [
       "array([49, 34, 13,  1,  6, 14, 49, 23,  7, 49])"
      ]
     },
     "execution_count": 30,
     "metadata": {},
     "output_type": "execute_result"
    }
   ],
   "source": [
    "X[0,:10]"
   ]
  },
  {
   "cell_type": "code",
   "execution_count": 31,
   "metadata": {
    "id": "TVpLCKSZFXZO"
   },
   "outputs": [
    {
     "data": {
      "text/plain": [
       "array([34, 13,  1,  6, 14, 49, 23,  7, 49,  1])"
      ]
     },
     "execution_count": 31,
     "metadata": {},
     "output_type": "execute_result"
    }
   ],
   "source": [
    "y[0,:10]"
   ]
  },
  {
   "cell_type": "code",
   "execution_count": 32,
   "metadata": {
    "id": "wOFCR-KqbW1N"
   },
   "outputs": [],
   "source": [
    "vocab_size = len(chars_vocab)"
   ]
  },
  {
   "cell_type": "markdown",
   "metadata": {
    "id": "tnnjdAQ5UAEJ"
   },
   "source": [
    "# Modelo SimpleRNN"
   ]
  },
  {
   "cell_type": "code",
   "execution_count": 30,
   "metadata": {
    "id": "rkMCZvmhrQz4"
   },
   "outputs": [],
   "source": [
    "from keras.layers import Input, TimeDistributed, CategoryEncoding, SimpleRNN, Dense\n",
    "from keras.models import Model, Sequential"
   ]
  },
  {
   "cell_type": "code",
   "execution_count": null,
   "metadata": {},
   "outputs": [],
   "source": []
  },
  {
   "cell_type": "markdown",
   "metadata": {
    "id": "wgz7VKwTUbj6"
   },
   "source": [
    "El modelo que se propone como ejemplo consume los índices de los tokens y los transforma en vectores OHE (en este caso no entrenamos una capa de embedding para caracteres). Esa transformación se logra combinando las capas `CategoryEncoding` que transforma a índices a vectores OHE y `TimeDistributed` que aplica la capa a lo largo de la dimensión \"temporal\" de la secuencia."
   ]
  },
  {
   "cell_type": "code",
   "execution_count": 31,
   "metadata": {
    "id": "Zd2OkfQYs2Q7"
   },
   "outputs": [
    {
     "name": "stdout",
     "output_type": "stream",
     "text": [
      "Model: \"sequential\"\n",
      "_________________________________________________________________\n",
      " Layer (type)                Output Shape              Param #   \n",
      "=================================================================\n",
      " time_distributed (TimeDistr  (None, None, 52)         0         \n",
      " ibuted)                                                         \n",
      "                                                                 \n",
      " simple_rnn (SimpleRNN)      (None, None, 200)         50600     \n",
      "                                                                 \n",
      " dense (Dense)               (None, None, 52)          10452     \n",
      "                                                                 \n",
      "=================================================================\n",
      "Total params: 61,052\n",
      "Trainable params: 61,052\n",
      "Non-trainable params: 0\n",
      "_________________________________________________________________\n"
     ]
    }
   ],
   "source": [
    "model = Sequential()\n",
    "\n",
    "model.add(TimeDistributed(CategoryEncoding(num_tokens=vocab_size, output_mode = \"one_hot\"),input_shape=(None,1)))\n",
    "model.add(SimpleRNN(200, return_sequences=True, dropout=0.1, recurrent_dropout=0.1 ))\n",
    "model.add(Dense(vocab_size, activation='softmax'))\n",
    "model.compile(loss='sparse_categorical_crossentropy', optimizer='rmsprop')\n",
    "\n",
    "model.summary()"
   ]
  },
  {
   "cell_type": "markdown",
   "metadata": {
    "id": "GmJWNyxQwfCE"
   },
   "source": [
    "\n",
    "### Definir el modelo"
   ]
  },
  {
   "cell_type": "markdown",
   "metadata": {
    "id": "YWK3z85sQfUe"
   },
   "source": [
    "Dado que por el momento no hay implementaciones adecuadas de la perplejidad que puedan operar en tiempo de entrenamiento, armaremos un Callback *ad-hoc* que la calcule en cada epoch.\n",
    "\n",
    "**Nota**: un Callback es una rutina gatillada por algún evento, son muy útiles para relevar datos en diferentes momentos del desarrollo del modelo. En este caso queremos hacer un cálculo cada vez que termina una epoch de entrenamiento."
   ]
  },
  {
   "cell_type": "code",
   "execution_count": 36,
   "metadata": {
    "id": "zUHX3r5JD-MG"
   },
   "outputs": [],
   "source": [
    "class PplCallback(keras.callbacks.Callback):\n",
    "\n",
    "    '''\n",
    "    Este callback es una solución ad-hoc para calcular al final de cada epoch de\n",
    "    entrenamiento la métrica de Perplejidad sobre un conjunto de datos de validación.\n",
    "    La perplejidad es una métrica cuantitativa para evaluar la calidad de la generación de secuencias.\n",
    "    Además implementa la finalización del entrenamiento (Early Stopping)\n",
    "    si la perplejidad no mejora después de `patience` epochs.\n",
    "    '''\n",
    "\n",
    "    def __init__(self, val_data, history_ppl, model_name=\"my_model\", patience=5):\n",
    "      \n",
    "      self.val_data = val_data\n",
    "      self.model_name = model_name\n",
    "\n",
    "      self.target = []\n",
    "      self.padded = []\n",
    "\n",
    "      count = 0\n",
    "      self.info = []\n",
    "      self.min_score = np.inf\n",
    "      self.patience_counter = 0\n",
    "      self.patience = patience\n",
    "\n",
    "      # nos movemos en todas las secuencias de los datos de validación\n",
    "      for seq in self.val_data:\n",
    "\n",
    "        len_seq = len(seq)\n",
    "        # armamos todas las subsecuencias\n",
    "        subseq = [seq[:i] for i in range(1,len_seq)]\n",
    "        self.target.extend([seq[i] for i in range(1,len_seq)])\n",
    "\n",
    "        if len(subseq)!=0:\n",
    "\n",
    "          self.padded.append(pad_sequences(subseq, maxlen=max_context_size, padding='pre'))\n",
    "\n",
    "          self.info.append((count,count+len_seq))\n",
    "          count += len_seq\n",
    "\n",
    "      self.padded = np.vstack(self.padded)\n",
    "\n",
    "\n",
    "    def on_epoch_end(self, epoch, logs=None):\n",
    "\n",
    "        # en `scores` iremos guardando la perplejidad de cada secuencia\n",
    "        scores = []\n",
    "\n",
    "        predictions = self.model.predict(self.padded,verbose=0)\n",
    "\n",
    "        # para cada secuencia de validación\n",
    "        for start,end in self.info:\n",
    "\n",
    "          # en `probs` iremos guardando las probabilidades de los términos target\n",
    "          probs = [predictions[idx_seq,-1,idx_vocab] for idx_seq, idx_vocab in zip(range(start,end),self.target[start:end])]\n",
    "\n",
    "          # calculamos la perplejidad por medio de logaritmos\n",
    "          scores.append(np.exp(-np.sum(np.log(probs))/(end-start)))\n",
    "\n",
    "        # promediamos todos los scores e imprimimos el valor promedio\n",
    "        current_score = np.mean(scores)\n",
    "        history_ppl.append(current_score)\n",
    "        print(f'\\n mean perplexity: {current_score} \\n')\n",
    "\n",
    "        # chequeamos si tenemos que detener el entrenamiento\n",
    "        if current_score < self.min_score:\n",
    "          self.min_score = current_score\n",
    "          self.model.save(self.model_name)\n",
    "          print(\"Saved new model!\")\n",
    "          self.patience_counter = 0\n",
    "        else:\n",
    "          self.patience_counter += 1\n",
    "          if self.patience_counter == self.patience:\n",
    "            print(\"Stopping training...\")\n",
    "            self.model.stop_training = True\n"
   ]
  },
  {
   "cell_type": "markdown",
   "metadata": {
    "id": "8HBZIwR0gruA"
   },
   "source": [
    "### Entrenamiento"
   ]
  },
  {
   "cell_type": "code",
   "execution_count": 33,
   "metadata": {
    "id": "oQq1PHDkxDvN"
   },
   "outputs": [
    {
     "name": "stdout",
     "output_type": "stream",
     "text": [
      "Epoch 1/20\n",
      "1499/1499 [==============================] - ETA: 0s - loss: 2.1173\n",
      " mean perplexity: 6.541125737202076 \n",
      "\n"
     ]
    },
    {
     "name": "stderr",
     "output_type": "stream",
     "text": [
      "WARNING:absl:Found untraced functions such as _update_step_xla while saving (showing 1 of 1). These functions will not be directly callable after loading.\n"
     ]
    },
    {
     "name": "stdout",
     "output_type": "stream",
     "text": [
      "INFO:tensorflow:Assets written to: my_model/assets\n"
     ]
    },
    {
     "name": "stderr",
     "output_type": "stream",
     "text": [
      "INFO:tensorflow:Assets written to: my_model/assets\n"
     ]
    },
    {
     "name": "stdout",
     "output_type": "stream",
     "text": [
      "Saved new model!\n",
      "1499/1499 [==============================] - 929s 619ms/step - loss: 2.1173\n",
      "Epoch 2/20\n",
      "1499/1499 [==============================] - ETA: 0s - loss: 1.7935\n",
      " mean perplexity: 6.225926193957501 \n",
      "\n"
     ]
    },
    {
     "name": "stderr",
     "output_type": "stream",
     "text": [
      "WARNING:absl:Found untraced functions such as _update_step_xla while saving (showing 1 of 1). These functions will not be directly callable after loading.\n"
     ]
    },
    {
     "name": "stdout",
     "output_type": "stream",
     "text": [
      "INFO:tensorflow:Assets written to: my_model/assets\n"
     ]
    },
    {
     "name": "stderr",
     "output_type": "stream",
     "text": [
      "INFO:tensorflow:Assets written to: my_model/assets\n"
     ]
    },
    {
     "name": "stdout",
     "output_type": "stream",
     "text": [
      "Saved new model!\n",
      "1499/1499 [==============================] - 936s 624ms/step - loss: 1.7935\n",
      "Epoch 3/20\n",
      "1499/1499 [==============================] - ETA: 0s - loss: 1.7189\n",
      " mean perplexity: 6.185362383446096 \n",
      "\n"
     ]
    },
    {
     "name": "stderr",
     "output_type": "stream",
     "text": [
      "WARNING:absl:Found untraced functions such as _update_step_xla while saving (showing 1 of 1). These functions will not be directly callable after loading.\n"
     ]
    },
    {
     "name": "stdout",
     "output_type": "stream",
     "text": [
      "INFO:tensorflow:Assets written to: my_model/assets\n"
     ]
    },
    {
     "name": "stderr",
     "output_type": "stream",
     "text": [
      "INFO:tensorflow:Assets written to: my_model/assets\n"
     ]
    },
    {
     "name": "stdout",
     "output_type": "stream",
     "text": [
      "Saved new model!\n",
      "1499/1499 [==============================] - 942s 628ms/step - loss: 1.7189\n",
      "Epoch 4/20\n",
      "1499/1499 [==============================] - ETA: 0s - loss: 1.6861\n",
      " mean perplexity: 6.0364456763640835 \n",
      "\n"
     ]
    },
    {
     "name": "stderr",
     "output_type": "stream",
     "text": [
      "WARNING:absl:Found untraced functions such as _update_step_xla while saving (showing 1 of 1). These functions will not be directly callable after loading.\n"
     ]
    },
    {
     "name": "stdout",
     "output_type": "stream",
     "text": [
      "INFO:tensorflow:Assets written to: my_model/assets\n"
     ]
    },
    {
     "name": "stderr",
     "output_type": "stream",
     "text": [
      "INFO:tensorflow:Assets written to: my_model/assets\n"
     ]
    },
    {
     "name": "stdout",
     "output_type": "stream",
     "text": [
      "Saved new model!\n",
      "1499/1499 [==============================] - 915s 611ms/step - loss: 1.6861\n",
      "Epoch 5/20\n",
      "1499/1499 [==============================] - ETA: 0s - loss: 1.6669\n",
      " mean perplexity: 6.0806374193848995 \n",
      "\n",
      "1499/1499 [==============================] - 877s 585ms/step - loss: 1.6669\n",
      "Epoch 6/20\n",
      "1499/1499 [==============================] - ETA: 0s - loss: 1.6537\n",
      " mean perplexity: 6.223839252279111 \n",
      "\n",
      "1499/1499 [==============================] - 924s 617ms/step - loss: 1.6537\n",
      "Epoch 7/20\n",
      "1499/1499 [==============================] - ETA: 0s - loss: 1.6441\n",
      " mean perplexity: 6.117777598143061 \n",
      "\n",
      "1499/1499 [==============================] - 877s 585ms/step - loss: 1.6441\n",
      "Epoch 8/20\n",
      "1499/1499 [==============================] - ETA: 0s - loss: 1.6367\n",
      " mean perplexity: 6.190403409273397 \n",
      "\n",
      "1499/1499 [==============================] - 788s 526ms/step - loss: 1.6367\n",
      "Epoch 9/20\n",
      "1499/1499 [==============================] - ETA: 0s - loss: 1.6308\n",
      " mean perplexity: 6.186065317618138 \n",
      "\n",
      "Stopping training...\n",
      "1499/1499 [==============================] - 754s 503ms/step - loss: 1.6308\n"
     ]
    }
   ],
   "source": [
    "history_ppl = []\n",
    "hist = model.fit(X, y, epochs=20, callbacks=[PplCallback(tokenized_sentences_val,history_ppl)], batch_size=256)"
   ]
  },
  {
   "cell_type": "code",
   "execution_count": 34,
   "metadata": {
    "id": "K30JHB3Dv-mx"
   },
   "outputs": [
    {
     "data": {
      "image/png": "[encoded data removed]",
      "text/plain": [
       "<Figure size 640x480 with 1 Axes>"
      ]
     },
     "metadata": {},
     "output_type": "display_data"
    }
   ],
   "source": [
    "import matplotlib.pyplot as plt\n",
    "import seaborn as sns\n",
    "\n",
    "# Entrenamiento\n",
    "epoch_count = range(1, len(history_ppl) + 1)\n",
    "sns.lineplot(x=epoch_count,  y=history_ppl)\n",
    "plt.show()"
   ]
  },
  {
   "cell_type": "code",
   "execution_count": 35,
   "metadata": {},
   "outputs": [],
   "source": [
    "K.clear_session()"
   ]
  },
  {
   "cell_type": "code",
   "execution_count": 36,
   "metadata": {
    "id": "Rhy5hZN38qfO"
   },
   "outputs": [],
   "source": [
    "# Cargamos el mejor modelo guardado del entrenamiento para hacer inferencia\n",
    "model = keras.models.load_model('my_model')"
   ]
  },
  {
   "cell_type": "code",
   "execution_count": null,
   "metadata": {},
   "outputs": [],
   "source": []
  },
  {
   "cell_type": "markdown",
   "metadata": {
    "id": "KN6Fg_BsxJe6"
   },
   "source": [
    "\n",
    "### Predicción del próximo caracter"
   ]
  },
  {
   "cell_type": "code",
   "execution_count": 39,
   "metadata": {
    "id": "HNyBykvhzs7-"
   },
   "outputs": [
    {
     "name": "stdout",
     "output_type": "stream",
     "text": [
      "Running on local URL:  http://127.0.0.1:7860\n",
      "\n",
      "To create a public link, set `share=True` in `launch()`.\n"
     ]
    },
    {
     "data": {
      "text/html": [
       "<div><iframe src=\"http://127.0.0.1:7860/\" width=\"100%\" height=\"500\" allow=\"autoplay; camera; microphone; clipboard-read; clipboard-write;\" frameborder=\"0\" allowfullscreen></iframe></div>"
      ],
      "text/plain": [
       "<IPython.core.display.HTML object>"
      ]
     },
     "metadata": {},
     "output_type": "display_data"
    },
    {
     "name": "stdout",
     "output_type": "stream",
     "text": [
      "Keyboard interruption in main thread... closing server.\n"
     ]
    },
    {
     "data": {
      "text/plain": []
     },
     "execution_count": 39,
     "metadata": {},
     "output_type": "execute_result"
    }
   ],
   "source": [
    "import gradio as gr\n",
    "\n",
    "def model_response(human_text):\n",
    "\n",
    "    # Encodeamos\n",
    "    encoded = [char2idx[ch] for ch in human_text.lower() ]\n",
    "    # Si tienen distinto largo\n",
    "    encoded = pad_sequences([encoded], maxlen=max_context_size, padding='pre')\n",
    "\n",
    "    # Predicción softmax\n",
    "    y_hat = np.argmax(model.predict(encoded)[0,-1,:])\n",
    "\n",
    "\n",
    "    # Debemos buscar en el vocabulario el caracter\n",
    "    # que corresopnde al indice (y_hat) predicho por le modelo\n",
    "    out_word = ''\n",
    "    out_word = idx2char[y_hat]\n",
    "\n",
    "    # Agrego la palabra a la frase predicha\n",
    "    return human_text + out_word\n",
    "\n",
    "iface = gr.Interface(\n",
    "    fn=model_response,\n",
    "    inputs=[\"textbox\"],\n",
    "    outputs=\"text\")\n",
    "\n",
    "iface.launch(debug=True)"
   ]
  },
  {
   "cell_type": "markdown",
   "metadata": {
    "id": "mCeMWWupxN1-"
   },
   "source": [
    "### Generación de secuencias"
   ]
  },
  {
   "cell_type": "code",
   "execution_count": 40,
   "metadata": {
    "id": "bwbS_pfhxvB3"
   },
   "outputs": [],
   "source": [
    "def generate_seq(model, seed_text, max_length, n_words):\n",
    "    \"\"\"\n",
    "        Exec model sequence prediction\n",
    "\n",
    "        Args:\n",
    "            model (keras): modelo entrenado\n",
    "            seed_text (string): texto de entrada (input_seq)\n",
    "            max_length (int): máxima longitud de la sequencia de entrada\n",
    "            n_words (int): números de caracteres a agregar a la sequencia de entrada\n",
    "        returns:\n",
    "            output_text (string): sentencia con las \"n_words\" agregadas\n",
    "    \"\"\"\n",
    "    output_text = seed_text\n",
    "\t# generate a fixed number of words\n",
    "    for _ in range(n_words):\n",
    "\t\t# Encodeamos\n",
    "        encoded = [char2idx[ch] for ch in output_text.lower() ]\n",
    "\t\t# Si tienen distinto largo\n",
    "        encoded = pad_sequences([encoded], maxlen=max_length, padding='pre')\n",
    "\n",
    "\t\t# Predicción softmax\n",
    "        y_hat = np.argmax(model.predict(encoded,verbose=0)[0,-1,:])\n",
    "\t\t# Vamos concatenando las predicciones\n",
    "        out_word = ''\n",
    "\n",
    "        out_word = idx2char[y_hat]\n",
    "\n",
    "\t\t# Agrego las palabras a la frase predicha\n",
    "        output_text += out_word\n",
    "    return output_text"
   ]
  },
  {
   "cell_type": "code",
   "execution_count": 42,
   "metadata": {
    "id": "JoFqRC5pxzqS"
   },
   "outputs": [
    {
     "data": {
      "text/plain": [
       "'I must speak, and you are is the sense of the sense '"
      ]
     },
     "execution_count": 42,
     "metadata": {},
     "output_type": "execute_result"
    }
   ],
   "source": [
    "input_text='I must speak, and you '\n",
    "\n",
    "generate_seq(model, input_text, max_length=max_context_size, n_words=30)"
   ]
  },
  {
   "cell_type": "code",
   "execution_count": 43,
   "metadata": {},
   "outputs": [
    {
     "data": {
      "text/plain": [
       "'Stop, Basil. You are talking to the sense of the sense of '"
      ]
     },
     "execution_count": 43,
     "metadata": {},
     "output_type": "execute_result"
    }
   ],
   "source": [
    "input_text=\"Stop, Basil. You are talking\"\n",
    "generate_seq(model, input_text, max_length=max_context_size, n_words=30)\n"
   ]
  },
  {
   "cell_type": "code",
   "execution_count": 44,
   "metadata": {},
   "outputs": [
    {
     "data": {
      "text/plain": [
       "'Dorian gray with a strange of the se'"
      ]
     },
     "execution_count": 44,
     "metadata": {},
     "output_type": "execute_result"
    }
   ],
   "source": [
    "input_text=\"Dorian\"\n",
    "generate_seq(model, input_text, max_length=max_context_size, n_words=30)"
   ]
  },
  {
   "cell_type": "markdown",
   "metadata": {
    "id": "drJ6xn5qW1Hl"
   },
   "source": [
    "###  Beam search y muestreo aleatorio"
   ]
  },
  {
   "cell_type": "code",
   "execution_count": 45,
   "metadata": {
    "id": "_vovn9XZW1Hl"
   },
   "outputs": [],
   "source": [
    "\n",
    "def encode(text,max_length=max_context_size):\n",
    "\n",
    "    encoded = [char2idx[ch] for ch in text]\n",
    "    encoded = pad_sequences([encoded], maxlen=max_length, padding='pre')\n",
    "\n",
    "    return encoded\n",
    "\n",
    "def decode(seq):\n",
    "    return ''.join([idx2char[ch] for ch in seq])"
   ]
  },
  {
   "cell_type": "code",
   "execution_count": 46,
   "metadata": {
    "id": "I_lZiQwkW1Hl"
   },
   "outputs": [],
   "source": [
    "from scipy.special import softmax\n",
    "\n",
    "# función que selecciona candidatos para el beam search\n",
    "def select_candidates(pred,num_beams,vocab_size,history_probs,history_tokens,temp,mode):\n",
    "\n",
    "  # colectar todas las probabilidades para la siguiente búsqueda\n",
    "  pred_large = []\n",
    "\n",
    "  for idx,pp in enumerate(pred):\n",
    "    pred_large.extend(np.log(pp+1E-10)+history_probs[idx])\n",
    "\n",
    "  pred_large = np.array(pred_large)\n",
    "\n",
    "  # criterio de selección\n",
    "  if mode == 'det':\n",
    "    idx_select = np.argsort(pred_large)[::-1][:num_beams] # beam search determinista\n",
    "  elif mode == 'sto':\n",
    "    idx_select = np.random.choice(np.arange(pred_large.shape[0]), num_beams, p=softmax(pred_large/temp)) # beam search con muestreo aleatorio\n",
    "  else:\n",
    "    raise ValueError(f'Wrong selection mode. {mode} was given. det and sto are supported.')\n",
    "\n",
    "  # traducir a índices de token en el vocabulario\n",
    "  new_history_tokens = np.concatenate((np.array(history_tokens)[idx_select//vocab_size],\n",
    "                        np.array([idx_select%vocab_size]).T),\n",
    "                      axis=1)\n",
    "\n",
    "  # devolver el producto de las probabilidades (log) y la secuencia de tokens seleccionados\n",
    "  return pred_large[idx_select.astype(int)], new_history_tokens.astype(int)\n",
    "\n",
    "\n",
    "def beam_search(model,num_beams,num_words,input,temp=1,mode='det'):\n",
    "\n",
    "    # first iteration\n",
    "\n",
    "    # encode\n",
    "    encoded = encode(input)\n",
    "\n",
    "    # first prediction\n",
    "    y_hat = model.predict(encoded,verbose=0)[0,-1,:]\n",
    "\n",
    "    # get vocabulary size\n",
    "    vocab_size = y_hat.shape[0]\n",
    "\n",
    "    # initialize history\n",
    "    history_probs = [0]*num_beams\n",
    "    history_tokens = [encoded[0]]*num_beams\n",
    "\n",
    "    # select num_beams candidates\n",
    "    history_probs, history_tokens = select_candidates([y_hat],\n",
    "                                        num_beams,\n",
    "                                        vocab_size,\n",
    "                                        history_probs,\n",
    "                                        history_tokens,\n",
    "                                        temp,\n",
    "                                        mode)\n",
    "\n",
    "    # beam search loop\n",
    "    for i in range(num_words-1):\n",
    "\n",
    "      preds = []\n",
    "\n",
    "      for hist in history_tokens:\n",
    "\n",
    "        # actualizar secuencia de tokens\n",
    "        input_update = np.array([hist[i+1:]]).copy()\n",
    "\n",
    "        # predicción\n",
    "        y_hat = model.predict(input_update,verbose=0)[0,-1,:]\n",
    "\n",
    "        preds.append(y_hat)\n",
    "\n",
    "      history_probs, history_tokens = select_candidates(preds,\n",
    "                                                        num_beams,\n",
    "                                                        vocab_size,\n",
    "                                                        history_probs,\n",
    "                                                        history_tokens,\n",
    "                                                        temp,\n",
    "                                                        mode)\n",
    "\n",
    "    return history_tokens"
   ]
  },
  {
   "cell_type": "code",
   "execution_count": 51,
   "metadata": {
    "id": "GeLqAoOYW1Hm"
   },
   "outputs": [],
   "source": [
    "# predicción con beam search\n",
    "salidas = beam_search(model,num_beams=10,num_words=20,input=\"dorian\")"
   ]
  },
  {
   "cell_type": "code",
   "execution_count": 52,
   "metadata": {
    "id": "P8HQoLhw-NYg"
   },
   "outputs": [
    {
     "data": {
      "text/plain": [
       "array([ 0,  0,  0,  0,  0,  0,  0,  0,  0,  0,  0,  0,  0,  0,  0,  0,  0,\n",
       "        0,  0,  0,  0,  0,  0,  0,  0,  0,  0,  0,  0,  0,  0,  0,  0,  0,\n",
       "        0,  0,  0,  0,  0,  0,  0,  0,  0,  0,  0,  0,  0,  0,  0,  0,  0,\n",
       "        0,  0,  0,  0,  0,  0,  0,  0,  0,  0,  0,  0,  0,  0,  0,  0,  0,\n",
       "        0,  0,  0,  0,  0,  0,  0,  0,  0,  0,  0,  0,  0,  0,  0,  0,  0,\n",
       "        0,  0,  0,  0,  0,  0,  0,  0,  0,  0,  0,  0,  0,  0,  0,  0,  0,\n",
       "        0,  0,  0,  0,  0,  0,  0,  0,  0,  0,  0,  0,  0,  0,  0,  0,  0,\n",
       "        0,  0,  0,  0,  0,  0,  0,  0,  0,  0,  0,  0,  0,  0,  0,  0,  0,\n",
       "        0,  0,  0,  0,  0,  0,  0,  0,  0,  0,  0,  0,  0,  0,  0,  0,  0,\n",
       "        0,  0,  0,  0,  0,  0,  0,  0,  0,  0,  0,  0,  0,  0,  0,  0,  0,\n",
       "        0,  0,  0,  0,  0,  0,  0,  0,  0,  0,  0,  0,  0,  0,  0,  0,  0,\n",
       "        0,  0,  0,  0,  0,  0,  0,  0,  0,  0,  0,  0,  0,  0,  0,  0,  0,\n",
       "        0,  0,  0,  0,  0,  0,  0,  0,  0,  0,  0,  0,  0,  0,  0,  0,  0,\n",
       "        0,  0,  0,  0,  0,  0,  0,  0,  0,  0,  0,  0,  0,  0,  0,  0,  0,\n",
       "        0,  0,  0,  0,  0,  0,  0,  0,  0,  0,  0,  0,  0,  0,  0,  0,  0,\n",
       "        0,  0,  0,  0,  0,  0,  0,  0,  0,  0,  0,  0,  0,  0,  0,  0,  0,\n",
       "        0,  0,  0,  0,  0,  0,  0,  0,  0,  0,  0,  0,  0,  0,  0,  0,  0,\n",
       "        0,  0,  0,  0,  0,  0,  0,  0,  0,  0,  0,  0,  0,  0,  0,  0,  0,\n",
       "        0,  0,  0,  0,  0,  0,  0,  0,  0,  0,  0,  0,  0,  0,  0,  0,  0,\n",
       "        0,  0,  0,  0,  0,  0,  0,  0,  0,  0,  0,  0,  0,  0,  0,  0,  0,\n",
       "        0,  0,  0,  0,  0,  0,  0,  0,  0,  0,  0,  0,  0,  0,  0,  0,  0,\n",
       "        0,  0,  0,  0,  0,  0,  0,  0,  0,  0,  0,  0,  0,  0,  0,  0,  0,\n",
       "        0,  0,  0,  0,  0,  0,  0,  0,  0,  0,  0,  0,  0,  0,  0,  0,  0,\n",
       "        0,  0,  0,  0,  0,  0,  0,  0,  0,  0,  0,  0,  0,  0,  0,  0,  0,\n",
       "        0,  0,  0,  0,  0,  0,  0,  0,  0,  0,  0,  0,  0,  0,  0,  0,  0,\n",
       "        0,  0,  0,  0,  0,  0,  0,  0,  0,  0,  0,  0,  0,  0,  0,  0,  0,\n",
       "        0,  0,  0,  0,  0,  0,  0,  0,  0,  0,  0,  0,  0,  0,  0,  0,  0,\n",
       "        0,  0,  0,  0,  0,  0,  0,  0,  0,  0,  0,  0,  0,  0,  0,  0,  0,\n",
       "        0,  0,  0,  0,  0,  0,  0,  0,  0,  0,  0,  0,  0,  0,  0,  0,  0,\n",
       "        0,  7, 51, 23, 10, 11, 17, 16, 48, 12, 36, 11, 10,  7, 12, 42, 51,\n",
       "       23,  7, 12, 24, 46, 17, 23,  8, 16, 12])"
      ]
     },
     "execution_count": 52,
     "metadata": {},
     "output_type": "execute_result"
    }
   ],
   "source": [
    "salidas[0]"
   ]
  },
  {
   "cell_type": "code",
   "execution_count": 53,
   "metadata": {
    "id": "2S3_I3S1W1Hm"
   },
   "outputs": [
    {
     "data": {
      "text/plain": [
       "'vvvvvvvvvvvvvvvvvvvvvvvvvvvvvvvvvvvvvvvvvvvvvvvvvvvvvvvvvvvvvvvvvvvvvvvvvvvvvvvvvvvvvvvvvvvvvvvvvvvvvvvvvvvvvvvvvvvvvvvvvvvvvvvvvvvvvvvvvvvvvvvvvvvvvvvvvvvvvvvvvvvvvvvvvvvvvvvvvvvvvvvvvvvvvvvvvvvvvvvvvvvvvvvvvvvvvvvvvvvvvvvvvvvvvvvvvvvvvvvvvvvvvvvvvvvvvvvvvvvvvvvvvvvvvvvvvvvvvvvvvvvvvvvvvvvvvvvvvvvvvvvvvvvvvvvvvvvvvvvvvvvvvvvvvvvvvvvvvvvvvvvvvvvvvvvvvvvvvvvvvvvvvvvvvvvvvvvvvvvvvvvvvvvvvvvvvvvvvvvvvvvvvvvvvvvvvvvvvvvvvvvvvvvvvvvvvvvvvvvvvvvvvvvvvvvvvvvvvvvvvvvvvvvvvvvvvvvvvvvvvvvvvvvvvvvvvvdorian,” said lord henry, '"
      ]
     },
     "execution_count": 53,
     "metadata": {},
     "output_type": "execute_result"
    }
   ],
   "source": [
    "decode(salidas[0])"
   ]
  },
  {
   "cell_type": "code",
   "execution_count": 57,
   "metadata": {},
   "outputs": [],
   "source": [
    "salidas = beam_search(model,num_beams=10,num_words=20,input=\"the hero of wonderful novel that had so influenced his life had himself\")"
   ]
  },
  {
   "cell_type": "code",
   "execution_count": 58,
   "metadata": {},
   "outputs": [
    {
     "data": {
      "text/plain": [
       "array([ 0,  0,  0,  0,  0,  0,  0,  0,  0,  0,  0,  0,  0,  0,  0,  0,  0,\n",
       "        0,  0,  0,  0,  0,  0,  0,  0,  0,  0,  0,  0,  0,  0,  0,  0,  0,\n",
       "        0,  0,  0,  0,  0,  0,  0,  0,  0,  0,  0,  0,  0,  0,  0,  0,  0,\n",
       "        0,  0,  0,  0,  0,  0,  0,  0,  0,  0,  0,  0,  0,  0,  0,  0,  0,\n",
       "        0,  0,  0,  0,  0,  0,  0,  0,  0,  0,  0,  0,  0,  0,  0,  0,  0,\n",
       "        0,  0,  0,  0,  0,  0,  0,  0,  0,  0,  0,  0,  0,  0,  0,  0,  0,\n",
       "        0,  0,  0,  0,  0,  0,  0,  0,  0,  0,  0,  0,  0,  0,  0,  0,  0,\n",
       "        0,  0,  0,  0,  0,  0,  0,  0,  0,  0,  0,  0,  0,  0,  0,  0,  0,\n",
       "        0,  0,  0,  0,  0,  0,  0,  0,  0,  0,  0,  0,  0,  0,  0,  0,  0,\n",
       "        0,  0,  0,  0,  0,  0,  0,  0,  0,  0,  0,  0,  0,  0,  0,  0,  0,\n",
       "        0,  0,  0,  0,  0,  0,  0,  0,  0,  0,  0,  0,  0,  0,  0,  0,  0,\n",
       "        0,  0,  0,  0,  0,  0,  0,  0,  0,  0,  0,  0,  0,  0,  0,  0,  0,\n",
       "        0,  0,  0,  0,  0,  0,  0,  0,  0,  0,  0,  0,  0,  0,  0,  0,  0,\n",
       "        0,  0,  0,  0,  0,  0,  0,  0,  0,  0,  0,  0,  0,  0,  0,  0,  0,\n",
       "        0,  0,  0,  0,  0,  0,  0,  0,  0,  0,  0,  0,  0,  0,  0,  0,  0,\n",
       "        0,  0,  0,  0,  0,  0,  0,  0,  0,  0,  0,  0,  0,  0,  0,  0,  0,\n",
       "        0,  0,  0,  0,  0,  0,  0,  0,  0,  0,  0,  0,  0,  0,  0,  0,  0,\n",
       "        0,  0,  0,  0,  0,  0,  0,  0,  0,  0,  0,  0,  0,  0,  0,  0,  0,\n",
       "        0,  0,  0,  0,  0,  0,  0,  0,  0,  0,  0,  0,  0,  0,  0,  0,  0,\n",
       "        0,  0,  0,  0,  0,  0,  0,  0,  0,  0,  0,  0,  0,  0,  0,  0,  0,\n",
       "        0,  0,  0,  0,  0,  0,  0,  0,  0,  0,  0,  0,  0,  0,  0,  0,  0,\n",
       "        0,  0,  0,  0,  0,  0,  0,  0,  0,  0,  0,  0,  0,  0,  0,  0,  0,\n",
       "        0,  0,  0,  0,  0,  0,  0,  0,  0,  0,  0,  0,  0,  0,  0,  0,  0,\n",
       "        0,  0,  0,  0,  0,  0,  0,  0,  0,  0,  0,  0,  0,  0,  0,  0,  0,\n",
       "        0,  0,  0,  0,  0,  0,  0,  0,  0,  0,  0,  0,  0,  0,  0,  0,  0,\n",
       "        0,  0,  0,  0, 33, 24, 46, 12, 24, 46, 23, 51, 12, 51, 44, 12, 29,\n",
       "       51, 17,  7, 46, 23, 44, 14, 42, 12, 17, 51,  0, 46, 42, 12, 33, 24,\n",
       "       11, 33, 12, 24, 11,  7, 12, 36, 51, 12, 10, 17, 44, 42, 14, 46, 17,\n",
       "       47, 46,  7, 12, 24, 10, 36, 12, 42, 10, 44, 46, 12, 24, 11,  7, 12,\n",
       "       24, 10,  4, 36, 46, 42, 44, 16, 12, 11, 17,  7, 12, 33, 24, 46, 23,\n",
       "       46, 12, 29, 11, 36, 12, 17, 51, 33, 12])"
      ]
     },
     "execution_count": 58,
     "metadata": {},
     "output_type": "execute_result"
    }
   ],
   "source": [
    "salidas[0]"
   ]
  },
  {
   "cell_type": "code",
   "execution_count": 59,
   "metadata": {},
   "outputs": [
    {
     "data": {
      "text/plain": [
       "'vvvvvvvvvvvvvvvvvvvvvvvvvvvvvvvvvvvvvvvvvvvvvvvvvvvvvvvvvvvvvvvvvvvvvvvvvvvvvvvvvvvvvvvvvvvvvvvvvvvvvvvvvvvvvvvvvvvvvvvvvvvvvvvvvvvvvvvvvvvvvvvvvvvvvvvvvvvvvvvvvvvvvvvvvvvvvvvvvvvvvvvvvvvvvvvvvvvvvvvvvvvvvvvvvvvvvvvvvvvvvvvvvvvvvvvvvvvvvvvvvvvvvvvvvvvvvvvvvvvvvvvvvvvvvvvvvvvvvvvvvvvvvvvvvvvvvvvvvvvvvvvvvvvvvvvvvvvvvvvvvvvvvvvvvvvvvvvvvvvvvvvvvvvvvvvvvvvvvvvvvvvvvvvvvvvvvvvvvvvvvvvvvvvvvvvvvvvvvvvvvvvvvvvvvvvvvvvvvvvvvvvvvvvvvthe hero of wonderful novel that had so influenced his life had himself, and there was not '"
      ]
     },
     "execution_count": 59,
     "metadata": {},
     "output_type": "execute_result"
    }
   ],
   "source": [
    "decode(salidas[0])"
   ]
  },
  {
   "cell_type": "markdown",
   "metadata": {
    "id": "Q_LlqmtEW1Hn"
   },
   "source": [
    "# Modelo LSTM"
   ]
  },
  {
   "cell_type": "code",
   "execution_count": 33,
   "metadata": {},
   "outputs": [],
   "source": [
    "from tensorflow.keras.models import Sequential\n",
    "from tensorflow.keras.layers import TimeDistributed, LSTM, Dense\n",
    "from tensorflow.keras.layers.experimental.preprocessing import CategoryEncoding"
   ]
  },
  {
   "cell_type": "code",
   "execution_count": 34,
   "metadata": {},
   "outputs": [],
   "source": [
    "physical_devices = tf.config.list_physical_devices('GPU')\n",
    "if physical_devices:\n",
    "    tf.config.experimental.set_memory_growth(physical_devices[0], True)"
   ]
  },
  {
   "cell_type": "code",
   "execution_count": 3,
   "metadata": {},
   "outputs": [
    {
     "ename": "NameError",
     "evalue": "name 'Sequential' is not defined",
     "output_type": "error",
     "traceback": [
      "\u001b[0;31m---------------------------------------------------------------------------\u001b[0m",
      "\u001b[0;31mNameError\u001b[0m                                 Traceback (most recent call last)",
      "Cell \u001b[0;32mIn[3], line 2\u001b[0m\n\u001b[1;32m      1\u001b[0m \u001b[38;5;66;03m# Definir el modelo\u001b[39;00m\n\u001b[0;32m----> 2\u001b[0m model_lstm \u001b[38;5;241m=\u001b[39m \u001b[43mSequential\u001b[49m()\n\u001b[1;32m      4\u001b[0m \u001b[38;5;66;03m# Añadir capas\u001b[39;00m\n\u001b[1;32m      5\u001b[0m model_lstm\u001b[38;5;241m.\u001b[39madd(TimeDistributed(CategoryEncoding(num_tokens\u001b[38;5;241m=\u001b[39mvocab_size, output_mode\u001b[38;5;241m=\u001b[39m\u001b[38;5;124m\"\u001b[39m\u001b[38;5;124mone_hot\u001b[39m\u001b[38;5;124m\"\u001b[39m), input_shape\u001b[38;5;241m=\u001b[39m(\u001b[38;5;28;01mNone\u001b[39;00m, \u001b[38;5;241m1\u001b[39m)))\n",
      "\u001b[0;31mNameError\u001b[0m: name 'Sequential' is not defined"
     ]
    }
   ],
   "source": [
    "# Definir el modelo\n",
    "model_lstm = Sequential()\n",
    "\n",
    "# Añadir capas\n",
    "model_lstm.add(TimeDistributed(CategoryEncoding(num_tokens=vocab_size, output_mode=\"one_hot\"), input_shape=(None, 1)))\n",
    "model_lstm.add(LSTM(200, return_sequences=True, dropout=0.1, recurrent_dropout=0.1))\n",
    "model_lstm.add(Dense(vocab_size, activation='softmax'))\n",
    "\n",
    "# Compilar el modelo\n",
    "model_lstm.compile(loss='sparse_categorical_crossentropy', optimizer='rmsprop')\n",
    "\n",
    "# Mostrar el resumen del modelo\n",
    "model_lstm.summary()"
   ]
  },
  {
   "cell_type": "markdown",
   "metadata": {},
   "source": [
    "## Entrenamiento"
   ]
  },
  {
   "cell_type": "code",
   "execution_count": 37,
   "metadata": {},
   "outputs": [
    {
     "name": "stdout",
     "output_type": "stream",
     "text": [
      "Epoch 1/20\n",
      "1499/1499 [==============================] - ETA: 0s - loss: 2.2909\n",
      " mean perplexity: 8.356256728871058 \n",
      "\n"
     ]
    },
    {
     "name": "stderr",
     "output_type": "stream",
     "text": [
      "WARNING:absl:Found untraced functions such as _update_step_xla while saving (showing 1 of 1). These functions will not be directly callable after loading.\n"
     ]
    },
    {
     "name": "stdout",
     "output_type": "stream",
     "text": [
      "INFO:tensorflow:Assets written to: LSTM/assets\n"
     ]
    },
    {
     "name": "stderr",
     "output_type": "stream",
     "text": [
      "INFO:tensorflow:Assets written to: LSTM/assets\n"
     ]
    },
    {
     "name": "stdout",
     "output_type": "stream",
     "text": [
      "Saved new model!\n",
      "1499/1499 [==============================] - 2158s 1s/step - loss: 2.2909\n",
      "Epoch 2/20\n",
      "1499/1499 [==============================] - ETA: 0s - loss: 1.9143\n",
      " mean perplexity: 11.707712189238748 \n",
      "\n",
      "1499/1499 [==============================] - 1855s 1s/step - loss: 1.9143\n",
      "Epoch 3/20\n",
      "1499/1499 [==============================] - ETA: 0s - loss: 1.7749\n",
      " mean perplexity: 9.017023958172139 \n",
      "\n",
      "1499/1499 [==============================] - 1625s 1s/step - loss: 1.7749\n",
      "Epoch 4/20\n",
      "1499/1499 [==============================] - ETA: 0s - loss: 1.6806\n",
      " mean perplexity: 13.005017733026973 \n",
      "\n",
      "1499/1499 [==============================] - 1625s 1s/step - loss: 1.6806\n",
      "Epoch 5/20\n",
      "1499/1499 [==============================] - ETA: 0s - loss: 1.6139\n",
      " mean perplexity: 15.029271911408799 \n",
      "\n",
      "1499/1499 [==============================] - 1761s 1s/step - loss: 1.6139\n",
      "Epoch 6/20\n",
      "1499/1499 [==============================] - ETA: 0s - loss: 1.5636\n",
      " mean perplexity: 18.028016710371656 \n",
      "\n",
      "Stopping training...\n",
      "1499/1499 [==============================] - 1625s 1s/step - loss: 1.5636\n"
     ]
    }
   ],
   "source": [
    "history_ppl = []\n",
    "hist = model_lstm.fit(X, y, epochs=20, callbacks=[PplCallback(tokenized_sentences_val,history_ppl, model_name = \"LSTM\")], batch_size=256)"
   ]
  },
  {
   "cell_type": "code",
   "execution_count": 38,
   "metadata": {},
   "outputs": [
    {
     "data": {
      "image/png": "[encoded data removed]",
      "text/plain": [
       "<Figure size 640x480 with 1 Axes>"
      ]
     },
     "metadata": {},
     "output_type": "display_data"
    }
   ],
   "source": [
    "import matplotlib.pyplot as plt\n",
    "import seaborn as sns\n",
    "\n",
    "# Entrenamiento\n",
    "epoch_count = range(1, len(history_ppl) + 1)\n",
    "sns.lineplot(x=epoch_count,  y=history_ppl)\n",
    "plt.show()"
   ]
  },
  {
   "cell_type": "code",
   "execution_count": 39,
   "metadata": {},
   "outputs": [],
   "source": [
    "K.clear_session()"
   ]
  },
  {
   "cell_type": "code",
   "execution_count": 2,
   "metadata": {},
   "outputs": [
    {
     "ename": "NameError",
     "evalue": "name 'tf' is not defined",
     "output_type": "error",
     "traceback": [
      "\u001b[0;31m---------------------------------------------------------------------------\u001b[0m",
      "\u001b[0;31mNameError\u001b[0m                                 Traceback (most recent call last)",
      "Cell \u001b[0;32mIn[2], line 1\u001b[0m\n\u001b[0;32m----> 1\u001b[0m physical_devices \u001b[38;5;241m=\u001b[39m \u001b[43mtf\u001b[49m\u001b[38;5;241m.\u001b[39mconfig\u001b[38;5;241m.\u001b[39mlist_physical_devices(\u001b[38;5;124m'\u001b[39m\u001b[38;5;124mGPU\u001b[39m\u001b[38;5;124m'\u001b[39m)\n\u001b[1;32m      2\u001b[0m \u001b[38;5;28;01mif\u001b[39;00m physical_devices:\n\u001b[1;32m      3\u001b[0m     tf\u001b[38;5;241m.\u001b[39mconfig\u001b[38;5;241m.\u001b[39mexperimental\u001b[38;5;241m.\u001b[39mset_memory_growth(physical_devices[\u001b[38;5;241m0\u001b[39m], \u001b[38;5;28;01mTrue\u001b[39;00m)\n",
      "\u001b[0;31mNameError\u001b[0m: name 'tf' is not defined"
     ]
    }
   ],
   "source": [
    "import tensorflow as tf\n",
    "physical_devices = tf.config.list_physical_devices('GPU')\n",
    "if physical_devices:\n",
    "    tf.config.experimental.set_memory_growth(physical_devices[0], True)"
   ]
  },
  {
   "cell_type": "code",
   "execution_count": 1,
   "metadata": {},
   "outputs": [
    {
     "ename": "NameError",
     "evalue": "name 'model_lstm' is not defined",
     "output_type": "error",
     "traceback": [
      "\u001b[0;31m---------------------------------------------------------------------------\u001b[0m",
      "\u001b[0;31mNameError\u001b[0m                                 Traceback (most recent call last)",
      "Cell \u001b[0;32mIn[1], line 2\u001b[0m\n\u001b[1;32m      1\u001b[0m history_ppl \u001b[38;5;241m=\u001b[39m []\n\u001b[0;32m----> 2\u001b[0m hist \u001b[38;5;241m=\u001b[39m \u001b[43mmodel_lstm\u001b[49m\u001b[38;5;241m.\u001b[39mfit(X, y, epochs\u001b[38;5;241m=\u001b[39m\u001b[38;5;241m20\u001b[39m, callbacks\u001b[38;5;241m=\u001b[39m[PplCallback(tokenized_sentences_val,history_ppl, model_name \u001b[38;5;241m=\u001b[39m \u001b[38;5;124m\"\u001b[39m\u001b[38;5;124mLSTM\u001b[39m\u001b[38;5;124m\"\u001b[39m)], batch_size\u001b[38;5;241m=\u001b[39m\u001b[38;5;241m256\u001b[39m)\n",
      "\u001b[0;31mNameError\u001b[0m: name 'model_lstm' is not defined"
     ]
    }
   ],
   "source": [
    "history_ppl = []\n",
    "hist = model_lstm.fit(X, y, epochs=20, callbacks=[PplCallback(tokenized_sentences_val,history_ppl, model_name = \"LSTM\")], batch_size=256)"
   ]
  },
  {
   "cell_type": "code",
   "execution_count": null,
   "metadata": {},
   "outputs": [],
   "source": []
  }
 ],
 "metadata": {
  "accelerator": "GPU",
  "colab": {
   "gpuType": "T4",
   "provenance": []
  },
  "kernelspec": {
   "display_name": "Python 3 (ipykernel)",
   "language": "python",
   "name": "python3"
  },
  "language_info": {
   "codemirror_mode": {
    "name": "ipython",
    "version": 3
   },
   "file_extension": ".py",
   "mimetype": "text/x-python",
   "name": "python",
   "nbconvert_exporter": "python",
   "pygments_lexer": "ipython3",
   "version": "3.10.12"
  }
 },
 "nbformat": 4,
 "nbformat_minor": 4
}
